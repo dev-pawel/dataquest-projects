{
 "cells": [
  {
   "cell_type": "markdown",
   "metadata": {
    "collapsed": true
   },
   "source": [
    "# Predicting house sale prices\n",
    "\n",
    "## Introduction\n",
    "\n",
    "In this project I am going to build a Linear regression model and tune its parameters. I will do some feature engineering to select the best features to train our model on. I will be working on a dataset containing housing parameters for the city of Ames, Iowa in the US from 2006 to 2010. The dataset can be found [here](http://jse.amstat.org/v19n3/decock/AmesHousing.txt)\n",
    "\n",
    "### Summary of results\n",
    "\n",
    "Validating our Lineat regression model with different number of features we got the best result using 4 features *Overall Qual, Neighborhood, Gr Liv Area and Exter Qual* and RMSE = 0.0642 on test data.\n",
    "\n",
    "## Data exploration"
   ]
  },
  {
   "cell_type": "code",
   "execution_count": 25,
   "metadata": {},
   "outputs": [],
   "source": [
    "import numpy as np\n",
    "import pandas as pd\n",
    "import seaborn as sns\n",
    "import matplotlib.pyplot as plt\n",
    "from sklearn.metrics import mean_squared_error\n",
    "from sklearn.linear_model import LinearRegression\n",
    "%matplotlib inline"
   ]
  },
  {
   "cell_type": "code",
   "execution_count": 26,
   "metadata": {},
   "outputs": [],
   "source": [
    "houses = pd.read_csv('data//AmesHousing.tsv',sep='\\t')"
   ]
  },
  {
   "cell_type": "markdown",
   "metadata": {},
   "source": [
    "Lets see what is the sape of data, how records look like and how many null values is there."
   ]
  },
  {
   "cell_type": "code",
   "execution_count": 27,
   "metadata": {},
   "outputs": [
    {
     "data": {
      "text/html": [
       "<div>\n",
       "<style scoped>\n",
       "    .dataframe tbody tr th:only-of-type {\n",
       "        vertical-align: middle;\n",
       "    }\n",
       "\n",
       "    .dataframe tbody tr th {\n",
       "        vertical-align: top;\n",
       "    }\n",
       "\n",
       "    .dataframe thead th {\n",
       "        text-align: right;\n",
       "    }\n",
       "</style>\n",
       "<table border=\"1\" class=\"dataframe\">\n",
       "  <thead>\n",
       "    <tr style=\"text-align: right;\">\n",
       "      <th></th>\n",
       "      <th>Order</th>\n",
       "      <th>PID</th>\n",
       "      <th>MS SubClass</th>\n",
       "      <th>MS Zoning</th>\n",
       "      <th>Lot Frontage</th>\n",
       "      <th>Lot Area</th>\n",
       "      <th>Street</th>\n",
       "      <th>Alley</th>\n",
       "      <th>Lot Shape</th>\n",
       "      <th>Land Contour</th>\n",
       "      <th>...</th>\n",
       "      <th>Pool Area</th>\n",
       "      <th>Pool QC</th>\n",
       "      <th>Fence</th>\n",
       "      <th>Misc Feature</th>\n",
       "      <th>Misc Val</th>\n",
       "      <th>Mo Sold</th>\n",
       "      <th>Yr Sold</th>\n",
       "      <th>Sale Type</th>\n",
       "      <th>Sale Condition</th>\n",
       "      <th>SalePrice</th>\n",
       "    </tr>\n",
       "  </thead>\n",
       "  <tbody>\n",
       "    <tr>\n",
       "      <th>0</th>\n",
       "      <td>1</td>\n",
       "      <td>526301100</td>\n",
       "      <td>20</td>\n",
       "      <td>RL</td>\n",
       "      <td>141.0</td>\n",
       "      <td>31770</td>\n",
       "      <td>Pave</td>\n",
       "      <td>NaN</td>\n",
       "      <td>IR1</td>\n",
       "      <td>Lvl</td>\n",
       "      <td>...</td>\n",
       "      <td>0</td>\n",
       "      <td>NaN</td>\n",
       "      <td>NaN</td>\n",
       "      <td>NaN</td>\n",
       "      <td>0</td>\n",
       "      <td>5</td>\n",
       "      <td>2010</td>\n",
       "      <td>WD</td>\n",
       "      <td>Normal</td>\n",
       "      <td>215000</td>\n",
       "    </tr>\n",
       "    <tr>\n",
       "      <th>1</th>\n",
       "      <td>2</td>\n",
       "      <td>526350040</td>\n",
       "      <td>20</td>\n",
       "      <td>RH</td>\n",
       "      <td>80.0</td>\n",
       "      <td>11622</td>\n",
       "      <td>Pave</td>\n",
       "      <td>NaN</td>\n",
       "      <td>Reg</td>\n",
       "      <td>Lvl</td>\n",
       "      <td>...</td>\n",
       "      <td>0</td>\n",
       "      <td>NaN</td>\n",
       "      <td>MnPrv</td>\n",
       "      <td>NaN</td>\n",
       "      <td>0</td>\n",
       "      <td>6</td>\n",
       "      <td>2010</td>\n",
       "      <td>WD</td>\n",
       "      <td>Normal</td>\n",
       "      <td>105000</td>\n",
       "    </tr>\n",
       "    <tr>\n",
       "      <th>2</th>\n",
       "      <td>3</td>\n",
       "      <td>526351010</td>\n",
       "      <td>20</td>\n",
       "      <td>RL</td>\n",
       "      <td>81.0</td>\n",
       "      <td>14267</td>\n",
       "      <td>Pave</td>\n",
       "      <td>NaN</td>\n",
       "      <td>IR1</td>\n",
       "      <td>Lvl</td>\n",
       "      <td>...</td>\n",
       "      <td>0</td>\n",
       "      <td>NaN</td>\n",
       "      <td>NaN</td>\n",
       "      <td>Gar2</td>\n",
       "      <td>12500</td>\n",
       "      <td>6</td>\n",
       "      <td>2010</td>\n",
       "      <td>WD</td>\n",
       "      <td>Normal</td>\n",
       "      <td>172000</td>\n",
       "    </tr>\n",
       "    <tr>\n",
       "      <th>3</th>\n",
       "      <td>4</td>\n",
       "      <td>526353030</td>\n",
       "      <td>20</td>\n",
       "      <td>RL</td>\n",
       "      <td>93.0</td>\n",
       "      <td>11160</td>\n",
       "      <td>Pave</td>\n",
       "      <td>NaN</td>\n",
       "      <td>Reg</td>\n",
       "      <td>Lvl</td>\n",
       "      <td>...</td>\n",
       "      <td>0</td>\n",
       "      <td>NaN</td>\n",
       "      <td>NaN</td>\n",
       "      <td>NaN</td>\n",
       "      <td>0</td>\n",
       "      <td>4</td>\n",
       "      <td>2010</td>\n",
       "      <td>WD</td>\n",
       "      <td>Normal</td>\n",
       "      <td>244000</td>\n",
       "    </tr>\n",
       "    <tr>\n",
       "      <th>4</th>\n",
       "      <td>5</td>\n",
       "      <td>527105010</td>\n",
       "      <td>60</td>\n",
       "      <td>RL</td>\n",
       "      <td>74.0</td>\n",
       "      <td>13830</td>\n",
       "      <td>Pave</td>\n",
       "      <td>NaN</td>\n",
       "      <td>IR1</td>\n",
       "      <td>Lvl</td>\n",
       "      <td>...</td>\n",
       "      <td>0</td>\n",
       "      <td>NaN</td>\n",
       "      <td>MnPrv</td>\n",
       "      <td>NaN</td>\n",
       "      <td>0</td>\n",
       "      <td>3</td>\n",
       "      <td>2010</td>\n",
       "      <td>WD</td>\n",
       "      <td>Normal</td>\n",
       "      <td>189900</td>\n",
       "    </tr>\n",
       "    <tr>\n",
       "      <th>...</th>\n",
       "      <td>...</td>\n",
       "      <td>...</td>\n",
       "      <td>...</td>\n",
       "      <td>...</td>\n",
       "      <td>...</td>\n",
       "      <td>...</td>\n",
       "      <td>...</td>\n",
       "      <td>...</td>\n",
       "      <td>...</td>\n",
       "      <td>...</td>\n",
       "      <td>...</td>\n",
       "      <td>...</td>\n",
       "      <td>...</td>\n",
       "      <td>...</td>\n",
       "      <td>...</td>\n",
       "      <td>...</td>\n",
       "      <td>...</td>\n",
       "      <td>...</td>\n",
       "      <td>...</td>\n",
       "      <td>...</td>\n",
       "      <td>...</td>\n",
       "    </tr>\n",
       "    <tr>\n",
       "      <th>2925</th>\n",
       "      <td>2926</td>\n",
       "      <td>923275080</td>\n",
       "      <td>80</td>\n",
       "      <td>RL</td>\n",
       "      <td>37.0</td>\n",
       "      <td>7937</td>\n",
       "      <td>Pave</td>\n",
       "      <td>NaN</td>\n",
       "      <td>IR1</td>\n",
       "      <td>Lvl</td>\n",
       "      <td>...</td>\n",
       "      <td>0</td>\n",
       "      <td>NaN</td>\n",
       "      <td>GdPrv</td>\n",
       "      <td>NaN</td>\n",
       "      <td>0</td>\n",
       "      <td>3</td>\n",
       "      <td>2006</td>\n",
       "      <td>WD</td>\n",
       "      <td>Normal</td>\n",
       "      <td>142500</td>\n",
       "    </tr>\n",
       "    <tr>\n",
       "      <th>2926</th>\n",
       "      <td>2927</td>\n",
       "      <td>923276100</td>\n",
       "      <td>20</td>\n",
       "      <td>RL</td>\n",
       "      <td>NaN</td>\n",
       "      <td>8885</td>\n",
       "      <td>Pave</td>\n",
       "      <td>NaN</td>\n",
       "      <td>IR1</td>\n",
       "      <td>Low</td>\n",
       "      <td>...</td>\n",
       "      <td>0</td>\n",
       "      <td>NaN</td>\n",
       "      <td>MnPrv</td>\n",
       "      <td>NaN</td>\n",
       "      <td>0</td>\n",
       "      <td>6</td>\n",
       "      <td>2006</td>\n",
       "      <td>WD</td>\n",
       "      <td>Normal</td>\n",
       "      <td>131000</td>\n",
       "    </tr>\n",
       "    <tr>\n",
       "      <th>2927</th>\n",
       "      <td>2928</td>\n",
       "      <td>923400125</td>\n",
       "      <td>85</td>\n",
       "      <td>RL</td>\n",
       "      <td>62.0</td>\n",
       "      <td>10441</td>\n",
       "      <td>Pave</td>\n",
       "      <td>NaN</td>\n",
       "      <td>Reg</td>\n",
       "      <td>Lvl</td>\n",
       "      <td>...</td>\n",
       "      <td>0</td>\n",
       "      <td>NaN</td>\n",
       "      <td>MnPrv</td>\n",
       "      <td>Shed</td>\n",
       "      <td>700</td>\n",
       "      <td>7</td>\n",
       "      <td>2006</td>\n",
       "      <td>WD</td>\n",
       "      <td>Normal</td>\n",
       "      <td>132000</td>\n",
       "    </tr>\n",
       "    <tr>\n",
       "      <th>2928</th>\n",
       "      <td>2929</td>\n",
       "      <td>924100070</td>\n",
       "      <td>20</td>\n",
       "      <td>RL</td>\n",
       "      <td>77.0</td>\n",
       "      <td>10010</td>\n",
       "      <td>Pave</td>\n",
       "      <td>NaN</td>\n",
       "      <td>Reg</td>\n",
       "      <td>Lvl</td>\n",
       "      <td>...</td>\n",
       "      <td>0</td>\n",
       "      <td>NaN</td>\n",
       "      <td>NaN</td>\n",
       "      <td>NaN</td>\n",
       "      <td>0</td>\n",
       "      <td>4</td>\n",
       "      <td>2006</td>\n",
       "      <td>WD</td>\n",
       "      <td>Normal</td>\n",
       "      <td>170000</td>\n",
       "    </tr>\n",
       "    <tr>\n",
       "      <th>2929</th>\n",
       "      <td>2930</td>\n",
       "      <td>924151050</td>\n",
       "      <td>60</td>\n",
       "      <td>RL</td>\n",
       "      <td>74.0</td>\n",
       "      <td>9627</td>\n",
       "      <td>Pave</td>\n",
       "      <td>NaN</td>\n",
       "      <td>Reg</td>\n",
       "      <td>Lvl</td>\n",
       "      <td>...</td>\n",
       "      <td>0</td>\n",
       "      <td>NaN</td>\n",
       "      <td>NaN</td>\n",
       "      <td>NaN</td>\n",
       "      <td>0</td>\n",
       "      <td>11</td>\n",
       "      <td>2006</td>\n",
       "      <td>WD</td>\n",
       "      <td>Normal</td>\n",
       "      <td>188000</td>\n",
       "    </tr>\n",
       "  </tbody>\n",
       "</table>\n",
       "<p>2930 rows × 82 columns</p>\n",
       "</div>"
      ],
      "text/plain": [
       "      Order        PID  MS SubClass MS Zoning  Lot Frontage  Lot Area Street  \\\n",
       "0         1  526301100           20        RL         141.0     31770   Pave   \n",
       "1         2  526350040           20        RH          80.0     11622   Pave   \n",
       "2         3  526351010           20        RL          81.0     14267   Pave   \n",
       "3         4  526353030           20        RL          93.0     11160   Pave   \n",
       "4         5  527105010           60        RL          74.0     13830   Pave   \n",
       "...     ...        ...          ...       ...           ...       ...    ...   \n",
       "2925   2926  923275080           80        RL          37.0      7937   Pave   \n",
       "2926   2927  923276100           20        RL           NaN      8885   Pave   \n",
       "2927   2928  923400125           85        RL          62.0     10441   Pave   \n",
       "2928   2929  924100070           20        RL          77.0     10010   Pave   \n",
       "2929   2930  924151050           60        RL          74.0      9627   Pave   \n",
       "\n",
       "     Alley Lot Shape Land Contour  ... Pool Area Pool QC  Fence Misc Feature  \\\n",
       "0      NaN       IR1          Lvl  ...         0     NaN    NaN          NaN   \n",
       "1      NaN       Reg          Lvl  ...         0     NaN  MnPrv          NaN   \n",
       "2      NaN       IR1          Lvl  ...         0     NaN    NaN         Gar2   \n",
       "3      NaN       Reg          Lvl  ...         0     NaN    NaN          NaN   \n",
       "4      NaN       IR1          Lvl  ...         0     NaN  MnPrv          NaN   \n",
       "...    ...       ...          ...  ...       ...     ...    ...          ...   \n",
       "2925   NaN       IR1          Lvl  ...         0     NaN  GdPrv          NaN   \n",
       "2926   NaN       IR1          Low  ...         0     NaN  MnPrv          NaN   \n",
       "2927   NaN       Reg          Lvl  ...         0     NaN  MnPrv         Shed   \n",
       "2928   NaN       Reg          Lvl  ...         0     NaN    NaN          NaN   \n",
       "2929   NaN       Reg          Lvl  ...         0     NaN    NaN          NaN   \n",
       "\n",
       "     Misc Val Mo Sold Yr Sold Sale Type  Sale Condition  SalePrice  \n",
       "0           0       5    2010       WD           Normal     215000  \n",
       "1           0       6    2010       WD           Normal     105000  \n",
       "2       12500       6    2010       WD           Normal     172000  \n",
       "3           0       4    2010       WD           Normal     244000  \n",
       "4           0       3    2010       WD           Normal     189900  \n",
       "...       ...     ...     ...       ...             ...        ...  \n",
       "2925        0       3    2006       WD           Normal     142500  \n",
       "2926        0       6    2006       WD           Normal     131000  \n",
       "2927      700       7    2006       WD           Normal     132000  \n",
       "2928        0       4    2006       WD           Normal     170000  \n",
       "2929        0      11    2006       WD           Normal     188000  \n",
       "\n",
       "[2930 rows x 82 columns]"
      ]
     },
     "execution_count": 27,
     "metadata": {},
     "output_type": "execute_result"
    }
   ],
   "source": [
    "houses"
   ]
  },
  {
   "cell_type": "code",
   "execution_count": 28,
   "metadata": {},
   "outputs": [
    {
     "name": "stdout",
     "output_type": "stream",
     "text": [
      "<class 'pandas.core.frame.DataFrame'>\n",
      "RangeIndex: 2930 entries, 0 to 2929\n",
      "Data columns (total 82 columns):\n",
      "Order              2930 non-null int64\n",
      "PID                2930 non-null int64\n",
      "MS SubClass        2930 non-null int64\n",
      "MS Zoning          2930 non-null object\n",
      "Lot Frontage       2440 non-null float64\n",
      "Lot Area           2930 non-null int64\n",
      "Street             2930 non-null object\n",
      "Alley              198 non-null object\n",
      "Lot Shape          2930 non-null object\n",
      "Land Contour       2930 non-null object\n",
      "Utilities          2930 non-null object\n",
      "Lot Config         2930 non-null object\n",
      "Land Slope         2930 non-null object\n",
      "Neighborhood       2930 non-null object\n",
      "Condition 1        2930 non-null object\n",
      "Condition 2        2930 non-null object\n",
      "Bldg Type          2930 non-null object\n",
      "House Style        2930 non-null object\n",
      "Overall Qual       2930 non-null int64\n",
      "Overall Cond       2930 non-null int64\n",
      "Year Built         2930 non-null int64\n",
      "Year Remod/Add     2930 non-null int64\n",
      "Roof Style         2930 non-null object\n",
      "Roof Matl          2930 non-null object\n",
      "Exterior 1st       2930 non-null object\n",
      "Exterior 2nd       2930 non-null object\n",
      "Mas Vnr Type       2907 non-null object\n",
      "Mas Vnr Area       2907 non-null float64\n",
      "Exter Qual         2930 non-null object\n",
      "Exter Cond         2930 non-null object\n",
      "Foundation         2930 non-null object\n",
      "Bsmt Qual          2850 non-null object\n",
      "Bsmt Cond          2850 non-null object\n",
      "Bsmt Exposure      2847 non-null object\n",
      "BsmtFin Type 1     2850 non-null object\n",
      "BsmtFin SF 1       2929 non-null float64\n",
      "BsmtFin Type 2     2849 non-null object\n",
      "BsmtFin SF 2       2929 non-null float64\n",
      "Bsmt Unf SF        2929 non-null float64\n",
      "Total Bsmt SF      2929 non-null float64\n",
      "Heating            2930 non-null object\n",
      "Heating QC         2930 non-null object\n",
      "Central Air        2930 non-null object\n",
      "Electrical         2929 non-null object\n",
      "1st Flr SF         2930 non-null int64\n",
      "2nd Flr SF         2930 non-null int64\n",
      "Low Qual Fin SF    2930 non-null int64\n",
      "Gr Liv Area        2930 non-null int64\n",
      "Bsmt Full Bath     2928 non-null float64\n",
      "Bsmt Half Bath     2928 non-null float64\n",
      "Full Bath          2930 non-null int64\n",
      "Half Bath          2930 non-null int64\n",
      "Bedroom AbvGr      2930 non-null int64\n",
      "Kitchen AbvGr      2930 non-null int64\n",
      "Kitchen Qual       2930 non-null object\n",
      "TotRms AbvGrd      2930 non-null int64\n",
      "Functional         2930 non-null object\n",
      "Fireplaces         2930 non-null int64\n",
      "Fireplace Qu       1508 non-null object\n",
      "Garage Type        2773 non-null object\n",
      "Garage Yr Blt      2771 non-null float64\n",
      "Garage Finish      2771 non-null object\n",
      "Garage Cars        2929 non-null float64\n",
      "Garage Area        2929 non-null float64\n",
      "Garage Qual        2771 non-null object\n",
      "Garage Cond        2771 non-null object\n",
      "Paved Drive        2930 non-null object\n",
      "Wood Deck SF       2930 non-null int64\n",
      "Open Porch SF      2930 non-null int64\n",
      "Enclosed Porch     2930 non-null int64\n",
      "3Ssn Porch         2930 non-null int64\n",
      "Screen Porch       2930 non-null int64\n",
      "Pool Area          2930 non-null int64\n",
      "Pool QC            13 non-null object\n",
      "Fence              572 non-null object\n",
      "Misc Feature       106 non-null object\n",
      "Misc Val           2930 non-null int64\n",
      "Mo Sold            2930 non-null int64\n",
      "Yr Sold            2930 non-null int64\n",
      "Sale Type          2930 non-null object\n",
      "Sale Condition     2930 non-null object\n",
      "SalePrice          2930 non-null int64\n",
      "dtypes: float64(11), int64(28), object(43)\n",
      "memory usage: 1.8+ MB\n"
     ]
    }
   ],
   "source": [
    "houses.info()"
   ]
  },
  {
   "cell_type": "markdown",
   "metadata": {},
   "source": [
    "## Feature engineering\n",
    "\n",
    "Functions to transform columns data"
   ]
  },
  {
   "cell_type": "code",
   "execution_count": 29,
   "metadata": {},
   "outputs": [],
   "source": [
    "to_drop = ['MS SubClass', 'MS Zoning','Year Built','Electrical', 'Functional','Garage Yr Blt',\n",
    "          'Garage Cars','Garage Finish','PID','Street','Order','Mo Sold','Yr Sold','Sale Type',\n",
    "           'Sale Condition','MS SubClass','MS Zoning','Bsmt Exposure','BsmtFin Type 1','BsmtFin Type 2']\n",
    "\n",
    "categorical = ['Lot Area', 'Lot Shape','Land Contour', 'Utilities', 'Lot Config', \n",
    "               'Land Slope', 'Neighborhood', 'Bldg Type', 'House Style','Roof Style',\n",
    "               'Roof Matl','Mas Vnr Type','Foundation','Heating','Garage Type','Paved Drive']\n",
    "\n",
    "ordinal = ['Exter Qual', 'Exter Cond', 'Bsmt Qual', 'Bsmt Cond',\n",
    "            'Heating QC','Kitchen Qual','Garage Qual', 'Garage Cond']\n",
    "\n",
    "combine = ['Condition 1', 'Condition 2', 'Exterior 1st','Exterior 2nd']\n",
    "\n",
    "def category_combine(df,col1,col2):\n",
    "    b = pd.get_dummies(df[col1].astype('category'))\n",
    "    b_col = pd.get_dummies(df[col2].astype('category')).columns\n",
    "    a = pd.get_dummies(df[col1].astype('category'))\n",
    "    if a.shape[1] > b.shape[1]:\n",
    "        a = pd.get_dummies(df[col1].astype('category'))[b_col]\n",
    "    for ind, row in a.iterrows():\n",
    "        for pos, elem in enumerate(row):\n",
    "            if elem == 0:\n",
    "                a.iloc[ind,pos] = b.iloc[ind,pos]\n",
    "    return a\n",
    "\n",
    "def transform_features(train_df):\n",
    "    # drop useless columns\n",
    "    train_clean = train_df.drop(to_drop,axis=1).copy()\n",
    "    \n",
    "    # drop rows with more then 10% null values\n",
    "    train_clean = train_clean.dropna(thresh=train_df.shape[0]*0.90 ,axis=1)\n",
    "    \n",
    "    # fill NaN mode value if less then 0.02 null values in column\n",
    "    numerical = train_clean.select_dtypes(include=['float','int64'])\n",
    "    numerical_null = numerical.isnull().sum()\n",
    "    columns_fill = numerical_null[numerical_null<train_df.shape[0]*0.02].index\n",
    "    train_clean[columns_fill] = train_clean[columns_fill].fillna(train_clean[columns_fill].mode())\n",
    "    \n",
    "    # modify boolean columns\n",
    "    train_clean['Central Air'] = train_clean['Central Air'].apply(lambda col: 1 if col == 'Y' else 0)\n",
    "    \n",
    "    # transform Year 'Remod/Add' to present time since remod\n",
    "    train_clean['years_since_remod'] = train_clean['Year Remod/Add'].apply(lambda col: 2010-int(col))\n",
    "    train_clean.drop(['Year Remod/Add'],axis=1,inplace=True)\n",
    "    \n",
    "    # combining basement area\n",
    "    train_clean['BsmtFin SF_total'] = train_clean['BsmtFin SF 1'] + train_clean['BsmtFin SF 2']\n",
    "    train_clean.drop(['BsmtFin SF 1','BsmtFin SF 2'],axis=1,inplace=True)\n",
    "    \n",
    "    # transforming ordinal columns to numeric value\n",
    "    train_clean[ordinal] = train_clean[ordinal].applymap(lambda x: 0 if x=='NA' else (1 if x == 'Po' else (2 if x == 'Fa' else (3 if x == 'TA' else (4 if x == 'Gd' else (5 if x == 'Ex' else 0))))))\n",
    "    \n",
    "    # combine extended categorical columns\n",
    "    train_clean = pd.concat([train_clean,category_combine(train_clean,combine[0],combine[1])],axis=1)\n",
    "    train_clean = pd.concat([train_clean,category_combine(train_clean,combine[2],combine[3])],axis=1)\n",
    "    train_clean.drop(combine,axis=1,inplace=True)\n",
    "    \n",
    "    # Change nominal scale columns to category type\n",
    "    train_clean[categorical] = train_clean[categorical].apply(lambda col: col.astype('category'))\n",
    "    categorical_bool = pd.get_dummies(train_clean[categorical])\n",
    "    train_clean = pd.concat([train_clean,categorical_bool],axis=1)\n",
    "    train_clean.drop(categorical,axis=1,inplace=True)\n",
    "    \n",
    "    \n",
    "    return train_clean"
   ]
  },
  {
   "cell_type": "markdown",
   "metadata": {},
   "source": [
    "## Training / testing data\n",
    "\n",
    "Spliting data randomly into two equal halfs"
   ]
  },
  {
   "cell_type": "code",
   "execution_count": 30,
   "metadata": {},
   "outputs": [],
   "source": [
    "# split data into train and test sets\n",
    "np.random.seed(1)\n",
    "df = houses.loc[np.random.permutation(houses.index.values)]\n",
    "train = df[:round(df.shape[0]/2)].reset_index(drop=True).copy()\n",
    "test = df[round(df.shape[0]/2):].reset_index(drop=True).copy()\n",
    "\n",
    "# clean data\n",
    "train_transformed = transform_features(train).copy()"
   ]
  },
  {
   "cell_type": "markdown",
   "metadata": {},
   "source": [
    "## Feature engineering cont."
   ]
  },
  {
   "cell_type": "code",
   "execution_count": 31,
   "metadata": {},
   "outputs": [],
   "source": [
    "# replacing null values\n",
    "null_values = train_transformed.isnull().sum()\n",
    "null_to_fill = null_values[null_values>0].index\n",
    "train_transformed[null_to_fill] = train_transformed[null_to_fill].fillna(0)"
   ]
  },
  {
   "cell_type": "markdown",
   "metadata": {},
   "source": [
    "### Correlation "
   ]
  },
  {
   "cell_type": "code",
   "execution_count": 32,
   "metadata": {},
   "outputs": [
    {
     "data": {
      "text/plain": [
       "SalePrice         1.000000\n",
       "Overall Qual      0.798576\n",
       "Gr Liv Area       0.713549\n",
       "Exter Qual        0.704637\n",
       "Kitchen Qual      0.669620\n",
       "                    ...   \n",
       "Lot Area_5070     0.000075\n",
       "Lot Area_8049     0.000075\n",
       "Lot Area_9018     0.000072\n",
       "Lot Area_11049    0.000043\n",
       "Lot Area_10357    0.000043\n",
       "Name: SalePrice, Length: 1265, dtype: float64"
      ]
     },
     "execution_count": 32,
     "metadata": {},
     "output_type": "execute_result"
    }
   ],
   "source": [
    "sorted_corrs = np.abs(train_transformed.corr()['SalePrice']).sort_values(ascending=False)\n",
    "sorted_corrs"
   ]
  },
  {
   "cell_type": "markdown",
   "metadata": {},
   "source": [
    "Lets select only strongly correlated columns and plot a heat map."
   ]
  },
  {
   "cell_type": "code",
   "execution_count": 33,
   "metadata": {},
   "outputs": [
    {
     "data": {
      "image/png": "[encoded data removed]",
      "text/plain": [
       "<Figure size 1080x720 with 2 Axes>"
      ]
     },
     "metadata": {
      "needs_background": "light"
     },
     "output_type": "display_data"
    }
   ],
   "source": [
    "strong_corrs = sorted_corrs[sorted_corrs>0.45]\n",
    "corrmat = train_transformed[strong_corrs.index]\n",
    "feature_corr = abs(corrmat.corr())\n",
    "mask = np.zeros_like(feature_corr)\n",
    "mask[np.triu_indices_from(mask)] = True\n",
    "ax = plt.figure(figsize=(15,10))\n",
    "ax = sns.heatmap(feature_corr,cmap=\"YlGnBu\",mask=mask)"
   ]
  },
  {
   "cell_type": "markdown",
   "metadata": {},
   "source": [
    "Features *Gr Liv Area and TotRms AbvGr, 1st Flr SF and Total Bsmt SF* are strongly correlated.  Looking into documentation we can tell that each pair of columns reflects very similar information. To reduce information overload lets drop *TotRms AbvGrd and Total Bsmt SF*."
   ]
  },
  {
   "cell_type": "code",
   "execution_count": 34,
   "metadata": {},
   "outputs": [],
   "source": [
    "train_transformed = train_transformed[strong_corrs.index].drop(['TotRms AbvGrd','Total Bsmt SF'],axis=1)"
   ]
  },
  {
   "cell_type": "markdown",
   "metadata": {},
   "source": [
    "### Searching hidden correlations\n",
    "Thinking what else can impact the Sale Price and was not capture by the correlation matrix... lets try dig deeper into the original *Neighborhood* column and check whether is there any significant difference in price."
   ]
  },
  {
   "cell_type": "code",
   "execution_count": 35,
   "metadata": {},
   "outputs": [
    {
     "data": {
      "image/png": "[encoded data removed]",
      "text/plain": [
       "<Figure size 720x576 with 1 Axes>"
      ]
     },
     "metadata": {
      "needs_background": "light"
     },
     "output_type": "display_data"
    }
   ],
   "source": [
    "list_ordering = train[['Neighborhood','SalePrice']].groupby('Neighborhood').agg('mean').sort_values(by='SalePrice').index.values.tolist()\n",
    "train['Neighborhood'] = pd.Categorical(train['Neighborhood'], categories=list_ordering) \n",
    "ax = plt.figure(figsize=(10,8))\n",
    "ax = sns.boxplot(data=train, x='Neighborhood', y='SalePrice')\n",
    "ax = plt.xticks(rotation=90)"
   ]
  },
  {
   "cell_type": "markdown",
   "metadata": {},
   "source": [
    "It looks like there is some correlation between the neighborhood and the sale price. We can rank each location as holding different price range houses. The box plot is ordered by neighborhood mean in ascending order. We can rank each of the location in the following way:\n",
    "- first 3 locations: 1\n",
    "- from 4 to 12: 2\n",
    "- location 13: 3\n",
    "- from 14 to 21: 4\n",
    "- from 22 to 24: 5\n",
    "- last 3 locations: 6\n",
    "\n",
    "Applying this numerical rank we can estimate how attractive each location is."
   ]
  },
  {
   "cell_type": "code",
   "execution_count": 36,
   "metadata": {},
   "outputs": [],
   "source": [
    "rank_neighborhood = {}\n",
    "for n, area in enumerate(list_ordering):\n",
    "    if n < 3:\n",
    "        rank_neighborhood[area] = 1.\n",
    "    elif n>=3 and n <12:\n",
    "        rank_neighborhood[area] = 2.\n",
    "    elif n==12:\n",
    "        rank_neighborhood[area] = 3.\n",
    "    elif n>12 and n <21:\n",
    "        rank_neighborhood[area] = 4.\n",
    "    elif n>=21 and n <24:\n",
    "        rank_neighborhood[area] = 5.\n",
    "    elif n>=24:\n",
    "        rank_neighborhood[area] = 6.\n",
    "        \n",
    "neighborhood_clean = train['Neighborhood'].replace(rank_neighborhood)\n",
    "train_transformed['neighborhood_clean'] = neighborhood_clean"
   ]
  },
  {
   "cell_type": "markdown",
   "metadata": {},
   "source": [
    "### Feature normalization"
   ]
  },
  {
   "cell_type": "code",
   "execution_count": 37,
   "metadata": {},
   "outputs": [],
   "source": [
    "def normalize_features(df):\n",
    "    normalized = df.apply(lambda col: (col-col.min())/(col.max()-col.min()))\n",
    "    return normalized"
   ]
  },
  {
   "cell_type": "markdown",
   "metadata": {},
   "source": [
    "Once the data is normalized lets check columns variance. When the values in a feature column have low variance, they don't meaningfully contribute to the model's predictive capability."
   ]
  },
  {
   "cell_type": "code",
   "execution_count": 38,
   "metadata": {},
   "outputs": [
    {
     "data": {
      "text/plain": [
       "SalePrice             0.012075\n",
       "Overall Qual          0.031311\n",
       "Gr Liv Area           0.009792\n",
       "Exter Qual            0.035861\n",
       "Kitchen Qual          0.027160\n",
       "Garage Area           0.023382\n",
       "1st Flr SF            0.008065\n",
       "Bsmt Qual             0.031524\n",
       "Full Bath             0.019056\n",
       "years_since_remod     0.121457\n",
       "Foundation_PConc      0.247149\n",
       "Mas Vnr Area          0.018090\n",
       "Fireplaces            0.047524\n",
       "Heating QC            0.100888\n",
       "neighborhood_clean    0.084472\n",
       "dtype: float64"
      ]
     },
     "execution_count": 38,
     "metadata": {},
     "output_type": "execute_result"
    }
   ],
   "source": [
    "train_normalized = normalize_features(train_transformed)\n",
    "train_normalized.var()"
   ]
  },
  {
   "cell_type": "markdown",
   "metadata": {},
   "source": [
    "There are two outliers *1st Flr SF* with very low variance and *Foundation_PConc* with very high which comes from our dummies category transformation so it contains either 0 or 1. Lets drop both."
   ]
  },
  {
   "cell_type": "code",
   "execution_count": 39,
   "metadata": {},
   "outputs": [],
   "source": [
    "train_normalized = train_normalized.drop(['1st Flr SF','Foundation_PConc'],axis=1)"
   ]
  },
  {
   "cell_type": "markdown",
   "metadata": {},
   "source": [
    "### Feature selection"
   ]
  },
  {
   "cell_type": "code",
   "execution_count": 40,
   "metadata": {},
   "outputs": [
    {
     "data": {
      "text/plain": [
       "Overall Qual          0.798576\n",
       "neighborhood_clean    0.725073\n",
       "Gr Liv Area           0.713549\n",
       "Exter Qual            0.704637\n",
       "Kitchen Qual          0.669620\n",
       "Garage Area           0.643913\n",
       "Bsmt Qual             0.620130\n",
       "Full Bath             0.539218\n",
       "years_since_remod     0.533617\n",
       "Mas Vnr Area          0.513425\n",
       "Fireplaces            0.466369\n",
       "Heating QC            0.458902\n",
       "Name: SalePrice, dtype: float64"
      ]
     },
     "execution_count": 40,
     "metadata": {},
     "output_type": "execute_result"
    }
   ],
   "source": [
    "best_features = abs(train_normalized.corr()['SalePrice']).sort_values(ascending=False)\n",
    "feature_order = best_features.index\n",
    "\n",
    "best_features[1:]"
   ]
  },
  {
   "cell_type": "markdown",
   "metadata": {},
   "source": [
    "### Transforming test dataset"
   ]
  },
  {
   "cell_type": "code",
   "execution_count": 41,
   "metadata": {},
   "outputs": [],
   "source": [
    "# adding new columns to match train data\n",
    "test['years_since_remod'] = test['Year Remod/Add'].apply(lambda col: 2010-int(col))\n",
    "test['neighborhood_clean'] = test['Neighborhood'].replace(rank_neighborhood)\n",
    "\n",
    "# selecting the same columns as for train data\n",
    "test_clean = test[feature_order].copy()\n",
    "\n",
    "# cleaning text column\n",
    "test_object = test_clean.select_dtypes(include=['object']).columns\n",
    "test_clean[test_object] = test_clean[test_object].applymap(lambda x: 0 if x=='NA' else (1 if x == 'Po' else (2 if x == 'Fa' else (3 if x == 'TA' else (4 if x == 'Gd' else (5 if x == 'Ex' else 0))))))\n",
    "test_normalized = normalize_features(test_clean)\n",
    "\n",
    "# filling null values`\n",
    "null_values = test_normalized.isnull().sum()\n",
    "null_to_fill = null_values[null_values>0].index\n",
    "test_normalized[null_to_fill] = test_normalized[null_to_fill].fillna(0)"
   ]
  },
  {
   "cell_type": "markdown",
   "metadata": {},
   "source": [
    "### Model validation"
   ]
  },
  {
   "cell_type": "code",
   "execution_count": 42,
   "metadata": {},
   "outputs": [],
   "source": [
    "# model validation\n",
    "def cross_validation(train,test):\n",
    "    model_rmse = {}\n",
    "    for n_col in range(2,len(feature_order)+1):\n",
    "        attributes_model = feature_order[:n_col]\n",
    "        train_df = train[attributes_model]\n",
    "        features = train_df.drop('SalePrice',axis=1)\n",
    "        target = train['SalePrice']\n",
    "        lr = LinearRegression()\n",
    "        lr.fit(features,target)\n",
    "        test_pred = lr.predict(test[features.columns])\n",
    "        rmse = mean_squared_error(test['SalePrice'],test_pred,squared=False)\n",
    "        model_rmse['{}-attributes'.format(n_col-1)] = rmse\n",
    "    return model_rmse"
   ]
  },
  {
   "cell_type": "code",
   "execution_count": 43,
   "metadata": {},
   "outputs": [
    {
     "data": {
      "image/png": "[encoded data removed]",
      "text/plain": [
       "<Figure size 360x360 with 1 Axes>"
      ]
     },
     "metadata": {
      "needs_background": "light"
     },
     "output_type": "display_data"
    }
   ],
   "source": [
    "# validating model on different features\n",
    "model_rmse = cross_validation(train_normalized,test_normalized) \n",
    "\n",
    "# ploting results\n",
    "fig = plt.figure(figsize=(5, 5))\n",
    "ax = fig.add_subplot(1,1,1)\n",
    "ax.scatter(model_rmse.keys() ,model_rmse.values())\n",
    "ax = plt.xticks(rotation=90)\n",
    "plt.title('RMSE for different number of features')\n",
    "plt.show()"
   ]
  },
  {
   "cell_type": "markdown",
   "metadata": {},
   "source": [
    "### Selecting the best model"
   ]
  },
  {
   "cell_type": "code",
   "execution_count": 44,
   "metadata": {},
   "outputs": [
    {
     "data": {
      "text/plain": [
       "0.06419545109411466"
      ]
     },
     "execution_count": 44,
     "metadata": {},
     "output_type": "execute_result"
    }
   ],
   "source": [
    "model_rmse['4-attributes']"
   ]
  },
  {
   "cell_type": "markdown",
   "metadata": {},
   "source": [
    "## Conclusion\n",
    "\n",
    "Using 4 features *Overall Qual, neighborhood_clean, Gr Liv Area, Exter Qual* we got RMSE = 0.0642 on test data."
   ]
  }
 ],
 "metadata": {
  "anaconda-cloud": {},
  "kernelspec": {
   "display_name": "Python 3",
   "language": "python",
   "name": "python3"
  },
  "language_info": {
   "codemirror_mode": {
    "name": "ipython",
    "version": 3
   },
   "file_extension": ".py",
   "mimetype": "text/x-python",
   "name": "python",
   "nbconvert_exporter": "python",
   "pygments_lexer": "ipython3",
   "version": "3.6.9"
  }
 },
 "nbformat": 4,
 "nbformat_minor": 2
}
