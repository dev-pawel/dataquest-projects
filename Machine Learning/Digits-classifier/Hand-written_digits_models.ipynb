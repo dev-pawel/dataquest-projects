{
 "cells": [
  {
   "cell_type": "markdown",
   "metadata": {
    "collapsed": true
   },
   "source": [
    "# Handwritten digits Classifier\n",
    "\n",
    "## Introduction\n",
    "\n",
    "In this project am going to use two algorithms K-Nearest Neighbors and Deep Neural Network to classify hand-written digits from images. The dataset contains 8 x 8 pixels images. We will be reading that dataset direclty from sklearn.datasets but it can be also find [here](http://archive.ics.uci.edu/ml/datasets/Optical+Recognition+of+Handwritten+Digits).\n",
    "\n",
    "## Summary of results\n",
    "\n",
    "It was very easy to overfit our model. Using K-Neighbors classifier we got the best accuracy score: 0.967\n",
    "\n",
    "## Data introduction"
   ]
  },
  {
   "cell_type": "code",
   "execution_count": 28,
   "metadata": {},
   "outputs": [],
   "source": [
    "import numpy as np\n",
    "import pandas as pd\n",
    "import matplotlib.pyplot as plt\n",
    "from sklearn.neighbors import KNeighborsClassifier\n",
    "from sklearn.neural_network import MLPClassifier\n",
    "from sklearn.ensemble import RandomForestClassifier\n",
    "from sklearn.linear_model import LogisticRegression\n",
    "from sklearn.ensemble import GradientBoostingClassifier\n",
    "from sklearn.model_selection import cross_val_score, KFold, cross_validate\n",
    "from sklearn.model_selection import GridSearchCV\n",
    "from sklearn.datasets import load_digits\n",
    "%matplotlib inline"
   ]
  },
  {
   "cell_type": "code",
   "execution_count": 4,
   "metadata": {},
   "outputs": [
    {
     "data": {
      "text/plain": [
       "dict_keys(['data', 'target', 'target_names', 'images', 'DESCR'])"
      ]
     },
     "execution_count": 4,
     "metadata": {},
     "output_type": "execute_result"
    }
   ],
   "source": [
    "digits = load_digits()\n",
    "digits.keys()"
   ]
  },
  {
   "cell_type": "code",
   "execution_count": 5,
   "metadata": {},
   "outputs": [],
   "source": [
    "labels = pd.Series(digits.target)"
   ]
  },
  {
   "cell_type": "code",
   "execution_count": 6,
   "metadata": {},
   "outputs": [
    {
     "data": {
      "text/html": [
       "<div>\n",
       "<style scoped>\n",
       "    .dataframe tbody tr th:only-of-type {\n",
       "        vertical-align: middle;\n",
       "    }\n",
       "\n",
       "    .dataframe tbody tr th {\n",
       "        vertical-align: top;\n",
       "    }\n",
       "\n",
       "    .dataframe thead th {\n",
       "        text-align: right;\n",
       "    }\n",
       "</style>\n",
       "<table border=\"1\" class=\"dataframe\">\n",
       "  <thead>\n",
       "    <tr style=\"text-align: right;\">\n",
       "      <th></th>\n",
       "      <th>0</th>\n",
       "      <th>1</th>\n",
       "      <th>2</th>\n",
       "      <th>3</th>\n",
       "      <th>4</th>\n",
       "      <th>5</th>\n",
       "      <th>6</th>\n",
       "      <th>7</th>\n",
       "      <th>8</th>\n",
       "      <th>9</th>\n",
       "      <th>...</th>\n",
       "      <th>54</th>\n",
       "      <th>55</th>\n",
       "      <th>56</th>\n",
       "      <th>57</th>\n",
       "      <th>58</th>\n",
       "      <th>59</th>\n",
       "      <th>60</th>\n",
       "      <th>61</th>\n",
       "      <th>62</th>\n",
       "      <th>63</th>\n",
       "    </tr>\n",
       "  </thead>\n",
       "  <tbody>\n",
       "    <tr>\n",
       "      <th>0</th>\n",
       "      <td>0.0</td>\n",
       "      <td>0.0</td>\n",
       "      <td>5.0</td>\n",
       "      <td>13.0</td>\n",
       "      <td>9.0</td>\n",
       "      <td>1.0</td>\n",
       "      <td>0.0</td>\n",
       "      <td>0.0</td>\n",
       "      <td>0.0</td>\n",
       "      <td>0.0</td>\n",
       "      <td>...</td>\n",
       "      <td>0.0</td>\n",
       "      <td>0.0</td>\n",
       "      <td>0.0</td>\n",
       "      <td>0.0</td>\n",
       "      <td>6.0</td>\n",
       "      <td>13.0</td>\n",
       "      <td>10.0</td>\n",
       "      <td>0.0</td>\n",
       "      <td>0.0</td>\n",
       "      <td>0.0</td>\n",
       "    </tr>\n",
       "  </tbody>\n",
       "</table>\n",
       "<p>1 rows × 64 columns</p>\n",
       "</div>"
      ],
      "text/plain": [
       "    0    1    2     3    4    5    6    7    8    9   ...   54   55   56   57  \\\n",
       "0  0.0  0.0  5.0  13.0  9.0  1.0  0.0  0.0  0.0  0.0  ...  0.0  0.0  0.0  0.0   \n",
       "\n",
       "    58    59    60   61   62   63  \n",
       "0  6.0  13.0  10.0  0.0  0.0  0.0  \n",
       "\n",
       "[1 rows x 64 columns]"
      ]
     },
     "execution_count": 6,
     "metadata": {},
     "output_type": "execute_result"
    }
   ],
   "source": [
    "data = pd.DataFrame(digits.data)\n",
    "data.head(1)"
   ]
  },
  {
   "cell_type": "code",
   "execution_count": 7,
   "metadata": {},
   "outputs": [
    {
     "data": {
      "image/png": "[encoded data removed]",
      "text/plain": [
       "<Figure size 432x288 with 8 Axes>"
      ]
     },
     "metadata": {
      "needs_background": "light"
     },
     "output_type": "display_data"
    }
   ],
   "source": [
    "row = 0\n",
    "for n in range(0,8):\n",
    "    ax = plt.subplot(2,4,n+1)\n",
    "    first_image = data.iloc[row]\n",
    "    np_image = first_image.values\n",
    "    np_image = np_image.reshape(8,8)\n",
    "    ax = plt.imshow(np_image, cmap='gray_r')\n",
    "    row += 100\n",
    "    if n == 3:\n",
    "        row+=1000"
   ]
  },
  {
   "cell_type": "markdown",
   "metadata": {},
   "source": [
    "## Model selection"
   ]
  },
  {
   "cell_type": "markdown",
   "metadata": {},
   "source": [
    "### k-Nearest Neighbors"
   ]
  },
  {
   "cell_type": "code",
   "execution_count": 8,
   "metadata": {},
   "outputs": [],
   "source": [
    "def knn_validate(data,labels,k):\n",
    "    kf = KFold(n_splits=4,shuffle=True,random_state=1)\n",
    "    knn = KNeighborsClassifier(n_neighbors=k)\n",
    "    rmse = cross_val_score(knn,data,labels,scoring='accuracy',cv=kf)\n",
    "    rmse_mean = np.mean(rmse)\n",
    "    rmse_std = np.std(rmse)\n",
    "    return rmse_mean, rmse_std\n",
    "\n",
    "knn_results={}\n",
    "for k in range(1,15):\n",
    "    knn_results[k] = knn_validate(data,labels,k)"
   ]
  },
  {
   "cell_type": "code",
   "execution_count": 9,
   "metadata": {},
   "outputs": [
    {
     "data": {
      "text/plain": [
       "{1: (0.9827456075228903, 0.005080100024846866),\n",
       " 2: (0.9805184360306854, 0.007456321517955216),\n",
       " 3: (0.9855283345706509, 0.005108495408949403),\n",
       " 4: (0.9849690670626082, 0.008242959752450835),\n",
       " 5: (0.9832999257609502, 0.008111616735676333),\n",
       " 6: (0.9805159613956941, 0.008394597578538979),\n",
       " 7: (0.9821863400148477, 0.006687701293013929),\n",
       " 8: (0.9816295471417965, 0.0069382766952786655),\n",
       " 9: (0.9788468200940361, 0.007138930372246532),\n",
       " 10: (0.9782887899034892, 0.009104204246080858),\n",
       " 11: (0.9771789161098738, 0.0055527037575031435),\n",
       " 12: (0.9771764414748825, 0.00839714322186916),\n",
       " 13: (0.9755085374907201, 0.006505997057457977),\n",
       " 14: (0.9755073001732245, 0.007884739603367469)}"
      ]
     },
     "execution_count": 9,
     "metadata": {},
     "output_type": "execute_result"
    }
   ],
   "source": [
    "knn_results"
   ]
  },
  {
   "cell_type": "code",
   "execution_count": 10,
   "metadata": {},
   "outputs": [
    {
     "data": {
      "image/png": "[encoded data removed]",
      "text/plain": [
       "<Figure size 432x288 with 1 Axes>"
      ]
     },
     "metadata": {
      "needs_background": "light"
     },
     "output_type": "display_data"
    }
   ],
   "source": [
    "knn_df = pd.DataFrame(knn_results).T\n",
    "\n",
    "accuracy = knn_df[0]\n",
    "varaince = knn_df[1]\n",
    "accuracy = (accuracy - accuracy.min()) / (accuracy.max() - accuracy.min())\n",
    "varaince = (varaince - varaince.min()) / (varaince.max() - varaince.min())\n",
    "plt.plot(accuracy,label='accuracy')\n",
    "plt.plot(varaince,label='variance')\n",
    "plt.legend()\n",
    "plt.xlabel('k value')\n",
    "plt.show()"
   ]
  },
  {
   "cell_type": "markdown",
   "metadata": {},
   "source": [
    "We ran our model for k in range 1-14. As we can see for k=3 we got the best results. Our model was able to crack digits with 0.985 accuracy.\n",
    "\n",
    "### Random forest"
   ]
  },
  {
   "cell_type": "code",
   "execution_count": 11,
   "metadata": {},
   "outputs": [],
   "source": [
    "def forest_validate(data,labels,n_tree,depth,leaf):\n",
    "    kf = KFold(n_splits=4,shuffle=True,random_state=1)\n",
    "    forest = RandomForestClassifier(n_estimators=n_tree, random_state=1, max_depth=depth, min_samples_leaf=leaf)\n",
    "    results = cross_validate(forest,data,labels,scoring='accuracy',cv=kf, return_train_score=True)\n",
    "    train_score = np.mean(results['train_score'])\n",
    "    test_score = np.mean(results['test_score'])\n",
    "    return train_score, test_score\n",
    "\n",
    "fores_results={}\n",
    "for n in range(10,200,10):\n",
    "    fores_results[n] = forest_validate(data,labels,n,8,3)"
   ]
  },
  {
   "cell_type": "code",
   "execution_count": 12,
   "metadata": {},
   "outputs": [
    {
     "data": {
      "text/plain": [
       "{10: (0.9862733484014372, 0.9410108883939619),\n",
       " 20: (0.9933226160343129, 0.9554776045533283),\n",
       " 30: (0.9948065709269307, 0.9571492204899776),\n",
       " 40: (0.9946208356188827, 0.9588208364266271),\n",
       " 50: (0.9949914801327931, 0.9604899777282849),\n",
       " 60: (0.9961047905115005, 0.9621615936649344),\n",
       " 70: (0.9964758480765037, 0.96271714922049),\n",
       " 80: (0.9970323655821597, 0.9654974016332591),\n",
       " 90: (0.9966611703334589, 0.9649418460777035),\n",
       " 100: (0.9968466302741117, 0.9638282603316011),\n",
       " 110: (0.9966611703334589, 0.9666109873793616),\n",
       " 120: (0.9968466302741117, 0.967166542934917),\n",
       " 130: (0.9970320902147645, 0.9677233358079683),\n",
       " 140: (0.9968464925904141, 0.9677233358079684),\n",
       " 150: (0.9964758480765036, 0.9682801286810196),\n",
       " 160: (0.9968467679578094, 0.9677220984904726),\n",
       " 170: (0.997217687839115, 0.9688369215540709),\n",
       " 180: (0.9972175501554174, 0.9688356842365751),\n",
       " 190: (0.9974031477797678, 0.9682801286810196)}"
      ]
     },
     "execution_count": 12,
     "metadata": {},
     "output_type": "execute_result"
    }
   ],
   "source": [
    "fores_results"
   ]
  },
  {
   "cell_type": "markdown",
   "metadata": {},
   "source": [
    "It looks like for 150 trees and max depth set to 8 and number of min leaves set to 3 we got the best results. \n",
    "\n",
    "Lets now try Gradient boosting model."
   ]
  },
  {
   "cell_type": "code",
   "execution_count": 31,
   "metadata": {},
   "outputs": [],
   "source": [
    "def xgboost_validate(data,labels):\n",
    "    xgboost = GradientBoostingClassifier(random_state=1)\n",
    "    results = cross_validate(xgboost,data,labels,scoring='accuracy',cv=5, return_train_score=True)\n",
    "    train_score = np.mean(results['train_score'])\n",
    "    test_score = np.mean(results['test_score'])\n",
    "    return train_score, test_score\n",
    "\n",
    "xbgoost = xgboost_validate(data,labels)"
   ]
  },
  {
   "cell_type": "code",
   "execution_count": 32,
   "metadata": {
    "scrolled": true
   },
   "outputs": [
    {
     "data": {
      "text/plain": [
       "(1.0, 0.9215567935623646)"
      ]
     },
     "execution_count": 32,
     "metadata": {},
     "output_type": "execute_result"
    }
   ],
   "source": [
    "xbgoost"
   ]
  },
  {
   "cell_type": "markdown",
   "metadata": {},
   "source": [
    "Our model is quite overfitted. It didn't improve compere to the previous one. Lets try Neural network."
   ]
  },
  {
   "cell_type": "markdown",
   "metadata": {},
   "source": [
    "### Neural Network with one hidden leayer"
   ]
  },
  {
   "cell_type": "code",
   "execution_count": 13,
   "metadata": {},
   "outputs": [],
   "source": [
    "def mlp_validate(data,labels,hidden_layers,kfold=4):\n",
    "    kf = KFold(n_splits=kfold,shuffle=True,random_state=1)\n",
    "    mlp = MLPClassifier(hidden_layer_sizes=hidden_layers,activation='logistic')\n",
    "    results = cross_validate(mlp,data,labels,scoring='accuracy',cv=kf, return_train_score=True)\n",
    "    train_score = np.mean(results['train_score'])\n",
    "    test_score = np.mean(results['test_score'])\n",
    "    return train_score, test_score"
   ]
  },
  {
   "cell_type": "code",
   "execution_count": 14,
   "metadata": {
    "collapsed": true
   },
   "outputs": [
    {
     "name": "stderr",
     "output_type": "stream",
     "text": [
      "C:\\Apps\\ProgramFiles\\Continuum\\Anaconda2\\envs\\pablo\\lib\\site-packages\\sklearn\\neural_network\\_multilayer_perceptron.py:571: ConvergenceWarning: Stochastic Optimizer: Maximum iterations (200) reached and the optimization hasn't converged yet.\n",
      "  % self.max_iter, ConvergenceWarning)\n",
      "C:\\Apps\\ProgramFiles\\Continuum\\Anaconda2\\envs\\pablo\\lib\\site-packages\\sklearn\\neural_network\\_multilayer_perceptron.py:571: ConvergenceWarning: Stochastic Optimizer: Maximum iterations (200) reached and the optimization hasn't converged yet.\n",
      "  % self.max_iter, ConvergenceWarning)\n",
      "C:\\Apps\\ProgramFiles\\Continuum\\Anaconda2\\envs\\pablo\\lib\\site-packages\\sklearn\\neural_network\\_multilayer_perceptron.py:571: ConvergenceWarning: Stochastic Optimizer: Maximum iterations (200) reached and the optimization hasn't converged yet.\n",
      "  % self.max_iter, ConvergenceWarning)\n",
      "C:\\Apps\\ProgramFiles\\Continuum\\Anaconda2\\envs\\pablo\\lib\\site-packages\\sklearn\\neural_network\\_multilayer_perceptron.py:571: ConvergenceWarning: Stochastic Optimizer: Maximum iterations (200) reached and the optimization hasn't converged yet.\n",
      "  % self.max_iter, ConvergenceWarning)\n",
      "C:\\Apps\\ProgramFiles\\Continuum\\Anaconda2\\envs\\pablo\\lib\\site-packages\\sklearn\\neural_network\\_multilayer_perceptron.py:571: ConvergenceWarning: Stochastic Optimizer: Maximum iterations (200) reached and the optimization hasn't converged yet.\n",
      "  % self.max_iter, ConvergenceWarning)\n",
      "C:\\Apps\\ProgramFiles\\Continuum\\Anaconda2\\envs\\pablo\\lib\\site-packages\\sklearn\\neural_network\\_multilayer_perceptron.py:571: ConvergenceWarning: Stochastic Optimizer: Maximum iterations (200) reached and the optimization hasn't converged yet.\n",
      "  % self.max_iter, ConvergenceWarning)\n",
      "C:\\Apps\\ProgramFiles\\Continuum\\Anaconda2\\envs\\pablo\\lib\\site-packages\\sklearn\\neural_network\\_multilayer_perceptron.py:571: ConvergenceWarning: Stochastic Optimizer: Maximum iterations (200) reached and the optimization hasn't converged yet.\n",
      "  % self.max_iter, ConvergenceWarning)\n",
      "C:\\Apps\\ProgramFiles\\Continuum\\Anaconda2\\envs\\pablo\\lib\\site-packages\\sklearn\\neural_network\\_multilayer_perceptron.py:571: ConvergenceWarning: Stochastic Optimizer: Maximum iterations (200) reached and the optimization hasn't converged yet.\n",
      "  % self.max_iter, ConvergenceWarning)\n",
      "C:\\Apps\\ProgramFiles\\Continuum\\Anaconda2\\envs\\pablo\\lib\\site-packages\\sklearn\\neural_network\\_multilayer_perceptron.py:571: ConvergenceWarning: Stochastic Optimizer: Maximum iterations (200) reached and the optimization hasn't converged yet.\n",
      "  % self.max_iter, ConvergenceWarning)\n",
      "C:\\Apps\\ProgramFiles\\Continuum\\Anaconda2\\envs\\pablo\\lib\\site-packages\\sklearn\\neural_network\\_multilayer_perceptron.py:571: ConvergenceWarning: Stochastic Optimizer: Maximum iterations (200) reached and the optimization hasn't converged yet.\n",
      "  % self.max_iter, ConvergenceWarning)\n",
      "C:\\Apps\\ProgramFiles\\Continuum\\Anaconda2\\envs\\pablo\\lib\\site-packages\\sklearn\\neural_network\\_multilayer_perceptron.py:571: ConvergenceWarning: Stochastic Optimizer: Maximum iterations (200) reached and the optimization hasn't converged yet.\n",
      "  % self.max_iter, ConvergenceWarning)\n",
      "C:\\Apps\\ProgramFiles\\Continuum\\Anaconda2\\envs\\pablo\\lib\\site-packages\\sklearn\\neural_network\\_multilayer_perceptron.py:571: ConvergenceWarning: Stochastic Optimizer: Maximum iterations (200) reached and the optimization hasn't converged yet.\n",
      "  % self.max_iter, ConvergenceWarning)\n",
      "C:\\Apps\\ProgramFiles\\Continuum\\Anaconda2\\envs\\pablo\\lib\\site-packages\\sklearn\\neural_network\\_multilayer_perceptron.py:571: ConvergenceWarning: Stochastic Optimizer: Maximum iterations (200) reached and the optimization hasn't converged yet.\n",
      "  % self.max_iter, ConvergenceWarning)\n",
      "C:\\Apps\\ProgramFiles\\Continuum\\Anaconda2\\envs\\pablo\\lib\\site-packages\\sklearn\\neural_network\\_multilayer_perceptron.py:571: ConvergenceWarning: Stochastic Optimizer: Maximum iterations (200) reached and the optimization hasn't converged yet.\n",
      "  % self.max_iter, ConvergenceWarning)\n",
      "C:\\Apps\\ProgramFiles\\Continuum\\Anaconda2\\envs\\pablo\\lib\\site-packages\\sklearn\\neural_network\\_multilayer_perceptron.py:571: ConvergenceWarning: Stochastic Optimizer: Maximum iterations (200) reached and the optimization hasn't converged yet.\n",
      "  % self.max_iter, ConvergenceWarning)\n",
      "C:\\Apps\\ProgramFiles\\Continuum\\Anaconda2\\envs\\pablo\\lib\\site-packages\\sklearn\\neural_network\\_multilayer_perceptron.py:571: ConvergenceWarning: Stochastic Optimizer: Maximum iterations (200) reached and the optimization hasn't converged yet.\n",
      "  % self.max_iter, ConvergenceWarning)\n"
     ]
    }
   ],
   "source": [
    "mlp_results={}\n",
    "for n in np.logspace(3,8, num=6,base=2):\n",
    "    mlp_results[n] = mlp_validate(data,labels,(int(n),))"
   ]
  },
  {
   "cell_type": "code",
   "execution_count": 15,
   "metadata": {},
   "outputs": [
    {
     "data": {
      "text/plain": [
       "{8.0: (0.9526993164279782, 0.9232071269487752),\n",
       " 16.0: (0.9910966836953864, 0.9549245236327641),\n",
       " 32.0: (0.9987016427317327, 0.9699480326651819),\n",
       " 64.0: (1.0, 0.9749529819351646),\n",
       " 128.0: (1.0, 0.9771801534273695),\n",
       " 256.0: (1.0, 0.9760678049987627)}"
      ]
     },
     "execution_count": 15,
     "metadata": {},
     "output_type": "execute_result"
    }
   ],
   "source": [
    "mlp_results"
   ]
  },
  {
   "cell_type": "markdown",
   "metadata": {},
   "source": [
    "We ran the model in for loop and can see thhat the best result we could achieve with 128 neurons in hidden layers.\n",
    "### Neural Network with two hidden leayers"
   ]
  },
  {
   "cell_type": "code",
   "execution_count": 17,
   "metadata": {
    "collapsed": true
   },
   "outputs": [
    {
     "name": "stderr",
     "output_type": "stream",
     "text": [
      "C:\\Apps\\ProgramFiles\\Continuum\\Anaconda2\\envs\\pablo\\lib\\site-packages\\sklearn\\neural_network\\_multilayer_perceptron.py:571: ConvergenceWarning: Stochastic Optimizer: Maximum iterations (200) reached and the optimization hasn't converged yet.\n",
      "  % self.max_iter, ConvergenceWarning)\n",
      "C:\\Apps\\ProgramFiles\\Continuum\\Anaconda2\\envs\\pablo\\lib\\site-packages\\sklearn\\neural_network\\_multilayer_perceptron.py:571: ConvergenceWarning: Stochastic Optimizer: Maximum iterations (200) reached and the optimization hasn't converged yet.\n",
      "  % self.max_iter, ConvergenceWarning)\n",
      "C:\\Apps\\ProgramFiles\\Continuum\\Anaconda2\\envs\\pablo\\lib\\site-packages\\sklearn\\neural_network\\_multilayer_perceptron.py:571: ConvergenceWarning: Stochastic Optimizer: Maximum iterations (200) reached and the optimization hasn't converged yet.\n",
      "  % self.max_iter, ConvergenceWarning)\n",
      "C:\\Apps\\ProgramFiles\\Continuum\\Anaconda2\\envs\\pablo\\lib\\site-packages\\sklearn\\neural_network\\_multilayer_perceptron.py:571: ConvergenceWarning: Stochastic Optimizer: Maximum iterations (200) reached and the optimization hasn't converged yet.\n",
      "  % self.max_iter, ConvergenceWarning)\n"
     ]
    }
   ],
   "source": [
    "mlp_two_layers_results= mlp_validate(data,labels,(64,64))"
   ]
  },
  {
   "cell_type": "code",
   "execution_count": 18,
   "metadata": {},
   "outputs": [
    {
     "data": {
      "text/plain": [
       "(1.0, 0.9699492699826775)"
      ]
     },
     "execution_count": 18,
     "metadata": {},
     "output_type": "execute_result"
    }
   ],
   "source": [
    "mlp_two_layers_results"
   ]
  },
  {
   "cell_type": "markdown",
   "metadata": {},
   "source": [
    "### Neural Network with three hidden leayers"
   ]
  },
  {
   "cell_type": "code",
   "execution_count": 19,
   "metadata": {
    "collapsed": true
   },
   "outputs": [
    {
     "name": "stderr",
     "output_type": "stream",
     "text": [
      "C:\\Apps\\ProgramFiles\\Continuum\\Anaconda2\\envs\\pablo\\lib\\site-packages\\sklearn\\neural_network\\_multilayer_perceptron.py:571: ConvergenceWarning: Stochastic Optimizer: Maximum iterations (200) reached and the optimization hasn't converged yet.\n",
      "  % self.max_iter, ConvergenceWarning)\n",
      "C:\\Apps\\ProgramFiles\\Continuum\\Anaconda2\\envs\\pablo\\lib\\site-packages\\sklearn\\neural_network\\_multilayer_perceptron.py:571: ConvergenceWarning: Stochastic Optimizer: Maximum iterations (200) reached and the optimization hasn't converged yet.\n",
      "  % self.max_iter, ConvergenceWarning)\n",
      "C:\\Apps\\ProgramFiles\\Continuum\\Anaconda2\\envs\\pablo\\lib\\site-packages\\sklearn\\neural_network\\_multilayer_perceptron.py:571: ConvergenceWarning: Stochastic Optimizer: Maximum iterations (200) reached and the optimization hasn't converged yet.\n",
      "  % self.max_iter, ConvergenceWarning)\n",
      "C:\\Apps\\ProgramFiles\\Continuum\\Anaconda2\\envs\\pablo\\lib\\site-packages\\sklearn\\neural_network\\_multilayer_perceptron.py:571: ConvergenceWarning: Stochastic Optimizer: Maximum iterations (200) reached and the optimization hasn't converged yet.\n",
      "  % self.max_iter, ConvergenceWarning)\n",
      "C:\\Apps\\ProgramFiles\\Continuum\\Anaconda2\\envs\\pablo\\lib\\site-packages\\sklearn\\neural_network\\_multilayer_perceptron.py:571: ConvergenceWarning: Stochastic Optimizer: Maximum iterations (200) reached and the optimization hasn't converged yet.\n",
      "  % self.max_iter, ConvergenceWarning)\n",
      "C:\\Apps\\ProgramFiles\\Continuum\\Anaconda2\\envs\\pablo\\lib\\site-packages\\sklearn\\neural_network\\_multilayer_perceptron.py:571: ConvergenceWarning: Stochastic Optimizer: Maximum iterations (200) reached and the optimization hasn't converged yet.\n",
      "  % self.max_iter, ConvergenceWarning)\n",
      "C:\\Apps\\ProgramFiles\\Continuum\\Anaconda2\\envs\\pablo\\lib\\site-packages\\sklearn\\neural_network\\_multilayer_perceptron.py:571: ConvergenceWarning: Stochastic Optimizer: Maximum iterations (200) reached and the optimization hasn't converged yet.\n",
      "  % self.max_iter, ConvergenceWarning)\n",
      "C:\\Apps\\ProgramFiles\\Continuum\\Anaconda2\\envs\\pablo\\lib\\site-packages\\sklearn\\neural_network\\_multilayer_perceptron.py:571: ConvergenceWarning: Stochastic Optimizer: Maximum iterations (200) reached and the optimization hasn't converged yet.\n",
      "  % self.max_iter, ConvergenceWarning)\n",
      "C:\\Apps\\ProgramFiles\\Continuum\\Anaconda2\\envs\\pablo\\lib\\site-packages\\sklearn\\neural_network\\_multilayer_perceptron.py:571: ConvergenceWarning: Stochastic Optimizer: Maximum iterations (200) reached and the optimization hasn't converged yet.\n",
      "  % self.max_iter, ConvergenceWarning)\n",
      "C:\\Apps\\ProgramFiles\\Continuum\\Anaconda2\\envs\\pablo\\lib\\site-packages\\sklearn\\neural_network\\_multilayer_perceptron.py:571: ConvergenceWarning: Stochastic Optimizer: Maximum iterations (200) reached and the optimization hasn't converged yet.\n",
      "  % self.max_iter, ConvergenceWarning)\n",
      "C:\\Apps\\ProgramFiles\\Continuum\\Anaconda2\\envs\\pablo\\lib\\site-packages\\sklearn\\neural_network\\_multilayer_perceptron.py:571: ConvergenceWarning: Stochastic Optimizer: Maximum iterations (200) reached and the optimization hasn't converged yet.\n",
      "  % self.max_iter, ConvergenceWarning)\n",
      "C:\\Apps\\ProgramFiles\\Continuum\\Anaconda2\\envs\\pablo\\lib\\site-packages\\sklearn\\neural_network\\_multilayer_perceptron.py:571: ConvergenceWarning: Stochastic Optimizer: Maximum iterations (200) reached and the optimization hasn't converged yet.\n",
      "  % self.max_iter, ConvergenceWarning)\n",
      "C:\\Apps\\ProgramFiles\\Continuum\\Anaconda2\\envs\\pablo\\lib\\site-packages\\sklearn\\neural_network\\_multilayer_perceptron.py:571: ConvergenceWarning: Stochastic Optimizer: Maximum iterations (200) reached and the optimization hasn't converged yet.\n",
      "  % self.max_iter, ConvergenceWarning)\n"
     ]
    }
   ],
   "source": [
    "mlp_three_layers_results= {}\n",
    "for n in [10,30,64,128]:\n",
    "    mlp_three_layers_results[n] = mlp_validate(data,labels,(n,n,n),6)"
   ]
  },
  {
   "cell_type": "code",
   "execution_count": 20,
   "metadata": {},
   "outputs": [
    {
     "data": {
      "text/plain": [
       "{10: (0.7139925898377381, 0.6314790040876997),\n",
       " 30: (0.9989982932784424, 0.9449293942772204),\n",
       " 64: (1.0, 0.9638331475287997),\n",
       " 128: (1.0, 0.9744017094017093)}"
      ]
     },
     "execution_count": 20,
     "metadata": {},
     "output_type": "execute_result"
    }
   ],
   "source": [
    "mlp_three_layers_results"
   ]
  },
  {
   "cell_type": "markdown",
   "metadata": {},
   "source": [
    "As we can see there is quite hard to find the best hyperparameters insted of doing this manually we can use Grid search to do it for us.\n",
    "\n",
    "## Grid Search - hyperparameters selection"
   ]
  },
  {
   "cell_type": "code",
   "execution_count": 24,
   "metadata": {},
   "outputs": [],
   "source": [
    "def select_model(data,labels):\n",
    "    all_X = data\n",
    "    all_y = labels\n",
    "    models = [\n",
    "        {\n",
    "            'name':'KNeighborsClassifier',\n",
    "            'estimator': KNeighborsClassifier(),\n",
    "            'hyperparameters':\n",
    "            {\n",
    "                'n_neighbors': range(1,20),\n",
    "                'weights': ['distance','uniform'],\n",
    "                'algorithm': ['ball_tree','kd_tree','brute'],\n",
    "                'p': [1,2]\n",
    "            }\n",
    "        },\n",
    "        {\n",
    "            'name':'LogisticRegression',\n",
    "            'estimator': LogisticRegression(),\n",
    "            'hyperparameters':\n",
    "            {\n",
    "                'solver':['newton-cg', 'lbfgs', 'liblinear'],\n",
    "                'class_weight': [None,'balanced']\n",
    "            }\n",
    "        },\n",
    "        {\n",
    "            'name':'RandomForestClassifier',\n",
    "            'estimator': RandomForestClassifier(random_state=1),\n",
    "            'hyperparameters':\n",
    "            {\n",
    "                'n_estimators': [10,20,30,50],\n",
    "                'criterion': ['entropy','gini'],\n",
    "                'max_depth': [2,5,6,8,10],\n",
    "                'max_features': ['log2','sqrt'],\n",
    "                'min_samples_leaf': [1,2,3,5,8],\n",
    "                'class_weight': [None,'balanced']\n",
    "            }\n",
    "        },\n",
    "        {\n",
    "            'name':'MLPClassifier',\n",
    "            'estimator': MLPClassifier(),\n",
    "            'hyperparameters':\n",
    "            {\n",
    "                'hidden_layer_sizes':[(16,),(16,16),(16,16,16)],\n",
    "                'activation': ['logistic','relu'],\n",
    "                'max_iter':[200,1000]\n",
    "            }\n",
    "        }\n",
    "\n",
    "            ]\n",
    "    best_model =[]\n",
    "    for model in models:\n",
    "        model_perf={}\n",
    "        grid = GridSearchCV(model['estimator'],model['hyperparameters'],cv=5)\n",
    "        grid.fit(all_X, all_y)\n",
    "        model_perf['score'] = grid.best_score_\n",
    "#         model_perf['variance'] = grid.cv_results_['std_test_score']\n",
    "        model_perf['params'] = grid.best_params_\n",
    "        model_perf['estimator'] = grid.best_estimator_\n",
    "        best_model.append(model_perf)\n",
    "    return best_model"
   ]
  },
  {
   "cell_type": "code",
   "execution_count": 25,
   "metadata": {
    "collapsed": true
   },
   "outputs": [
    {
     "name": "stderr",
     "output_type": "stream",
     "text": [
      "C:\\Apps\\ProgramFiles\\Continuum\\Anaconda2\\envs\\pablo\\lib\\site-packages\\sklearn\\linear_model\\_logistic.py:940: ConvergenceWarning: lbfgs failed to converge (status=1):\n",
      "STOP: TOTAL NO. of ITERATIONS REACHED LIMIT.\n",
      "\n",
      "Increase the number of iterations (max_iter) or scale the data as shown in:\n",
      "    https://scikit-learn.org/stable/modules/preprocessing.html\n",
      "Please also refer to the documentation for alternative solver options:\n",
      "    https://scikit-learn.org/stable/modules/linear_model.html#logistic-regression\n",
      "  extra_warning_msg=_LOGISTIC_SOLVER_CONVERGENCE_MSG)\n",
      "C:\\Apps\\ProgramFiles\\Continuum\\Anaconda2\\envs\\pablo\\lib\\site-packages\\sklearn\\linear_model\\_logistic.py:940: ConvergenceWarning: lbfgs failed to converge (status=1):\n",
      "STOP: TOTAL NO. of ITERATIONS REACHED LIMIT.\n",
      "\n",
      "Increase the number of iterations (max_iter) or scale the data as shown in:\n",
      "    https://scikit-learn.org/stable/modules/preprocessing.html\n",
      "Please also refer to the documentation for alternative solver options:\n",
      "    https://scikit-learn.org/stable/modules/linear_model.html#logistic-regression\n",
      "  extra_warning_msg=_LOGISTIC_SOLVER_CONVERGENCE_MSG)\n",
      "C:\\Apps\\ProgramFiles\\Continuum\\Anaconda2\\envs\\pablo\\lib\\site-packages\\sklearn\\linear_model\\_logistic.py:940: ConvergenceWarning: lbfgs failed to converge (status=1):\n",
      "STOP: TOTAL NO. of ITERATIONS REACHED LIMIT.\n",
      "\n",
      "Increase the number of iterations (max_iter) or scale the data as shown in:\n",
      "    https://scikit-learn.org/stable/modules/preprocessing.html\n",
      "Please also refer to the documentation for alternative solver options:\n",
      "    https://scikit-learn.org/stable/modules/linear_model.html#logistic-regression\n",
      "  extra_warning_msg=_LOGISTIC_SOLVER_CONVERGENCE_MSG)\n",
      "C:\\Apps\\ProgramFiles\\Continuum\\Anaconda2\\envs\\pablo\\lib\\site-packages\\sklearn\\linear_model\\_logistic.py:940: ConvergenceWarning: lbfgs failed to converge (status=1):\n",
      "STOP: TOTAL NO. of ITERATIONS REACHED LIMIT.\n",
      "\n",
      "Increase the number of iterations (max_iter) or scale the data as shown in:\n",
      "    https://scikit-learn.org/stable/modules/preprocessing.html\n",
      "Please also refer to the documentation for alternative solver options:\n",
      "    https://scikit-learn.org/stable/modules/linear_model.html#logistic-regression\n",
      "  extra_warning_msg=_LOGISTIC_SOLVER_CONVERGENCE_MSG)\n",
      "C:\\Apps\\ProgramFiles\\Continuum\\Anaconda2\\envs\\pablo\\lib\\site-packages\\sklearn\\linear_model\\_logistic.py:940: ConvergenceWarning: lbfgs failed to converge (status=1):\n",
      "STOP: TOTAL NO. of ITERATIONS REACHED LIMIT.\n",
      "\n",
      "Increase the number of iterations (max_iter) or scale the data as shown in:\n",
      "    https://scikit-learn.org/stable/modules/preprocessing.html\n",
      "Please also refer to the documentation for alternative solver options:\n",
      "    https://scikit-learn.org/stable/modules/linear_model.html#logistic-regression\n",
      "  extra_warning_msg=_LOGISTIC_SOLVER_CONVERGENCE_MSG)\n",
      "C:\\Apps\\ProgramFiles\\Continuum\\Anaconda2\\envs\\pablo\\lib\\site-packages\\sklearn\\linear_model\\_logistic.py:940: ConvergenceWarning: lbfgs failed to converge (status=1):\n",
      "STOP: TOTAL NO. of ITERATIONS REACHED LIMIT.\n",
      "\n",
      "Increase the number of iterations (max_iter) or scale the data as shown in:\n",
      "    https://scikit-learn.org/stable/modules/preprocessing.html\n",
      "Please also refer to the documentation for alternative solver options:\n",
      "    https://scikit-learn.org/stable/modules/linear_model.html#logistic-regression\n",
      "  extra_warning_msg=_LOGISTIC_SOLVER_CONVERGENCE_MSG)\n",
      "C:\\Apps\\ProgramFiles\\Continuum\\Anaconda2\\envs\\pablo\\lib\\site-packages\\sklearn\\linear_model\\_logistic.py:940: ConvergenceWarning: lbfgs failed to converge (status=1):\n",
      "STOP: TOTAL NO. of ITERATIONS REACHED LIMIT.\n",
      "\n",
      "Increase the number of iterations (max_iter) or scale the data as shown in:\n",
      "    https://scikit-learn.org/stable/modules/preprocessing.html\n",
      "Please also refer to the documentation for alternative solver options:\n",
      "    https://scikit-learn.org/stable/modules/linear_model.html#logistic-regression\n",
      "  extra_warning_msg=_LOGISTIC_SOLVER_CONVERGENCE_MSG)\n",
      "C:\\Apps\\ProgramFiles\\Continuum\\Anaconda2\\envs\\pablo\\lib\\site-packages\\sklearn\\linear_model\\_logistic.py:940: ConvergenceWarning: lbfgs failed to converge (status=1):\n",
      "STOP: TOTAL NO. of ITERATIONS REACHED LIMIT.\n",
      "\n",
      "Increase the number of iterations (max_iter) or scale the data as shown in:\n",
      "    https://scikit-learn.org/stable/modules/preprocessing.html\n",
      "Please also refer to the documentation for alternative solver options:\n",
      "    https://scikit-learn.org/stable/modules/linear_model.html#logistic-regression\n",
      "  extra_warning_msg=_LOGISTIC_SOLVER_CONVERGENCE_MSG)\n",
      "C:\\Apps\\ProgramFiles\\Continuum\\Anaconda2\\envs\\pablo\\lib\\site-packages\\sklearn\\linear_model\\_logistic.py:940: ConvergenceWarning: lbfgs failed to converge (status=1):\n",
      "STOP: TOTAL NO. of ITERATIONS REACHED LIMIT.\n",
      "\n",
      "Increase the number of iterations (max_iter) or scale the data as shown in:\n",
      "    https://scikit-learn.org/stable/modules/preprocessing.html\n",
      "Please also refer to the documentation for alternative solver options:\n",
      "    https://scikit-learn.org/stable/modules/linear_model.html#logistic-regression\n",
      "  extra_warning_msg=_LOGISTIC_SOLVER_CONVERGENCE_MSG)\n",
      "C:\\Apps\\ProgramFiles\\Continuum\\Anaconda2\\envs\\pablo\\lib\\site-packages\\sklearn\\linear_model\\_logistic.py:940: ConvergenceWarning: lbfgs failed to converge (status=1):\n",
      "STOP: TOTAL NO. of ITERATIONS REACHED LIMIT.\n",
      "\n",
      "Increase the number of iterations (max_iter) or scale the data as shown in:\n",
      "    https://scikit-learn.org/stable/modules/preprocessing.html\n",
      "Please also refer to the documentation for alternative solver options:\n",
      "    https://scikit-learn.org/stable/modules/linear_model.html#logistic-regression\n",
      "  extra_warning_msg=_LOGISTIC_SOLVER_CONVERGENCE_MSG)\n",
      "C:\\Apps\\ProgramFiles\\Continuum\\Anaconda2\\envs\\pablo\\lib\\site-packages\\sklearn\\neural_network\\_multilayer_perceptron.py:571: ConvergenceWarning: Stochastic Optimizer: Maximum iterations (200) reached and the optimization hasn't converged yet.\n",
      "  % self.max_iter, ConvergenceWarning)\n",
      "C:\\Apps\\ProgramFiles\\Continuum\\Anaconda2\\envs\\pablo\\lib\\site-packages\\sklearn\\neural_network\\_multilayer_perceptron.py:571: ConvergenceWarning: Stochastic Optimizer: Maximum iterations (200) reached and the optimization hasn't converged yet.\n",
      "  % self.max_iter, ConvergenceWarning)\n",
      "C:\\Apps\\ProgramFiles\\Continuum\\Anaconda2\\envs\\pablo\\lib\\site-packages\\sklearn\\neural_network\\_multilayer_perceptron.py:571: ConvergenceWarning: Stochastic Optimizer: Maximum iterations (200) reached and the optimization hasn't converged yet.\n",
      "  % self.max_iter, ConvergenceWarning)\n",
      "C:\\Apps\\ProgramFiles\\Continuum\\Anaconda2\\envs\\pablo\\lib\\site-packages\\sklearn\\neural_network\\_multilayer_perceptron.py:571: ConvergenceWarning: Stochastic Optimizer: Maximum iterations (200) reached and the optimization hasn't converged yet.\n",
      "  % self.max_iter, ConvergenceWarning)\n",
      "C:\\Apps\\ProgramFiles\\Continuum\\Anaconda2\\envs\\pablo\\lib\\site-packages\\sklearn\\neural_network\\_multilayer_perceptron.py:571: ConvergenceWarning: Stochastic Optimizer: Maximum iterations (200) reached and the optimization hasn't converged yet.\n",
      "  % self.max_iter, ConvergenceWarning)\n",
      "C:\\Apps\\ProgramFiles\\Continuum\\Anaconda2\\envs\\pablo\\lib\\site-packages\\sklearn\\neural_network\\_multilayer_perceptron.py:571: ConvergenceWarning: Stochastic Optimizer: Maximum iterations (200) reached and the optimization hasn't converged yet.\n",
      "  % self.max_iter, ConvergenceWarning)\n",
      "C:\\Apps\\ProgramFiles\\Continuum\\Anaconda2\\envs\\pablo\\lib\\site-packages\\sklearn\\neural_network\\_multilayer_perceptron.py:571: ConvergenceWarning: Stochastic Optimizer: Maximum iterations (200) reached and the optimization hasn't converged yet.\n",
      "  % self.max_iter, ConvergenceWarning)\n",
      "C:\\Apps\\ProgramFiles\\Continuum\\Anaconda2\\envs\\pablo\\lib\\site-packages\\sklearn\\neural_network\\_multilayer_perceptron.py:571: ConvergenceWarning: Stochastic Optimizer: Maximum iterations (200) reached and the optimization hasn't converged yet.\n",
      "  % self.max_iter, ConvergenceWarning)\n",
      "C:\\Apps\\ProgramFiles\\Continuum\\Anaconda2\\envs\\pablo\\lib\\site-packages\\sklearn\\neural_network\\_multilayer_perceptron.py:571: ConvergenceWarning: Stochastic Optimizer: Maximum iterations (200) reached and the optimization hasn't converged yet.\n",
      "  % self.max_iter, ConvergenceWarning)\n",
      "C:\\Apps\\ProgramFiles\\Continuum\\Anaconda2\\envs\\pablo\\lib\\site-packages\\sklearn\\neural_network\\_multilayer_perceptron.py:571: ConvergenceWarning: Stochastic Optimizer: Maximum iterations (200) reached and the optimization hasn't converged yet.\n",
      "  % self.max_iter, ConvergenceWarning)\n"
     ]
    },
    {
     "name": "stderr",
     "output_type": "stream",
     "text": [
      "C:\\Apps\\ProgramFiles\\Continuum\\Anaconda2\\envs\\pablo\\lib\\site-packages\\sklearn\\neural_network\\_multilayer_perceptron.py:571: ConvergenceWarning: Stochastic Optimizer: Maximum iterations (200) reached and the optimization hasn't converged yet.\n",
      "  % self.max_iter, ConvergenceWarning)\n",
      "C:\\Apps\\ProgramFiles\\Continuum\\Anaconda2\\envs\\pablo\\lib\\site-packages\\sklearn\\neural_network\\_multilayer_perceptron.py:571: ConvergenceWarning: Stochastic Optimizer: Maximum iterations (200) reached and the optimization hasn't converged yet.\n",
      "  % self.max_iter, ConvergenceWarning)\n",
      "C:\\Apps\\ProgramFiles\\Continuum\\Anaconda2\\envs\\pablo\\lib\\site-packages\\sklearn\\neural_network\\_multilayer_perceptron.py:571: ConvergenceWarning: Stochastic Optimizer: Maximum iterations (200) reached and the optimization hasn't converged yet.\n",
      "  % self.max_iter, ConvergenceWarning)\n",
      "C:\\Apps\\ProgramFiles\\Continuum\\Anaconda2\\envs\\pablo\\lib\\site-packages\\sklearn\\neural_network\\_multilayer_perceptron.py:571: ConvergenceWarning: Stochastic Optimizer: Maximum iterations (200) reached and the optimization hasn't converged yet.\n",
      "  % self.max_iter, ConvergenceWarning)\n",
      "C:\\Apps\\ProgramFiles\\Continuum\\Anaconda2\\envs\\pablo\\lib\\site-packages\\sklearn\\neural_network\\_multilayer_perceptron.py:571: ConvergenceWarning: Stochastic Optimizer: Maximum iterations (200) reached and the optimization hasn't converged yet.\n",
      "  % self.max_iter, ConvergenceWarning)\n",
      "C:\\Apps\\ProgramFiles\\Continuum\\Anaconda2\\envs\\pablo\\lib\\site-packages\\sklearn\\neural_network\\_multilayer_perceptron.py:571: ConvergenceWarning: Stochastic Optimizer: Maximum iterations (200) reached and the optimization hasn't converged yet.\n",
      "  % self.max_iter, ConvergenceWarning)\n",
      "C:\\Apps\\ProgramFiles\\Continuum\\Anaconda2\\envs\\pablo\\lib\\site-packages\\sklearn\\neural_network\\_multilayer_perceptron.py:571: ConvergenceWarning: Stochastic Optimizer: Maximum iterations (200) reached and the optimization hasn't converged yet.\n",
      "  % self.max_iter, ConvergenceWarning)\n",
      "C:\\Apps\\ProgramFiles\\Continuum\\Anaconda2\\envs\\pablo\\lib\\site-packages\\sklearn\\neural_network\\_multilayer_perceptron.py:571: ConvergenceWarning: Stochastic Optimizer: Maximum iterations (200) reached and the optimization hasn't converged yet.\n",
      "  % self.max_iter, ConvergenceWarning)\n",
      "C:\\Apps\\ProgramFiles\\Continuum\\Anaconda2\\envs\\pablo\\lib\\site-packages\\sklearn\\neural_network\\_multilayer_perceptron.py:571: ConvergenceWarning: Stochastic Optimizer: Maximum iterations (200) reached and the optimization hasn't converged yet.\n",
      "  % self.max_iter, ConvergenceWarning)\n",
      "C:\\Apps\\ProgramFiles\\Continuum\\Anaconda2\\envs\\pablo\\lib\\site-packages\\sklearn\\neural_network\\_multilayer_perceptron.py:571: ConvergenceWarning: Stochastic Optimizer: Maximum iterations (200) reached and the optimization hasn't converged yet.\n",
      "  % self.max_iter, ConvergenceWarning)\n",
      "C:\\Apps\\ProgramFiles\\Continuum\\Anaconda2\\envs\\pablo\\lib\\site-packages\\sklearn\\neural_network\\_multilayer_perceptron.py:571: ConvergenceWarning: Stochastic Optimizer: Maximum iterations (200) reached and the optimization hasn't converged yet.\n",
      "  % self.max_iter, ConvergenceWarning)\n",
      "C:\\Apps\\ProgramFiles\\Continuum\\Anaconda2\\envs\\pablo\\lib\\site-packages\\sklearn\\neural_network\\_multilayer_perceptron.py:571: ConvergenceWarning: Stochastic Optimizer: Maximum iterations (200) reached and the optimization hasn't converged yet.\n",
      "  % self.max_iter, ConvergenceWarning)\n",
      "C:\\Apps\\ProgramFiles\\Continuum\\Anaconda2\\envs\\pablo\\lib\\site-packages\\sklearn\\neural_network\\_multilayer_perceptron.py:571: ConvergenceWarning: Stochastic Optimizer: Maximum iterations (200) reached and the optimization hasn't converged yet.\n",
      "  % self.max_iter, ConvergenceWarning)\n",
      "C:\\Apps\\ProgramFiles\\Continuum\\Anaconda2\\envs\\pablo\\lib\\site-packages\\sklearn\\neural_network\\_multilayer_perceptron.py:571: ConvergenceWarning: Stochastic Optimizer: Maximum iterations (200) reached and the optimization hasn't converged yet.\n",
      "  % self.max_iter, ConvergenceWarning)\n",
      "C:\\Apps\\ProgramFiles\\Continuum\\Anaconda2\\envs\\pablo\\lib\\site-packages\\sklearn\\neural_network\\_multilayer_perceptron.py:571: ConvergenceWarning: Stochastic Optimizer: Maximum iterations (200) reached and the optimization hasn't converged yet.\n",
      "  % self.max_iter, ConvergenceWarning)\n",
      "C:\\Apps\\ProgramFiles\\Continuum\\Anaconda2\\envs\\pablo\\lib\\site-packages\\sklearn\\neural_network\\_multilayer_perceptron.py:571: ConvergenceWarning: Stochastic Optimizer: Maximum iterations (200) reached and the optimization hasn't converged yet.\n",
      "  % self.max_iter, ConvergenceWarning)\n",
      "C:\\Apps\\ProgramFiles\\Continuum\\Anaconda2\\envs\\pablo\\lib\\site-packages\\sklearn\\neural_network\\_multilayer_perceptron.py:571: ConvergenceWarning: Stochastic Optimizer: Maximum iterations (200) reached and the optimization hasn't converged yet.\n",
      "  % self.max_iter, ConvergenceWarning)\n",
      "C:\\Apps\\ProgramFiles\\Continuum\\Anaconda2\\envs\\pablo\\lib\\site-packages\\sklearn\\neural_network\\_multilayer_perceptron.py:571: ConvergenceWarning: Stochastic Optimizer: Maximum iterations (200) reached and the optimization hasn't converged yet.\n",
      "  % self.max_iter, ConvergenceWarning)\n",
      "C:\\Apps\\ProgramFiles\\Continuum\\Anaconda2\\envs\\pablo\\lib\\site-packages\\sklearn\\neural_network\\_multilayer_perceptron.py:571: ConvergenceWarning: Stochastic Optimizer: Maximum iterations (200) reached and the optimization hasn't converged yet.\n",
      "  % self.max_iter, ConvergenceWarning)\n"
     ]
    }
   ],
   "source": [
    "results = select_model(data,labels)"
   ]
  },
  {
   "cell_type": "code",
   "execution_count": 26,
   "metadata": {},
   "outputs": [
    {
     "data": {
      "text/plain": [
       "[{'score': 0.9671742494583719,\n",
       "  'params': {'algorithm': 'ball_tree',\n",
       "   'n_neighbors': 4,\n",
       "   'p': 2,\n",
       "   'weights': 'distance'},\n",
       "  'estimator': KNeighborsClassifier(algorithm='ball_tree', leaf_size=30, metric='minkowski',\n",
       "                       metric_params=None, n_jobs=None, n_neighbors=4, p=2,\n",
       "                       weights='distance')},\n",
       " {'score': 0.9221138966264315,\n",
       "  'params': {'class_weight': None, 'solver': 'liblinear'},\n",
       "  'estimator': LogisticRegression(C=1.0, class_weight=None, dual=False, fit_intercept=True,\n",
       "                     intercept_scaling=1, l1_ratio=None, max_iter=100,\n",
       "                     multi_class='auto', n_jobs=None, penalty='l2',\n",
       "                     random_state=None, solver='liblinear', tol=0.0001, verbose=0,\n",
       "                     warm_start=False)},\n",
       " {'score': 0.9410290931600123,\n",
       "  'params': {'class_weight': None,\n",
       "   'criterion': 'entropy',\n",
       "   'max_depth': 10,\n",
       "   'max_features': 'log2',\n",
       "   'min_samples_leaf': 1,\n",
       "   'n_estimators': 50},\n",
       "  'estimator': RandomForestClassifier(bootstrap=True, ccp_alpha=0.0, class_weight=None,\n",
       "                         criterion='entropy', max_depth=10, max_features='log2',\n",
       "                         max_leaf_nodes=None, max_samples=None,\n",
       "                         min_impurity_decrease=0.0, min_impurity_split=None,\n",
       "                         min_samples_leaf=1, min_samples_split=2,\n",
       "                         min_weight_fraction_leaf=0.0, n_estimators=50,\n",
       "                         n_jobs=None, oob_score=False, random_state=1, verbose=0,\n",
       "                         warm_start=False)},\n",
       " {'score': 0.9215397709687403,\n",
       "  'params': {'activation': 'logistic',\n",
       "   'hidden_layer_sizes': (16,),\n",
       "   'max_iter': 1000},\n",
       "  'estimator': MLPClassifier(activation='logistic', alpha=0.0001, batch_size='auto',\n",
       "                beta_1=0.9, beta_2=0.999, early_stopping=False, epsilon=1e-08,\n",
       "                hidden_layer_sizes=(16,), learning_rate='constant',\n",
       "                learning_rate_init=0.001, max_fun=15000, max_iter=1000,\n",
       "                momentum=0.9, n_iter_no_change=10, nesterovs_momentum=True,\n",
       "                power_t=0.5, random_state=None, shuffle=True, solver='adam',\n",
       "                tol=0.0001, validation_fraction=0.1, verbose=False,\n",
       "                warm_start=False)}]"
      ]
     },
     "execution_count": 26,
     "metadata": {},
     "output_type": "execute_result"
    }
   ],
   "source": [
    "results"
   ]
  },
  {
   "cell_type": "markdown",
   "metadata": {},
   "source": [
    "The best score we got using KNeighborsClassifier. MLPClassifier was the worst one lets visualize its weights."
   ]
  },
  {
   "cell_type": "markdown",
   "metadata": {},
   "source": [
    "## Visualization of MLP weights "
   ]
  },
  {
   "cell_type": "code",
   "execution_count": 37,
   "metadata": {},
   "outputs": [
    {
     "data": {
      "image/png": "[encoded data removed]",
      "text/plain": [
       "<Figure size 432x288 with 16 Axes>"
      ]
     },
     "metadata": {},
     "output_type": "display_data"
    }
   ],
   "source": [
    "fig, axes = plt.subplots(4, 4)\n",
    "# use global min / max to ensure all weights are shown on the same scale\n",
    "estimator = results[-1]['estimator']\n",
    "vmin, vmax = estimator.coefs_[0].min(), estimator.coefs_[0].max()\n",
    "for coef, ax in zip(estimator.coefs_[0].T, axes.ravel()):\n",
    "    ax.matshow(coef.reshape(8, 8), cmap=plt.cm.gray, vmin=.5 * vmin,\n",
    "               vmax=.5 * vmax)\n",
    "    ax.set_xticks(())\n",
    "    ax.set_yticks(())\n",
    "    \n",
    "plt.show()"
   ]
  }
 ],
 "metadata": {
  "anaconda-cloud": {},
  "kernelspec": {
   "display_name": "Python 3",
   "language": "python",
   "name": "python3"
  },
  "language_info": {
   "codemirror_mode": {
    "name": "ipython",
    "version": 3
   },
   "file_extension": ".py",
   "mimetype": "text/x-python",
   "name": "python",
   "nbconvert_exporter": "python",
   "pygments_lexer": "ipython3",
   "version": "3.6.9"
  }
 },
 "nbformat": 4,
 "nbformat_minor": 2
}
