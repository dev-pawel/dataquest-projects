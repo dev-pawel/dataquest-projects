{
 "cells": [
  {
   "cell_type": "markdown",
   "metadata": {},
   "source": [
    "# Finding best time to publish post on Hacker news to get more audience"
   ]
  },
  {
   "cell_type": "markdown",
   "metadata": {},
   "source": [
    "## Introduction\n",
    "\n",
    "In this project we'll aim to find the best time to populate our post on [Hacker News](https://news.ycombinator.com/). This is a popular webside where users can publish technology related stories and vote or comment them. We are going to explore two types of posts **Ask HN** or **Show HN** which are prefixes for each post in which the user is asking some question and when the user is discribing some new idea respectively. \n",
    "\n",
    "We will work on **hacker_news.csv** dataset which can be downloaded at [Link](https://www.kaggle.com/hacker-news/hacker-news-posts/version/1). To make our recommendation we are going to find out:\n",
    "- What type of post recieve more comments on average?\n",
    "- What type of post recieve more comments on average?\n",
    "- Do posts created at a certain time recieve more comments on average?\n",
    "\n",
    "### Summary of results\n",
    "\n",
    "After analyzing the data, we could conclude that the best time to populate your post on Hacker news is 21:00 EST time zone.\n",
    "\n",
    "For more details, please refer to the full analysis below."
   ]
  },
  {
   "cell_type": "markdown",
   "metadata": {},
   "source": [
    "## Data analysis\n",
    "\n",
    "### Importing data and removing header\n",
    "We will start from importing **csv** module and constructing the list with our data."
   ]
  },
  {
   "cell_type": "code",
   "execution_count": 3,
   "metadata": {},
   "outputs": [
    {
     "name": "stdout",
     "output_type": "stream",
     "text": [
      "['id', 'title', 'url', 'num_points', 'num_comments', 'author', 'created_at']\n",
      "[['12224879', 'Interactive Dynamic Video', 'http://www.interactivedynamicvideo.com/', '386', '52', 'ne0phyte', '8/4/2016 11:52'], ['10975351', 'How to Use Open Source and Shut the Fuck Up at the Same Time', 'http://hueniverse.com/2016/01/26/how-to-use-open-source-and-shut-the-fuck-up-at-the-same-time/', '39', '10', 'josep2', '1/26/2016 19:30'], ['11964716', \"Florida DJs May Face Felony for April Fools' Water Joke\", 'http://www.thewire.com/entertainment/2013/04/florida-djs-april-fools-water-joke/63798/', '2', '1', 'vezycash', '6/23/2016 22:20']]\n"
     ]
    }
   ],
   "source": [
    "from csv import reader\n",
    "import datetime as dt\n",
    "\n",
    "openObj=open('data//hacker_news.csv', encoding=\"utf-8\")\n",
    "hn=list(reader(openObj))\n",
    "\n",
    "# Serarating header from data\n",
    "headers=hn[0]\n",
    "hn=hn[1:]\n",
    "print(headers)\n",
    "print(hn[0:3])"
   ]
  },
  {
   "cell_type": "markdown",
   "metadata": {},
   "source": [
    "Here we have imported our dataset and separeted the header from the data. We printed a first few line of our data. Now lets split our posts into 3 categories: **ask_posts**, **show_posts** and **other_posts**. \n",
    "\n",
    "### Spliting posts into 3 categories"
   ]
  },
  {
   "cell_type": "code",
   "execution_count": 4,
   "metadata": {},
   "outputs": [
    {
     "name": "stdout",
     "output_type": "stream",
     "text": [
      "1162 1744 17194\n"
     ]
    }
   ],
   "source": [
    "ask_posts=[]\n",
    "show_posts=[]\n",
    "other_posts=[]\n",
    "\n",
    "for row in hn:\n",
    "    title=row[1]\n",
    "    \n",
    "    # Building a list of show type posts\n",
    "    if title.lower().startswith('show hn'):\n",
    "        show_posts.append(row)              \n",
    "    \n",
    "    # Building a list of ask type posts\n",
    "    elif title.lower().startswith('ask hn'):\n",
    "        ask_posts.append(row)\n",
    "    \n",
    "    # Keeping the rest post in the other post list\n",
    "    else:\n",
    "        other_posts.append(row)\n",
    "        \n",
    "print(len(show_posts),len(ask_posts),len(other_posts))"
   ]
  },
  {
   "cell_type": "markdown",
   "metadata": {},
   "source": [
    "We are interested in **ask_posts** and **show_posts** type comments. As we can see the first type of questions appears **1162** times in our dataset and the second type **1744** times. The rest is other category.\n",
    "\n",
    "### Counting the average number of posts per category"
   ]
  },
  {
   "cell_type": "code",
   "execution_count": 5,
   "metadata": {},
   "outputs": [
    {
     "name": "stdout",
     "output_type": "stream",
     "text": [
      "14\n"
     ]
    }
   ],
   "source": [
    "total_ask_comments=0\n",
    "\n",
    "# Calculating the total number of comments for ask posts\n",
    "for row in ask_posts:\n",
    "    total_ask_comments+=int(row[4])\n",
    "\n",
    "# Calculating the average number of commenst per post\n",
    "avg_ask_comments=total_ask_comments/len(ask_posts)\n",
    "print(round(avg_ask_comments))"
   ]
  },
  {
   "cell_type": "code",
   "execution_count": 6,
   "metadata": {},
   "outputs": [
    {
     "name": "stdout",
     "output_type": "stream",
     "text": [
      "10\n"
     ]
    }
   ],
   "source": [
    "total_show_comments=0\n",
    "\n",
    "for row in show_posts:\n",
    "    total_show_comments+=int(row[4])\n",
    "    \n",
    "avg_show_comments=total_show_comments/len(show_posts)\n",
    "print(round(avg_show_comments))"
   ]
  },
  {
   "cell_type": "markdown",
   "metadata": {},
   "source": [
    "Here we sum the number of comments for both **ask_posts** and **show_posts** lists. We can compare the average number of comments per post in this two groups. As we can see on average more comments are populated under ask type post then when users are showing something. Lets compare that with the other type of posts."
   ]
  },
  {
   "cell_type": "code",
   "execution_count": 70,
   "metadata": {},
   "outputs": [
    {
     "name": "stdout",
     "output_type": "stream",
     "text": [
      "27\n"
     ]
    }
   ],
   "source": [
    "total_other_comments=0\n",
    "\n",
    "for row in other_posts:\n",
    "    total_other_comments+=int(row[4])\n",
    "    \n",
    "avg_other_comments=total_other_comments/len(other_posts)\n",
    "print(round(avg_other_comments))"
   ]
  },
  {
   "cell_type": "markdown",
   "metadata": {},
   "source": [
    "We can see that the most commented posts are other type of posts. \\\n",
    "Note:\\\n",
    "We could also check the distribution here. Analysing if in any of these groups are some single top commented posts which can interfer our results."
   ]
  },
  {
   "cell_type": "markdown",
   "metadata": {},
   "source": [
    "### Counting the average number of comments for ask posts per hour \n",
    "\n",
    "Lets now focus on **ask_posts** group only. Lets calculate the number of comments given at specific hours."
   ]
  },
  {
   "cell_type": "code",
   "execution_count": 7,
   "metadata": {},
   "outputs": [],
   "source": [
    "result_list=[]\n",
    "\n",
    "# Creating the list with the date of published posts and number of comments\n",
    "for post in ask_posts:\n",
    "    result_list.append([post[6],int(post[4])])\n",
    "\n",
    "# Creting two frequency tables with the number of comments and posts per hour \n",
    "counts_by_hour={}\n",
    "comments_by_hour={}\n",
    "\n",
    "for row in result_list:\n",
    "    timeObj=dt.datetime.strptime(row[0],'%m/%d/%Y %H:%M')\n",
    "    hour=timeObj.strftime('%H')\n",
    "    comm_num=row[1]\n",
    "    if hour not in counts_by_hour:\n",
    "        counts_by_hour[hour]=1\n",
    "        comments_by_hour[hour]=comm_num\n",
    "    else:\n",
    "        counts_by_hour[hour]+=1\n",
    "        comments_by_hour[hour]+=comm_num"
   ]
  },
  {
   "cell_type": "markdown",
   "metadata": {},
   "source": [
    "Here we have created two dictionaries. The first one with the number of ask posts per each hour and the second dict with the number of comments added for ask posts per each hour. Let's now calculate the average number of comments for post created during each hour."
   ]
  },
  {
   "cell_type": "code",
   "execution_count": 27,
   "metadata": {},
   "outputs": [
    {
     "name": "stdout",
     "output_type": "stream",
     "text": [
      "[['00', 8.127272727272727], ['01', 11.383333333333333], ['02', 23.810344827586206], ['03', 7.796296296296297], ['04', 7.170212765957447], ['05', 10.08695652173913], ['06', 9.022727272727273], ['07', 7.852941176470588], ['08', 10.25], ['09', 5.5777777777777775], ['10', 13.440677966101696], ['11', 11.051724137931034], ['12', 9.41095890410959], ['13', 14.741176470588234], ['14', 13.233644859813085], ['15', 38.5948275862069], ['16', 16.796296296296298], ['17', 11.46], ['18', 13.20183486238532], ['19', 10.8], ['20', 21.525], ['21', 16.009174311926607], ['22', 6.746478873239437], ['23', 7.985294117647059]]\n"
     ]
    }
   ],
   "source": [
    "avg_by_hour=[]\n",
    "\n",
    "# Creating the sorted list of the average comments per post in each hour\n",
    "for hour in counts_by_hour:\n",
    "    avg_per_post=comments_by_hour[hour]/counts_by_hour[hour]\n",
    "    avg_by_hour.append([hour,avg_per_post])\n",
    "    avg_by_hour.sort()\n",
    "\n",
    "print(avg_by_hour)"
   ]
  },
  {
   "cell_type": "code",
   "execution_count": 28,
   "metadata": {},
   "outputs": [
    {
     "name": "stdout",
     "output_type": "stream",
     "text": [
      "[[38.5948275862069, '15'], [23.810344827586206, '02'], [21.525, '20'], [16.796296296296298, '16'], [16.009174311926607, '21']]\n"
     ]
    }
   ],
   "source": [
    "swap_avg_by_hour=[]\n",
    "\n",
    "# Swapping values in the list to sort them\n",
    "for row in avg_by_hour:\n",
    "    swap_avg_by_hour.append([row[1],row[0]])\n",
    "\n",
    "# Sorting valus in descending order\n",
    "sorted_swap=sorted(swap_avg_by_hour,reverse=True)\n",
    "print(sorted_swap[0:5])"
   ]
  },
  {
   "cell_type": "code",
   "execution_count": 42,
   "metadata": {},
   "outputs": [
    {
     "name": "stdout",
     "output_type": "stream",
     "text": [
      "15:00: 38.59 average comments per post.\n",
      "02:00: 23.81 average comments per post.\n",
      "20:00: 21.52 average comments per post.\n",
      "16:00: 16.80 average comments per post.\n",
      "21:00: 16.01 average comments per post.\n"
     ]
    }
   ],
   "source": [
    "# Editing and printing top 5 hours with the most comments\n",
    "for avg,hour in sorted_swap[0:5]:\n",
    "    hour_format=dt.datetime.strptime(hour,'%H')\n",
    "    hour_format=hour_format.strftime('%H:%M')\n",
    "    template='{}: {:.2f} average comments per post.'.format(hour_format,avg)\n",
    "    print(template)"
   ]
  },
  {
   "cell_type": "markdown",
   "metadata": {},
   "source": [
    "Based on the results we can say that the best time to populate your ask comments is 15:00. At that time you have the highest chance of receiving comments. One think to notice is that these hours are in EST format. Lets convert them to our CET time zone by using deltatime."
   ]
  },
  {
   "cell_type": "code",
   "execution_count": 52,
   "metadata": {},
   "outputs": [
    {
     "name": "stdout",
     "output_type": "stream",
     "text": [
      "21:00: 38.59 average comments per post.\n",
      "08:00: 23.81 average comments per post.\n",
      "02:00: 21.52 average comments per post.\n",
      "22:00: 16.80 average comments per post.\n",
      "03:00: 16.01 average comments per post.\n"
     ]
    }
   ],
   "source": [
    "# Changing the results to EST time zone\n",
    "for avg,hour in sorted_swap[0:5]:\n",
    "    hour_format=dt.datetime.strptime(hour,'%H')\n",
    "    hour_format_EST=hour_format+dt.timedelta(hours=6)\n",
    "    hour_format=hour_format_EST.strftime('%H:%M')\n",
    "    template='{}: {:.2f} average comments per post.'.format(hour_format,avg)\n",
    "    print(template)"
   ]
  },
  {
   "cell_type": "markdown",
   "metadata": {},
   "source": [
    "In EST time the best time to populate your post on **Hacker news** is 21:00. \\\n",
    "Now let's focus on the number of points recived for different type of posts. Let's consider if show or ask posts got more points on average.\n",
    "\n",
    "### Counting the average number of points per category"
   ]
  },
  {
   "cell_type": "code",
   "execution_count": 53,
   "metadata": {},
   "outputs": [
    {
     "name": "stdout",
     "output_type": "stream",
     "text": [
      "15\n"
     ]
    }
   ],
   "source": [
    "# Calculating the average number of points for ask posts\n",
    "total_ask_points=0\n",
    "\n",
    "for row in ask_posts:\n",
    "    total_ask_points+=int(row[3])\n",
    "\n",
    "avg_ask_points=total_ask_points/len(ask_posts)\n",
    "print(round(avg_ask_points))"
   ]
  },
  {
   "cell_type": "code",
   "execution_count": 56,
   "metadata": {},
   "outputs": [
    {
     "name": "stdout",
     "output_type": "stream",
     "text": [
      "28\n"
     ]
    }
   ],
   "source": [
    "# Calculating the average number of points for show posts\n",
    "total_show_points=0\n",
    "\n",
    "for row in show_posts:\n",
    "    total_show_points+=int(row[3])\n",
    "\n",
    "avg_show_points=total_show_points/len(show_posts)\n",
    "print(round(avg_show_points))"
   ]
  },
  {
   "cell_type": "markdown",
   "metadata": {},
   "source": [
    "As we can clearly see - more points on average are recived by **show posts**. Lets compare the average number of points with other type of posts."
   ]
  },
  {
   "cell_type": "code",
   "execution_count": 69,
   "metadata": {},
   "outputs": [
    {
     "name": "stdout",
     "output_type": "stream",
     "text": [
      "55\n"
     ]
    }
   ],
   "source": [
    "# Calculating the average number of points for other posts\n",
    "total_other_points=0\n",
    "\n",
    "for row in other_posts:\n",
    "    total_other_points+=int(row[3])\n",
    "\n",
    "avg_points_other=total_other_points/len(other_posts)\n",
    "print(round(avg_points_other))"
   ]
  },
  {
   "cell_type": "markdown",
   "metadata": {},
   "source": [
    "We can see that on average the neither show nor ask type of posts can compete with the other posts. Lets now check if a certain time at which post is added has any influence on the number of recived points. To to this lets calculate hour distribution for **show posts**.\n",
    "\n",
    "### Counting the average number of points for show posts per hour "
   ]
  },
  {
   "cell_type": "code",
   "execution_count": 58,
   "metadata": {},
   "outputs": [],
   "source": [
    "# Creting two frequency tables with the number of points and posts per hour \n",
    "num_show_posts_hour={}\n",
    "num_show_points_hour={}\n",
    "\n",
    "for row in show_posts:\n",
    "    hour_dt=dt.datetime.strptime(row[-1],'%m/%d/%Y %H:%M')\n",
    "    hour=hour_dt.strftime('%H')\n",
    "    if hour not in num_show_posts_hour:\n",
    "        num_show_posts_hour[hour]=1\n",
    "        num_show_points_hour[hour]=int(row[3])\n",
    "    else:\n",
    "        num_show_posts_hour[hour]+=1\n",
    "        num_show_points_hour[hour]+=int(row[3])"
   ]
  },
  {
   "cell_type": "markdown",
   "metadata": {},
   "source": [
    "Ok. Now lets calculate the average number of points per show post in each hour."
   ]
  },
  {
   "cell_type": "code",
   "execution_count": 66,
   "metadata": {},
   "outputs": [
    {
     "name": "stdout",
     "output_type": "stream",
     "text": [
      "23:00: 42.39 average points per post.\n",
      "12:00: 41.69 average points per post.\n",
      "22:00: 40.35 average points per post.\n",
      "00:00: 37.84 average points per post.\n",
      "18:00: 36.31 average points per post.\n"
     ]
    }
   ],
   "source": [
    "# Calculating the average number of points per show post in each hour\n",
    "avg_point_hour=[]\n",
    "for hour in num_show_posts_hour:\n",
    "    avg_point=num_show_points_hour[hour]/num_show_posts_hour[hour]\n",
    "    avg_point_hour.append([avg_point,hour])\n",
    "    avg_point_hour.sort(reverse=True)\n",
    "    \n",
    "# Tidy printing the results\n",
    "for n in avg_point_hour[0:5]:\n",
    "    score=n[0]\n",
    "    hour_dt=dt.datetime.strptime(n[1],'%H')\n",
    "    hour=hour_dt.strftime('%H:%M')\n",
    "    print('{}: {:.2f} average points per post.'.format(hour,score))\n"
   ]
  },
  {
   "cell_type": "markdown",
   "metadata": {},
   "source": [
    "As we can see there is no strong correlation between the number of points recived and a specific hour when that post was added."
   ]
  },
  {
   "cell_type": "markdown",
   "metadata": {},
   "source": [
    "## Conclusion\n",
    "\n",
    "After analyzing the data, we could conclude that the best time to populate your post on Hacker news is 21:00 EST time zone. Ask type of comments got more comments which is logic that when people were asking about something they were expecting to get some replays. Checking the number of points gather by these two posts we can say that more possitive votes got show types. \n"
   ]
  }
 ],
 "metadata": {
  "kernelspec": {
   "display_name": "Python 3",
   "language": "python",
   "name": "python3"
  },
  "language_info": {
   "codemirror_mode": {
    "name": "ipython",
    "version": 3
   },
   "file_extension": ".py",
   "mimetype": "text/x-python",
   "name": "python",
   "nbconvert_exporter": "python",
   "pygments_lexer": "ipython3",
   "version": "3.6.9"
  }
 },
 "nbformat": 4,
 "nbformat_minor": 2
}
