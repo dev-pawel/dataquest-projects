{
 "cells": [
  {
   "cell_type": "markdown",
   "metadata": {
    "collapsed": true
   },
   "source": [
    "# Jeopardy winning pattern\n",
    "\n",
    "## Introduction\n",
    "\n",
    "In this project I am going to analyse Jeopardy question dataset containing all the questions from 1984 to 2012. The dataset can be found under this [link](https://www.kaggle.com/tunguz/200000-jeopardy-questions). I am going to check:\n",
    "- how often the answer can be guessed from the question\n",
    "- if any questions were repeated \n",
    "- if any specific words are repeat, if so, how often\n",
    "- the most frequent category and the probability of that category occuring in the game\n",
    "- calculating Chi squared statistic to check if there are any words with significant different appearance in high value questions.\n",
    "\n",
    "### Summary of results\n",
    "\n",
    "- Some answers occur in questions but there is less then 1% of them.\n",
    "- The most frequent word *Country* occurs almost 3 times per 100 questions. \n",
    "- There is over 63% chance of getting at least once in the game the question of category Before&After.\n",
    "- There is around 505 words which are most likely to occur in high value questions.\n",
    "\n",
    "## Data exploration"
   ]
  },
  {
   "cell_type": "code",
   "execution_count": 1,
   "metadata": {},
   "outputs": [],
   "source": [
    "from scipy.stats import chisquare\n",
    "import matplotlib.pyplot as plt\n",
    "import pandas as pd\n",
    "import difflib\n",
    "import string\n",
    "import nltk\n",
    "import re\n",
    "%matplotlib inline"
   ]
  },
  {
   "cell_type": "code",
   "execution_count": 2,
   "metadata": {},
   "outputs": [],
   "source": [
    "jeopardy = pd.read_csv('data//jeopardy_full.csv',parse_dates=[' Air Date'])"
   ]
  },
  {
   "cell_type": "code",
   "execution_count": 3,
   "metadata": {},
   "outputs": [
    {
     "data": {
      "text/html": [
       "<div>\n",
       "<style scoped>\n",
       "    .dataframe tbody tr th:only-of-type {\n",
       "        vertical-align: middle;\n",
       "    }\n",
       "\n",
       "    .dataframe tbody tr th {\n",
       "        vertical-align: top;\n",
       "    }\n",
       "\n",
       "    .dataframe thead th {\n",
       "        text-align: right;\n",
       "    }\n",
       "</style>\n",
       "<table border=\"1\" class=\"dataframe\">\n",
       "  <thead>\n",
       "    <tr style=\"text-align: right;\">\n",
       "      <th></th>\n",
       "      <th>Show Number</th>\n",
       "      <th>Air Date</th>\n",
       "      <th>Round</th>\n",
       "      <th>Category</th>\n",
       "      <th>Value</th>\n",
       "      <th>Question</th>\n",
       "      <th>Answer</th>\n",
       "    </tr>\n",
       "  </thead>\n",
       "  <tbody>\n",
       "    <tr>\n",
       "      <th>0</th>\n",
       "      <td>4680</td>\n",
       "      <td>2004-12-31</td>\n",
       "      <td>Jeopardy!</td>\n",
       "      <td>HISTORY</td>\n",
       "      <td>$200</td>\n",
       "      <td>For the last 8 years of his life, Galileo was ...</td>\n",
       "      <td>Copernicus</td>\n",
       "    </tr>\n",
       "    <tr>\n",
       "      <th>1</th>\n",
       "      <td>4680</td>\n",
       "      <td>2004-12-31</td>\n",
       "      <td>Jeopardy!</td>\n",
       "      <td>ESPN's TOP 10 ALL-TIME ATHLETES</td>\n",
       "      <td>$200</td>\n",
       "      <td>No. 2: 1912 Olympian; football star at Carlisl...</td>\n",
       "      <td>Jim Thorpe</td>\n",
       "    </tr>\n",
       "    <tr>\n",
       "      <th>2</th>\n",
       "      <td>4680</td>\n",
       "      <td>2004-12-31</td>\n",
       "      <td>Jeopardy!</td>\n",
       "      <td>EVERYBODY TALKS ABOUT IT...</td>\n",
       "      <td>$200</td>\n",
       "      <td>The city of Yuma in this state has a record av...</td>\n",
       "      <td>Arizona</td>\n",
       "    </tr>\n",
       "    <tr>\n",
       "      <th>3</th>\n",
       "      <td>4680</td>\n",
       "      <td>2004-12-31</td>\n",
       "      <td>Jeopardy!</td>\n",
       "      <td>THE COMPANY LINE</td>\n",
       "      <td>$200</td>\n",
       "      <td>In 1963, live on \"The Art Linkletter Show\", th...</td>\n",
       "      <td>McDonald's</td>\n",
       "    </tr>\n",
       "    <tr>\n",
       "      <th>4</th>\n",
       "      <td>4680</td>\n",
       "      <td>2004-12-31</td>\n",
       "      <td>Jeopardy!</td>\n",
       "      <td>EPITAPHS &amp; TRIBUTES</td>\n",
       "      <td>$200</td>\n",
       "      <td>Signer of the Dec. of Indep., framer of the Co...</td>\n",
       "      <td>John Adams</td>\n",
       "    </tr>\n",
       "  </tbody>\n",
       "</table>\n",
       "</div>"
      ],
      "text/plain": [
       "   Show Number   Air Date      Round                         Category  Value  \\\n",
       "0         4680 2004-12-31  Jeopardy!                          HISTORY   $200   \n",
       "1         4680 2004-12-31  Jeopardy!  ESPN's TOP 10 ALL-TIME ATHLETES   $200   \n",
       "2         4680 2004-12-31  Jeopardy!      EVERYBODY TALKS ABOUT IT...   $200   \n",
       "3         4680 2004-12-31  Jeopardy!                 THE COMPANY LINE   $200   \n",
       "4         4680 2004-12-31  Jeopardy!              EPITAPHS & TRIBUTES   $200   \n",
       "\n",
       "                                            Question      Answer  \n",
       "0  For the last 8 years of his life, Galileo was ...  Copernicus  \n",
       "1  No. 2: 1912 Olympian; football star at Carlisl...  Jim Thorpe  \n",
       "2  The city of Yuma in this state has a record av...     Arizona  \n",
       "3  In 1963, live on \"The Art Linkletter Show\", th...  McDonald's  \n",
       "4  Signer of the Dec. of Indep., framer of the Co...  John Adams  "
      ]
     },
     "execution_count": 3,
     "metadata": {},
     "output_type": "execute_result"
    }
   ],
   "source": [
    "jeopardy.head()"
   ]
  },
  {
   "cell_type": "code",
   "execution_count": 4,
   "metadata": {},
   "outputs": [
    {
     "name": "stdout",
     "output_type": "stream",
     "text": [
      "<class 'pandas.core.frame.DataFrame'>\n",
      "RangeIndex: 216930 entries, 0 to 216929\n",
      "Data columns (total 7 columns):\n",
      "Show Number    216930 non-null int64\n",
      " Air Date      216930 non-null datetime64[ns]\n",
      " Round         216930 non-null object\n",
      " Category      216930 non-null object\n",
      " Value         216930 non-null object\n",
      " Question      216930 non-null object\n",
      " Answer        216928 non-null object\n",
      "dtypes: datetime64[ns](1), int64(1), object(5)\n",
      "memory usage: 11.6+ MB\n"
     ]
    }
   ],
   "source": [
    "jeopardy.info()"
   ]
  },
  {
   "cell_type": "markdown",
   "metadata": {},
   "source": [
    "Some columns have wrong datatype and there is a white space in front of some column names. Lets clean this.\n",
    "\n",
    "## Data cleaning"
   ]
  },
  {
   "cell_type": "code",
   "execution_count": 5,
   "metadata": {},
   "outputs": [],
   "source": [
    "# removing white space from coulmn names\n",
    "jeopardy.rename({' Air Date':'Air Date',' Round':'Round',' Category':'Category',' Value':'Value',' Question':'Question',' Answer':'Answer' },axis=1,inplace=True)\n",
    "\n",
    "# sorting rows by date\n",
    "jeopardy_sorted = jeopardy.sort_values(['Air Date']).reset_index(drop=True)"
   ]
  },
  {
   "cell_type": "markdown",
   "metadata": {},
   "source": [
    "## Question repeated"
   ]
  },
  {
   "cell_type": "code",
   "execution_count": 6,
   "metadata": {},
   "outputs": [],
   "source": [
    "past_questions = jeopardy_sorted['Question']\n",
    "past_answers = jeopardy_sorted['Answer']\n",
    "def repeated_check(row):\n",
    "    index = row.name\n",
    "    for ind, que in enumerate(past_answers[:index]):\n",
    "        if difflib.SequenceMatcher(None, str(row['Answer']), str(que)).ratio()>0.9:\n",
    "            if difflib.SequenceMatcher(None, str(row['Question']), str(past_questions[ind])).ratio()>0.6:\n",
    "                return 1\n",
    "        else:\n",
    "            return 0   \n",
    "    \n",
    "jeopardy_sorted['repeated'] = jeopardy_sorted.apply(repeated_check,axis=1)"
   ]
  },
  {
   "cell_type": "code",
   "execution_count": 7,
   "metadata": {},
   "outputs": [
    {
     "data": {
      "text/plain": [
       "0.0    216929\n",
       "Name: repeated, dtype: int64"
      ]
     },
     "execution_count": 7,
     "metadata": {},
     "output_type": "execute_result"
    }
   ],
   "source": [
    "jeopardy_sorted['repeated'].value_counts()"
   ]
  },
  {
   "cell_type": "markdown",
   "metadata": {},
   "source": [
    "We have checked match between each answer and all answers in the past if there was any matching then we compared their questions if they were also more-less matching it might mean that the question was repeated. Unfortunately we got 0 repeated questions. Then we know that we need to find another way to analyse this dataset. Lets now clean *Questions* and *Answer* column to remove punctuation and make all lowercase words.\n",
    "\n",
    "## Data cleaning cont."
   ]
  },
  {
   "cell_type": "code",
   "execution_count": 8,
   "metadata": {},
   "outputs": [],
   "source": [
    "# creating subset of data\n",
    "jeopardy_clean = jeopardy_sorted.iloc[:,:4].copy()\n",
    "\n",
    "# transforming data in Value column\n",
    "jeopardy_clean['clean_value'] = (jeopardy_sorted['Value'].str.replace(',','').str.replace('$','').str.replace('None','0')).astype(int)"
   ]
  },
  {
   "cell_type": "markdown",
   "metadata": {},
   "source": [
    "In order to compare questions and answers between different shows we need to remove punctuation and stop words. We can use nltk to do that."
   ]
  },
  {
   "cell_type": "code",
   "execution_count": 9,
   "metadata": {},
   "outputs": [],
   "source": [
    "# useless words\n",
    "punctuation = string.punctuation\n",
    "stop_words = nltk.corpus.stopwords.words(\"english\")\n",
    "\n",
    "# removing punctiation and stopwords\n",
    "def normalize_text(col):\n",
    "    bag_of_words = nltk.word_tokenize(str(col))\n",
    "    bag_of_words_clean = []\n",
    "    for word in bag_of_words:\n",
    "        word = word.lower().strip()\n",
    "        bag_of_words_clean.append(re.sub(r'[{}]+'.format(re.escape(punctuation)),'',word))\n",
    "    while '' in bag_of_words_clean:\n",
    "        bag_of_words_clean.remove('')  \n",
    "    for word in stop_words:\n",
    "        while word in bag_of_words_clean:\n",
    "            bag_of_words_clean.remove(word)\n",
    "    return ' '.join(bag_of_words_clean)\n",
    "\n",
    "jeopardy_clean['clean_question'] =  jeopardy_sorted['Question'].apply(normalize_text)\n",
    "jeopardy_clean['clean_answer'] =  jeopardy_sorted['Answer'].apply(normalize_text)"
   ]
  },
  {
   "cell_type": "code",
   "execution_count": 10,
   "metadata": {},
   "outputs": [
    {
     "data": {
      "text/html": [
       "<div>\n",
       "<style scoped>\n",
       "    .dataframe tbody tr th:only-of-type {\n",
       "        vertical-align: middle;\n",
       "    }\n",
       "\n",
       "    .dataframe tbody tr th {\n",
       "        vertical-align: top;\n",
       "    }\n",
       "\n",
       "    .dataframe thead th {\n",
       "        text-align: right;\n",
       "    }\n",
       "</style>\n",
       "<table border=\"1\" class=\"dataframe\">\n",
       "  <thead>\n",
       "    <tr style=\"text-align: right;\">\n",
       "      <th></th>\n",
       "      <th>Show Number</th>\n",
       "      <th>Air Date</th>\n",
       "      <th>Round</th>\n",
       "      <th>Category</th>\n",
       "      <th>clean_value</th>\n",
       "      <th>clean_question</th>\n",
       "      <th>clean_answer</th>\n",
       "    </tr>\n",
       "  </thead>\n",
       "  <tbody>\n",
       "    <tr>\n",
       "      <th>0</th>\n",
       "      <td>1</td>\n",
       "      <td>1984-09-10</td>\n",
       "      <td>Jeopardy!</td>\n",
       "      <td>LAKES &amp; RIVERS</td>\n",
       "      <td>100</td>\n",
       "      <td>river mentioned often bible</td>\n",
       "      <td>jordan</td>\n",
       "    </tr>\n",
       "    <tr>\n",
       "      <th>1</th>\n",
       "      <td>1</td>\n",
       "      <td>1984-09-10</td>\n",
       "      <td>Double Jeopardy!</td>\n",
       "      <td>THE BIBLE</td>\n",
       "      <td>1000</td>\n",
       "      <td>according 1st timothy root evil</td>\n",
       "      <td>love money</td>\n",
       "    </tr>\n",
       "    <tr>\n",
       "      <th>2</th>\n",
       "      <td>1</td>\n",
       "      <td>1984-09-10</td>\n",
       "      <td>Double Jeopardy!</td>\n",
       "      <td>'50'S TV</td>\n",
       "      <td>1000</td>\n",
       "      <td>name experimenter herbert taught viewers science</td>\n",
       "      <td>mr wizard</td>\n",
       "    </tr>\n",
       "    <tr>\n",
       "      <th>3</th>\n",
       "      <td>1</td>\n",
       "      <td>1984-09-10</td>\n",
       "      <td>Double Jeopardy!</td>\n",
       "      <td>NATIONAL LANDMARKS</td>\n",
       "      <td>1000</td>\n",
       "      <td>dc building shaken november 83 bomb blast</td>\n",
       "      <td>capitol</td>\n",
       "    </tr>\n",
       "    <tr>\n",
       "      <th>4</th>\n",
       "      <td>1</td>\n",
       "      <td>1984-09-10</td>\n",
       "      <td>Double Jeopardy!</td>\n",
       "      <td>NOTORIOUS</td>\n",
       "      <td>1000</td>\n",
       "      <td>deed leaped stage shouting sic semper tyrannis</td>\n",
       "      <td>john wilkes booth</td>\n",
       "    </tr>\n",
       "    <tr>\n",
       "      <th>...</th>\n",
       "      <td>...</td>\n",
       "      <td>...</td>\n",
       "      <td>...</td>\n",
       "      <td>...</td>\n",
       "      <td>...</td>\n",
       "      <td>...</td>\n",
       "      <td>...</td>\n",
       "    </tr>\n",
       "    <tr>\n",
       "      <th>216925</th>\n",
       "      <td>6300</td>\n",
       "      <td>2012-01-27</td>\n",
       "      <td>Jeopardy!</td>\n",
       "      <td>VISITING THE CITY</td>\n",
       "      <td>800</td>\n",
       "      <td>great opera house bennelong point see fort den...</td>\n",
       "      <td>sydney</td>\n",
       "    </tr>\n",
       "    <tr>\n",
       "      <th>216926</th>\n",
       "      <td>6300</td>\n",
       "      <td>2012-01-27</td>\n",
       "      <td>Jeopardy!</td>\n",
       "      <td>PANTS</td>\n",
       "      <td>1400</td>\n",
       "      <td>tightfitting pants patterned worn bullfighters...</td>\n",
       "      <td>toreador pants</td>\n",
       "    </tr>\n",
       "    <tr>\n",
       "      <th>216927</th>\n",
       "      <td>6300</td>\n",
       "      <td>2012-01-27</td>\n",
       "      <td>Jeopardy!</td>\n",
       "      <td>CHILD ACTORS</td>\n",
       "      <td>800</td>\n",
       "      <td>kid familiar last name seen href http wwwjarch...</td>\n",
       "      <td>jaden smith</td>\n",
       "    </tr>\n",
       "    <tr>\n",
       "      <th>216928</th>\n",
       "      <td>6300</td>\n",
       "      <td>2012-01-27</td>\n",
       "      <td>Jeopardy!</td>\n",
       "      <td>LESSER-KNOWN SCIENTISTS</td>\n",
       "      <td>800</td>\n",
       "      <td>joseph lagrange insisted 10 basic unit standar...</td>\n",
       "      <td>metric system</td>\n",
       "    </tr>\n",
       "    <tr>\n",
       "      <th>216929</th>\n",
       "      <td>6300</td>\n",
       "      <td>2012-01-27</td>\n",
       "      <td>Jeopardy!</td>\n",
       "      <td>PANTS</td>\n",
       "      <td>200</td>\n",
       "      <td>synonym freight pants large bellows pockets si...</td>\n",
       "      <td>cargo pants</td>\n",
       "    </tr>\n",
       "  </tbody>\n",
       "</table>\n",
       "<p>216930 rows × 7 columns</p>\n",
       "</div>"
      ],
      "text/plain": [
       "        Show Number   Air Date             Round                 Category  \\\n",
       "0                 1 1984-09-10         Jeopardy!           LAKES & RIVERS   \n",
       "1                 1 1984-09-10  Double Jeopardy!                THE BIBLE   \n",
       "2                 1 1984-09-10  Double Jeopardy!                 '50'S TV   \n",
       "3                 1 1984-09-10  Double Jeopardy!       NATIONAL LANDMARKS   \n",
       "4                 1 1984-09-10  Double Jeopardy!                NOTORIOUS   \n",
       "...             ...        ...               ...                      ...   \n",
       "216925         6300 2012-01-27         Jeopardy!        VISITING THE CITY   \n",
       "216926         6300 2012-01-27         Jeopardy!                    PANTS   \n",
       "216927         6300 2012-01-27         Jeopardy!             CHILD ACTORS   \n",
       "216928         6300 2012-01-27         Jeopardy!  LESSER-KNOWN SCIENTISTS   \n",
       "216929         6300 2012-01-27         Jeopardy!                    PANTS   \n",
       "\n",
       "        clean_value                                     clean_question  \\\n",
       "0               100                        river mentioned often bible   \n",
       "1              1000                    according 1st timothy root evil   \n",
       "2              1000   name experimenter herbert taught viewers science   \n",
       "3              1000          dc building shaken november 83 bomb blast   \n",
       "4              1000     deed leaped stage shouting sic semper tyrannis   \n",
       "...             ...                                                ...   \n",
       "216925          800  great opera house bennelong point see fort den...   \n",
       "216926         1400  tightfitting pants patterned worn bullfighters...   \n",
       "216927          800  kid familiar last name seen href http wwwjarch...   \n",
       "216928          800  joseph lagrange insisted 10 basic unit standar...   \n",
       "216929          200  synonym freight pants large bellows pockets si...   \n",
       "\n",
       "             clean_answer  \n",
       "0                  jordan  \n",
       "1              love money  \n",
       "2               mr wizard  \n",
       "3                 capitol  \n",
       "4       john wilkes booth  \n",
       "...                   ...  \n",
       "216925             sydney  \n",
       "216926     toreador pants  \n",
       "216927        jaden smith  \n",
       "216928      metric system  \n",
       "216929        cargo pants  \n",
       "\n",
       "[216930 rows x 7 columns]"
      ]
     },
     "execution_count": 10,
     "metadata": {},
     "output_type": "execute_result"
    }
   ],
   "source": [
    "jeopardy_clean"
   ]
  },
  {
   "cell_type": "markdown",
   "metadata": {},
   "source": [
    "## Analysis\n",
    "\n",
    "In order to find what to study we are going to find two thinks:\n",
    "- how often the answer can be guessed from the question,\n",
    "- the most frequent category,\n",
    "- if any specific words are repeat, if so, how often,\n",
    "- if any word is more likely to occur in the high value question vs low value one.\n",
    "\n",
    "### Answer hidden in question\n",
    "Lets start by analysing the first problem."
   ]
  },
  {
   "cell_type": "code",
   "execution_count": 11,
   "metadata": {},
   "outputs": [],
   "source": [
    "# answer present in questions\n",
    "\n",
    "def question_answer(row):\n",
    "    if type(row['clean_answer']) == float:\n",
    "        answer = str(row['clean_answer'])\n",
    "    else:\n",
    "        answer = row['clean_answer']\n",
    "    split_answer = answer.split()\n",
    "    split_question = row['clean_question'].split()\n",
    "    match_count = 0\n",
    "    if len(split_answer) == 0:\n",
    "        return 0\n",
    "    for word in split_answer:\n",
    "        if word in split_question:\n",
    "            match_count +=1\n",
    "    return match_count/len(split_answer)"
   ]
  },
  {
   "cell_type": "code",
   "execution_count": 12,
   "metadata": {},
   "outputs": [],
   "source": [
    "jeopardy_clean['answer_in_question'] = jeopardy_clean.apply(question_answer,axis=1)"
   ]
  },
  {
   "cell_type": "code",
   "execution_count": 13,
   "metadata": {},
   "outputs": [
    {
     "name": "stdout",
     "output_type": "stream",
     "text": [
      "% of questions with easy to guess answers: 0.007\n"
     ]
    },
    {
     "data": {
      "image/png": "[encoded data removed]",
      "text/plain": [
       "<Figure size 864x288 with 2 Axes>"
      ]
     },
     "metadata": {
      "needs_background": "light"
     },
     "output_type": "display_data"
    }
   ],
   "source": [
    "ax = plt.subplot(1,2,1)\n",
    "ax = jeopardy_clean['answer_in_question'].value_counts(normalize=True).sort_index(ascending=False).reset_index().plot.scatter(x='index',y='answer_in_question',ax=ax,figsize=(12,4))\n",
    "ax =plt.subplot(1,2,2)\n",
    "ax = jeopardy_clean['answer_in_question'].value_counts(normalize=True).sort_index(ascending=False).plot.kde()\n",
    "ax.set_xlim(0,1)\n",
    "\n",
    "print('% of questions with easy to guess answers: ' + str(round((jeopardy_clean[jeopardy_clean['answer_in_question'] == 1]['answer_in_question'].sum()) / jeopardy_clean.shape[0],4)))"
   ]
  },
  {
   "cell_type": "markdown",
   "metadata": {},
   "source": [
    "We have found that indeed some answers occur in questions but there is less then 1% of them. It won't be a good tactic to relay on it.\n",
    "\n",
    "### The most frequent category"
   ]
  },
  {
   "cell_type": "code",
   "execution_count": 14,
   "metadata": {},
   "outputs": [
    {
     "data": {
      "image/png": "[encoded data removed]",
      "text/plain": [
       "<Figure size 864x288 with 1 Axes>"
      ]
     },
     "metadata": {
      "needs_background": "light"
     },
     "output_type": "display_data"
    }
   ],
   "source": [
    "# categories frequency\n",
    "categories = jeopardy_clean['Category'].value_counts()\n",
    "\n",
    "# categories occurrence probability\n",
    "categories_probability = categories/jeopardy_clean['Category'].unique().size\n",
    "\n",
    "ax = categories_probability[categories_probability>0.01].plot.bar(figsize=(12,4),title='Categories which can occur with the probability greater then 1%')\n",
    "vals = ax.get_yticks()\n",
    "ax.set_yticklabels(['{:,.2%}'.format(x) for x in vals])\n",
    "plt.show()"
   ]
  },
  {
   "cell_type": "code",
   "execution_count": 15,
   "metadata": {},
   "outputs": [],
   "source": [
    "# probablity that one of this question will occur \n",
    "p_one_of_26 = categories_probability[categories_probability>0.01].sum()\n",
    "\n",
    "# number of questions per game\n",
    "questions_per_game = jeopardy_clean.groupby('Show Number').agg('size').value_counts(normalize=True).sort_index(ascending=False)\n",
    "\n",
    "# number of questions with 95% confidence  \n",
    "questions_95 = questions_per_game[1:8].index[-1]\n",
    "p_n_question = questions_per_game[1:8].sum()"
   ]
  },
  {
   "cell_type": "markdown",
   "metadata": {},
   "source": [
    "There is 7 values between 61 - 55 which are possible number of questions per game which occur most often. There is 95% probability that the number of question in game is equal to one of this value. Lets calculate the probability of getting at least once one of the 26 category question in the game."
   ]
  },
  {
   "cell_type": "code",
   "execution_count": 16,
   "metadata": {},
   "outputs": [
    {
     "data": {
      "text/plain": [
       "0.9576923072227937"
      ]
     },
     "execution_count": 16,
     "metadata": {},
     "output_type": "execute_result"
    }
   ],
   "source": [
    "(1 - (1-p_one_of_26)**questions_95)*p_n_question"
   ]
  },
  {
   "cell_type": "markdown",
   "metadata": {},
   "source": [
    "There is almost 96% chance of getting one of the above category question in the game."
   ]
  },
  {
   "cell_type": "code",
   "execution_count": 17,
   "metadata": {},
   "outputs": [
    {
     "data": {
      "text/plain": [
       "0.6341814760738123"
      ]
     },
     "execution_count": 17,
     "metadata": {},
     "output_type": "execute_result"
    }
   ],
   "source": [
    "(1 - (1-categories_probability[0])**questions_95)*p_n_question"
   ]
  },
  {
   "cell_type": "markdown",
   "metadata": {},
   "source": [
    "There is over 63% chance of getting at least once in the game the question of category Before&After."
   ]
  },
  {
   "cell_type": "markdown",
   "metadata": {},
   "source": [
    "### Frequent phrases\n",
    "\n",
    "Lets now check what are the most frequent phrases."
   ]
  },
  {
   "cell_type": "code",
   "execution_count": 18,
   "metadata": {},
   "outputs": [],
   "source": [
    "terms_used = []\n",
    "\n",
    "for index, row in jeopardy_clean.iterrows():\n",
    "    split_question = row['clean_question'].split()\n",
    "    for word in split_question:\n",
    "        if len(str(word)) > 6:\n",
    "            terms_used.append(word)"
   ]
  },
  {
   "cell_type": "code",
   "execution_count": 19,
   "metadata": {},
   "outputs": [
    {
     "data": {
      "text/plain": [
       "country       0.027714\n",
       "president     0.014959\n",
       "capital       0.013267\n",
       "american      0.013193\n",
       "company       0.009823\n",
       "national      0.009150\n",
       "british       0.008980\n",
       "largest       0.008957\n",
       "character     0.008588\n",
       "century       0.008468\n",
       "meaning       0.007242\n",
       "founded       0.006859\n",
       "include       0.006495\n",
       "america       0.006219\n",
       "university    0.006131\n",
       "dtype: float64"
      ]
     },
     "execution_count": 19,
     "metadata": {},
     "output_type": "execute_result"
    }
   ],
   "source": [
    "pd.Series(terms_used).value_counts().head(15)/jeopardy_clean.shape[0]"
   ]
  },
  {
   "cell_type": "markdown",
   "metadata": {},
   "source": [
    "Here we can see the most frequent words which occur in questions. The most frequent one *Country* occurs almost 3 times per 100 questions.\n",
    "\n",
    "### High value questions\n"
   ]
  },
  {
   "cell_type": "code",
   "execution_count": 20,
   "metadata": {},
   "outputs": [],
   "source": [
    "# high and low value questions\n",
    "def value_question(row):\n",
    "    if row['clean_value'] > 800:\n",
    "        return 1\n",
    "    else:\n",
    "        return 0"
   ]
  },
  {
   "cell_type": "code",
   "execution_count": 21,
   "metadata": {},
   "outputs": [],
   "source": [
    "jeopardy_clean['high_value'] = jeopardy_clean.apply(value_question,axis=1)"
   ]
  },
  {
   "cell_type": "code",
   "execution_count": 22,
   "metadata": {},
   "outputs": [
    {
     "data": {
      "text/html": [
       "<div>\n",
       "<style scoped>\n",
       "    .dataframe tbody tr th:only-of-type {\n",
       "        vertical-align: middle;\n",
       "    }\n",
       "\n",
       "    .dataframe tbody tr th {\n",
       "        vertical-align: top;\n",
       "    }\n",
       "\n",
       "    .dataframe thead th {\n",
       "        text-align: right;\n",
       "    }\n",
       "</style>\n",
       "<table border=\"1\" class=\"dataframe\">\n",
       "  <thead>\n",
       "    <tr style=\"text-align: right;\">\n",
       "      <th></th>\n",
       "      <th>Show Number</th>\n",
       "      <th>Air Date</th>\n",
       "      <th>Round</th>\n",
       "      <th>Category</th>\n",
       "      <th>clean_value</th>\n",
       "      <th>clean_question</th>\n",
       "      <th>clean_answer</th>\n",
       "      <th>answer_in_question</th>\n",
       "      <th>high_value</th>\n",
       "    </tr>\n",
       "  </thead>\n",
       "  <tbody>\n",
       "    <tr>\n",
       "      <th>0</th>\n",
       "      <td>1</td>\n",
       "      <td>1984-09-10</td>\n",
       "      <td>Jeopardy!</td>\n",
       "      <td>LAKES &amp; RIVERS</td>\n",
       "      <td>100</td>\n",
       "      <td>river mentioned often bible</td>\n",
       "      <td>jordan</td>\n",
       "      <td>0.0</td>\n",
       "      <td>0</td>\n",
       "    </tr>\n",
       "    <tr>\n",
       "      <th>1</th>\n",
       "      <td>1</td>\n",
       "      <td>1984-09-10</td>\n",
       "      <td>Double Jeopardy!</td>\n",
       "      <td>THE BIBLE</td>\n",
       "      <td>1000</td>\n",
       "      <td>according 1st timothy root evil</td>\n",
       "      <td>love money</td>\n",
       "      <td>0.0</td>\n",
       "      <td>1</td>\n",
       "    </tr>\n",
       "    <tr>\n",
       "      <th>2</th>\n",
       "      <td>1</td>\n",
       "      <td>1984-09-10</td>\n",
       "      <td>Double Jeopardy!</td>\n",
       "      <td>'50'S TV</td>\n",
       "      <td>1000</td>\n",
       "      <td>name experimenter herbert taught viewers science</td>\n",
       "      <td>mr wizard</td>\n",
       "      <td>0.0</td>\n",
       "      <td>1</td>\n",
       "    </tr>\n",
       "    <tr>\n",
       "      <th>3</th>\n",
       "      <td>1</td>\n",
       "      <td>1984-09-10</td>\n",
       "      <td>Double Jeopardy!</td>\n",
       "      <td>NATIONAL LANDMARKS</td>\n",
       "      <td>1000</td>\n",
       "      <td>dc building shaken november 83 bomb blast</td>\n",
       "      <td>capitol</td>\n",
       "      <td>0.0</td>\n",
       "      <td>1</td>\n",
       "    </tr>\n",
       "    <tr>\n",
       "      <th>4</th>\n",
       "      <td>1</td>\n",
       "      <td>1984-09-10</td>\n",
       "      <td>Double Jeopardy!</td>\n",
       "      <td>NOTORIOUS</td>\n",
       "      <td>1000</td>\n",
       "      <td>deed leaped stage shouting sic semper tyrannis</td>\n",
       "      <td>john wilkes booth</td>\n",
       "      <td>0.0</td>\n",
       "      <td>1</td>\n",
       "    </tr>\n",
       "  </tbody>\n",
       "</table>\n",
       "</div>"
      ],
      "text/plain": [
       "   Show Number   Air Date             Round            Category  clean_value  \\\n",
       "0            1 1984-09-10         Jeopardy!      LAKES & RIVERS          100   \n",
       "1            1 1984-09-10  Double Jeopardy!           THE BIBLE         1000   \n",
       "2            1 1984-09-10  Double Jeopardy!            '50'S TV         1000   \n",
       "3            1 1984-09-10  Double Jeopardy!  NATIONAL LANDMARKS         1000   \n",
       "4            1 1984-09-10  Double Jeopardy!           NOTORIOUS         1000   \n",
       "\n",
       "                                     clean_question       clean_answer  \\\n",
       "0                       river mentioned often bible             jordan   \n",
       "1                   according 1st timothy root evil         love money   \n",
       "2  name experimenter herbert taught viewers science          mr wizard   \n",
       "3         dc building shaken november 83 bomb blast            capitol   \n",
       "4    deed leaped stage shouting sic semper tyrannis  john wilkes booth   \n",
       "\n",
       "   answer_in_question  high_value  \n",
       "0                 0.0           0  \n",
       "1                 0.0           1  \n",
       "2                 0.0           1  \n",
       "3                 0.0           1  \n",
       "4                 0.0           1  "
      ]
     },
     "execution_count": 22,
     "metadata": {},
     "output_type": "execute_result"
    }
   ],
   "source": [
    "jeopardy_clean.head()"
   ]
  },
  {
   "cell_type": "markdown",
   "metadata": {},
   "source": [
    "We have added a new column *high value* if value of the question in more then 800$ then the colum contains 1 otherwise 0."
   ]
  },
  {
   "cell_type": "markdown",
   "metadata": {},
   "source": [
    "### Chi squared test"
   ]
  },
  {
   "cell_type": "code",
   "execution_count": 62,
   "metadata": {},
   "outputs": [],
   "source": [
    "high_value_words = ' '.join(jeopardy_clean.loc[jeopardy_clean['high_value']==1,'clean_question'])\n",
    "low_value_words = ' '.join(jeopardy_clean.loc[jeopardy_clean['high_value']==0,'clean_question'])\n",
    "\n",
    "high_value_list = high_value_words.split()\n",
    "low_value_list = low_value_words.split()\n",
    "\n",
    "high_value_dict = {}\n",
    "\n",
    "for word in high_value_list:\n",
    "    if word in high_value_dict:\n",
    "        high_value_dict[word]+=1\n",
    "    else:\n",
    "        high_value_dict[word]=1\n",
    "    \n",
    "low_value_dict = {}\n",
    "\n",
    "for word in low_value_list:\n",
    "    if word in low_value_dict:\n",
    "        low_value_dict[word]+=1\n",
    "    else:\n",
    "        low_value_dict[word]=1"
   ]
  },
  {
   "cell_type": "code",
   "execution_count": 63,
   "metadata": {},
   "outputs": [],
   "source": [
    "observed_high_low = []\n",
    "\n",
    "comparision_terms = list(set(terms_used))\n",
    "\n",
    "for word in comparision_terms:\n",
    "    if word in high_value_dict:\n",
    "        high_count = high_value_dict[word]\n",
    "    else:\n",
    "        high_count = 0\n",
    "        \n",
    "    if word in low_value_dict:\n",
    "        low_count = low_value_dict[word]\n",
    "    else:\n",
    "        low_count = 0 \n",
    "    observed_high_low.append((high_count,low_count))"
   ]
  },
  {
   "cell_type": "code",
   "execution_count": 87,
   "metadata": {},
   "outputs": [
    {
     "data": {
      "text/plain": [
       "[(0, 1),\n",
       " (0, 6),\n",
       " (3, 12),\n",
       " (3, 12),\n",
       " (2, 0),\n",
       " (0, 1),\n",
       " (1, 1),\n",
       " (0, 1),\n",
       " (0, 1),\n",
       " (3, 16)]"
      ]
     },
     "execution_count": 87,
     "metadata": {},
     "output_type": "execute_result"
    }
   ],
   "source": [
    "observed_high_low[:10]"
   ]
  },
  {
   "cell_type": "code",
   "execution_count": 89,
   "metadata": {},
   "outputs": [],
   "source": [
    "high_value_count = jeopardy_clean['high_value'].sum()\n",
    "low_value_count = jeopardy_clean['high_value'].size - high_value_count\n",
    "\n",
    "chi_squared = []\n",
    "\n",
    "for each in observed_high_low:\n",
    "    # to consider only high value question\n",
    "    if each[0] > each[1]:\n",
    "        total = sum(each)\n",
    "        total_prop = total / jeopardy.shape[0]\n",
    "        high_expected = total_prop * high_value_count\n",
    "        low_expected = total_prop * low_value_count\n",
    "        expected = (high_expected,low_expected)\n",
    "        chi_stat, p_val = chisquare(each,expected)\n",
    "        chi_squared.append(p_val)"
   ]
  },
  {
   "cell_type": "markdown",
   "metadata": {},
   "source": [
    "Lets check if any of the terms had a significant difference in usage between high value and low value rows taking alpha level=0.01. "
   ]
  },
  {
   "cell_type": "code",
   "execution_count": 90,
   "metadata": {},
   "outputs": [],
   "source": [
    "p_val = pd.Series(chi_squared)\n",
    "in_critical_region = p_val[p_val<0.01].index\n",
    "significant_different = pd.Series(list(set(terms_used)))[in_critical_region]"
   ]
  },
  {
   "cell_type": "code",
   "execution_count": 94,
   "metadata": {},
   "outputs": [
    {
     "data": {
      "text/plain": [
       "3               misfits\n",
       "83             powermac\n",
       "86             jokanaan\n",
       "152      impersonations\n",
       "193          passionant\n",
       "              ...      \n",
       "19054           flashes\n",
       "19113          marsters\n",
       "19262          elastica\n",
       "19302          midterms\n",
       "19328          arjumand\n",
       "Length: 505, dtype: object"
      ]
     },
     "execution_count": 94,
     "metadata": {},
     "output_type": "execute_result"
    }
   ],
   "source": [
    "significant_different"
   ]
  },
  {
   "cell_type": "markdown",
   "metadata": {},
   "source": [
    "## Conclusion\n",
    "\n",
    "Comparing the sequences of questions using an algorithm named *gestalt pattern matching* I didn't find any repeated question. But future analysis are required to confirm that.\n",
    "\n",
    "Discovered facts:\n",
    "- Some answers occur in questions but there is less then 1% of them.\n",
    "- The most frequent word *Country* occurs almost 3 times per 100 questions. \n",
    "- There is over 63% chance of getting at least once in the game the question of category Before&After.\n",
    "- There is around 505 words which are most likely to occur in high value questions."
   ]
  }
 ],
 "metadata": {
  "kernelspec": {
   "display_name": "Python 3",
   "language": "python",
   "name": "python3"
  },
  "language_info": {
   "codemirror_mode": {
    "name": "ipython",
    "version": 3
   },
   "file_extension": ".py",
   "mimetype": "text/x-python",
   "name": "python",
   "nbconvert_exporter": "python",
   "pygments_lexer": "ipython3",
   "version": "3.6.9"
  }
 },
 "nbformat": 4,
 "nbformat_minor": 1
}
