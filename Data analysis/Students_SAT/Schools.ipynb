{
 "cells": [
  {
   "cell_type": "markdown",
   "metadata": {},
   "source": [
    "# Read in the data"
   ]
  },
  {
   "cell_type": "code",
   "execution_count": 2,
   "metadata": {},
   "outputs": [],
   "source": [
    "import pandas as pd\n",
    "import numpy as np\n",
    "import matplotlib.pyplot as plt\n",
    "import re\n",
    "\n",
    "data_files = [\n",
    "    \"ap_2010.csv\",\n",
    "    \"class_size.csv\",\n",
    "    \"demographics.csv\",\n",
    "    \"graduation.csv\",\n",
    "    \"hs_directory.csv\",\n",
    "    \"sat_results.csv\"\n",
    "]\n",
    "\n",
    "data = {}\n",
    "\n",
    "for file in data_files:\n",
    "    df = pd.read_csv('schools//' + file)\n",
    "    key_name = file.split('.')[0]\n",
    "    data[key_name] = df"
   ]
  },
  {
   "cell_type": "markdown",
   "metadata": {},
   "source": [
    "# Read in the surveys"
   ]
  },
  {
   "cell_type": "code",
   "execution_count": 3,
   "metadata": {},
   "outputs": [],
   "source": [
    "all_survey = pd.read_csv(\"schools/survey_all.txt\", delimiter=\"\\t\", encoding='windows-1252')\n",
    "d75_survey = pd.read_csv(\"schools/survey_d75.txt\", delimiter=\"\\t\", encoding='windows-1252')\n",
    "survey = pd.concat([all_survey, d75_survey], axis=0,sort=True)\n",
    "\n",
    "survey[\"DBN\"] = survey[\"dbn\"]\n",
    "\n",
    "survey_fields = [\n",
    "    \"DBN\", \n",
    "    \"rr_s\", \n",
    "    \"rr_t\", \n",
    "    \"rr_p\", \n",
    "    \"N_s\", \n",
    "    \"N_t\", \n",
    "    \"N_p\", \n",
    "    \"saf_p_11\", \n",
    "    \"com_p_11\", \n",
    "    \"eng_p_11\", \n",
    "    \"aca_p_11\", \n",
    "    \"saf_t_11\", \n",
    "    \"com_t_11\", \n",
    "    \"eng_t_11\", \n",
    "    \"aca_t_11\", \n",
    "    \"saf_s_11\", \n",
    "    \"com_s_11\", \n",
    "    \"eng_s_11\", \n",
    "    \"aca_s_11\", \n",
    "    \"saf_tot_11\", \n",
    "    \"com_tot_11\", \n",
    "    \"eng_tot_11\", \n",
    "    \"aca_tot_11\",\n",
    "]\n",
    "survey = survey.loc[:,survey_fields]\n",
    "data[\"survey\"] = survey"
   ]
  },
  {
   "cell_type": "markdown",
   "metadata": {},
   "source": [
    "# Add DBN columns"
   ]
  },
  {
   "cell_type": "code",
   "execution_count": 4,
   "metadata": {},
   "outputs": [],
   "source": [
    "data[\"hs_directory\"][\"DBN\"] = data[\"hs_directory\"][\"dbn\"]\n",
    "\n",
    "data['class_size']['padded_csd'] = data['class_size']['CSD'].astype('str').apply(lambda col: col.zfill(2))\n",
    "data[\"class_size\"][\"DBN\"] = data[\"class_size\"][\"padded_csd\"] + data[\"class_size\"][\"SCHOOL CODE\"]"
   ]
  },
  {
   "cell_type": "markdown",
   "metadata": {},
   "source": [
    "# Convert columns to numeric"
   ]
  },
  {
   "cell_type": "code",
   "execution_count": 5,
   "metadata": {},
   "outputs": [],
   "source": [
    "cols = ['SAT Math Avg. Score', 'SAT Critical Reading Avg. Score', 'SAT Writing Avg. Score']\n",
    "for c in cols:\n",
    "    data[\"sat_results\"][c] = pd.to_numeric(data[\"sat_results\"][c], errors=\"coerce\")\n",
    "\n",
    "data['sat_results']['sat_score'] = data['sat_results'][cols[0]] + data['sat_results'][cols[1]] + data['sat_results'][cols[2]]\n",
    "pattern= r'\\((.+)\\)'\n",
    "data['hs_directory']['lat'] = data['hs_directory']['Location 1'].str.extract(pattern)\n",
    "data['hs_directory']['lat'] = data['hs_directory']['lat'].str.split(',').str.get(0)\n",
    "data['hs_directory']['lon'] = data['hs_directory']['Location 1'].str.extract(pattern)\n",
    "data['hs_directory']['lon'] = data['hs_directory']['lon'].str.split(',').str.get(1)\n",
    "data[\"hs_directory\"][\"lat\"] = pd.to_numeric(data[\"hs_directory\"][\"lat\"], errors=\"coerce\")\n",
    "data[\"hs_directory\"][\"lon\"] = pd.to_numeric(data[\"hs_directory\"][\"lon\"], errors=\"coerce\")"
   ]
  },
  {
   "cell_type": "markdown",
   "metadata": {},
   "source": [
    "# Condense datasets"
   ]
  },
  {
   "cell_type": "code",
   "execution_count": 6,
   "metadata": {},
   "outputs": [],
   "source": [
    "class_size = data[\"class_size\"]\n",
    "class_size = class_size.loc[(class_size['GRADE '] == '09-12') & (class_size['PROGRAM TYPE'] == 'GEN ED')]\n",
    "\n",
    "class_size = class_size.groupby(\"DBN\").agg(np.mean)\n",
    "class_size.reset_index(inplace=True)\n",
    "data[\"class_size\"] = class_size\n",
    "\n",
    "data['demographics'] = data['demographics'].loc[data['demographics']['schoolyear'] == 20112012 ]\n",
    "\n",
    "data['graduation'] = data['graduation'].loc[(data['graduation']['Cohort'] == '2006') & (data['graduation']['Demographic'] == 'Total Cohort')]"
   ]
  },
  {
   "cell_type": "markdown",
   "metadata": {},
   "source": [
    "# Convert AP scores to numeric"
   ]
  },
  {
   "cell_type": "code",
   "execution_count": 7,
   "metadata": {},
   "outputs": [],
   "source": [
    "cols = ['AP Test Takers ', 'Total Exams Taken', 'Number of Exams with scores 3 4 or 5']\n",
    "\n",
    "for col in cols:\n",
    "    data[\"ap_2010\"][col] = pd.to_numeric(data[\"ap_2010\"][col], errors=\"coerce\")"
   ]
  },
  {
   "cell_type": "markdown",
   "metadata": {},
   "source": [
    "# Combine the datasets"
   ]
  },
  {
   "cell_type": "code",
   "execution_count": 8,
   "metadata": {},
   "outputs": [],
   "source": [
    "combined = data[\"sat_results\"]\n",
    "\n",
    "combined = combined.merge(data[\"ap_2010\"], on=\"DBN\", how=\"left\")\n",
    "combined = combined.merge(data[\"graduation\"], on=\"DBN\", how=\"left\")\n",
    "\n",
    "to_merge = [\"class_size\", \"demographics\", \"survey\", \"hs_directory\"]\n",
    "\n",
    "for m in to_merge:\n",
    "    combined = combined.merge(data[m], on=\"DBN\", how=\"inner\")\n",
    "\n",
    "combined.fillna(combined.mean(),inplace=True)\n",
    "combined.fillna(0,inplace=True)"
   ]
  },
  {
   "cell_type": "markdown",
   "metadata": {},
   "source": [
    "# Add a school district column for mapping"
   ]
  },
  {
   "cell_type": "code",
   "execution_count": 9,
   "metadata": {},
   "outputs": [],
   "source": [
    "combined['school_dist'] = combined['DBN'].str[0:2]"
   ]
  },
  {
   "cell_type": "markdown",
   "metadata": {},
   "source": [
    "# Find correlations"
   ]
  },
  {
   "cell_type": "code",
   "execution_count": 10,
   "metadata": {},
   "outputs": [
    {
     "name": "stdout",
     "output_type": "stream",
     "text": [
      "SAT Critical Reading Avg. Score         0.986820\n",
      "SAT Math Avg. Score                     0.972643\n",
      "SAT Writing Avg. Score                  0.987771\n",
      "sat_score                               1.000000\n",
      "AP Test Takers                          0.523140\n",
      "Total Exams Taken                       0.514333\n",
      "Number of Exams with scores 3 4 or 5    0.463245\n",
      "Total Cohort                            0.325144\n",
      "CSD                                     0.042948\n",
      "NUMBER OF STUDENTS / SEATS FILLED       0.394626\n",
      "NUMBER OF SECTIONS                      0.362673\n",
      "AVERAGE CLASS SIZE                      0.381014\n",
      "SIZE OF SMALLEST CLASS                  0.249949\n",
      "SIZE OF LARGEST CLASS                   0.314434\n",
      "SCHOOLWIDE PUPIL-TEACHER RATIO               NaN\n",
      "schoolyear                                   NaN\n",
      "fl_percent                                   NaN\n",
      "frl_percent                            -0.722225\n",
      "total_enrollment                        0.367857\n",
      "ell_num                                -0.153778\n",
      "ell_percent                            -0.398750\n",
      "sped_num                                0.034933\n",
      "sped_percent                           -0.448170\n",
      "asian_num                               0.475445\n",
      "asian_per                               0.570730\n",
      "black_num                               0.027979\n",
      "black_per                              -0.284139\n",
      "hispanic_num                            0.025744\n",
      "hispanic_per                           -0.396985\n",
      "white_num                               0.449559\n",
      "white_per                               0.620718\n",
      "male_num                                0.325520\n",
      "male_per                               -0.112062\n",
      "female_num                              0.388631\n",
      "female_per                              0.112108\n",
      "rr_s                                    0.232199\n",
      "rr_t                                   -0.023386\n",
      "rr_p                                    0.047925\n",
      "N_s                                     0.423463\n",
      "N_t                                     0.291463\n",
      "N_p                                     0.421530\n",
      "saf_p_11                                0.122913\n",
      "com_p_11                               -0.115073\n",
      "eng_p_11                                0.020254\n",
      "aca_p_11                                0.035155\n",
      "saf_t_11                                0.313810\n",
      "com_t_11                                0.082419\n",
      "eng_t_11                                0.036906\n",
      "aca_t_11                                0.132348\n",
      "saf_s_11                                0.337639\n",
      "com_s_11                                0.187370\n",
      "eng_s_11                                0.213822\n",
      "aca_s_11                                0.339435\n",
      "saf_tot_11                              0.318753\n",
      "com_tot_11                              0.077310\n",
      "eng_tot_11                              0.100102\n",
      "aca_tot_11                              0.190966\n",
      "grade_span_max                               NaN\n",
      "expgrade_span_max                            NaN\n",
      "zip                                    -0.063977\n",
      "total_students                          0.407827\n",
      "number_programs                         0.117012\n",
      "priority08                                   NaN\n",
      "priority09                                   NaN\n",
      "priority10                                   NaN\n",
      "lat                                    -0.121029\n",
      "lon                                    -0.132222\n"
     ]
    }
   ],
   "source": [
    "correlations = combined.corr()\n",
    "correlations = correlations[\"sat_score\"]\n",
    "print(correlations.to_string())"
   ]
  },
  {
   "cell_type": "markdown",
   "metadata": {},
   "source": [
    "# Plotting survey correlations"
   ]
  },
  {
   "cell_type": "code",
   "execution_count": 11,
   "metadata": {},
   "outputs": [],
   "source": [
    "# Remove DBN since it's a unique identifier, not a useful numerical value for correlation.\n",
    "survey_fields.remove(\"DBN\")"
   ]
  },
  {
   "cell_type": "code",
   "execution_count": 12,
   "metadata": {},
   "outputs": [
    {
     "data": {
      "text/plain": [
       "Text(0.5, 1.0, 'Average school rating by differen groups')"
      ]
     },
     "execution_count": 12,
     "metadata": {},
     "output_type": "execute_result"
    },
    {
     "data": {
      "image/png": "[encoded data removed]",
      "text/plain": [
       "<Figure size 432x288 with 1 Axes>"
      ]
     },
     "metadata": {
      "needs_background": "light"
     },
     "output_type": "display_data"
    }
   ],
   "source": [
    "%matplotlib inline\n",
    "\n",
    "rate_fields = [\n",
    "    \"saf_p_11\", \n",
    "    \"com_p_11\", \n",
    "    \"eng_p_11\", \n",
    "    \"aca_p_11\", \n",
    "    \"saf_t_11\", \n",
    "    \"com_t_11\", \n",
    "    \"eng_t_11\", \n",
    "    \"aca_t_11\", \n",
    "    \"saf_s_11\", \n",
    "    \"com_s_11\", \n",
    "    \"eng_s_11\", \n",
    "    \"aca_s_11\"\n",
    "]\n",
    "bar_heights = combined[rate_fields].mean(axis=0).values\n",
    "bar_heights\n",
    "# combined[rate_fields]\n",
    "bar_positions = np.arange(len(rate_fields)) +0.75\n",
    "tick_positions = range(1,13)\n",
    "\n",
    "fig, ax = plt.subplots()\n",
    "\n",
    "ax.bar(bar_positions,bar_heights,0.5)\n",
    "\n",
    "ax.set_xticks(tick_positions)\n",
    "ax.set_xticklabels(rate_fields,rotation=90)\n",
    "plt.xlabel('Rating Source')\n",
    "plt.ylabel('Average Rating')\n",
    "plt.title('Average school rating by differen groups')"
   ]
  },
  {
   "cell_type": "markdown",
   "metadata": {},
   "source": [
    "Here we have plotted the average ratings based on Parents, Teachers and Students surveys. There are categories like:\n",
    "\n",
    "- Safety and Respect score\n",
    "- Comunication score\n",
    "- Engagement score\n",
    "- Academic expectations score\n",
    "\n",
    "In each category of questions pattern is the same. Parents are rating the highest, then teachers and the lowest score is provided by students. "
   ]
  },
  {
   "cell_type": "code",
   "execution_count": 57,
   "metadata": {},
   "outputs": [
    {
     "data": {
      "text/plain": [
       "<matplotlib.axes._subplots.AxesSubplot at 0x1ee9a8bcf98>"
      ]
     },
     "execution_count": 57,
     "metadata": {},
     "output_type": "execute_result"
    },
    {
     "data": {
      "image/png": "[encoded data removed]",
      "text/plain": [
       "<Figure size 432x288 with 1 Axes>"
      ]
     },
     "metadata": {
      "needs_background": "light"
     },
     "output_type": "display_data"
    }
   ],
   "source": [
    "combined.corr().loc['sat_score',rate_fields].plot(kind='bar')"
   ]
  },
  {
   "cell_type": "markdown",
   "metadata": {},
   "source": [
    "Here we can see that the highest correlation between SAT score and the survey is for students and the lowest for parents. \n",
    "\n",
    "Lets dig into relationship between SAT score and safety a bit more."
   ]
  },
  {
   "cell_type": "code",
   "execution_count": 17,
   "metadata": {},
   "outputs": [
    {
     "data": {
      "text/plain": [
       "<matplotlib.axes._subplots.AxesSubplot at 0x1ee99863710>"
      ]
     },
     "execution_count": 17,
     "metadata": {},
     "output_type": "execute_result"
    },
    {
     "data": {
      "image/png": "[encoded data removed]",
      "text/plain": [
       "<Figure size 432x288 with 1 Axes>"
      ]
     },
     "metadata": {
      "needs_background": "light"
     },
     "output_type": "display_data"
    },
    {
     "data": {
      "image/png": "[encoded data removed]",
      "text/plain": [
       "<Figure size 432x288 with 2 Axes>"
      ]
     },
     "metadata": {
      "needs_background": "light"
     },
     "output_type": "display_data"
    }
   ],
   "source": [
    "combined.plot(kind='scatter',x='saf_s_11',y='sat_score')\n",
    "\n",
    "combined.plot(kind='hexbin',x='saf_s_11',y='sat_score',gridsize=25)"
   ]
  },
  {
   "cell_type": "markdown",
   "metadata": {},
   "source": [
    "Once we plotted both factors we can see that there is a cluster of schools in range between 1050 and 1300 score.\n",
    "\n",
    "Lets now compute the average safety score for each district."
   ]
  },
  {
   "cell_type": "code",
   "execution_count": 26,
   "metadata": {},
   "outputs": [
    {
     "data": {
      "text/plain": [
       "<matplotlib.collections.PathCollection at 0x1ee9a608390>"
      ]
     },
     "execution_count": 26,
     "metadata": {},
     "output_type": "execute_result"
    },
    {
     "data": {
      "image/png": "[encoded data removed]",
      "text/plain": [
       "<Figure size 432x288 with 1 Axes>"
      ]
     },
     "metadata": {},
     "output_type": "display_data"
    }
   ],
   "source": [
    "grouped = combined.groupby('school_dist')\n",
    "safety_dist = grouped.agg(np.mean)\n",
    "safety_dist.reset_index(inplace=True)\n",
    "\n",
    "from mpl_toolkits.basemap import Basemap\n",
    "m = Basemap(\n",
    "    projection='merc', \n",
    "    llcrnrlat=40.496044, \n",
    "    urcrnrlat=40.915256, \n",
    "    llcrnrlon=-74.255735, \n",
    "    urcrnrlon=-73.700272,\n",
    "    resolution='i')\n",
    "\n",
    "m.drawmapboundary(fill_color='#85A6D9')\n",
    "m.drawcoastlines(color='#6D5F47', linewidth=.4)\n",
    "m.drawrivers(color='#6D5F47', linewidth=.4)\n",
    "\n",
    "longitudes = safety_dist['lon'].tolist()\n",
    "latitudes = safety_dist['lat'].tolist()\n",
    "\n",
    "m.scatter(longitudes,latitudes,s=50,zorder=2,latlon=True,c=safety_dist['saf_s_11'],cmap='summer')"
   ]
  },
  {
   "cell_type": "markdown",
   "metadata": {},
   "source": [
    "High scores for safety are mark as yellow and low score green. We can see that most of low ranked districts in terms of safety are located in Brooklyn. We can compare our findings with NYC Safety maps and see that there is a strong correlation betwen them."
   ]
  },
  {
   "cell_type": "code",
   "execution_count": 33,
   "metadata": {},
   "outputs": [
    {
     "data": {
      "text/plain": [
       "<matplotlib.axes._subplots.AxesSubplot at 0x1ee99874550>"
      ]
     },
     "execution_count": 33,
     "metadata": {},
     "output_type": "execute_result"
    },
    {
     "data": {
      "image/png": "[encoded data removed]",
      "text/plain": [
       "<Figure size 432x288 with 1 Axes>"
      ]
     },
     "metadata": {
      "needs_background": "light"
     },
     "output_type": "display_data"
    }
   ],
   "source": [
    "race_columns = ['white_per','asian_per','black_per','hispanic_per']\n",
    "combined.corr()['sat_score'][race_columns].plot(kind='bar')"
   ]
  },
  {
   "cell_type": "markdown",
   "metadata": {},
   "source": [
    "We have plotted the correlations between races and SAT scores. As we can see schools with high percentage of white and asian race are more likly to pass at high score, whereas schools where high with high percentage of black and hispanic are more likly to get a low score.\n",
    "\n",
    "Lets now explore schools with low SAP scores and high percentage of hispanic race."
   ]
  },
  {
   "cell_type": "code",
   "execution_count": 35,
   "metadata": {},
   "outputs": [
    {
     "data": {
      "text/plain": [
       "<matplotlib.axes._subplots.AxesSubplot at 0x1ee998b2f98>"
      ]
     },
     "execution_count": 35,
     "metadata": {},
     "output_type": "execute_result"
    },
    {
     "data": {
      "image/png": "[encoded data removed]",
      "text/plain": [
       "<Figure size 432x288 with 1 Axes>"
      ]
     },
     "metadata": {
      "needs_background": "light"
     },
     "output_type": "display_data"
    }
   ],
   "source": [
    "combined.plot.scatter(x='hispanic_per',y='sat_score')"
   ]
  },
  {
   "cell_type": "markdown",
   "metadata": {},
   "source": [
    "Our scatter plot shows thats if the percentage of hispanic corses 25% the SAT score is less then 1500 points. For 100% hispanic schools the SAT score is less then 1200 points.\n",
    "\n",
    "Lets now check schools woth a hispanic_per close to 100%"
   ]
  },
  {
   "cell_type": "code",
   "execution_count": 38,
   "metadata": {},
   "outputs": [
    {
     "data": {
      "text/html": [
       "<div>\n",
       "<style scoped>\n",
       "    .dataframe tbody tr th:only-of-type {\n",
       "        vertical-align: middle;\n",
       "    }\n",
       "\n",
       "    .dataframe tbody tr th {\n",
       "        vertical-align: top;\n",
       "    }\n",
       "\n",
       "    .dataframe thead th {\n",
       "        text-align: right;\n",
       "    }\n",
       "</style>\n",
       "<table border=\"1\" class=\"dataframe\">\n",
       "  <thead>\n",
       "    <tr style=\"text-align: right;\">\n",
       "      <th></th>\n",
       "      <th>SCHOOL NAME</th>\n",
       "      <th>sat_score</th>\n",
       "      <th>ell_percent</th>\n",
       "    </tr>\n",
       "  </thead>\n",
       "  <tbody>\n",
       "    <tr>\n",
       "      <th>44</th>\n",
       "      <td>MANHATTAN BRIDGES HIGH SCHOOL</td>\n",
       "      <td>1058.0</td>\n",
       "      <td>72.6</td>\n",
       "    </tr>\n",
       "    <tr>\n",
       "      <th>82</th>\n",
       "      <td>WASHINGTON HEIGHTS EXPEDITIONARY LEARNING SCHOOL</td>\n",
       "      <td>1174.0</td>\n",
       "      <td>19.6</td>\n",
       "    </tr>\n",
       "    <tr>\n",
       "      <th>89</th>\n",
       "      <td>GREGORIO LUPERON HIGH SCHOOL FOR SCIENCE AND M...</td>\n",
       "      <td>1014.0</td>\n",
       "      <td>89.6</td>\n",
       "    </tr>\n",
       "    <tr>\n",
       "      <th>125</th>\n",
       "      <td>ACADEMY FOR LANGUAGE AND TECHNOLOGY</td>\n",
       "      <td>951.0</td>\n",
       "      <td>86.6</td>\n",
       "    </tr>\n",
       "    <tr>\n",
       "      <th>141</th>\n",
       "      <td>INTERNATIONAL SCHOOL FOR LIBERAL ARTS</td>\n",
       "      <td>934.0</td>\n",
       "      <td>79.9</td>\n",
       "    </tr>\n",
       "    <tr>\n",
       "      <th>176</th>\n",
       "      <td>PAN AMERICAN INTERNATIONAL HIGH SCHOOL AT MONROE</td>\n",
       "      <td>970.0</td>\n",
       "      <td>92.9</td>\n",
       "    </tr>\n",
       "    <tr>\n",
       "      <th>253</th>\n",
       "      <td>MULTICULTURAL HIGH SCHOOL</td>\n",
       "      <td>887.0</td>\n",
       "      <td>94.6</td>\n",
       "    </tr>\n",
       "    <tr>\n",
       "      <th>286</th>\n",
       "      <td>PAN AMERICAN INTERNATIONAL HIGH SCHOOL</td>\n",
       "      <td>951.0</td>\n",
       "      <td>91.3</td>\n",
       "    </tr>\n",
       "  </tbody>\n",
       "</table>\n",
       "</div>"
      ],
      "text/plain": [
       "                                           SCHOOL NAME  sat_score  ell_percent\n",
       "44                       MANHATTAN BRIDGES HIGH SCHOOL     1058.0         72.6\n",
       "82    WASHINGTON HEIGHTS EXPEDITIONARY LEARNING SCHOOL     1174.0         19.6\n",
       "89   GREGORIO LUPERON HIGH SCHOOL FOR SCIENCE AND M...     1014.0         89.6\n",
       "125                ACADEMY FOR LANGUAGE AND TECHNOLOGY      951.0         86.6\n",
       "141              INTERNATIONAL SCHOOL FOR LIBERAL ARTS      934.0         79.9\n",
       "176   PAN AMERICAN INTERNATIONAL HIGH SCHOOL AT MONROE      970.0         92.9\n",
       "253                          MULTICULTURAL HIGH SCHOOL      887.0         94.6\n",
       "286             PAN AMERICAN INTERNATIONAL HIGH SCHOOL      951.0         91.3"
      ]
     },
     "execution_count": 38,
     "metadata": {},
     "output_type": "execute_result"
    }
   ],
   "source": [
    "combined.loc[combined['hispanic_per']>95,['SCHOOL NAME','sat_score','ell_percent']]"
   ]
  },
  {
   "cell_type": "markdown",
   "metadata": {},
   "source": [
    "All of these schools have low SAT score and high percentage of english learners."
   ]
  },
  {
   "cell_type": "code",
   "execution_count": 39,
   "metadata": {},
   "outputs": [
    {
     "data": {
      "text/html": [
       "<div>\n",
       "<style scoped>\n",
       "    .dataframe tbody tr th:only-of-type {\n",
       "        vertical-align: middle;\n",
       "    }\n",
       "\n",
       "    .dataframe tbody tr th {\n",
       "        vertical-align: top;\n",
       "    }\n",
       "\n",
       "    .dataframe thead th {\n",
       "        text-align: right;\n",
       "    }\n",
       "</style>\n",
       "<table border=\"1\" class=\"dataframe\">\n",
       "  <thead>\n",
       "    <tr style=\"text-align: right;\">\n",
       "      <th></th>\n",
       "      <th>SCHOOL NAME</th>\n",
       "      <th>sat_score</th>\n",
       "      <th>ell_percent</th>\n",
       "    </tr>\n",
       "  </thead>\n",
       "  <tbody>\n",
       "    <tr>\n",
       "      <th>37</th>\n",
       "      <td>STUYVESANT HIGH SCHOOL</td>\n",
       "      <td>2096.0</td>\n",
       "      <td>0.0</td>\n",
       "    </tr>\n",
       "    <tr>\n",
       "      <th>151</th>\n",
       "      <td>BRONX HIGH SCHOOL OF SCIENCE</td>\n",
       "      <td>1969.0</td>\n",
       "      <td>0.1</td>\n",
       "    </tr>\n",
       "    <tr>\n",
       "      <th>187</th>\n",
       "      <td>BROOKLYN TECHNICAL HIGH SCHOOL</td>\n",
       "      <td>1833.0</td>\n",
       "      <td>0.1</td>\n",
       "    </tr>\n",
       "    <tr>\n",
       "      <th>327</th>\n",
       "      <td>QUEENS HIGH SCHOOL FOR THE SCIENCES AT YORK CO...</td>\n",
       "      <td>1868.0</td>\n",
       "      <td>0.2</td>\n",
       "    </tr>\n",
       "    <tr>\n",
       "      <th>356</th>\n",
       "      <td>STATEN ISLAND TECHNICAL HIGH SCHOOL</td>\n",
       "      <td>1953.0</td>\n",
       "      <td>0.1</td>\n",
       "    </tr>\n",
       "  </tbody>\n",
       "</table>\n",
       "</div>"
      ],
      "text/plain": [
       "                                           SCHOOL NAME  sat_score  ell_percent\n",
       "37                              STUYVESANT HIGH SCHOOL     2096.0          0.0\n",
       "151                       BRONX HIGH SCHOOL OF SCIENCE     1969.0          0.1\n",
       "187                     BROOKLYN TECHNICAL HIGH SCHOOL     1833.0          0.1\n",
       "327  QUEENS HIGH SCHOOL FOR THE SCIENCES AT YORK CO...     1868.0          0.2\n",
       "356                STATEN ISLAND TECHNICAL HIGH SCHOOL     1953.0          0.1"
      ]
     },
     "execution_count": 39,
     "metadata": {},
     "output_type": "execute_result"
    }
   ],
   "source": [
    "combined.loc[(combined['hispanic_per']<10) & (combined['sat_score']>1800),['SCHOOL NAME','sat_score','ell_percent']]"
   ]
  },
  {
   "cell_type": "markdown",
   "metadata": {},
   "source": [
    "Schools with high score and hispanic race less then 10% have students who are native english speakers. Majority of students are Asian.\n",
    "\n",
    "Lets now compare gender along SAT score."
   ]
  },
  {
   "cell_type": "code",
   "execution_count": 41,
   "metadata": {},
   "outputs": [
    {
     "data": {
      "text/plain": [
       "<matplotlib.axes._subplots.AxesSubplot at 0x1ee9a649eb8>"
      ]
     },
     "execution_count": 41,
     "metadata": {},
     "output_type": "execute_result"
    },
    {
     "data": {
      "image/png": "[encoded data removed]",
      "text/plain": [
       "<Figure size 432x288 with 1 Axes>"
      ]
     },
     "metadata": {
      "needs_background": "light"
     },
     "output_type": "display_data"
    }
   ],
   "source": [
    "combined.corr()['sat_score'][['female_per','male_per']].plot(kind='bar')"
   ]
  },
  {
   "cell_type": "markdown",
   "metadata": {},
   "source": [
    "There is a weak correlation between gender and SAT score. Women are more likly to get a higher score."
   ]
  },
  {
   "cell_type": "code",
   "execution_count": 43,
   "metadata": {},
   "outputs": [
    {
     "data": {
      "text/plain": [
       "<matplotlib.axes._subplots.AxesSubplot at 0x1ee9a814358>"
      ]
     },
     "execution_count": 43,
     "metadata": {},
     "output_type": "execute_result"
    },
    {
     "data": {
      "image/png": "[encoded data removed]",
      "text/plain": [
       "<Figure size 432x288 with 1 Axes>"
      ]
     },
     "metadata": {
      "needs_background": "light"
     },
     "output_type": "display_data"
    }
   ],
   "source": [
    "combined.plot(kind='scatter',x='female_per',y='sat_score')"
   ]
  },
  {
   "cell_type": "markdown",
   "metadata": {},
   "source": [
    "Graph shows that schools with less then 35% of female are scoring no more then 1400 points. While for schools with less then 35% of men thats not the case."
   ]
  },
  {
   "cell_type": "code",
   "execution_count": 47,
   "metadata": {},
   "outputs": [
    {
     "data": {
      "text/html": [
       "<div>\n",
       "<style scoped>\n",
       "    .dataframe tbody tr th:only-of-type {\n",
       "        vertical-align: middle;\n",
       "    }\n",
       "\n",
       "    .dataframe tbody tr th {\n",
       "        vertical-align: top;\n",
       "    }\n",
       "\n",
       "    .dataframe thead th {\n",
       "        text-align: right;\n",
       "    }\n",
       "</style>\n",
       "<table border=\"1\" class=\"dataframe\">\n",
       "  <thead>\n",
       "    <tr style=\"text-align: right;\">\n",
       "      <th></th>\n",
       "      <th>SCHOOL NAME</th>\n",
       "      <th>sat_score</th>\n",
       "      <th>ell_percent</th>\n",
       "      <th>female_per</th>\n",
       "    </tr>\n",
       "  </thead>\n",
       "  <tbody>\n",
       "    <tr>\n",
       "      <th>5</th>\n",
       "      <td>BARD HIGH SCHOOL EARLY COLLEGE</td>\n",
       "      <td>1856.0</td>\n",
       "      <td>0.2</td>\n",
       "      <td>68.7</td>\n",
       "    </tr>\n",
       "    <tr>\n",
       "      <th>26</th>\n",
       "      <td>ELEANOR ROOSEVELT HIGH SCHOOL</td>\n",
       "      <td>1758.0</td>\n",
       "      <td>0.2</td>\n",
       "      <td>67.5</td>\n",
       "    </tr>\n",
       "    <tr>\n",
       "      <th>60</th>\n",
       "      <td>BEACON HIGH SCHOOL</td>\n",
       "      <td>1744.0</td>\n",
       "      <td>0.2</td>\n",
       "      <td>61.0</td>\n",
       "    </tr>\n",
       "    <tr>\n",
       "      <th>61</th>\n",
       "      <td>FIORELLO H. LAGUARDIA HIGH SCHOOL OF MUSIC &amp; A...</td>\n",
       "      <td>1707.0</td>\n",
       "      <td>0.2</td>\n",
       "      <td>73.6</td>\n",
       "    </tr>\n",
       "    <tr>\n",
       "      <th>302</th>\n",
       "      <td>TOWNSEND HARRIS HIGH SCHOOL</td>\n",
       "      <td>1910.0</td>\n",
       "      <td>0.0</td>\n",
       "      <td>71.1</td>\n",
       "    </tr>\n",
       "  </tbody>\n",
       "</table>\n",
       "</div>"
      ],
      "text/plain": [
       "                                           SCHOOL NAME  sat_score  \\\n",
       "5                       BARD HIGH SCHOOL EARLY COLLEGE     1856.0   \n",
       "26                       ELEANOR ROOSEVELT HIGH SCHOOL     1758.0   \n",
       "60                                  BEACON HIGH SCHOOL     1744.0   \n",
       "61   FIORELLO H. LAGUARDIA HIGH SCHOOL OF MUSIC & A...     1707.0   \n",
       "302                        TOWNSEND HARRIS HIGH SCHOOL     1910.0   \n",
       "\n",
       "     ell_percent  female_per  \n",
       "5            0.2        68.7  \n",
       "26           0.2        67.5  \n",
       "60           0.2        61.0  \n",
       "61           0.2        73.6  \n",
       "302          0.0        71.1  "
      ]
     },
     "execution_count": 47,
     "metadata": {},
     "output_type": "execute_result"
    }
   ],
   "source": [
    "combined.loc[(combined['female_per']>60) & (combined['sat_score']>1700),['SCHOOL NAME','sat_score','ell_percent','female_per']]"
   ]
  },
  {
   "cell_type": "markdown",
   "metadata": {},
   "source": [
    "All of these have hiht rate of white and asian students and low percentage of english learners."
   ]
  },
  {
   "cell_type": "code",
   "execution_count": 48,
   "metadata": {},
   "outputs": [],
   "source": [
    "combined['ap_per'] = combined['AP Test Takers ']/combined['total_enrollment']"
   ]
  },
  {
   "cell_type": "code",
   "execution_count": 50,
   "metadata": {},
   "outputs": [
    {
     "data": {
      "text/plain": [
       "<matplotlib.axes._subplots.AxesSubplot at 0x1ee9a8599b0>"
      ]
     },
     "execution_count": 50,
     "metadata": {},
     "output_type": "execute_result"
    },
    {
     "data": {
      "image/png": "[encoded data removed]",
      "text/plain": [
       "<Figure size 432x288 with 1 Axes>"
      ]
     },
     "metadata": {
      "needs_background": "light"
     },
     "output_type": "display_data"
    }
   ],
   "source": [
    "combined.plot(kind='scatter',x='ap_per',y='sat_score')"
   ]
  },
  {
   "cell_type": "markdown",
   "metadata": {},
   "source": [
    "Graph shows that schools witch above 60% of AP exam taker are scoring less then 1300 points on SAT exam. The best SAT score get schools with AP participation between 20 and 60%.\n",
    "\n",
    "Lets check the correlation between class size and SAT score."
   ]
  },
  {
   "cell_type": "code",
   "execution_count": 53,
   "metadata": {},
   "outputs": [
    {
     "data": {
      "text/plain": [
       "<matplotlib.axes._subplots.AxesSubplot at 0x1ee9a681ac8>"
      ]
     },
     "execution_count": 53,
     "metadata": {},
     "output_type": "execute_result"
    },
    {
     "data": {
      "image/png": "[encoded data removed]",
      "text/plain": [
       "<Figure size 432x288 with 1 Axes>"
      ]
     },
     "metadata": {
      "needs_background": "light"
     },
     "output_type": "display_data"
    }
   ],
   "source": [
    "combined.corr()['sat_score'][['AVERAGE CLASS SIZE','SIZE OF SMALLEST CLASS','SIZE OF LARGEST CLASS']].plot(kind='bar')"
   ]
  },
  {
   "cell_type": "markdown",
   "metadata": {},
   "source": [
    "We could have expected that there would be a negative correlation between class size and SAT score. Thinking that if smaller class is then teacher can put more attention to individuals. But our results show opposite. Let's plot that to see whethere how does it look on the graph."
   ]
  },
  {
   "cell_type": "code",
   "execution_count": 55,
   "metadata": {},
   "outputs": [
    {
     "data": {
      "text/plain": [
       "<matplotlib.axes._subplots.AxesSubplot at 0x1ee9b8f7470>"
      ]
     },
     "execution_count": 55,
     "metadata": {},
     "output_type": "execute_result"
    },
    {
     "data": {
      "image/png": "[encoded data removed]",
      "text/plain": [
       "<Figure size 432x288 with 1 Axes>"
      ]
     },
     "metadata": {
      "needs_background": "light"
     },
     "output_type": "display_data"
    }
   ],
   "source": [
    "combined.plot(kind='scatter',x='AVERAGE CLASS SIZE',y='sat_score')"
   ]
  },
  {
   "cell_type": "markdown",
   "metadata": {},
   "source": [
    "Indeed there is a correlation for classes of size 20 and less the SAT score is less then 1400 points.There may be a number of reasons for that. One of them could be that low ranked schools get less interest of students so more students go to better ranked schools which means that classes are larger it that schools."
   ]
  },
  {
   "cell_type": "code",
   "execution_count": 202,
   "metadata": {},
   "outputs": [],
   "source": [
    "combined_updated = combined.copy()"
   ]
  },
  {
   "cell_type": "code",
   "execution_count": 203,
   "metadata": {},
   "outputs": [
    {
     "data": {
      "text/html": [
       "<div>\n",
       "<style scoped>\n",
       "    .dataframe tbody tr th:only-of-type {\n",
       "        vertical-align: middle;\n",
       "    }\n",
       "\n",
       "    .dataframe tbody tr th {\n",
       "        vertical-align: top;\n",
       "    }\n",
       "\n",
       "    .dataframe thead th {\n",
       "        text-align: right;\n",
       "    }\n",
       "</style>\n",
       "<table border=\"1\" class=\"dataframe\">\n",
       "  <thead>\n",
       "    <tr style=\"text-align: right;\">\n",
       "      <th></th>\n",
       "      <th>Borough</th>\n",
       "      <th>Block</th>\n",
       "      <th>Lot</th>\n",
       "      <th>Address</th>\n",
       "      <th>ZIP Code</th>\n",
       "      <th>Final 18/19 Actual AV</th>\n",
       "      <th>Tax Class</th>\n",
       "      <th>Bldg. Class</th>\n",
       "      <th>RPIE Year</th>\n",
       "      <th>Status</th>\n",
       "      <th>X Coordinate</th>\n",
       "      <th>Y Coordinate</th>\n",
       "      <th>Latitude</th>\n",
       "      <th>Longitude</th>\n",
       "      <th>Community District</th>\n",
       "      <th>City Council District</th>\n",
       "      <th>Census Tract</th>\n",
       "      <th>BIN</th>\n",
       "      <th>BBL</th>\n",
       "      <th>NTA</th>\n",
       "    </tr>\n",
       "  </thead>\n",
       "  <tbody>\n",
       "    <tr>\n",
       "      <th>0</th>\n",
       "      <td>Manhattan</td>\n",
       "      <td>8</td>\n",
       "      <td>39</td>\n",
       "      <td>32 PEARL STREET</td>\n",
       "      <td>10004</td>\n",
       "      <td>5982300</td>\n",
       "      <td>4</td>\n",
       "      <td>H3</td>\n",
       "      <td>2017</td>\n",
       "      <td>Nonfiler</td>\n",
       "      <td>980806.0</td>\n",
       "      <td>195484.0</td>\n",
       "      <td>40.703235</td>\n",
       "      <td>-74.012421</td>\n",
       "      <td>101.0</td>\n",
       "      <td>1.0</td>\n",
       "      <td>9.0</td>\n",
       "      <td>1078968.0</td>\n",
       "      <td>1.000080e+09</td>\n",
       "      <td>Battery Park City-Lower Manhattan</td>\n",
       "    </tr>\n",
       "    <tr>\n",
       "      <th>1</th>\n",
       "      <td>Manhattan</td>\n",
       "      <td>17</td>\n",
       "      <td>1205</td>\n",
       "      <td>50 WEST STREET  #COMM2</td>\n",
       "      <td>10006</td>\n",
       "      <td>67511</td>\n",
       "      <td>4</td>\n",
       "      <td>RB</td>\n",
       "      <td>2017</td>\n",
       "      <td>Nonfiler</td>\n",
       "      <td>979940.0</td>\n",
       "      <td>197211.0</td>\n",
       "      <td>40.707975</td>\n",
       "      <td>-74.015546</td>\n",
       "      <td>101.0</td>\n",
       "      <td>1.0</td>\n",
       "      <td>13.0</td>\n",
       "      <td>1000000.0</td>\n",
       "      <td>1.000178e+09</td>\n",
       "      <td>Battery Park City-Lower Manhattan</td>\n",
       "    </tr>\n",
       "    <tr>\n",
       "      <th>2</th>\n",
       "      <td>Manhattan</td>\n",
       "      <td>17</td>\n",
       "      <td>1207</td>\n",
       "      <td>50 WEST STREET  #COMM4</td>\n",
       "      <td>10006</td>\n",
       "      <td>76370</td>\n",
       "      <td>4</td>\n",
       "      <td>RB</td>\n",
       "      <td>2017</td>\n",
       "      <td>Nonfiler</td>\n",
       "      <td>979940.0</td>\n",
       "      <td>197211.0</td>\n",
       "      <td>40.707975</td>\n",
       "      <td>-74.015546</td>\n",
       "      <td>101.0</td>\n",
       "      <td>1.0</td>\n",
       "      <td>13.0</td>\n",
       "      <td>1000000.0</td>\n",
       "      <td>1.000178e+09</td>\n",
       "      <td>Battery Park City-Lower Manhattan</td>\n",
       "    </tr>\n",
       "    <tr>\n",
       "      <th>3</th>\n",
       "      <td>Manhattan</td>\n",
       "      <td>17</td>\n",
       "      <td>1210</td>\n",
       "      <td>50 WEST STREET  #COMM7</td>\n",
       "      <td>10006</td>\n",
       "      <td>92295</td>\n",
       "      <td>4</td>\n",
       "      <td>RB</td>\n",
       "      <td>2017</td>\n",
       "      <td>Nonfiler</td>\n",
       "      <td>979940.0</td>\n",
       "      <td>197211.0</td>\n",
       "      <td>40.707975</td>\n",
       "      <td>-74.015546</td>\n",
       "      <td>101.0</td>\n",
       "      <td>1.0</td>\n",
       "      <td>13.0</td>\n",
       "      <td>1000000.0</td>\n",
       "      <td>1.000178e+09</td>\n",
       "      <td>Battery Park City-Lower Manhattan</td>\n",
       "    </tr>\n",
       "    <tr>\n",
       "      <th>4</th>\n",
       "      <td>Manhattan</td>\n",
       "      <td>17</td>\n",
       "      <td>1213</td>\n",
       "      <td>50 WEST STREET  #COMM1</td>\n",
       "      <td>10006</td>\n",
       "      <td>68856</td>\n",
       "      <td>4</td>\n",
       "      <td>RB</td>\n",
       "      <td>2017</td>\n",
       "      <td>Nonfiler</td>\n",
       "      <td>979940.0</td>\n",
       "      <td>197211.0</td>\n",
       "      <td>40.707975</td>\n",
       "      <td>-74.015546</td>\n",
       "      <td>101.0</td>\n",
       "      <td>1.0</td>\n",
       "      <td>13.0</td>\n",
       "      <td>1000000.0</td>\n",
       "      <td>1.000178e+09</td>\n",
       "      <td>Battery Park City-Lower Manhattan</td>\n",
       "    </tr>\n",
       "    <tr>\n",
       "      <th>...</th>\n",
       "      <td>...</td>\n",
       "      <td>...</td>\n",
       "      <td>...</td>\n",
       "      <td>...</td>\n",
       "      <td>...</td>\n",
       "      <td>...</td>\n",
       "      <td>...</td>\n",
       "      <td>...</td>\n",
       "      <td>...</td>\n",
       "      <td>...</td>\n",
       "      <td>...</td>\n",
       "      <td>...</td>\n",
       "      <td>...</td>\n",
       "      <td>...</td>\n",
       "      <td>...</td>\n",
       "      <td>...</td>\n",
       "      <td>...</td>\n",
       "      <td>...</td>\n",
       "      <td>...</td>\n",
       "      <td>...</td>\n",
       "    </tr>\n",
       "    <tr>\n",
       "      <th>15342</th>\n",
       "      <td>Staten Island</td>\n",
       "      <td>8047</td>\n",
       "      <td>1</td>\n",
       "      <td>7481 AMBOY ROAD</td>\n",
       "      <td>10307</td>\n",
       "      <td>4</td>\n",
       "      <td>K4</td>\n",
       "      <td>$98,100</td>\n",
       "      <td>2017</td>\n",
       "      <td>Nonfiler</td>\n",
       "      <td>916018.0</td>\n",
       "      <td>125001.0</td>\n",
       "      <td>40.509512</td>\n",
       "      <td>-74.245375</td>\n",
       "      <td>503.0</td>\n",
       "      <td>5.0</td>\n",
       "      <td>248.0</td>\n",
       "      <td>5104962.0</td>\n",
       "      <td>5.080470e+09</td>\n",
       "      <td>Charleston-Richmond Valley-Tottenville</td>\n",
       "    </tr>\n",
       "    <tr>\n",
       "      <th>15343</th>\n",
       "      <td>Staten Island</td>\n",
       "      <td>8047</td>\n",
       "      <td>21</td>\n",
       "      <td>249 MAIN STREET</td>\n",
       "      <td>10307</td>\n",
       "      <td>4</td>\n",
       "      <td>K2</td>\n",
       "      <td>$113,850</td>\n",
       "      <td>2017</td>\n",
       "      <td>Nonfiler</td>\n",
       "      <td>915572.0</td>\n",
       "      <td>124868.0</td>\n",
       "      <td>40.509143</td>\n",
       "      <td>-74.246977</td>\n",
       "      <td>503.0</td>\n",
       "      <td>5.0</td>\n",
       "      <td>248.0</td>\n",
       "      <td>5089265.0</td>\n",
       "      <td>5.080470e+09</td>\n",
       "      <td>Charleston-Richmond Valley-Tottenville</td>\n",
       "    </tr>\n",
       "    <tr>\n",
       "      <th>15344</th>\n",
       "      <td>Staten Island</td>\n",
       "      <td>8047</td>\n",
       "      <td>22</td>\n",
       "      <td>245 MAIN STREET</td>\n",
       "      <td>10307</td>\n",
       "      <td>4</td>\n",
       "      <td>K1</td>\n",
       "      <td>$91,350</td>\n",
       "      <td>2017</td>\n",
       "      <td>Nonfiler</td>\n",
       "      <td>915550.0</td>\n",
       "      <td>124900.0</td>\n",
       "      <td>40.509231</td>\n",
       "      <td>-74.247057</td>\n",
       "      <td>503.0</td>\n",
       "      <td>5.0</td>\n",
       "      <td>248.0</td>\n",
       "      <td>5089266.0</td>\n",
       "      <td>5.080470e+09</td>\n",
       "      <td>Charleston-Richmond Valley-Tottenville</td>\n",
       "    </tr>\n",
       "    <tr>\n",
       "      <th>15345</th>\n",
       "      <td>Staten Island</td>\n",
       "      <td>8047</td>\n",
       "      <td>28</td>\n",
       "      <td>231 MAIN STREET</td>\n",
       "      <td>10307</td>\n",
       "      <td>4</td>\n",
       "      <td>K4</td>\n",
       "      <td>$166,050</td>\n",
       "      <td>2017</td>\n",
       "      <td>Nonfiler</td>\n",
       "      <td>915472.0</td>\n",
       "      <td>125013.0</td>\n",
       "      <td>40.509541</td>\n",
       "      <td>-74.247338</td>\n",
       "      <td>503.0</td>\n",
       "      <td>5.0</td>\n",
       "      <td>248.0</td>\n",
       "      <td>5104961.0</td>\n",
       "      <td>5.080470e+09</td>\n",
       "      <td>Charleston-Richmond Valley-Tottenville</td>\n",
       "    </tr>\n",
       "    <tr>\n",
       "      <th>15346</th>\n",
       "      <td>Staten Island</td>\n",
       "      <td>8047</td>\n",
       "      <td>43</td>\n",
       "      <td>203 MAIN STREET</td>\n",
       "      <td>10307</td>\n",
       "      <td>2</td>\n",
       "      <td>D7</td>\n",
       "      <td>$359,925</td>\n",
       "      <td>2017</td>\n",
       "      <td>Nonfiler</td>\n",
       "      <td>915305.0</td>\n",
       "      <td>125246.0</td>\n",
       "      <td>40.510179</td>\n",
       "      <td>-74.247941</td>\n",
       "      <td>503.0</td>\n",
       "      <td>5.0</td>\n",
       "      <td>248.0</td>\n",
       "      <td>5167682.0</td>\n",
       "      <td>5.080470e+09</td>\n",
       "      <td>Charleston-Richmond Valley-Tottenville</td>\n",
       "    </tr>\n",
       "  </tbody>\n",
       "</table>\n",
       "<p>15347 rows × 20 columns</p>\n",
       "</div>"
      ],
      "text/plain": [
       "             Borough  Block   Lot                 Address  ZIP Code  \\\n",
       "0          Manhattan      8    39         32 PEARL STREET     10004   \n",
       "1          Manhattan     17  1205  50 WEST STREET  #COMM2     10006   \n",
       "2          Manhattan     17  1207  50 WEST STREET  #COMM4     10006   \n",
       "3          Manhattan     17  1210  50 WEST STREET  #COMM7     10006   \n",
       "4          Manhattan     17  1213  50 WEST STREET  #COMM1     10006   \n",
       "...              ...    ...   ...                     ...       ...   \n",
       "15342  Staten Island   8047     1         7481 AMBOY ROAD     10307   \n",
       "15343  Staten Island   8047    21         249 MAIN STREET     10307   \n",
       "15344  Staten Island   8047    22         245 MAIN STREET     10307   \n",
       "15345  Staten Island   8047    28         231 MAIN STREET     10307   \n",
       "15346  Staten Island   8047    43         203 MAIN STREET     10307   \n",
       "\n",
       "       Final 18/19 Actual AV Tax Class Bldg. Class  RPIE Year    Status  \\\n",
       "0                    5982300         4          H3       2017  Nonfiler   \n",
       "1                      67511         4          RB       2017  Nonfiler   \n",
       "2                      76370         4          RB       2017  Nonfiler   \n",
       "3                      92295         4          RB       2017  Nonfiler   \n",
       "4                      68856         4          RB       2017  Nonfiler   \n",
       "...                      ...       ...         ...        ...       ...   \n",
       "15342                      4        K4     $98,100       2017  Nonfiler   \n",
       "15343                      4        K2    $113,850       2017  Nonfiler   \n",
       "15344                      4        K1     $91,350       2017  Nonfiler   \n",
       "15345                      4        K4    $166,050       2017  Nonfiler   \n",
       "15346                      2        D7    $359,925       2017  Nonfiler   \n",
       "\n",
       "       X Coordinate  Y Coordinate   Latitude  Longitude  Community District  \\\n",
       "0          980806.0      195484.0  40.703235 -74.012421               101.0   \n",
       "1          979940.0      197211.0  40.707975 -74.015546               101.0   \n",
       "2          979940.0      197211.0  40.707975 -74.015546               101.0   \n",
       "3          979940.0      197211.0  40.707975 -74.015546               101.0   \n",
       "4          979940.0      197211.0  40.707975 -74.015546               101.0   \n",
       "...             ...           ...        ...        ...                 ...   \n",
       "15342      916018.0      125001.0  40.509512 -74.245375               503.0   \n",
       "15343      915572.0      124868.0  40.509143 -74.246977               503.0   \n",
       "15344      915550.0      124900.0  40.509231 -74.247057               503.0   \n",
       "15345      915472.0      125013.0  40.509541 -74.247338               503.0   \n",
       "15346      915305.0      125246.0  40.510179 -74.247941               503.0   \n",
       "\n",
       "       City Council District  Census Tract        BIN           BBL  \\\n",
       "0                        1.0           9.0  1078968.0  1.000080e+09   \n",
       "1                        1.0          13.0  1000000.0  1.000178e+09   \n",
       "2                        1.0          13.0  1000000.0  1.000178e+09   \n",
       "3                        1.0          13.0  1000000.0  1.000178e+09   \n",
       "4                        1.0          13.0  1000000.0  1.000178e+09   \n",
       "...                      ...           ...        ...           ...   \n",
       "15342                    5.0         248.0  5104962.0  5.080470e+09   \n",
       "15343                    5.0         248.0  5089265.0  5.080470e+09   \n",
       "15344                    5.0         248.0  5089266.0  5.080470e+09   \n",
       "15345                    5.0         248.0  5104961.0  5.080470e+09   \n",
       "15346                    5.0         248.0  5167682.0  5.080470e+09   \n",
       "\n",
       "                                          NTA  \n",
       "0           Battery Park City-Lower Manhattan  \n",
       "1           Battery Park City-Lower Manhattan  \n",
       "2           Battery Park City-Lower Manhattan  \n",
       "3           Battery Park City-Lower Manhattan  \n",
       "4           Battery Park City-Lower Manhattan  \n",
       "...                                       ...  \n",
       "15342  Charleston-Richmond Valley-Tottenville  \n",
       "15343  Charleston-Richmond Valley-Tottenville  \n",
       "15344  Charleston-Richmond Valley-Tottenville  \n",
       "15345  Charleston-Richmond Valley-Tottenville  \n",
       "15346  Charleston-Richmond Valley-Tottenville  \n",
       "\n",
       "[15347 rows x 20 columns]"
      ]
     },
     "execution_count": 203,
     "metadata": {},
     "output_type": "execute_result"
    }
   ],
   "source": [
    "property_value = pd.read_csv('schools\\\\property_income.csv')\n",
    "property_value"
   ]
  },
  {
   "cell_type": "markdown",
   "metadata": {},
   "source": [
    "We are interested in actual value column but we can see that there is something wrong with values it looks like in the tail part columns are switched. We need to switch the second part of column 7 with column 4."
   ]
  },
  {
   "cell_type": "code",
   "execution_count": 204,
   "metadata": {},
   "outputs": [
    {
     "data": {
      "text/html": [
       "<div>\n",
       "<style scoped>\n",
       "    .dataframe tbody tr th:only-of-type {\n",
       "        vertical-align: middle;\n",
       "    }\n",
       "\n",
       "    .dataframe tbody tr th {\n",
       "        vertical-align: top;\n",
       "    }\n",
       "\n",
       "    .dataframe thead th {\n",
       "        text-align: right;\n",
       "    }\n",
       "</style>\n",
       "<table border=\"1\" class=\"dataframe\">\n",
       "  <thead>\n",
       "    <tr style=\"text-align: right;\">\n",
       "      <th></th>\n",
       "      <th>Borough</th>\n",
       "      <th>Block</th>\n",
       "      <th>Lot</th>\n",
       "      <th>Address</th>\n",
       "      <th>ZIP Code</th>\n",
       "      <th>Final 18/19 Actual AV</th>\n",
       "      <th>Tax Class</th>\n",
       "      <th>Bldg. Class</th>\n",
       "      <th>RPIE Year</th>\n",
       "      <th>Status</th>\n",
       "      <th>X Coordinate</th>\n",
       "      <th>Y Coordinate</th>\n",
       "      <th>Latitude</th>\n",
       "      <th>Longitude</th>\n",
       "      <th>Community District</th>\n",
       "      <th>City Council District</th>\n",
       "      <th>Census Tract</th>\n",
       "      <th>BIN</th>\n",
       "      <th>BBL</th>\n",
       "      <th>NTA</th>\n",
       "    </tr>\n",
       "  </thead>\n",
       "  <tbody>\n",
       "    <tr>\n",
       "      <th>1514</th>\n",
       "      <td>Staten Island</td>\n",
       "      <td>766</td>\n",
       "      <td>15</td>\n",
       "      <td>BRADLEY AVENUE</td>\n",
       "      <td>10314</td>\n",
       "      <td>4</td>\n",
       "      <td>G7</td>\n",
       "      <td>$62,100</td>\n",
       "      <td>2017</td>\n",
       "      <td>Nonfiler</td>\n",
       "      <td>NaN</td>\n",
       "      <td>NaN</td>\n",
       "      <td>NaN</td>\n",
       "      <td>NaN</td>\n",
       "      <td>NaN</td>\n",
       "      <td>NaN</td>\n",
       "      <td>NaN</td>\n",
       "      <td>NaN</td>\n",
       "      <td>NaN</td>\n",
       "      <td>NaN</td>\n",
       "    </tr>\n",
       "    <tr>\n",
       "      <th>1605</th>\n",
       "      <td>Staten Island</td>\n",
       "      <td>4624</td>\n",
       "      <td>373</td>\n",
       "      <td>AMBOY ROAD</td>\n",
       "      <td>10308</td>\n",
       "      <td>4</td>\n",
       "      <td>G7</td>\n",
       "      <td>$84,600</td>\n",
       "      <td>2017</td>\n",
       "      <td>Nonfiler</td>\n",
       "      <td>NaN</td>\n",
       "      <td>NaN</td>\n",
       "      <td>NaN</td>\n",
       "      <td>NaN</td>\n",
       "      <td>NaN</td>\n",
       "      <td>NaN</td>\n",
       "      <td>NaN</td>\n",
       "      <td>NaN</td>\n",
       "      <td>NaN</td>\n",
       "      <td>NaN</td>\n",
       "    </tr>\n",
       "    <tr>\n",
       "      <th>14454</th>\n",
       "      <td>Staten Island</td>\n",
       "      <td>1</td>\n",
       "      <td>10</td>\n",
       "      <td>139 BAY STREET</td>\n",
       "      <td>10301</td>\n",
       "      <td>4</td>\n",
       "      <td>E1</td>\n",
       "      <td>$670,950</td>\n",
       "      <td>2017</td>\n",
       "      <td>Nonfiler</td>\n",
       "      <td>963233.0</td>\n",
       "      <td>172008.0</td>\n",
       "      <td>40.638774</td>\n",
       "      <td>-74.075727</td>\n",
       "      <td>501.0</td>\n",
       "      <td>5.0</td>\n",
       "      <td>3.0</td>\n",
       "      <td>5000001.0</td>\n",
       "      <td>5.000010e+09</td>\n",
       "      <td>West New Brighton-New Brighton-St. George</td>\n",
       "    </tr>\n",
       "    <tr>\n",
       "      <th>14455</th>\n",
       "      <td>Staten Island</td>\n",
       "      <td>1</td>\n",
       "      <td>1402</td>\n",
       "      <td>35R BAY STREET  #  RES</td>\n",
       "      <td>10301</td>\n",
       "      <td>4</td>\n",
       "      <td>RH</td>\n",
       "      <td>$487,317</td>\n",
       "      <td>2017</td>\n",
       "      <td>Nonfiler</td>\n",
       "      <td>NaN</td>\n",
       "      <td>NaN</td>\n",
       "      <td>NaN</td>\n",
       "      <td>NaN</td>\n",
       "      <td>NaN</td>\n",
       "      <td>NaN</td>\n",
       "      <td>NaN</td>\n",
       "      <td>NaN</td>\n",
       "      <td>NaN</td>\n",
       "      <td>NaN</td>\n",
       "    </tr>\n",
       "    <tr>\n",
       "      <th>14456</th>\n",
       "      <td>Staten Island</td>\n",
       "      <td>2</td>\n",
       "      <td>759</td>\n",
       "      <td>7 BANK STREET</td>\n",
       "      <td>10301</td>\n",
       "      <td>4</td>\n",
       "      <td>E1</td>\n",
       "      <td>$143,550</td>\n",
       "      <td>2017</td>\n",
       "      <td>Nonfiler</td>\n",
       "      <td>959562.0</td>\n",
       "      <td>175084.0</td>\n",
       "      <td>40.647208</td>\n",
       "      <td>-74.088966</td>\n",
       "      <td>501.0</td>\n",
       "      <td>5.0</td>\n",
       "      <td>7.0</td>\n",
       "      <td>5127496.0</td>\n",
       "      <td>5.000021e+09</td>\n",
       "      <td>West New Brighton-New Brighton-St. George</td>\n",
       "    </tr>\n",
       "    <tr>\n",
       "      <th>...</th>\n",
       "      <td>...</td>\n",
       "      <td>...</td>\n",
       "      <td>...</td>\n",
       "      <td>...</td>\n",
       "      <td>...</td>\n",
       "      <td>...</td>\n",
       "      <td>...</td>\n",
       "      <td>...</td>\n",
       "      <td>...</td>\n",
       "      <td>...</td>\n",
       "      <td>...</td>\n",
       "      <td>...</td>\n",
       "      <td>...</td>\n",
       "      <td>...</td>\n",
       "      <td>...</td>\n",
       "      <td>...</td>\n",
       "      <td>...</td>\n",
       "      <td>...</td>\n",
       "      <td>...</td>\n",
       "      <td>...</td>\n",
       "    </tr>\n",
       "    <tr>\n",
       "      <th>15342</th>\n",
       "      <td>Staten Island</td>\n",
       "      <td>8047</td>\n",
       "      <td>1</td>\n",
       "      <td>7481 AMBOY ROAD</td>\n",
       "      <td>10307</td>\n",
       "      <td>4</td>\n",
       "      <td>K4</td>\n",
       "      <td>$98,100</td>\n",
       "      <td>2017</td>\n",
       "      <td>Nonfiler</td>\n",
       "      <td>916018.0</td>\n",
       "      <td>125001.0</td>\n",
       "      <td>40.509512</td>\n",
       "      <td>-74.245375</td>\n",
       "      <td>503.0</td>\n",
       "      <td>5.0</td>\n",
       "      <td>248.0</td>\n",
       "      <td>5104962.0</td>\n",
       "      <td>5.080470e+09</td>\n",
       "      <td>Charleston-Richmond Valley-Tottenville</td>\n",
       "    </tr>\n",
       "    <tr>\n",
       "      <th>15343</th>\n",
       "      <td>Staten Island</td>\n",
       "      <td>8047</td>\n",
       "      <td>21</td>\n",
       "      <td>249 MAIN STREET</td>\n",
       "      <td>10307</td>\n",
       "      <td>4</td>\n",
       "      <td>K2</td>\n",
       "      <td>$113,850</td>\n",
       "      <td>2017</td>\n",
       "      <td>Nonfiler</td>\n",
       "      <td>915572.0</td>\n",
       "      <td>124868.0</td>\n",
       "      <td>40.509143</td>\n",
       "      <td>-74.246977</td>\n",
       "      <td>503.0</td>\n",
       "      <td>5.0</td>\n",
       "      <td>248.0</td>\n",
       "      <td>5089265.0</td>\n",
       "      <td>5.080470e+09</td>\n",
       "      <td>Charleston-Richmond Valley-Tottenville</td>\n",
       "    </tr>\n",
       "    <tr>\n",
       "      <th>15344</th>\n",
       "      <td>Staten Island</td>\n",
       "      <td>8047</td>\n",
       "      <td>22</td>\n",
       "      <td>245 MAIN STREET</td>\n",
       "      <td>10307</td>\n",
       "      <td>4</td>\n",
       "      <td>K1</td>\n",
       "      <td>$91,350</td>\n",
       "      <td>2017</td>\n",
       "      <td>Nonfiler</td>\n",
       "      <td>915550.0</td>\n",
       "      <td>124900.0</td>\n",
       "      <td>40.509231</td>\n",
       "      <td>-74.247057</td>\n",
       "      <td>503.0</td>\n",
       "      <td>5.0</td>\n",
       "      <td>248.0</td>\n",
       "      <td>5089266.0</td>\n",
       "      <td>5.080470e+09</td>\n",
       "      <td>Charleston-Richmond Valley-Tottenville</td>\n",
       "    </tr>\n",
       "    <tr>\n",
       "      <th>15345</th>\n",
       "      <td>Staten Island</td>\n",
       "      <td>8047</td>\n",
       "      <td>28</td>\n",
       "      <td>231 MAIN STREET</td>\n",
       "      <td>10307</td>\n",
       "      <td>4</td>\n",
       "      <td>K4</td>\n",
       "      <td>$166,050</td>\n",
       "      <td>2017</td>\n",
       "      <td>Nonfiler</td>\n",
       "      <td>915472.0</td>\n",
       "      <td>125013.0</td>\n",
       "      <td>40.509541</td>\n",
       "      <td>-74.247338</td>\n",
       "      <td>503.0</td>\n",
       "      <td>5.0</td>\n",
       "      <td>248.0</td>\n",
       "      <td>5104961.0</td>\n",
       "      <td>5.080470e+09</td>\n",
       "      <td>Charleston-Richmond Valley-Tottenville</td>\n",
       "    </tr>\n",
       "    <tr>\n",
       "      <th>15346</th>\n",
       "      <td>Staten Island</td>\n",
       "      <td>8047</td>\n",
       "      <td>43</td>\n",
       "      <td>203 MAIN STREET</td>\n",
       "      <td>10307</td>\n",
       "      <td>2</td>\n",
       "      <td>D7</td>\n",
       "      <td>$359,925</td>\n",
       "      <td>2017</td>\n",
       "      <td>Nonfiler</td>\n",
       "      <td>915305.0</td>\n",
       "      <td>125246.0</td>\n",
       "      <td>40.510179</td>\n",
       "      <td>-74.247941</td>\n",
       "      <td>503.0</td>\n",
       "      <td>5.0</td>\n",
       "      <td>248.0</td>\n",
       "      <td>5167682.0</td>\n",
       "      <td>5.080470e+09</td>\n",
       "      <td>Charleston-Richmond Valley-Tottenville</td>\n",
       "    </tr>\n",
       "  </tbody>\n",
       "</table>\n",
       "<p>895 rows × 20 columns</p>\n",
       "</div>"
      ],
      "text/plain": [
       "             Borough  Block   Lot                 Address  ZIP Code  \\\n",
       "1514   Staten Island    766    15          BRADLEY AVENUE     10314   \n",
       "1605   Staten Island   4624   373              AMBOY ROAD     10308   \n",
       "14454  Staten Island      1    10          139 BAY STREET     10301   \n",
       "14455  Staten Island      1  1402  35R BAY STREET  #  RES     10301   \n",
       "14456  Staten Island      2   759           7 BANK STREET     10301   \n",
       "...              ...    ...   ...                     ...       ...   \n",
       "15342  Staten Island   8047     1         7481 AMBOY ROAD     10307   \n",
       "15343  Staten Island   8047    21         249 MAIN STREET     10307   \n",
       "15344  Staten Island   8047    22         245 MAIN STREET     10307   \n",
       "15345  Staten Island   8047    28         231 MAIN STREET     10307   \n",
       "15346  Staten Island   8047    43         203 MAIN STREET     10307   \n",
       "\n",
       "       Final 18/19 Actual AV Tax Class Bldg. Class  RPIE Year    Status  \\\n",
       "1514                       4        G7     $62,100       2017  Nonfiler   \n",
       "1605                       4        G7     $84,600       2017  Nonfiler   \n",
       "14454                      4        E1    $670,950       2017  Nonfiler   \n",
       "14455                      4        RH    $487,317       2017  Nonfiler   \n",
       "14456                      4        E1    $143,550       2017  Nonfiler   \n",
       "...                      ...       ...         ...        ...       ...   \n",
       "15342                      4        K4     $98,100       2017  Nonfiler   \n",
       "15343                      4        K2    $113,850       2017  Nonfiler   \n",
       "15344                      4        K1     $91,350       2017  Nonfiler   \n",
       "15345                      4        K4    $166,050       2017  Nonfiler   \n",
       "15346                      2        D7    $359,925       2017  Nonfiler   \n",
       "\n",
       "       X Coordinate  Y Coordinate   Latitude  Longitude  Community District  \\\n",
       "1514            NaN           NaN        NaN        NaN                 NaN   \n",
       "1605            NaN           NaN        NaN        NaN                 NaN   \n",
       "14454      963233.0      172008.0  40.638774 -74.075727               501.0   \n",
       "14455           NaN           NaN        NaN        NaN                 NaN   \n",
       "14456      959562.0      175084.0  40.647208 -74.088966               501.0   \n",
       "...             ...           ...        ...        ...                 ...   \n",
       "15342      916018.0      125001.0  40.509512 -74.245375               503.0   \n",
       "15343      915572.0      124868.0  40.509143 -74.246977               503.0   \n",
       "15344      915550.0      124900.0  40.509231 -74.247057               503.0   \n",
       "15345      915472.0      125013.0  40.509541 -74.247338               503.0   \n",
       "15346      915305.0      125246.0  40.510179 -74.247941               503.0   \n",
       "\n",
       "       City Council District  Census Tract        BIN           BBL  \\\n",
       "1514                     NaN           NaN        NaN           NaN   \n",
       "1605                     NaN           NaN        NaN           NaN   \n",
       "14454                    5.0           3.0  5000001.0  5.000010e+09   \n",
       "14455                    NaN           NaN        NaN           NaN   \n",
       "14456                    5.0           7.0  5127496.0  5.000021e+09   \n",
       "...                      ...           ...        ...           ...   \n",
       "15342                    5.0         248.0  5104962.0  5.080470e+09   \n",
       "15343                    5.0         248.0  5089265.0  5.080470e+09   \n",
       "15344                    5.0         248.0  5089266.0  5.080470e+09   \n",
       "15345                    5.0         248.0  5104961.0  5.080470e+09   \n",
       "15346                    5.0         248.0  5167682.0  5.080470e+09   \n",
       "\n",
       "                                             NTA  \n",
       "1514                                         NaN  \n",
       "1605                                         NaN  \n",
       "14454  West New Brighton-New Brighton-St. George  \n",
       "14455                                        NaN  \n",
       "14456  West New Brighton-New Brighton-St. George  \n",
       "...                                          ...  \n",
       "15342     Charleston-Richmond Valley-Tottenville  \n",
       "15343     Charleston-Richmond Valley-Tottenville  \n",
       "15344     Charleston-Richmond Valley-Tottenville  \n",
       "15345     Charleston-Richmond Valley-Tottenville  \n",
       "15346     Charleston-Richmond Valley-Tottenville  \n",
       "\n",
       "[895 rows x 20 columns]"
      ]
     },
     "execution_count": 204,
     "metadata": {},
     "output_type": "execute_result"
    }
   ],
   "source": [
    "property_value.loc[property_value['Final 18/19 Actual AV']<5]"
   ]
  },
  {
   "cell_type": "code",
   "execution_count": 205,
   "metadata": {},
   "outputs": [
    {
     "data": {
      "text/html": [
       "<div>\n",
       "<style scoped>\n",
       "    .dataframe tbody tr th:only-of-type {\n",
       "        vertical-align: middle;\n",
       "    }\n",
       "\n",
       "    .dataframe tbody tr th {\n",
       "        vertical-align: top;\n",
       "    }\n",
       "\n",
       "    .dataframe thead th {\n",
       "        text-align: right;\n",
       "    }\n",
       "</style>\n",
       "<table border=\"1\" class=\"dataframe\">\n",
       "  <thead>\n",
       "    <tr style=\"text-align: right;\">\n",
       "      <th></th>\n",
       "      <th>Borough</th>\n",
       "      <th>Block</th>\n",
       "      <th>Lot</th>\n",
       "      <th>Address</th>\n",
       "      <th>ZIP Code</th>\n",
       "      <th>Final 18/19 Actual AV</th>\n",
       "      <th>Tax Class</th>\n",
       "      <th>Bldg. Class</th>\n",
       "      <th>RPIE Year</th>\n",
       "      <th>Status</th>\n",
       "      <th>X Coordinate</th>\n",
       "      <th>Y Coordinate</th>\n",
       "      <th>Latitude</th>\n",
       "      <th>Longitude</th>\n",
       "      <th>Community District</th>\n",
       "      <th>City Council District</th>\n",
       "      <th>Census Tract</th>\n",
       "      <th>BIN</th>\n",
       "      <th>BBL</th>\n",
       "      <th>NTA</th>\n",
       "    </tr>\n",
       "  </thead>\n",
       "  <tbody>\n",
       "    <tr>\n",
       "      <th>1514</th>\n",
       "      <td>Staten Island</td>\n",
       "      <td>766</td>\n",
       "      <td>15</td>\n",
       "      <td>BRADLEY AVENUE</td>\n",
       "      <td>10314</td>\n",
       "      <td>4</td>\n",
       "      <td>G7</td>\n",
       "      <td>$62,100</td>\n",
       "      <td>2017</td>\n",
       "      <td>Nonfiler</td>\n",
       "      <td>NaN</td>\n",
       "      <td>NaN</td>\n",
       "      <td>NaN</td>\n",
       "      <td>NaN</td>\n",
       "      <td>NaN</td>\n",
       "      <td>NaN</td>\n",
       "      <td>NaN</td>\n",
       "      <td>NaN</td>\n",
       "      <td>NaN</td>\n",
       "      <td>NaN</td>\n",
       "    </tr>\n",
       "    <tr>\n",
       "      <th>1605</th>\n",
       "      <td>Staten Island</td>\n",
       "      <td>4624</td>\n",
       "      <td>373</td>\n",
       "      <td>AMBOY ROAD</td>\n",
       "      <td>10308</td>\n",
       "      <td>4</td>\n",
       "      <td>G7</td>\n",
       "      <td>$84,600</td>\n",
       "      <td>2017</td>\n",
       "      <td>Nonfiler</td>\n",
       "      <td>NaN</td>\n",
       "      <td>NaN</td>\n",
       "      <td>NaN</td>\n",
       "      <td>NaN</td>\n",
       "      <td>NaN</td>\n",
       "      <td>NaN</td>\n",
       "      <td>NaN</td>\n",
       "      <td>NaN</td>\n",
       "      <td>NaN</td>\n",
       "      <td>NaN</td>\n",
       "    </tr>\n",
       "    <tr>\n",
       "      <th>14454</th>\n",
       "      <td>Staten Island</td>\n",
       "      <td>1</td>\n",
       "      <td>10</td>\n",
       "      <td>139 BAY STREET</td>\n",
       "      <td>10301</td>\n",
       "      <td>4</td>\n",
       "      <td>E1</td>\n",
       "      <td>$670,950</td>\n",
       "      <td>2017</td>\n",
       "      <td>Nonfiler</td>\n",
       "      <td>963233.0</td>\n",
       "      <td>172008.0</td>\n",
       "      <td>40.638774</td>\n",
       "      <td>-74.075727</td>\n",
       "      <td>501.0</td>\n",
       "      <td>5.0</td>\n",
       "      <td>3.0</td>\n",
       "      <td>5000001.0</td>\n",
       "      <td>5.000010e+09</td>\n",
       "      <td>West New Brighton-New Brighton-St. George</td>\n",
       "    </tr>\n",
       "    <tr>\n",
       "      <th>14455</th>\n",
       "      <td>Staten Island</td>\n",
       "      <td>1</td>\n",
       "      <td>1402</td>\n",
       "      <td>35R BAY STREET  #  RES</td>\n",
       "      <td>10301</td>\n",
       "      <td>4</td>\n",
       "      <td>RH</td>\n",
       "      <td>$487,317</td>\n",
       "      <td>2017</td>\n",
       "      <td>Nonfiler</td>\n",
       "      <td>NaN</td>\n",
       "      <td>NaN</td>\n",
       "      <td>NaN</td>\n",
       "      <td>NaN</td>\n",
       "      <td>NaN</td>\n",
       "      <td>NaN</td>\n",
       "      <td>NaN</td>\n",
       "      <td>NaN</td>\n",
       "      <td>NaN</td>\n",
       "      <td>NaN</td>\n",
       "    </tr>\n",
       "    <tr>\n",
       "      <th>14456</th>\n",
       "      <td>Staten Island</td>\n",
       "      <td>2</td>\n",
       "      <td>759</td>\n",
       "      <td>7 BANK STREET</td>\n",
       "      <td>10301</td>\n",
       "      <td>4</td>\n",
       "      <td>E1</td>\n",
       "      <td>$143,550</td>\n",
       "      <td>2017</td>\n",
       "      <td>Nonfiler</td>\n",
       "      <td>959562.0</td>\n",
       "      <td>175084.0</td>\n",
       "      <td>40.647208</td>\n",
       "      <td>-74.088966</td>\n",
       "      <td>501.0</td>\n",
       "      <td>5.0</td>\n",
       "      <td>7.0</td>\n",
       "      <td>5127496.0</td>\n",
       "      <td>5.000021e+09</td>\n",
       "      <td>West New Brighton-New Brighton-St. George</td>\n",
       "    </tr>\n",
       "    <tr>\n",
       "      <th>...</th>\n",
       "      <td>...</td>\n",
       "      <td>...</td>\n",
       "      <td>...</td>\n",
       "      <td>...</td>\n",
       "      <td>...</td>\n",
       "      <td>...</td>\n",
       "      <td>...</td>\n",
       "      <td>...</td>\n",
       "      <td>...</td>\n",
       "      <td>...</td>\n",
       "      <td>...</td>\n",
       "      <td>...</td>\n",
       "      <td>...</td>\n",
       "      <td>...</td>\n",
       "      <td>...</td>\n",
       "      <td>...</td>\n",
       "      <td>...</td>\n",
       "      <td>...</td>\n",
       "      <td>...</td>\n",
       "      <td>...</td>\n",
       "    </tr>\n",
       "    <tr>\n",
       "      <th>15342</th>\n",
       "      <td>Staten Island</td>\n",
       "      <td>8047</td>\n",
       "      <td>1</td>\n",
       "      <td>7481 AMBOY ROAD</td>\n",
       "      <td>10307</td>\n",
       "      <td>4</td>\n",
       "      <td>K4</td>\n",
       "      <td>$98,100</td>\n",
       "      <td>2017</td>\n",
       "      <td>Nonfiler</td>\n",
       "      <td>916018.0</td>\n",
       "      <td>125001.0</td>\n",
       "      <td>40.509512</td>\n",
       "      <td>-74.245375</td>\n",
       "      <td>503.0</td>\n",
       "      <td>5.0</td>\n",
       "      <td>248.0</td>\n",
       "      <td>5104962.0</td>\n",
       "      <td>5.080470e+09</td>\n",
       "      <td>Charleston-Richmond Valley-Tottenville</td>\n",
       "    </tr>\n",
       "    <tr>\n",
       "      <th>15343</th>\n",
       "      <td>Staten Island</td>\n",
       "      <td>8047</td>\n",
       "      <td>21</td>\n",
       "      <td>249 MAIN STREET</td>\n",
       "      <td>10307</td>\n",
       "      <td>4</td>\n",
       "      <td>K2</td>\n",
       "      <td>$113,850</td>\n",
       "      <td>2017</td>\n",
       "      <td>Nonfiler</td>\n",
       "      <td>915572.0</td>\n",
       "      <td>124868.0</td>\n",
       "      <td>40.509143</td>\n",
       "      <td>-74.246977</td>\n",
       "      <td>503.0</td>\n",
       "      <td>5.0</td>\n",
       "      <td>248.0</td>\n",
       "      <td>5089265.0</td>\n",
       "      <td>5.080470e+09</td>\n",
       "      <td>Charleston-Richmond Valley-Tottenville</td>\n",
       "    </tr>\n",
       "    <tr>\n",
       "      <th>15344</th>\n",
       "      <td>Staten Island</td>\n",
       "      <td>8047</td>\n",
       "      <td>22</td>\n",
       "      <td>245 MAIN STREET</td>\n",
       "      <td>10307</td>\n",
       "      <td>4</td>\n",
       "      <td>K1</td>\n",
       "      <td>$91,350</td>\n",
       "      <td>2017</td>\n",
       "      <td>Nonfiler</td>\n",
       "      <td>915550.0</td>\n",
       "      <td>124900.0</td>\n",
       "      <td>40.509231</td>\n",
       "      <td>-74.247057</td>\n",
       "      <td>503.0</td>\n",
       "      <td>5.0</td>\n",
       "      <td>248.0</td>\n",
       "      <td>5089266.0</td>\n",
       "      <td>5.080470e+09</td>\n",
       "      <td>Charleston-Richmond Valley-Tottenville</td>\n",
       "    </tr>\n",
       "    <tr>\n",
       "      <th>15345</th>\n",
       "      <td>Staten Island</td>\n",
       "      <td>8047</td>\n",
       "      <td>28</td>\n",
       "      <td>231 MAIN STREET</td>\n",
       "      <td>10307</td>\n",
       "      <td>4</td>\n",
       "      <td>K4</td>\n",
       "      <td>$166,050</td>\n",
       "      <td>2017</td>\n",
       "      <td>Nonfiler</td>\n",
       "      <td>915472.0</td>\n",
       "      <td>125013.0</td>\n",
       "      <td>40.509541</td>\n",
       "      <td>-74.247338</td>\n",
       "      <td>503.0</td>\n",
       "      <td>5.0</td>\n",
       "      <td>248.0</td>\n",
       "      <td>5104961.0</td>\n",
       "      <td>5.080470e+09</td>\n",
       "      <td>Charleston-Richmond Valley-Tottenville</td>\n",
       "    </tr>\n",
       "    <tr>\n",
       "      <th>15346</th>\n",
       "      <td>Staten Island</td>\n",
       "      <td>8047</td>\n",
       "      <td>43</td>\n",
       "      <td>203 MAIN STREET</td>\n",
       "      <td>10307</td>\n",
       "      <td>2</td>\n",
       "      <td>D7</td>\n",
       "      <td>$359,925</td>\n",
       "      <td>2017</td>\n",
       "      <td>Nonfiler</td>\n",
       "      <td>915305.0</td>\n",
       "      <td>125246.0</td>\n",
       "      <td>40.510179</td>\n",
       "      <td>-74.247941</td>\n",
       "      <td>503.0</td>\n",
       "      <td>5.0</td>\n",
       "      <td>248.0</td>\n",
       "      <td>5167682.0</td>\n",
       "      <td>5.080470e+09</td>\n",
       "      <td>Charleston-Richmond Valley-Tottenville</td>\n",
       "    </tr>\n",
       "  </tbody>\n",
       "</table>\n",
       "<p>895 rows × 20 columns</p>\n",
       "</div>"
      ],
      "text/plain": [
       "             Borough  Block   Lot                 Address  ZIP Code  \\\n",
       "1514   Staten Island    766    15          BRADLEY AVENUE     10314   \n",
       "1605   Staten Island   4624   373              AMBOY ROAD     10308   \n",
       "14454  Staten Island      1    10          139 BAY STREET     10301   \n",
       "14455  Staten Island      1  1402  35R BAY STREET  #  RES     10301   \n",
       "14456  Staten Island      2   759           7 BANK STREET     10301   \n",
       "...              ...    ...   ...                     ...       ...   \n",
       "15342  Staten Island   8047     1         7481 AMBOY ROAD     10307   \n",
       "15343  Staten Island   8047    21         249 MAIN STREET     10307   \n",
       "15344  Staten Island   8047    22         245 MAIN STREET     10307   \n",
       "15345  Staten Island   8047    28         231 MAIN STREET     10307   \n",
       "15346  Staten Island   8047    43         203 MAIN STREET     10307   \n",
       "\n",
       "       Final 18/19 Actual AV Tax Class Bldg. Class  RPIE Year    Status  \\\n",
       "1514                       4        G7     $62,100       2017  Nonfiler   \n",
       "1605                       4        G7     $84,600       2017  Nonfiler   \n",
       "14454                      4        E1    $670,950       2017  Nonfiler   \n",
       "14455                      4        RH    $487,317       2017  Nonfiler   \n",
       "14456                      4        E1    $143,550       2017  Nonfiler   \n",
       "...                      ...       ...         ...        ...       ...   \n",
       "15342                      4        K4     $98,100       2017  Nonfiler   \n",
       "15343                      4        K2    $113,850       2017  Nonfiler   \n",
       "15344                      4        K1     $91,350       2017  Nonfiler   \n",
       "15345                      4        K4    $166,050       2017  Nonfiler   \n",
       "15346                      2        D7    $359,925       2017  Nonfiler   \n",
       "\n",
       "       X Coordinate  Y Coordinate   Latitude  Longitude  Community District  \\\n",
       "1514            NaN           NaN        NaN        NaN                 NaN   \n",
       "1605            NaN           NaN        NaN        NaN                 NaN   \n",
       "14454      963233.0      172008.0  40.638774 -74.075727               501.0   \n",
       "14455           NaN           NaN        NaN        NaN                 NaN   \n",
       "14456      959562.0      175084.0  40.647208 -74.088966               501.0   \n",
       "...             ...           ...        ...        ...                 ...   \n",
       "15342      916018.0      125001.0  40.509512 -74.245375               503.0   \n",
       "15343      915572.0      124868.0  40.509143 -74.246977               503.0   \n",
       "15344      915550.0      124900.0  40.509231 -74.247057               503.0   \n",
       "15345      915472.0      125013.0  40.509541 -74.247338               503.0   \n",
       "15346      915305.0      125246.0  40.510179 -74.247941               503.0   \n",
       "\n",
       "       City Council District  Census Tract        BIN           BBL  \\\n",
       "1514                     NaN           NaN        NaN           NaN   \n",
       "1605                     NaN           NaN        NaN           NaN   \n",
       "14454                    5.0           3.0  5000001.0  5.000010e+09   \n",
       "14455                    NaN           NaN        NaN           NaN   \n",
       "14456                    5.0           7.0  5127496.0  5.000021e+09   \n",
       "...                      ...           ...        ...           ...   \n",
       "15342                    5.0         248.0  5104962.0  5.080470e+09   \n",
       "15343                    5.0         248.0  5089265.0  5.080470e+09   \n",
       "15344                    5.0         248.0  5089266.0  5.080470e+09   \n",
       "15345                    5.0         248.0  5104961.0  5.080470e+09   \n",
       "15346                    5.0         248.0  5167682.0  5.080470e+09   \n",
       "\n",
       "                                             NTA  \n",
       "1514                                         NaN  \n",
       "1605                                         NaN  \n",
       "14454  West New Brighton-New Brighton-St. George  \n",
       "14455                                        NaN  \n",
       "14456  West New Brighton-New Brighton-St. George  \n",
       "...                                          ...  \n",
       "15342     Charleston-Richmond Valley-Tottenville  \n",
       "15343     Charleston-Richmond Valley-Tottenville  \n",
       "15344     Charleston-Richmond Valley-Tottenville  \n",
       "15345     Charleston-Richmond Valley-Tottenville  \n",
       "15346     Charleston-Richmond Valley-Tottenville  \n",
       "\n",
       "[895 rows x 20 columns]"
      ]
     },
     "execution_count": 205,
     "metadata": {},
     "output_type": "execute_result"
    }
   ],
   "source": [
    "property_value.loc[property_value['Bldg. Class'].str.contains(',')]"
   ]
  },
  {
   "cell_type": "code",
   "execution_count": 206,
   "metadata": {},
   "outputs": [
    {
     "data": {
      "text/html": [
       "<div>\n",
       "<style scoped>\n",
       "    .dataframe tbody tr th:only-of-type {\n",
       "        vertical-align: middle;\n",
       "    }\n",
       "\n",
       "    .dataframe tbody tr th {\n",
       "        vertical-align: top;\n",
       "    }\n",
       "\n",
       "    .dataframe thead th {\n",
       "        text-align: right;\n",
       "    }\n",
       "</style>\n",
       "<table border=\"1\" class=\"dataframe\">\n",
       "  <thead>\n",
       "    <tr style=\"text-align: right;\">\n",
       "      <th></th>\n",
       "      <th>zip</th>\n",
       "      <th>prop_value</th>\n",
       "    </tr>\n",
       "  </thead>\n",
       "  <tbody>\n",
       "    <tr>\n",
       "      <th>0</th>\n",
       "      <td>10004</td>\n",
       "      <td>5982300</td>\n",
       "    </tr>\n",
       "    <tr>\n",
       "      <th>1</th>\n",
       "      <td>10006</td>\n",
       "      <td>67511</td>\n",
       "    </tr>\n",
       "    <tr>\n",
       "      <th>2</th>\n",
       "      <td>10006</td>\n",
       "      <td>76370</td>\n",
       "    </tr>\n",
       "    <tr>\n",
       "      <th>3</th>\n",
       "      <td>10006</td>\n",
       "      <td>92295</td>\n",
       "    </tr>\n",
       "    <tr>\n",
       "      <th>4</th>\n",
       "      <td>10006</td>\n",
       "      <td>68856</td>\n",
       "    </tr>\n",
       "    <tr>\n",
       "      <th>...</th>\n",
       "      <td>...</td>\n",
       "      <td>...</td>\n",
       "    </tr>\n",
       "    <tr>\n",
       "      <th>15342</th>\n",
       "      <td>10307</td>\n",
       "      <td>98100</td>\n",
       "    </tr>\n",
       "    <tr>\n",
       "      <th>15343</th>\n",
       "      <td>10307</td>\n",
       "      <td>113850</td>\n",
       "    </tr>\n",
       "    <tr>\n",
       "      <th>15344</th>\n",
       "      <td>10307</td>\n",
       "      <td>91350</td>\n",
       "    </tr>\n",
       "    <tr>\n",
       "      <th>15345</th>\n",
       "      <td>10307</td>\n",
       "      <td>166050</td>\n",
       "    </tr>\n",
       "    <tr>\n",
       "      <th>15346</th>\n",
       "      <td>10307</td>\n",
       "      <td>359925</td>\n",
       "    </tr>\n",
       "  </tbody>\n",
       "</table>\n",
       "<p>15347 rows × 2 columns</p>\n",
       "</div>"
      ],
      "text/plain": [
       "         zip  prop_value\n",
       "0      10004     5982300\n",
       "1      10006       67511\n",
       "2      10006       76370\n",
       "3      10006       92295\n",
       "4      10006       68856\n",
       "...      ...         ...\n",
       "15342  10307       98100\n",
       "15343  10307      113850\n",
       "15344  10307       91350\n",
       "15345  10307      166050\n",
       "15346  10307      359925\n",
       "\n",
       "[15347 rows x 2 columns]"
      ]
     },
     "execution_count": 206,
     "metadata": {},
     "output_type": "execute_result"
    }
   ],
   "source": [
    "property_value['prop_value'] = property_value['Final 18/19 Actual AV']\n",
    "property_value['prop_value'] = property_value['prop_value'].mask(property_value['Final 18/19 Actual AV']<5,property_value['Bldg. Class'])\n",
    "property_value['prop_value'] = property_value['prop_value'].astype('str').str.replace('$','').str.replace(',','').astype('int')\n",
    "prop_valid = property_value[['ZIP Code','prop_value']]\n",
    "prop_valid.rename({'ZIP Code':'zip'},axis=1,errors='raise',inplace=True)\n",
    "prop_valid"
   ]
  },
  {
   "cell_type": "code",
   "execution_count": 207,
   "metadata": {},
   "outputs": [],
   "source": [
    "grouped_values = prop_valid.groupby('zip')\n",
    "values_byzip = grouped_values.agg(np.mean)\n",
    "values_byzip.reset_index(inplace=True)"
   ]
  },
  {
   "cell_type": "code",
   "execution_count": 208,
   "metadata": {},
   "outputs": [
    {
     "data": {
      "text/plain": [
       "1"
      ]
     },
     "execution_count": 208,
     "metadata": {},
     "output_type": "execute_result"
    }
   ],
   "source": [
    "combined_updated_new=combined_updated.merge(values_byzip,on='zip',how='left')\n",
    "combined_updated_new['prop_value'].isnull().sum()"
   ]
  },
  {
   "cell_type": "markdown",
   "metadata": {},
   "source": [
    "There is only one NaN so lets find it and replace by average value of the same borough."
   ]
  },
  {
   "cell_type": "code",
   "execution_count": 209,
   "metadata": {},
   "outputs": [
    {
     "data": {
      "text/html": [
       "<div>\n",
       "<style scoped>\n",
       "    .dataframe tbody tr th:only-of-type {\n",
       "        vertical-align: middle;\n",
       "    }\n",
       "\n",
       "    .dataframe tbody tr th {\n",
       "        vertical-align: top;\n",
       "    }\n",
       "\n",
       "    .dataframe thead th {\n",
       "        text-align: right;\n",
       "    }\n",
       "</style>\n",
       "<table border=\"1\" class=\"dataframe\">\n",
       "  <thead>\n",
       "    <tr style=\"text-align: right;\">\n",
       "      <th></th>\n",
       "      <th>DBN</th>\n",
       "      <th>SCHOOL NAME</th>\n",
       "      <th>Num of SAT Test Takers</th>\n",
       "      <th>SAT Critical Reading Avg. Score</th>\n",
       "      <th>SAT Math Avg. Score</th>\n",
       "      <th>SAT Writing Avg. Score</th>\n",
       "      <th>sat_score</th>\n",
       "      <th>SchoolName</th>\n",
       "      <th>AP Test Takers</th>\n",
       "      <th>Total Exams Taken</th>\n",
       "      <th>...</th>\n",
       "      <th>priority07</th>\n",
       "      <th>priority08</th>\n",
       "      <th>priority09</th>\n",
       "      <th>priority10</th>\n",
       "      <th>Location 1</th>\n",
       "      <th>lat</th>\n",
       "      <th>lon</th>\n",
       "      <th>school_dist</th>\n",
       "      <th>ap_per</th>\n",
       "      <th>prop_value</th>\n",
       "    </tr>\n",
       "  </thead>\n",
       "  <tbody>\n",
       "    <tr>\n",
       "      <th>37</th>\n",
       "      <td>02M475</td>\n",
       "      <td>STUYVESANT HIGH SCHOOL</td>\n",
       "      <td>832</td>\n",
       "      <td>679.0</td>\n",
       "      <td>735.0</td>\n",
       "      <td>682.0</td>\n",
       "      <td>2096.0</td>\n",
       "      <td>STUYVESANT HS</td>\n",
       "      <td>1510.0</td>\n",
       "      <td>2819.0</td>\n",
       "      <td>...</td>\n",
       "      <td>0</td>\n",
       "      <td>0</td>\n",
       "      <td>0</td>\n",
       "      <td>0</td>\n",
       "      <td>345 Chambers Street\\r\\nNew York, NY 10282\\r\\n(...</td>\n",
       "      <td>40.717746</td>\n",
       "      <td>-74.014049</td>\n",
       "      <td>02</td>\n",
       "      <td>0.457992</td>\n",
       "      <td>NaN</td>\n",
       "    </tr>\n",
       "  </tbody>\n",
       "</table>\n",
       "<p>1 rows × 162 columns</p>\n",
       "</div>"
      ],
      "text/plain": [
       "       DBN             SCHOOL NAME Num of SAT Test Takers  \\\n",
       "37  02M475  STUYVESANT HIGH SCHOOL                    832   \n",
       "\n",
       "    SAT Critical Reading Avg. Score  SAT Math Avg. Score  \\\n",
       "37                            679.0                735.0   \n",
       "\n",
       "    SAT Writing Avg. Score  sat_score     SchoolName  AP Test Takers   \\\n",
       "37                   682.0     2096.0  STUYVESANT HS           1510.0   \n",
       "\n",
       "    Total Exams Taken  ...  priority07 priority08 priority09 priority10  \\\n",
       "37             2819.0  ...           0          0          0          0   \n",
       "\n",
       "                                           Location 1        lat        lon  \\\n",
       "37  345 Chambers Street\\r\\nNew York, NY 10282\\r\\n(...  40.717746 -74.014049   \n",
       "\n",
       "   school_dist    ap_per prop_value  \n",
       "37          02  0.457992        NaN  \n",
       "\n",
       "[1 rows x 162 columns]"
      ]
     },
     "execution_count": 209,
     "metadata": {},
     "output_type": "execute_result"
    }
   ],
   "source": [
    "combined_updated_new.loc[combined_updated_new['prop_value'].isnull(),:] "
   ]
  },
  {
   "cell_type": "code",
   "execution_count": 210,
   "metadata": {},
   "outputs": [],
   "source": [
    "grouped_values = property_value.groupby('Borough')\n",
    "values_bybor = grouped_values.agg(np.mean)\n",
    "values_bybor.reset_index(inplace=True)\n",
    "\n",
    "combined_updated_new.loc[combined_updated_new['prop_value'].isnull(),'prop_value'] = values_bybor.loc[values_bybin['Borough']==combined_updated_new.iloc[37]['boro'],'prop_value']"
   ]
  },
  {
   "cell_type": "markdown",
   "metadata": {},
   "source": [
    "We have replaced that missing value with the average value of that borough."
   ]
  },
  {
   "cell_type": "code",
   "execution_count": 214,
   "metadata": {},
   "outputs": [
    {
     "data": {
      "text/plain": [
       "0.16464132524407274"
      ]
     },
     "execution_count": 214,
     "metadata": {},
     "output_type": "execute_result"
    }
   ],
   "source": [
    "combined_updated_new.corr()['sat_score']['prop_value']"
   ]
  },
  {
   "cell_type": "code",
   "execution_count": 215,
   "metadata": {},
   "outputs": [
    {
     "data": {
      "text/plain": [
       "<matplotlib.axes._subplots.AxesSubplot at 0x1ee9ebd9390>"
      ]
     },
     "execution_count": 215,
     "metadata": {},
     "output_type": "execute_result"
    },
    {
     "data": {
      "image/png": "[encoded data removed]",
      "text/plain": [
       "<Figure size 432x288 with 1 Axes>"
      ]
     },
     "metadata": {
      "needs_background": "light"
     },
     "output_type": "display_data"
    }
   ],
   "source": [
    "combined_updated_new.plot(kind='scatter',x='prop_value',y='sat_score')"
   ]
  },
  {
   "cell_type": "markdown",
   "metadata": {},
   "source": [
    "It shows that there is no strong correlation between property costs in the area and how students pass their SAT test."
   ]
  }
 ],
 "metadata": {
  "kernelspec": {
   "display_name": "Python 3",
   "language": "python",
   "name": "python3"
  },
  "language_info": {
   "codemirror_mode": {
    "name": "ipython",
    "version": 3
   },
   "file_extension": ".py",
   "mimetype": "text/x-python",
   "name": "python",
   "nbconvert_exporter": "python",
   "pygments_lexer": "ipython3",
   "version": "3.6.9"
  }
 },
 "nbformat": 4,
 "nbformat_minor": 2
}
