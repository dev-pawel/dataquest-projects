{
 "cells": [
  {
   "cell_type": "markdown",
   "metadata": {},
   "source": [
    "# Popular data science questions\n",
    "\n",
    "## Introduction\n",
    "\n",
    "We have been asked to find the best content to write about for company that creates data science content. We would need to find what are poeple most interested in learing in this field. What are the top market skills for data scientists. We will start with exploring Stack Exchange and its data science page. \n",
    "\n",
    "\n",
    "### Sumary of results\n",
    "\n",
    "We can recommend to focus on Deep learning once this is a rapidly growing field.\n",
    "\n",
    "## Request elaboration"
   ]
  },
  {
   "cell_type": "markdown",
   "metadata": {},
   "source": [
    "On Data Science Stack Exchange (DSSE) we can post our questions and get an answer on them from forum comunity. There are some criteria for each question:\n",
    "- the question should be concrete enought to be possible to answer without triggering a long discussion,\n",
    "- an answer can be voted so that the best answer is always on the top,\n",
    "- wrong questions may be edited or removed.\n",
    "\n",
    "In each post there are information such as:\n",
    "- question asked,\n",
    "- voted answers (user who asked may also mark any answer as the best which solved his/her problem),\n",
    "- up to 5 tags for each questions categorizing them,\n",
    "- suggestions, comments to provided solutions as subposts."
   ]
  },
  {
   "cell_type": "markdown",
   "metadata": {},
   "source": [
    "## Data gathering\n",
    "Now we need to access data on DSSE to do it in an efficient way we can use Stack Exchange Data Explorer (SEDE). It allows us to write SQL queries.\n",
    "The database has different tables and some of them may be helpful with our analysis e.g. Posts, Users, Tags.\n",
    "\n",
    "We have decided to retive data from Posts table selecting all questions which were asked in 2019\n",
    "\n",
    "**SEDE Query**\n",
    "\n",
    "SELECT \\\n",
    "Id, \\\n",
    "PostTypeId, \\\n",
    "CreationDate, \\\n",
    "Score, \\\n",
    "ViewCount, \\\n",
    "Tags, \\\n",
    "AnswerCount, \\\n",
    "FavoriteCount \\\n",
    "FROM Posts \\\n",
    "WHERE PostTypeId = 1 AND CreationDate LIKE '%2019%' \\\n",
    "ORDER BY CreationDate \n",
    "\n",
    "### Data exploration"
   ]
  },
  {
   "cell_type": "code",
   "execution_count": 368,
   "metadata": {},
   "outputs": [
    {
     "name": "stdout",
     "output_type": "stream",
     "text": [
      "<class 'pandas.core.frame.DataFrame'>\n",
      "RangeIndex: 8559 entries, 0 to 8558\n",
      "Data columns (total 8 columns):\n",
      "Id               8559 non-null int64\n",
      "PostTypeId       8559 non-null int64\n",
      "CreationDate     8559 non-null datetime64[ns]\n",
      "Score            8559 non-null int64\n",
      "ViewCount        8559 non-null int64\n",
      "Tags             8559 non-null object\n",
      "AnswerCount      8559 non-null int64\n",
      "FavoriteCount    1467 non-null float64\n",
      "dtypes: datetime64[ns](1), float64(1), int64(5), object(1)\n",
      "memory usage: 535.1+ KB\n"
     ]
    }
   ],
   "source": [
    "# importing libraries\n",
    "import pandas as pd\n",
    "import matplotlib.pyplot as plt\n",
    "%matplotlib inline\n",
    "\n",
    "ds2019 = pd.read_csv('data//Stock_DS.csv', parse_dates=['CreationDate'])\n",
    "\n",
    "ds2019.info()"
   ]
  },
  {
   "cell_type": "markdown",
   "metadata": {},
   "source": [
    "## Data cleaning\n",
    "It looks like there are some null values in FavorieCount column. Lets inspect this column."
   ]
  },
  {
   "cell_type": "code",
   "execution_count": 369,
   "metadata": {},
   "outputs": [
    {
     "data": {
      "text/html": [
       "<div>\n",
       "<style scoped>\n",
       "    .dataframe tbody tr th:only-of-type {\n",
       "        vertical-align: middle;\n",
       "    }\n",
       "\n",
       "    .dataframe tbody tr th {\n",
       "        vertical-align: top;\n",
       "    }\n",
       "\n",
       "    .dataframe thead th {\n",
       "        text-align: right;\n",
       "    }\n",
       "</style>\n",
       "<table border=\"1\" class=\"dataframe\">\n",
       "  <thead>\n",
       "    <tr style=\"text-align: right;\">\n",
       "      <th></th>\n",
       "      <th>Id</th>\n",
       "      <th>PostTypeId</th>\n",
       "      <th>CreationDate</th>\n",
       "      <th>Score</th>\n",
       "      <th>ViewCount</th>\n",
       "      <th>Tags</th>\n",
       "      <th>AnswerCount</th>\n",
       "      <th>FavoriteCount</th>\n",
       "    </tr>\n",
       "  </thead>\n",
       "  <tbody>\n",
       "    <tr>\n",
       "      <th>0</th>\n",
       "      <td>43363</td>\n",
       "      <td>1</td>\n",
       "      <td>2019-01-01 03:53:02</td>\n",
       "      <td>0</td>\n",
       "      <td>29</td>\n",
       "      <td>&lt;machine-learning&gt;&lt;nlp&gt;</td>\n",
       "      <td>1</td>\n",
       "      <td>NaN</td>\n",
       "    </tr>\n",
       "    <tr>\n",
       "      <th>1</th>\n",
       "      <td>43366</td>\n",
       "      <td>1</td>\n",
       "      <td>2019-01-01 06:02:07</td>\n",
       "      <td>2</td>\n",
       "      <td>50</td>\n",
       "      <td>&lt;deep-learning&gt;&lt;convnet&gt;&lt;image-classification&gt;</td>\n",
       "      <td>1</td>\n",
       "      <td>1.0</td>\n",
       "    </tr>\n",
       "    <tr>\n",
       "      <th>2</th>\n",
       "      <td>43367</td>\n",
       "      <td>1</td>\n",
       "      <td>2019-01-01 06:16:26</td>\n",
       "      <td>0</td>\n",
       "      <td>21</td>\n",
       "      <td>&lt;scikit-learn&gt;&lt;tensorflow&gt;&lt;scipy&gt;</td>\n",
       "      <td>1</td>\n",
       "      <td>NaN</td>\n",
       "    </tr>\n",
       "    <tr>\n",
       "      <th>3</th>\n",
       "      <td>43370</td>\n",
       "      <td>1</td>\n",
       "      <td>2019-01-01 10:06:03</td>\n",
       "      <td>2</td>\n",
       "      <td>35</td>\n",
       "      <td>&lt;classification&gt;</td>\n",
       "      <td>0</td>\n",
       "      <td>NaN</td>\n",
       "    </tr>\n",
       "    <tr>\n",
       "      <th>4</th>\n",
       "      <td>43374</td>\n",
       "      <td>1</td>\n",
       "      <td>2019-01-01 13:18:02</td>\n",
       "      <td>4</td>\n",
       "      <td>31</td>\n",
       "      <td>&lt;deep-learning&gt;&lt;time-series&gt;&lt;cnn&gt;&lt;convolution&gt;</td>\n",
       "      <td>1</td>\n",
       "      <td>NaN</td>\n",
       "    </tr>\n",
       "    <tr>\n",
       "      <th>...</th>\n",
       "      <td>...</td>\n",
       "      <td>...</td>\n",
       "      <td>...</td>\n",
       "      <td>...</td>\n",
       "      <td>...</td>\n",
       "      <td>...</td>\n",
       "      <td>...</td>\n",
       "      <td>...</td>\n",
       "    </tr>\n",
       "    <tr>\n",
       "      <th>8554</th>\n",
       "      <td>65663</td>\n",
       "      <td>1</td>\n",
       "      <td>2019-12-31 13:25:01</td>\n",
       "      <td>3</td>\n",
       "      <td>43</td>\n",
       "      <td>&lt;information-retrieval&gt;</td>\n",
       "      <td>1</td>\n",
       "      <td>NaN</td>\n",
       "    </tr>\n",
       "    <tr>\n",
       "      <th>8555</th>\n",
       "      <td>65664</td>\n",
       "      <td>1</td>\n",
       "      <td>2019-12-31 14:15:54</td>\n",
       "      <td>1</td>\n",
       "      <td>206</td>\n",
       "      <td>&lt;neural-network&gt;&lt;deep-learning&gt;&lt;classification...</td>\n",
       "      <td>0</td>\n",
       "      <td>NaN</td>\n",
       "    </tr>\n",
       "    <tr>\n",
       "      <th>8556</th>\n",
       "      <td>65666</td>\n",
       "      <td>1</td>\n",
       "      <td>2019-12-31 14:59:18</td>\n",
       "      <td>1</td>\n",
       "      <td>52</td>\n",
       "      <td>&lt;scikit-learn&gt;&lt;cross-validation&gt;&lt;ml&gt;</td>\n",
       "      <td>1</td>\n",
       "      <td>NaN</td>\n",
       "    </tr>\n",
       "    <tr>\n",
       "      <th>8557</th>\n",
       "      <td>65667</td>\n",
       "      <td>1</td>\n",
       "      <td>2019-12-31 16:08:06</td>\n",
       "      <td>1</td>\n",
       "      <td>26</td>\n",
       "      <td>&lt;bayesian&gt;</td>\n",
       "      <td>0</td>\n",
       "      <td>NaN</td>\n",
       "    </tr>\n",
       "    <tr>\n",
       "      <th>8558</th>\n",
       "      <td>65671</td>\n",
       "      <td>1</td>\n",
       "      <td>2019-12-31 18:08:12</td>\n",
       "      <td>1</td>\n",
       "      <td>41</td>\n",
       "      <td>&lt;deep-learning&gt;&lt;hyperparameter&gt;&lt;hyperparameter...</td>\n",
       "      <td>0</td>\n",
       "      <td>1.0</td>\n",
       "    </tr>\n",
       "  </tbody>\n",
       "</table>\n",
       "<p>8559 rows × 8 columns</p>\n",
       "</div>"
      ],
      "text/plain": [
       "         Id  PostTypeId        CreationDate  Score  ViewCount  \\\n",
       "0     43363           1 2019-01-01 03:53:02      0         29   \n",
       "1     43366           1 2019-01-01 06:02:07      2         50   \n",
       "2     43367           1 2019-01-01 06:16:26      0         21   \n",
       "3     43370           1 2019-01-01 10:06:03      2         35   \n",
       "4     43374           1 2019-01-01 13:18:02      4         31   \n",
       "...     ...         ...                 ...    ...        ...   \n",
       "8554  65663           1 2019-12-31 13:25:01      3         43   \n",
       "8555  65664           1 2019-12-31 14:15:54      1        206   \n",
       "8556  65666           1 2019-12-31 14:59:18      1         52   \n",
       "8557  65667           1 2019-12-31 16:08:06      1         26   \n",
       "8558  65671           1 2019-12-31 18:08:12      1         41   \n",
       "\n",
       "                                                   Tags  AnswerCount  \\\n",
       "0                               <machine-learning><nlp>            1   \n",
       "1        <deep-learning><convnet><image-classification>            1   \n",
       "2                     <scikit-learn><tensorflow><scipy>            1   \n",
       "3                                      <classification>            0   \n",
       "4        <deep-learning><time-series><cnn><convolution>            1   \n",
       "...                                                 ...          ...   \n",
       "8554                            <information-retrieval>            1   \n",
       "8555  <neural-network><deep-learning><classification...            0   \n",
       "8556               <scikit-learn><cross-validation><ml>            1   \n",
       "8557                                         <bayesian>            0   \n",
       "8558  <deep-learning><hyperparameter><hyperparameter...            0   \n",
       "\n",
       "      FavoriteCount  \n",
       "0               NaN  \n",
       "1               1.0  \n",
       "2               NaN  \n",
       "3               NaN  \n",
       "4               NaN  \n",
       "...             ...  \n",
       "8554            NaN  \n",
       "8555            NaN  \n",
       "8556            NaN  \n",
       "8557            NaN  \n",
       "8558            1.0  \n",
       "\n",
       "[8559 rows x 8 columns]"
      ]
     },
     "execution_count": 369,
     "metadata": {},
     "output_type": "execute_result"
    }
   ],
   "source": [
    "ds2019"
   ]
  },
  {
   "cell_type": "code",
   "execution_count": 370,
   "metadata": {},
   "outputs": [
    {
     "data": {
      "text/plain": [
       "array([nan,  1.,  2.,  5.,  4.,  0.,  3.,  6.,  7., 16.,  9.,  8., 12.])"
      ]
     },
     "execution_count": 370,
     "metadata": {},
     "output_type": "execute_result"
    }
   ],
   "source": [
    "ds2019['FavoriteCount'].unique()"
   ]
  },
  {
   "cell_type": "markdown",
   "metadata": {},
   "source": [
    "After inspecting values and reading more about this column we came to the conculsion that NaN values mean 0. So we can replace them with 0 and change the column data type to integer. The rest column's types look fine."
   ]
  },
  {
   "cell_type": "code",
   "execution_count": 371,
   "metadata": {},
   "outputs": [],
   "source": [
    "ds2019['FavoriteCount'] = (ds2019['FavoriteCount'].fillna(0)).astype(int)"
   ]
  },
  {
   "cell_type": "markdown",
   "metadata": {},
   "source": [
    "The last think we need to modify is Tags column we want our values to be easier to parse so lets separate them by comma."
   ]
  },
  {
   "cell_type": "code",
   "execution_count": 372,
   "metadata": {},
   "outputs": [
    {
     "data": {
      "text/plain": [
       "0                                    machine-learning,nlp\n",
       "1              deep-learning,convnet,image-classification\n",
       "2                           scikit-learn,tensorflow,scipy\n",
       "3                                          classification\n",
       "4               deep-learning,time-series,cnn,convolution\n",
       "                              ...                        \n",
       "8554                                information-retrieval\n",
       "8555    neural-network,deep-learning,classification,ke...\n",
       "8556                     scikit-learn,cross-validation,ml\n",
       "8557                                             bayesian\n",
       "8558    deep-learning,hyperparameter,hyperparameter-tu...\n",
       "Name: Tags, Length: 8559, dtype: object"
      ]
     },
     "execution_count": 372,
     "metadata": {},
     "output_type": "execute_result"
    }
   ],
   "source": [
    "ds2019['Tags'] = ds2019['Tags'].str.extract(r'<(.*)>')\n",
    "ds2019['Tags'] = ds2019['Tags'].str.replace('><',',')\n",
    "ds2019['Tags']"
   ]
  },
  {
   "cell_type": "markdown",
   "metadata": {},
   "source": [
    "## Data analysis\n",
    "\n",
    "Lets start by counting how many times each tag was used"
   ]
  },
  {
   "cell_type": "code",
   "execution_count": 373,
   "metadata": {},
   "outputs": [],
   "source": [
    "split_tags = ds2019['Tags'].str.split(',',expand=True)"
   ]
  },
  {
   "cell_type": "code",
   "execution_count": 374,
   "metadata": {},
   "outputs": [
    {
     "data": {
      "text/html": [
       "<div>\n",
       "<style scoped>\n",
       "    .dataframe tbody tr th:only-of-type {\n",
       "        vertical-align: middle;\n",
       "    }\n",
       "\n",
       "    .dataframe tbody tr th {\n",
       "        vertical-align: top;\n",
       "    }\n",
       "\n",
       "    .dataframe thead th {\n",
       "        text-align: right;\n",
       "    }\n",
       "</style>\n",
       "<table border=\"1\" class=\"dataframe\">\n",
       "  <thead>\n",
       "    <tr style=\"text-align: right;\">\n",
       "      <th></th>\n",
       "      <th>0</th>\n",
       "      <th>1</th>\n",
       "      <th>2</th>\n",
       "      <th>3</th>\n",
       "      <th>4</th>\n",
       "    </tr>\n",
       "  </thead>\n",
       "  <tbody>\n",
       "    <tr>\n",
       "      <th>0</th>\n",
       "      <td>machine-learning</td>\n",
       "      <td>nlp</td>\n",
       "      <td>None</td>\n",
       "      <td>None</td>\n",
       "      <td>None</td>\n",
       "    </tr>\n",
       "    <tr>\n",
       "      <th>1</th>\n",
       "      <td>deep-learning</td>\n",
       "      <td>convnet</td>\n",
       "      <td>image-classification</td>\n",
       "      <td>None</td>\n",
       "      <td>None</td>\n",
       "    </tr>\n",
       "    <tr>\n",
       "      <th>2</th>\n",
       "      <td>scikit-learn</td>\n",
       "      <td>tensorflow</td>\n",
       "      <td>scipy</td>\n",
       "      <td>None</td>\n",
       "      <td>None</td>\n",
       "    </tr>\n",
       "    <tr>\n",
       "      <th>3</th>\n",
       "      <td>classification</td>\n",
       "      <td>None</td>\n",
       "      <td>None</td>\n",
       "      <td>None</td>\n",
       "      <td>None</td>\n",
       "    </tr>\n",
       "    <tr>\n",
       "      <th>4</th>\n",
       "      <td>deep-learning</td>\n",
       "      <td>time-series</td>\n",
       "      <td>cnn</td>\n",
       "      <td>convolution</td>\n",
       "      <td>None</td>\n",
       "    </tr>\n",
       "    <tr>\n",
       "      <th>...</th>\n",
       "      <td>...</td>\n",
       "      <td>...</td>\n",
       "      <td>...</td>\n",
       "      <td>...</td>\n",
       "      <td>...</td>\n",
       "    </tr>\n",
       "    <tr>\n",
       "      <th>8554</th>\n",
       "      <td>information-retrieval</td>\n",
       "      <td>None</td>\n",
       "      <td>None</td>\n",
       "      <td>None</td>\n",
       "      <td>None</td>\n",
       "    </tr>\n",
       "    <tr>\n",
       "      <th>8555</th>\n",
       "      <td>neural-network</td>\n",
       "      <td>deep-learning</td>\n",
       "      <td>classification</td>\n",
       "      <td>keras</td>\n",
       "      <td>ensemble-learning</td>\n",
       "    </tr>\n",
       "    <tr>\n",
       "      <th>8556</th>\n",
       "      <td>scikit-learn</td>\n",
       "      <td>cross-validation</td>\n",
       "      <td>ml</td>\n",
       "      <td>None</td>\n",
       "      <td>None</td>\n",
       "    </tr>\n",
       "    <tr>\n",
       "      <th>8557</th>\n",
       "      <td>bayesian</td>\n",
       "      <td>None</td>\n",
       "      <td>None</td>\n",
       "      <td>None</td>\n",
       "      <td>None</td>\n",
       "    </tr>\n",
       "    <tr>\n",
       "      <th>8558</th>\n",
       "      <td>deep-learning</td>\n",
       "      <td>hyperparameter</td>\n",
       "      <td>hyperparameter-tuning</td>\n",
       "      <td>transformer</td>\n",
       "      <td>None</td>\n",
       "    </tr>\n",
       "  </tbody>\n",
       "</table>\n",
       "<p>8559 rows × 5 columns</p>\n",
       "</div>"
      ],
      "text/plain": [
       "                          0                 1                      2  \\\n",
       "0          machine-learning               nlp                   None   \n",
       "1             deep-learning           convnet   image-classification   \n",
       "2              scikit-learn        tensorflow                  scipy   \n",
       "3            classification              None                   None   \n",
       "4             deep-learning       time-series                    cnn   \n",
       "...                     ...               ...                    ...   \n",
       "8554  information-retrieval              None                   None   \n",
       "8555         neural-network     deep-learning         classification   \n",
       "8556           scikit-learn  cross-validation                     ml   \n",
       "8557               bayesian              None                   None   \n",
       "8558          deep-learning    hyperparameter  hyperparameter-tuning   \n",
       "\n",
       "                3                  4  \n",
       "0            None               None  \n",
       "1            None               None  \n",
       "2            None               None  \n",
       "3            None               None  \n",
       "4     convolution               None  \n",
       "...           ...                ...  \n",
       "8554         None               None  \n",
       "8555        keras  ensemble-learning  \n",
       "8556         None               None  \n",
       "8557         None               None  \n",
       "8558  transformer               None  \n",
       "\n",
       "[8559 rows x 5 columns]"
      ]
     },
     "execution_count": 374,
     "metadata": {},
     "output_type": "execute_result"
    }
   ],
   "source": [
    "split_tags"
   ]
  },
  {
   "cell_type": "code",
   "execution_count": 375,
   "metadata": {},
   "outputs": [],
   "source": [
    "ds2019_tags = ds2019.drop(columns=['Tags','PostTypeId']).copy()\n",
    "columns = ds2019_tags.columns"
   ]
  },
  {
   "cell_type": "code",
   "execution_count": 376,
   "metadata": {},
   "outputs": [],
   "source": [
    "for tag_no in split_tags.columns:\n",
    "    ds2019_tags['Tag_{}'.format(tag_no)] = split_tags[tag_no]"
   ]
  },
  {
   "cell_type": "code",
   "execution_count": 377,
   "metadata": {},
   "outputs": [
    {
     "data": {
      "text/html": [
       "<div>\n",
       "<style scoped>\n",
       "    .dataframe tbody tr th:only-of-type {\n",
       "        vertical-align: middle;\n",
       "    }\n",
       "\n",
       "    .dataframe tbody tr th {\n",
       "        vertical-align: top;\n",
       "    }\n",
       "\n",
       "    .dataframe thead th {\n",
       "        text-align: right;\n",
       "    }\n",
       "</style>\n",
       "<table border=\"1\" class=\"dataframe\">\n",
       "  <thead>\n",
       "    <tr style=\"text-align: right;\">\n",
       "      <th></th>\n",
       "      <th>Id</th>\n",
       "      <th>CreationDate</th>\n",
       "      <th>Score</th>\n",
       "      <th>ViewCount</th>\n",
       "      <th>AnswerCount</th>\n",
       "      <th>FavoriteCount</th>\n",
       "      <th>Tag_0</th>\n",
       "      <th>Tag_1</th>\n",
       "      <th>Tag_2</th>\n",
       "      <th>Tag_3</th>\n",
       "      <th>Tag_4</th>\n",
       "    </tr>\n",
       "  </thead>\n",
       "  <tbody>\n",
       "    <tr>\n",
       "      <th>0</th>\n",
       "      <td>43363</td>\n",
       "      <td>2019-01-01 03:53:02</td>\n",
       "      <td>0</td>\n",
       "      <td>29</td>\n",
       "      <td>1</td>\n",
       "      <td>0</td>\n",
       "      <td>machine-learning</td>\n",
       "      <td>nlp</td>\n",
       "      <td>None</td>\n",
       "      <td>None</td>\n",
       "      <td>None</td>\n",
       "    </tr>\n",
       "    <tr>\n",
       "      <th>1</th>\n",
       "      <td>43366</td>\n",
       "      <td>2019-01-01 06:02:07</td>\n",
       "      <td>2</td>\n",
       "      <td>50</td>\n",
       "      <td>1</td>\n",
       "      <td>1</td>\n",
       "      <td>deep-learning</td>\n",
       "      <td>convnet</td>\n",
       "      <td>image-classification</td>\n",
       "      <td>None</td>\n",
       "      <td>None</td>\n",
       "    </tr>\n",
       "    <tr>\n",
       "      <th>2</th>\n",
       "      <td>43367</td>\n",
       "      <td>2019-01-01 06:16:26</td>\n",
       "      <td>0</td>\n",
       "      <td>21</td>\n",
       "      <td>1</td>\n",
       "      <td>0</td>\n",
       "      <td>scikit-learn</td>\n",
       "      <td>tensorflow</td>\n",
       "      <td>scipy</td>\n",
       "      <td>None</td>\n",
       "      <td>None</td>\n",
       "    </tr>\n",
       "    <tr>\n",
       "      <th>3</th>\n",
       "      <td>43370</td>\n",
       "      <td>2019-01-01 10:06:03</td>\n",
       "      <td>2</td>\n",
       "      <td>35</td>\n",
       "      <td>0</td>\n",
       "      <td>0</td>\n",
       "      <td>classification</td>\n",
       "      <td>None</td>\n",
       "      <td>None</td>\n",
       "      <td>None</td>\n",
       "      <td>None</td>\n",
       "    </tr>\n",
       "    <tr>\n",
       "      <th>4</th>\n",
       "      <td>43374</td>\n",
       "      <td>2019-01-01 13:18:02</td>\n",
       "      <td>4</td>\n",
       "      <td>31</td>\n",
       "      <td>1</td>\n",
       "      <td>0</td>\n",
       "      <td>deep-learning</td>\n",
       "      <td>time-series</td>\n",
       "      <td>cnn</td>\n",
       "      <td>convolution</td>\n",
       "      <td>None</td>\n",
       "    </tr>\n",
       "    <tr>\n",
       "      <th>...</th>\n",
       "      <td>...</td>\n",
       "      <td>...</td>\n",
       "      <td>...</td>\n",
       "      <td>...</td>\n",
       "      <td>...</td>\n",
       "      <td>...</td>\n",
       "      <td>...</td>\n",
       "      <td>...</td>\n",
       "      <td>...</td>\n",
       "      <td>...</td>\n",
       "      <td>...</td>\n",
       "    </tr>\n",
       "    <tr>\n",
       "      <th>8554</th>\n",
       "      <td>65663</td>\n",
       "      <td>2019-12-31 13:25:01</td>\n",
       "      <td>3</td>\n",
       "      <td>43</td>\n",
       "      <td>1</td>\n",
       "      <td>0</td>\n",
       "      <td>information-retrieval</td>\n",
       "      <td>None</td>\n",
       "      <td>None</td>\n",
       "      <td>None</td>\n",
       "      <td>None</td>\n",
       "    </tr>\n",
       "    <tr>\n",
       "      <th>8555</th>\n",
       "      <td>65664</td>\n",
       "      <td>2019-12-31 14:15:54</td>\n",
       "      <td>1</td>\n",
       "      <td>206</td>\n",
       "      <td>0</td>\n",
       "      <td>0</td>\n",
       "      <td>neural-network</td>\n",
       "      <td>deep-learning</td>\n",
       "      <td>classification</td>\n",
       "      <td>keras</td>\n",
       "      <td>ensemble-learning</td>\n",
       "    </tr>\n",
       "    <tr>\n",
       "      <th>8556</th>\n",
       "      <td>65666</td>\n",
       "      <td>2019-12-31 14:59:18</td>\n",
       "      <td>1</td>\n",
       "      <td>52</td>\n",
       "      <td>1</td>\n",
       "      <td>0</td>\n",
       "      <td>scikit-learn</td>\n",
       "      <td>cross-validation</td>\n",
       "      <td>ml</td>\n",
       "      <td>None</td>\n",
       "      <td>None</td>\n",
       "    </tr>\n",
       "    <tr>\n",
       "      <th>8557</th>\n",
       "      <td>65667</td>\n",
       "      <td>2019-12-31 16:08:06</td>\n",
       "      <td>1</td>\n",
       "      <td>26</td>\n",
       "      <td>0</td>\n",
       "      <td>0</td>\n",
       "      <td>bayesian</td>\n",
       "      <td>None</td>\n",
       "      <td>None</td>\n",
       "      <td>None</td>\n",
       "      <td>None</td>\n",
       "    </tr>\n",
       "    <tr>\n",
       "      <th>8558</th>\n",
       "      <td>65671</td>\n",
       "      <td>2019-12-31 18:08:12</td>\n",
       "      <td>1</td>\n",
       "      <td>41</td>\n",
       "      <td>0</td>\n",
       "      <td>1</td>\n",
       "      <td>deep-learning</td>\n",
       "      <td>hyperparameter</td>\n",
       "      <td>hyperparameter-tuning</td>\n",
       "      <td>transformer</td>\n",
       "      <td>None</td>\n",
       "    </tr>\n",
       "  </tbody>\n",
       "</table>\n",
       "<p>8559 rows × 11 columns</p>\n",
       "</div>"
      ],
      "text/plain": [
       "         Id        CreationDate  Score  ViewCount  AnswerCount  FavoriteCount  \\\n",
       "0     43363 2019-01-01 03:53:02      0         29            1              0   \n",
       "1     43366 2019-01-01 06:02:07      2         50            1              1   \n",
       "2     43367 2019-01-01 06:16:26      0         21            1              0   \n",
       "3     43370 2019-01-01 10:06:03      2         35            0              0   \n",
       "4     43374 2019-01-01 13:18:02      4         31            1              0   \n",
       "...     ...                 ...    ...        ...          ...            ...   \n",
       "8554  65663 2019-12-31 13:25:01      3         43            1              0   \n",
       "8555  65664 2019-12-31 14:15:54      1        206            0              0   \n",
       "8556  65666 2019-12-31 14:59:18      1         52            1              0   \n",
       "8557  65667 2019-12-31 16:08:06      1         26            0              0   \n",
       "8558  65671 2019-12-31 18:08:12      1         41            0              1   \n",
       "\n",
       "                      Tag_0             Tag_1                  Tag_2  \\\n",
       "0          machine-learning               nlp                   None   \n",
       "1             deep-learning           convnet   image-classification   \n",
       "2              scikit-learn        tensorflow                  scipy   \n",
       "3            classification              None                   None   \n",
       "4             deep-learning       time-series                    cnn   \n",
       "...                     ...               ...                    ...   \n",
       "8554  information-retrieval              None                   None   \n",
       "8555         neural-network     deep-learning         classification   \n",
       "8556           scikit-learn  cross-validation                     ml   \n",
       "8557               bayesian              None                   None   \n",
       "8558          deep-learning    hyperparameter  hyperparameter-tuning   \n",
       "\n",
       "            Tag_3              Tag_4  \n",
       "0            None               None  \n",
       "1            None               None  \n",
       "2            None               None  \n",
       "3            None               None  \n",
       "4     convolution               None  \n",
       "...           ...                ...  \n",
       "8554         None               None  \n",
       "8555        keras  ensemble-learning  \n",
       "8556         None               None  \n",
       "8557         None               None  \n",
       "8558  transformer               None  \n",
       "\n",
       "[8559 rows x 11 columns]"
      ]
     },
     "execution_count": 377,
     "metadata": {},
     "output_type": "execute_result"
    }
   ],
   "source": [
    "ds2019_tags"
   ]
  },
  {
   "cell_type": "code",
   "execution_count": 378,
   "metadata": {},
   "outputs": [],
   "source": [
    "ds2019_melt = ds2019_tags.melt(id_vars=columns,value_vars=['Tag_0','Tag_1','Tag_2','Tag_3','Tag_4'])"
   ]
  },
  {
   "cell_type": "code",
   "execution_count": 379,
   "metadata": {},
   "outputs": [
    {
     "data": {
      "text/html": [
       "<div>\n",
       "<style scoped>\n",
       "    .dataframe tbody tr th:only-of-type {\n",
       "        vertical-align: middle;\n",
       "    }\n",
       "\n",
       "    .dataframe tbody tr th {\n",
       "        vertical-align: top;\n",
       "    }\n",
       "\n",
       "    .dataframe thead th {\n",
       "        text-align: right;\n",
       "    }\n",
       "</style>\n",
       "<table border=\"1\" class=\"dataframe\">\n",
       "  <thead>\n",
       "    <tr style=\"text-align: right;\">\n",
       "      <th></th>\n",
       "      <th>Id</th>\n",
       "      <th>CreationDate</th>\n",
       "      <th>Score</th>\n",
       "      <th>ViewCount</th>\n",
       "      <th>AnswerCount</th>\n",
       "      <th>FavoriteCount</th>\n",
       "      <th>variable</th>\n",
       "      <th>value</th>\n",
       "    </tr>\n",
       "  </thead>\n",
       "  <tbody>\n",
       "    <tr>\n",
       "      <th>0</th>\n",
       "      <td>43363</td>\n",
       "      <td>2019-01-01 03:53:02</td>\n",
       "      <td>0</td>\n",
       "      <td>29</td>\n",
       "      <td>1</td>\n",
       "      <td>0</td>\n",
       "      <td>Tag_0</td>\n",
       "      <td>machine-learning</td>\n",
       "    </tr>\n",
       "    <tr>\n",
       "      <th>1</th>\n",
       "      <td>43366</td>\n",
       "      <td>2019-01-01 06:02:07</td>\n",
       "      <td>2</td>\n",
       "      <td>50</td>\n",
       "      <td>1</td>\n",
       "      <td>1</td>\n",
       "      <td>Tag_0</td>\n",
       "      <td>deep-learning</td>\n",
       "    </tr>\n",
       "    <tr>\n",
       "      <th>2</th>\n",
       "      <td>43367</td>\n",
       "      <td>2019-01-01 06:16:26</td>\n",
       "      <td>0</td>\n",
       "      <td>21</td>\n",
       "      <td>1</td>\n",
       "      <td>0</td>\n",
       "      <td>Tag_0</td>\n",
       "      <td>scikit-learn</td>\n",
       "    </tr>\n",
       "    <tr>\n",
       "      <th>3</th>\n",
       "      <td>43370</td>\n",
       "      <td>2019-01-01 10:06:03</td>\n",
       "      <td>2</td>\n",
       "      <td>35</td>\n",
       "      <td>0</td>\n",
       "      <td>0</td>\n",
       "      <td>Tag_0</td>\n",
       "      <td>classification</td>\n",
       "    </tr>\n",
       "    <tr>\n",
       "      <th>4</th>\n",
       "      <td>43374</td>\n",
       "      <td>2019-01-01 13:18:02</td>\n",
       "      <td>4</td>\n",
       "      <td>31</td>\n",
       "      <td>1</td>\n",
       "      <td>0</td>\n",
       "      <td>Tag_0</td>\n",
       "      <td>deep-learning</td>\n",
       "    </tr>\n",
       "    <tr>\n",
       "      <th>...</th>\n",
       "      <td>...</td>\n",
       "      <td>...</td>\n",
       "      <td>...</td>\n",
       "      <td>...</td>\n",
       "      <td>...</td>\n",
       "      <td>...</td>\n",
       "      <td>...</td>\n",
       "      <td>...</td>\n",
       "    </tr>\n",
       "    <tr>\n",
       "      <th>42790</th>\n",
       "      <td>65663</td>\n",
       "      <td>2019-12-31 13:25:01</td>\n",
       "      <td>3</td>\n",
       "      <td>43</td>\n",
       "      <td>1</td>\n",
       "      <td>0</td>\n",
       "      <td>Tag_4</td>\n",
       "      <td>None</td>\n",
       "    </tr>\n",
       "    <tr>\n",
       "      <th>42791</th>\n",
       "      <td>65664</td>\n",
       "      <td>2019-12-31 14:15:54</td>\n",
       "      <td>1</td>\n",
       "      <td>206</td>\n",
       "      <td>0</td>\n",
       "      <td>0</td>\n",
       "      <td>Tag_4</td>\n",
       "      <td>ensemble-learning</td>\n",
       "    </tr>\n",
       "    <tr>\n",
       "      <th>42792</th>\n",
       "      <td>65666</td>\n",
       "      <td>2019-12-31 14:59:18</td>\n",
       "      <td>1</td>\n",
       "      <td>52</td>\n",
       "      <td>1</td>\n",
       "      <td>0</td>\n",
       "      <td>Tag_4</td>\n",
       "      <td>None</td>\n",
       "    </tr>\n",
       "    <tr>\n",
       "      <th>42793</th>\n",
       "      <td>65667</td>\n",
       "      <td>2019-12-31 16:08:06</td>\n",
       "      <td>1</td>\n",
       "      <td>26</td>\n",
       "      <td>0</td>\n",
       "      <td>0</td>\n",
       "      <td>Tag_4</td>\n",
       "      <td>None</td>\n",
       "    </tr>\n",
       "    <tr>\n",
       "      <th>42794</th>\n",
       "      <td>65671</td>\n",
       "      <td>2019-12-31 18:08:12</td>\n",
       "      <td>1</td>\n",
       "      <td>41</td>\n",
       "      <td>0</td>\n",
       "      <td>1</td>\n",
       "      <td>Tag_4</td>\n",
       "      <td>None</td>\n",
       "    </tr>\n",
       "  </tbody>\n",
       "</table>\n",
       "<p>42795 rows × 8 columns</p>\n",
       "</div>"
      ],
      "text/plain": [
       "          Id        CreationDate  Score  ViewCount  AnswerCount  \\\n",
       "0      43363 2019-01-01 03:53:02      0         29            1   \n",
       "1      43366 2019-01-01 06:02:07      2         50            1   \n",
       "2      43367 2019-01-01 06:16:26      0         21            1   \n",
       "3      43370 2019-01-01 10:06:03      2         35            0   \n",
       "4      43374 2019-01-01 13:18:02      4         31            1   \n",
       "...      ...                 ...    ...        ...          ...   \n",
       "42790  65663 2019-12-31 13:25:01      3         43            1   \n",
       "42791  65664 2019-12-31 14:15:54      1        206            0   \n",
       "42792  65666 2019-12-31 14:59:18      1         52            1   \n",
       "42793  65667 2019-12-31 16:08:06      1         26            0   \n",
       "42794  65671 2019-12-31 18:08:12      1         41            0   \n",
       "\n",
       "       FavoriteCount variable              value  \n",
       "0                  0    Tag_0   machine-learning  \n",
       "1                  1    Tag_0      deep-learning  \n",
       "2                  0    Tag_0       scikit-learn  \n",
       "3                  0    Tag_0     classification  \n",
       "4                  0    Tag_0      deep-learning  \n",
       "...              ...      ...                ...  \n",
       "42790              0    Tag_4               None  \n",
       "42791              0    Tag_4  ensemble-learning  \n",
       "42792              0    Tag_4               None  \n",
       "42793              0    Tag_4               None  \n",
       "42794              1    Tag_4               None  \n",
       "\n",
       "[42795 rows x 8 columns]"
      ]
     },
     "execution_count": 379,
     "metadata": {},
     "output_type": "execute_result"
    }
   ],
   "source": [
    "ds2019_melt"
   ]
  },
  {
   "cell_type": "code",
   "execution_count": 380,
   "metadata": {},
   "outputs": [
    {
     "data": {
      "text/plain": [
       "machine-learning    2621\n",
       "python              1764\n",
       "deep-learning       1172\n",
       "neural-network      1032\n",
       "keras                910\n",
       "classification       665\n",
       "tensorflow           567\n",
       "scikit-learn         525\n",
       "nlp                  480\n",
       "cnn                  474\n",
       "Name: value, dtype: int64"
      ]
     },
     "execution_count": 380,
     "metadata": {},
     "output_type": "execute_result"
    }
   ],
   "source": [
    "tag_used = ds2019_melt['value'].value_counts()\n",
    "tag_used.head(10)"
   ]
  },
  {
   "cell_type": "markdown",
   "metadata": {},
   "source": [
    "Above we can see top 10 used tags. Which indicated what type of questions were asked - related to which topic (tag). Lets now explore how many times each tag was seen by users."
   ]
  },
  {
   "cell_type": "code",
   "execution_count": 381,
   "metadata": {},
   "outputs": [
    {
     "data": {
      "text/plain": [
       "value\n",
       "python              790446\n",
       "machine-learning    535765\n",
       "keras               373589\n",
       "pandas              327567\n",
       "deep-learning       318474\n",
       "neural-network      257698\n",
       "scikit-learn        183732\n",
       "tensorflow          174956\n",
       "classification      142198\n",
       "dataframe           133660\n",
       "Name: ViewCount, dtype: int64"
      ]
     },
     "execution_count": 381,
     "metadata": {},
     "output_type": "execute_result"
    }
   ],
   "source": [
    "# To do this we need to group our records by tag and sum viewcounts\n",
    "tag_viewed = ds2019_melt.groupby('value')['ViewCount'].agg('sum').sort_values(ascending=False)\n",
    "tag_viewed.head(10)"
   ]
  },
  {
   "cell_type": "markdown",
   "metadata": {},
   "source": [
    "### Visualization of top Tags"
   ]
  },
  {
   "cell_type": "code",
   "execution_count": 382,
   "metadata": {},
   "outputs": [
    {
     "data": {
      "text/plain": [
       "<matplotlib.axes._subplots.AxesSubplot at 0x11456acb908>"
      ]
     },
     "execution_count": 382,
     "metadata": {},
     "output_type": "execute_result"
    },
    {
     "data": {
      "image/png": "[encoded data removed]",
      "text/plain": [
       "<Figure size 432x288 with 1 Axes>"
      ]
     },
     "metadata": {
      "needs_background": "light"
     },
     "output_type": "display_data"
    }
   ],
   "source": [
    "tag_used.head(20).plot(kind='bar')"
   ]
  },
  {
   "cell_type": "code",
   "execution_count": 383,
   "metadata": {},
   "outputs": [
    {
     "data": {
      "text/plain": [
       "<matplotlib.axes._subplots.AxesSubplot at 0x111b6065f28>"
      ]
     },
     "execution_count": 383,
     "metadata": {},
     "output_type": "execute_result"
    },
    {
     "data": {
      "image/png": "[encoded data removed]",
      "text/plain": [
       "<Figure size 432x288 with 1 Axes>"
      ]
     },
     "metadata": {
      "needs_background": "light"
     },
     "output_type": "display_data"
    }
   ],
   "source": [
    "tag_viewed.head(20).plot(kind='bar')"
   ]
  },
  {
   "cell_type": "markdown",
   "metadata": {},
   "source": [
    "Lets find intersaction of both."
   ]
  },
  {
   "cell_type": "code",
   "execution_count": 384,
   "metadata": {},
   "outputs": [
    {
     "data": {
      "text/plain": [
       "{'classification',\n",
       " 'cnn',\n",
       " 'dataset',\n",
       " 'deep-learning',\n",
       " 'keras',\n",
       " 'lstm',\n",
       " 'machine-learning',\n",
       " 'neural-network',\n",
       " 'nlp',\n",
       " 'pandas',\n",
       " 'python',\n",
       " 'regression',\n",
       " 'scikit-learn',\n",
       " 'tensorflow',\n",
       " 'time-series'}"
      ]
     },
     "execution_count": 384,
     "metadata": {},
     "output_type": "execute_result"
    }
   ],
   "source": [
    "def intersection(lst1, lst2): \n",
    "    return set(lst1).intersection(lst2) \n",
    "intersection(tag_used.head(20).index.tolist(),tag_viewed.head(20).index.tolist())"
   ]
  },
  {
   "cell_type": "markdown",
   "metadata": {},
   "source": [
    "Using our domain knowledge we can see that all of them are related to each other and all can be clisified as Machine learning techniques. Once we checked only 2019 lets now investigate how it is changing through time. Lets fetch all questions asked on DSSE. We run below query:\n",
    "\n",
    "SELECT \\\n",
    "Id, \\\n",
    "CreationDate, \\\n",
    "Tags \\\n",
    "FROM posts \\\n",
    "WHERE PostTypeId = 1;\n",
    "\n"
   ]
  },
  {
   "cell_type": "code",
   "execution_count": 385,
   "metadata": {},
   "outputs": [],
   "source": [
    "# reading a new dataset\n",
    "all_questions = pd.read_csv('data//all_questions_DS.csv',parse_dates=['CreationDate'])"
   ]
  },
  {
   "cell_type": "code",
   "execution_count": 386,
   "metadata": {},
   "outputs": [
    {
     "data": {
      "text/html": [
       "<div>\n",
       "<style scoped>\n",
       "    .dataframe tbody tr th:only-of-type {\n",
       "        vertical-align: middle;\n",
       "    }\n",
       "\n",
       "    .dataframe tbody tr th {\n",
       "        vertical-align: top;\n",
       "    }\n",
       "\n",
       "    .dataframe thead th {\n",
       "        text-align: right;\n",
       "    }\n",
       "</style>\n",
       "<table border=\"1\" class=\"dataframe\">\n",
       "  <thead>\n",
       "    <tr style=\"text-align: right;\">\n",
       "      <th></th>\n",
       "      <th>Id</th>\n",
       "      <th>CreationDate</th>\n",
       "      <th>Tags</th>\n",
       "    </tr>\n",
       "  </thead>\n",
       "  <tbody>\n",
       "    <tr>\n",
       "      <th>0</th>\n",
       "      <td>28799</td>\n",
       "      <td>2018-03-08 12:42:35</td>\n",
       "      <td>&lt;machine-learning&gt;&lt;classification&gt;&lt;xgboost&gt;&lt;pr...</td>\n",
       "    </tr>\n",
       "    <tr>\n",
       "      <th>1</th>\n",
       "      <td>28800</td>\n",
       "      <td>2018-03-08 12:46:31</td>\n",
       "      <td>&lt;decision-trees&gt;&lt;probability&gt;&lt;transfer-learning&gt;</td>\n",
       "    </tr>\n",
       "    <tr>\n",
       "      <th>2</th>\n",
       "      <td>28805</td>\n",
       "      <td>2018-03-08 15:54:47</td>\n",
       "      <td>&lt;machine-learning&gt;&lt;neural-network&gt;&lt;deep-learni...</td>\n",
       "    </tr>\n",
       "    <tr>\n",
       "      <th>3</th>\n",
       "      <td>28809</td>\n",
       "      <td>2018-03-08 16:44:45</td>\n",
       "      <td>&lt;recommender-system&gt;&lt;pca&gt;</td>\n",
       "    </tr>\n",
       "    <tr>\n",
       "      <th>4</th>\n",
       "      <td>28810</td>\n",
       "      <td>2018-03-08 16:49:07</td>\n",
       "      <td>&lt;linear-regression&gt;&lt;loss-function&gt;</td>\n",
       "    </tr>\n",
       "    <tr>\n",
       "      <th>...</th>\n",
       "      <td>...</td>\n",
       "      <td>...</td>\n",
       "      <td>...</td>\n",
       "    </tr>\n",
       "    <tr>\n",
       "      <th>22763</th>\n",
       "      <td>8941</td>\n",
       "      <td>2015-11-20 11:21:03</td>\n",
       "      <td>&lt;community&gt;</td>\n",
       "    </tr>\n",
       "    <tr>\n",
       "      <th>22764</th>\n",
       "      <td>8943</td>\n",
       "      <td>2015-11-20 14:15:37</td>\n",
       "      <td>&lt;predictive-modeling&gt;&lt;time-series&gt;</td>\n",
       "    </tr>\n",
       "    <tr>\n",
       "      <th>22765</th>\n",
       "      <td>8946</td>\n",
       "      <td>2015-11-20 20:52:08</td>\n",
       "      <td>&lt;data-cleaning&gt;&lt;gradient-descent&gt;&lt;linear-regre...</td>\n",
       "    </tr>\n",
       "    <tr>\n",
       "      <th>22766</th>\n",
       "      <td>8961</td>\n",
       "      <td>2015-11-21 07:17:14</td>\n",
       "      <td>&lt;statistics&gt;&lt;correlation&gt;&lt;linear-regression&gt;</td>\n",
       "    </tr>\n",
       "    <tr>\n",
       "      <th>22767</th>\n",
       "      <td>8963</td>\n",
       "      <td>2015-11-21 07:58:22</td>\n",
       "      <td>&lt;machine-learning&gt;&lt;reference-request&gt;</td>\n",
       "    </tr>\n",
       "  </tbody>\n",
       "</table>\n",
       "<p>22768 rows × 3 columns</p>\n",
       "</div>"
      ],
      "text/plain": [
       "          Id        CreationDate  \\\n",
       "0      28799 2018-03-08 12:42:35   \n",
       "1      28800 2018-03-08 12:46:31   \n",
       "2      28805 2018-03-08 15:54:47   \n",
       "3      28809 2018-03-08 16:44:45   \n",
       "4      28810 2018-03-08 16:49:07   \n",
       "...      ...                 ...   \n",
       "22763   8941 2015-11-20 11:21:03   \n",
       "22764   8943 2015-11-20 14:15:37   \n",
       "22765   8946 2015-11-20 20:52:08   \n",
       "22766   8961 2015-11-21 07:17:14   \n",
       "22767   8963 2015-11-21 07:58:22   \n",
       "\n",
       "                                                    Tags  \n",
       "0      <machine-learning><classification><xgboost><pr...  \n",
       "1       <decision-trees><probability><transfer-learning>  \n",
       "2      <machine-learning><neural-network><deep-learni...  \n",
       "3                              <recommender-system><pca>  \n",
       "4                     <linear-regression><loss-function>  \n",
       "...                                                  ...  \n",
       "22763                                        <community>  \n",
       "22764                 <predictive-modeling><time-series>  \n",
       "22765  <data-cleaning><gradient-descent><linear-regre...  \n",
       "22766       <statistics><correlation><linear-regression>  \n",
       "22767              <machine-learning><reference-request>  \n",
       "\n",
       "[22768 rows x 3 columns]"
      ]
     },
     "execution_count": 386,
     "metadata": {},
     "output_type": "execute_result"
    }
   ],
   "source": [
    "all_questions"
   ]
  },
  {
   "cell_type": "markdown",
   "metadata": {},
   "source": [
    "### Data transformation"
   ]
  },
  {
   "cell_type": "code",
   "execution_count": 387,
   "metadata": {},
   "outputs": [],
   "source": [
    "# Transforming tag column\n",
    "all_questions['Tags'] = all_questions['Tags'].str.replace('><',',').str.replace(r'[<>]','')\n",
    "all_questions_tags = all_questions['Tags'].str.split(',')"
   ]
  },
  {
   "cell_type": "code",
   "execution_count": 388,
   "metadata": {},
   "outputs": [
    {
     "data": {
      "text/html": [
       "<div>\n",
       "<style scoped>\n",
       "    .dataframe tbody tr th:only-of-type {\n",
       "        vertical-align: middle;\n",
       "    }\n",
       "\n",
       "    .dataframe tbody tr th {\n",
       "        vertical-align: top;\n",
       "    }\n",
       "\n",
       "    .dataframe thead th {\n",
       "        text-align: right;\n",
       "    }\n",
       "</style>\n",
       "<table border=\"1\" class=\"dataframe\">\n",
       "  <thead>\n",
       "    <tr style=\"text-align: right;\">\n",
       "      <th></th>\n",
       "      <th>Id</th>\n",
       "      <th>CreationDate</th>\n",
       "      <th>Tags</th>\n",
       "    </tr>\n",
       "  </thead>\n",
       "  <tbody>\n",
       "    <tr>\n",
       "      <th>129</th>\n",
       "      <td>5</td>\n",
       "      <td>2014-05-13 23:58:30</td>\n",
       "      <td>machine-learning</td>\n",
       "    </tr>\n",
       "    <tr>\n",
       "      <th>130</th>\n",
       "      <td>7</td>\n",
       "      <td>2014-05-14 00:11:06</td>\n",
       "      <td>education,open-source</td>\n",
       "    </tr>\n",
       "    <tr>\n",
       "      <th>131</th>\n",
       "      <td>14</td>\n",
       "      <td>2014-05-14 01:25:59</td>\n",
       "      <td>data-mining,definitions</td>\n",
       "    </tr>\n",
       "    <tr>\n",
       "      <th>132</th>\n",
       "      <td>15</td>\n",
       "      <td>2014-05-14 01:41:23</td>\n",
       "      <td>databases</td>\n",
       "    </tr>\n",
       "    <tr>\n",
       "      <th>133</th>\n",
       "      <td>16</td>\n",
       "      <td>2014-05-14 01:57:56</td>\n",
       "      <td>machine-learning,bigdata,libsvm</td>\n",
       "    </tr>\n",
       "    <tr>\n",
       "      <th>...</th>\n",
       "      <td>...</td>\n",
       "      <td>...</td>\n",
       "      <td>...</td>\n",
       "    </tr>\n",
       "    <tr>\n",
       "      <th>22092</th>\n",
       "      <td>70046</td>\n",
       "      <td>2020-03-21 20:37:19</td>\n",
       "      <td>machine-learning,scikit-learn,time-series,visu...</td>\n",
       "    </tr>\n",
       "    <tr>\n",
       "      <th>22093</th>\n",
       "      <td>70047</td>\n",
       "      <td>2020-03-21 20:49:31</td>\n",
       "      <td>python,preprocessing,dimensionality-reduction</td>\n",
       "    </tr>\n",
       "    <tr>\n",
       "      <th>22094</th>\n",
       "      <td>70048</td>\n",
       "      <td>2020-03-21 20:59:48</td>\n",
       "      <td>python,scikit-learn,data-mining,predictive-mod...</td>\n",
       "    </tr>\n",
       "    <tr>\n",
       "      <th>22095</th>\n",
       "      <td>70050</td>\n",
       "      <td>2020-03-21 22:49:31</td>\n",
       "      <td>neural-network,keras,training,loss-function</td>\n",
       "    </tr>\n",
       "    <tr>\n",
       "      <th>22096</th>\n",
       "      <td>70054</td>\n",
       "      <td>2020-03-22 02:20:01</td>\n",
       "      <td>cross-validation,overfitting</td>\n",
       "    </tr>\n",
       "  </tbody>\n",
       "</table>\n",
       "<p>22768 rows × 3 columns</p>\n",
       "</div>"
      ],
      "text/plain": [
       "          Id        CreationDate  \\\n",
       "129        5 2014-05-13 23:58:30   \n",
       "130        7 2014-05-14 00:11:06   \n",
       "131       14 2014-05-14 01:25:59   \n",
       "132       15 2014-05-14 01:41:23   \n",
       "133       16 2014-05-14 01:57:56   \n",
       "...      ...                 ...   \n",
       "22092  70046 2020-03-21 20:37:19   \n",
       "22093  70047 2020-03-21 20:49:31   \n",
       "22094  70048 2020-03-21 20:59:48   \n",
       "22095  70050 2020-03-21 22:49:31   \n",
       "22096  70054 2020-03-22 02:20:01   \n",
       "\n",
       "                                                    Tags  \n",
       "129                                     machine-learning  \n",
       "130                                education,open-source  \n",
       "131                              data-mining,definitions  \n",
       "132                                            databases  \n",
       "133                      machine-learning,bigdata,libsvm  \n",
       "...                                                  ...  \n",
       "22092  machine-learning,scikit-learn,time-series,visu...  \n",
       "22093      python,preprocessing,dimensionality-reduction  \n",
       "22094  python,scikit-learn,data-mining,predictive-mod...  \n",
       "22095        neural-network,keras,training,loss-function  \n",
       "22096                       cross-validation,overfitting  \n",
       "\n",
       "[22768 rows x 3 columns]"
      ]
     },
     "execution_count": 388,
     "metadata": {},
     "output_type": "execute_result"
    }
   ],
   "source": [
    "all_questions.sort_values(by='CreationDate')"
   ]
  },
  {
   "cell_type": "markdown",
   "metadata": {},
   "source": [
    "### Using domain knowlege\n",
    "Lets gather deep learning technics and tools to be able to categorize any other tags which may be related to deep learning."
   ]
  },
  {
   "cell_type": "code",
   "execution_count": 389,
   "metadata": {},
   "outputs": [],
   "source": [
    "deep_learning_synonym = \"\"\"Unsupervised Pre-trained Networks, Convolutional Neural Networks, \n",
    "Recurrent Neural Networks, Recursive Neural Networks, Deep Reinforcement Learning,\n",
    "Back-Propagation,Stochastic Gradient Descent,Learning Rate Decay,\n",
    "Dropout,Max Pooling,Batch Normalization,Long Short-Term Memory,deep learning,\n",
    "Skip-gram,Continuous Bag Of Words,Transfer Learning, neural network,\n",
    "Neural Designer, Torch, Apache SINGA, Microsoft Cognitive Toolkit, Keras,\n",
    "Deeplearning4j, Theano, MXNet, H2O.ai, ConvNetJS, DeepLearningKit, Gensim, Caffe, ND4J\"\"\""
   ]
  },
  {
   "cell_type": "code",
   "execution_count": 390,
   "metadata": {},
   "outputs": [],
   "source": [
    "deep_word = []\n",
    "for word in deep_learning_synonym.split(','):\n",
    "    deep_word.append(word.strip().lower().replace('\\n','').replace(' ','-'))"
   ]
  },
  {
   "cell_type": "code",
   "execution_count": 391,
   "metadata": {},
   "outputs": [],
   "source": [
    "tag_deep = []\n",
    "for index, row in all_questions.iterrows():\n",
    "    tags = row['Tags'].split(',')\n",
    "    for tag in tags:\n",
    "        if tag in deep_word:\n",
    "            tag_deep.append(tag)"
   ]
  },
  {
   "cell_type": "code",
   "execution_count": 392,
   "metadata": {},
   "outputs": [],
   "source": [
    "deep_tags= pd.Series(tag_deep).unique().tolist()"
   ]
  },
  {
   "cell_type": "markdown",
   "metadata": {},
   "source": [
    "Lets categorize all above tags as deep learning"
   ]
  },
  {
   "cell_type": "code",
   "execution_count": 393,
   "metadata": {},
   "outputs": [],
   "source": [
    "all_questions['Year'] = (all_questions['CreationDate'].dt.year).astype(str) + '/' + (all_questions['CreationDate'].dt.quarter).astype(str)"
   ]
  },
  {
   "cell_type": "code",
   "execution_count": 394,
   "metadata": {},
   "outputs": [],
   "source": [
    "def deep_cat(val):\n",
    "    for tag in val.split(','):\n",
    "        if tag in deep_tags:\n",
    "            return 1\n",
    "        else:\n",
    "            return 0\n",
    "all_questions['deep_learning'] = all_questions['Tags'].apply(deep_cat)"
   ]
  },
  {
   "cell_type": "code",
   "execution_count": 395,
   "metadata": {},
   "outputs": [
    {
     "data": {
      "text/plain": [
       "3136"
      ]
     },
     "execution_count": 395,
     "metadata": {},
     "output_type": "execute_result"
    }
   ],
   "source": [
    "all_questions['deep_learning'].value_counts()[1]"
   ]
  },
  {
   "cell_type": "markdown",
   "metadata": {},
   "source": [
    "### Data aggregation"
   ]
  },
  {
   "cell_type": "code",
   "execution_count": 396,
   "metadata": {},
   "outputs": [],
   "source": [
    "deep_questions = all_questions.groupby('Year').sum()['deep_learning']"
   ]
  },
  {
   "cell_type": "code",
   "execution_count": 397,
   "metadata": {},
   "outputs": [],
   "source": [
    "deep_questions_cum = all_questions.groupby('Year').sum()['deep_learning'].cumsum()"
   ]
  },
  {
   "cell_type": "code",
   "execution_count": 398,
   "metadata": {},
   "outputs": [],
   "source": [
    "total_questions = all_questions.groupby('Year').agg('size')"
   ]
  },
  {
   "cell_type": "markdown",
   "metadata": {},
   "source": [
    "### Data vizualization"
   ]
  },
  {
   "cell_type": "code",
   "execution_count": 399,
   "metadata": {},
   "outputs": [
    {
     "data": {
      "text/plain": [
       "<matplotlib.axes._subplots.AxesSubplot at 0x11184150e80>"
      ]
     },
     "execution_count": 399,
     "metadata": {},
     "output_type": "execute_result"
    },
    {
     "data": {
      "image/png": "[encoded data removed]",
      "text/plain": [
       "<Figure size 864x504 with 1 Axes>"
      ]
     },
     "metadata": {
      "needs_background": "light"
     },
     "output_type": "display_data"
    }
   ],
   "source": [
    "deep_questions.plot(kind='bar',rot='45',figsize= (12,7),title='Number of New Deep Learning Questions per quartile')"
   ]
  },
  {
   "cell_type": "code",
   "execution_count": 400,
   "metadata": {},
   "outputs": [
    {
     "data": {
      "text/plain": [
       "<matplotlib.axes._subplots.AxesSubplot at 0x11456f1c780>"
      ]
     },
     "execution_count": 400,
     "metadata": {},
     "output_type": "execute_result"
    },
    {
     "data": {
      "image/png": "[encoded data removed]",
      "text/plain": [
       "<Figure size 864x504 with 1 Axes>"
      ]
     },
     "metadata": {
      "needs_background": "light"
     },
     "output_type": "display_data"
    }
   ],
   "source": [
    "deep_questions_cum.plot(kind='bar',rot='45',figsize= (12,7),title='Total Deep Learning Questions per quartile')"
   ]
  },
  {
   "cell_type": "markdown",
   "metadata": {},
   "source": [
    "### Deep learning questions as part of total questions"
   ]
  },
  {
   "cell_type": "code",
   "execution_count": 402,
   "metadata": {},
   "outputs": [
    {
     "data": {
      "text/plain": [
       "Year\n",
       "2014/2      154\n",
       "2014/3      339\n",
       "2014/4      552\n",
       "2015/1      737\n",
       "2015/2     1015\n",
       "2015/3     1313\n",
       "2015/4     1677\n",
       "2016/1     2157\n",
       "2016/2     2636\n",
       "2016/3     3164\n",
       "2016/4     3630\n",
       "2017/1     4233\n",
       "2017/2     4792\n",
       "2017/3     5406\n",
       "2017/4     6180\n",
       "2018/1     7236\n",
       "2018/2     8466\n",
       "2018/3     9676\n",
       "2018/4    10757\n",
       "2019/1    12262\n",
       "2019/2    14254\n",
       "2019/3    16255\n",
       "2019/4    17971\n",
       "2020/1    19632\n",
       "Name: total_questions, dtype: int64"
      ]
     },
     "execution_count": 402,
     "metadata": {},
     "output_type": "execute_result"
    }
   ],
   "source": [
    "total_min_deep = total_questions.cumsum() -deep_questions_cum\n",
    "total_min_deep.rename('total_questions',inplace=True)"
   ]
  },
  {
   "cell_type": "code",
   "execution_count": 403,
   "metadata": {},
   "outputs": [],
   "source": [
    "total_deep = pd.merge(left=pd.DataFrame(total_min_deep),right=pd.DataFrame(deep_questions_cum), how='inner',left_index=True,right_index=True)"
   ]
  },
  {
   "cell_type": "code",
   "execution_count": 404,
   "metadata": {},
   "outputs": [
    {
     "data": {
      "text/plain": [
       "<matplotlib.axes._subplots.AxesSubplot at 0x11183ec3e10>"
      ]
     },
     "execution_count": 404,
     "metadata": {},
     "output_type": "execute_result"
    },
    {
     "data": {
      "image/png": "[encoded data removed]",
      "text/plain": [
       "<Figure size 864x504 with 1 Axes>"
      ]
     },
     "metadata": {
      "needs_background": "light"
     },
     "output_type": "display_data"
    }
   ],
   "source": [
    "total_deep.plot(kind='bar', stacked=True,rot='45',figsize= (12,7),title='Total Questions and Deep Learning Questions per quartile')"
   ]
  },
  {
   "cell_type": "markdown",
   "metadata": {},
   "source": [
    "## Conclusion\n",
    "\n",
    "As we can see a number of deep learning related questions is continously growing, it also grows as being bigger part of total asked questions."
   ]
  },
  {
   "cell_type": "markdown",
   "metadata": {},
   "source": [
    "Here are some things to consider:\n",
    "\n",
    "What other content can we recommend that isn't as popular? You can try using association rules to find strong relations between tags.\n",
    "What other popularity features could we include in our analysis? Perhaps scores and favourite counts?\n",
    "We focused on other DSSE. How could we use other related sites to help us with our goal?\n",
    "How can we leverage other sites to determine what non-data-science content to write about? For example, is there some mathematical field that leads to more questions than others?"
   ]
  }
 ],
 "metadata": {
  "kernelspec": {
   "display_name": "Python 3",
   "language": "python",
   "name": "python3"
  },
  "language_info": {
   "codemirror_mode": {
    "name": "ipython",
    "version": 3
   },
   "file_extension": ".py",
   "mimetype": "text/x-python",
   "name": "python",
   "nbconvert_exporter": "python",
   "pygments_lexer": "ipython3",
   "version": "3.6.9"
  }
 },
 "nbformat": 4,
 "nbformat_minor": 2
}
