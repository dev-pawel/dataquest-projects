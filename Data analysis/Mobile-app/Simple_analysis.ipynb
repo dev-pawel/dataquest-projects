{
 "cells": [
  {
   "cell_type": "markdown",
   "metadata": {},
   "source": [
    "# Mobile App's downloads analysis\n",
    "\n",
    "Using only python build-in data structures.\n",
    "- To analyze data to understand what type of apps are likely \n",
    "to attract more users.\n",
    "- To help out developers make a decission what kind of Apps they should work on."
   ]
  },
  {
   "cell_type": "code",
   "execution_count": 2,
   "metadata": {},
   "outputs": [
    {
     "name": "stdout",
     "output_type": "stream",
     "text": [
      "['284882215', 'Facebook', '389879808', 'USD', '0.0', '2974676', '212', '3.5', '3.5', '95.0', '4+', 'Social Networking', '37', '1', '29', '1']\n",
      "\n",
      "\n",
      "['389801252', 'Instagram', '113954816', 'USD', '0.0', '2161558', '1289', '4.5', '4.0', '10.23', '12+', 'Photo & Video', '37', '0', '29', '1']\n",
      "\n",
      "\n",
      "Number of rows: 7198\n",
      "Number of columns: 16\n",
      "['Photo Editor & Candy Camera & Grid & ScrapBook', 'ART_AND_DESIGN', '4.1', '159', '19M', '10,000+', 'Free', '0', 'Everyone', 'Art & Design', 'January 7, 2018', '1.0.0', '4.0.3 and up']\n",
      "\n",
      "\n",
      "['Coloring book moana', 'ART_AND_DESIGN', '3.9', '967', '14M', '500,000+', 'Free', '0', 'Everyone', 'Art & Design;Pretend Play', 'January 15, 2018', '2.0.0', '4.0.3 and up']\n",
      "\n",
      "\n",
      "Number of rows: 10842\n",
      "Number of columns: 13\n"
     ]
    }
   ],
   "source": [
    "import csv\n",
    "AppleDataObj=open('data//AppleStore.csv',encoding=\"utf8\")\n",
    "GoogleDataObj=open('data//googleplaystore.csv',encoding=\"utf8\")\n",
    "AppleData=list(csv.reader(AppleDataObj))\n",
    "GoogleData=list(csv.reader(GoogleDataObj))\n",
    "\n",
    "def explore_data(dataset,start,end,rows_and_columns=False):\n",
    "    datasetSlice=dataset[start:end]\n",
    "    for row in datasetSlice:\n",
    "        print(row)\n",
    "        print('\\n')\n",
    "    if rows_and_columns:\n",
    "        print('Number of rows: ' +str(len(dataset)))\n",
    "        print('Number of columns: '+str(len(dataset[0])))\n",
    "explore_data(AppleData,1,3,rows_and_columns=True)\n",
    "explore_data(GoogleData,1,3,rows_and_columns=True)\n"
   ]
  },
  {
   "cell_type": "markdown",
   "metadata": {},
   "source": [
    "In the above code we are reading two csv files 'AppleStore.csv' and 'googleplaystore.csv' then we are printing a bit of each code to get a taste how the data looks like."
   ]
  },
  {
   "cell_type": "code",
   "execution_count": 29,
   "metadata": {},
   "outputs": [
    {
     "name": "stdout",
     "output_type": "stream",
     "text": [
      "['id', 'track_name', 'size_bytes', 'currency', 'price', 'rating_count_tot', 'rating_count_ver', 'user_rating', 'user_rating_ver', 'ver', 'cont_rating', 'prime_genre', 'sup_devices.num', 'ipadSc_urls.num', 'lang.num', 'vpp_lic']\n",
      "\n",
      "\n",
      "['App', 'Category', 'Rating', 'Reviews', 'Size', 'Installs', 'Type', 'Price', 'Content Rating', 'Genres', 'Last Updated', 'Current Ver', 'Android Ver']\n"
     ]
    }
   ],
   "source": [
    "print(AppleData[0])\n",
    "print('\\n')\n",
    "print(GoogleData[0])"
   ]
  },
  {
   "cell_type": "markdown",
   "metadata": {},
   "source": [
    "For 'AppleData' we can use columns:\n",
    "\n",
    "|Column name|Description|\n",
    "|---|---|\n",
    "|'track_name'|The name of App|\n",
    "|'prime_genre'|Category box|\n",
    "|'user_rating'|How good is rated by users|\n",
    "|'rating_count_tot'|How many users rated|\n",
    "|'price'|How much it costs|\n",
    "\n",
    "We can find detailed description here [Link](https://www.kaggle.com/ramamet4/app-store-apple-data-set-10k-apps)"
   ]
  },
  {
   "cell_type": "markdown",
   "metadata": {},
   "source": [
    "For 'GoogleData' We can use columns:\n",
    "\n",
    "|Column name|Description|\n",
    "|---|---|\n",
    "|'App'|The name of App|\n",
    "|'Category'|Category box|\n",
    "|'Rating'|How goood is rated by users|\n",
    "|'Reviews'|How many comments users left|\n",
    "|'Installs'|How many users downloaded it|\n",
    "|'Type'|Paid or free|\n",
    "\n",
    "We can find detailed description here [Link](https://www.kaggle.com/lava18/google-play-store-apps)"
   ]
  },
  {
   "cell_type": "code",
   "execution_count": 30,
   "metadata": {},
   "outputs": [
    {
     "name": "stdout",
     "output_type": "stream",
     "text": [
      "['Life Made WI-Fi Touchscreen Photo Frame', '1.9', '19', '3.0M', '1,000+', 'Free', '0', 'Everyone', '', 'February 11, 2018', '1.0.19', '4.0 and up']\n"
     ]
    }
   ],
   "source": [
    "print(GoogleData[10473])\n",
    "del GoogleData[10473]\n",
    "del GoogleData[9149]"
   ]
  },
  {
   "cell_type": "markdown",
   "metadata": {},
   "source": [
    "Above we have deleted some broken data with missing values \n",
    "which were spotted on 'kaggle.com' in the discussion section.\n",
    "\n",
    "We have also discovered that some data is duplicated e.g. \n",
    "as below:"
   ]
  },
  {
   "cell_type": "code",
   "execution_count": 31,
   "metadata": {},
   "outputs": [
    {
     "name": "stdout",
     "output_type": "stream",
     "text": [
      "Number of duplicates: 1181\n",
      "Example of duplicate app: Quick PDF Scanner + OCR FREE\n"
     ]
    }
   ],
   "source": [
    "duplicateNames=[]\n",
    "uniqueNames=[]\n",
    "for app in GoogleData:\n",
    "    name=app[0]\n",
    "    if name in uniqueNames:\n",
    "        duplicateNames.append(name)\n",
    "    else:\n",
    "        uniqueNames.append(name)\n",
    "print('Number of duplicates: '+str(len(duplicateNames)))\n",
    "print('Example of duplicate app: '+duplicateNames[0])\n"
   ]
  },
  {
   "cell_type": "markdown",
   "metadata": {},
   "source": [
    "As we can see above. There is 1181 duplicated rows, we printed an example of one of the app which is duplicated.\n",
    "Now we can print all rows having that app name:"
   ]
  },
  {
   "cell_type": "code",
   "execution_count": 32,
   "metadata": {},
   "outputs": [
    {
     "name": "stdout",
     "output_type": "stream",
     "text": [
      "['Quick PDF Scanner + OCR FREE', 'BUSINESS', '4.2', '80805', 'Varies with device', '5,000,000+', 'Free', '0', 'Everyone', 'Business', 'February 26, 2018', 'Varies with device', '4.0.3 and up']\n",
      "['Quick PDF Scanner + OCR FREE', 'BUSINESS', '4.2', '80805', 'Varies with device', '5,000,000+', 'Free', '0', 'Everyone', 'Business', 'February 26, 2018', 'Varies with device', '4.0.3 and up']\n",
      "['Quick PDF Scanner + OCR FREE', 'BUSINESS', '4.2', '80804', 'Varies with device', '5,000,000+', 'Free', '0', 'Everyone', 'Business', 'February 26, 2018', 'Varies with device', '4.0.3 and up']\n"
     ]
    }
   ],
   "source": [
    "for app in GoogleData:\n",
    "    name=app[0]\n",
    "    if name=='Quick PDF Scanner + OCR FREE':\n",
    "        print(app)"
   ]
  },
  {
   "cell_type": "markdown",
   "metadata": {},
   "source": [
    "We should keep only one record for each app name. In this case there is 3 rows with the same app and the only difference is column 4 - revision counts. Not to delete 2 of them randomly lets follow some criteria. Lets keep the latest record. Here we have the bottom row with '80804' revisions and remaining both have each '80805' reviews which probably means that since second data aqusition the number of reviews hasn't changed. So lets keep only one of them, lets say that one with lower index."
   ]
  },
  {
   "cell_type": "markdown",
   "metadata": {},
   "source": [
    "Lets now create a dictionary with single app present only once:"
   ]
  },
  {
   "cell_type": "code",
   "execution_count": 33,
   "metadata": {},
   "outputs": [
    {
     "name": "stdout",
     "output_type": "stream",
     "text": [
      "9658\n"
     ]
    }
   ],
   "source": [
    "reviews_max={}\n",
    "for app in GoogleData[1:]:\n",
    "    name=app[0]\n",
    "    n_reviews=float(app[3])\n",
    "    if name in reviews_max.keys() and reviews_max[name]<n_reviews:\n",
    "        reviews_max[name]=n_reviews\n",
    "    reviews_max.setdefault(name, n_reviews)\n",
    "print(len(reviews_max))"
   ]
  },
  {
   "cell_type": "markdown",
   "metadata": {},
   "source": [
    "Here we created 'reviews_max' where we put only unique app names with the highest review scores.\n",
    "Lets now remove remaining duplicated values:"
   ]
  },
  {
   "cell_type": "code",
   "execution_count": 34,
   "metadata": {
    "collapsed": true
   },
   "outputs": [],
   "source": [
    "android_clean=[]\n",
    "already_added=[]\n",
    "for app in GoogleData[1:]:\n",
    "    name=app[0]\n",
    "    n_reviews=float(app[3])\n",
    "    if n_reviews==reviews_max[name] and name not in already_added:\n",
    "        android_clean.append(app)\n",
    "        already_added.append(name)\n",
    "        \n",
    "        "
   ]
  },
  {
   "cell_type": "code",
   "execution_count": 35,
   "metadata": {},
   "outputs": [
    {
     "name": "stdout",
     "output_type": "stream",
     "text": [
      "9658\n"
     ]
    }
   ],
   "source": [
    "print(len(android_clean))"
   ]
  },
  {
   "cell_type": "markdown",
   "metadata": {},
   "source": [
    "The above code builds the list of cleaned data with only one app name which presents in 'reviews_max' dictionary. To do so we looped through GoogleData dataset and appended the 'android_clean' list. We have also created another list called 'already_added' to skip any app name if it has the same revision number - as in our previous example. The last print function is there to check that both 'android_clean' and 'reviews_max' repositories have the same lenght.\n",
    "After that we need to get rid of any non-English app name while we are interested only about English speakin market:"
   ]
  },
  {
   "cell_type": "code",
   "execution_count": 36,
   "metadata": {
    "collapsed": true
   },
   "outputs": [],
   "source": [
    "def English_AppName(app):\n",
    "    portion=0\n",
    "    for n in app:\n",
    "        if ord(n)>127:\n",
    "            portion+=1\n",
    "    if portion >3:\n",
    "        return False\n",
    "    return True"
   ]
  },
  {
   "cell_type": "markdown",
   "metadata": {},
   "source": [
    "This function takes a string of app name as a parameter and returns 'True' if thats composed of English letters, otherwise it returns 'False'. English characters are all in range 0 to 127 according to the ASCII. We also set some limit that if any string consist of more then 3 non-English characters its treat as non-English word, otherwise its still English - see below:"
   ]
  },
  {
   "cell_type": "code",
   "execution_count": 37,
   "metadata": {},
   "outputs": [
    {
     "name": "stdout",
     "output_type": "stream",
     "text": [
      "True\n"
     ]
    }
   ],
   "source": [
    "print(English_AppName('Docs To Go™ Free Office Suite'))"
   ]
  },
  {
   "cell_type": "markdown",
   "metadata": {},
   "source": [
    "Lets now filter our two datasets:        "
   ]
  },
  {
   "cell_type": "code",
   "execution_count": 38,
   "metadata": {
    "collapsed": true
   },
   "outputs": [],
   "source": [
    "GoogleData_clean=[]\n",
    "for app in android_clean:\n",
    "    if English_AppName(app[0])==True and app[6]=='Free':\n",
    "        GoogleData_clean.append(app)\n",
    "AppleData_clean=[]\n",
    "for app in AppleData[1:]:\n",
    "    if English_AppName(app[1])==True and app[4]=='0.0':\n",
    "        AppleData_clean.append(app)  "
   ]
  },
  {
   "cell_type": "markdown",
   "metadata": {},
   "source": [
    "Using our created function we filtered out non-English apps from both datasets appending only English titles to 'GoogleData_clean' and 'AppleData_clean'. The next step is to filter our datasets to include only Free apps becasue our assumption is that our source of revenue consists of in-app ads."
   ]
  },
  {
   "cell_type": "code",
   "execution_count": 39,
   "metadata": {},
   "outputs": [
    {
     "name": "stdout",
     "output_type": "stream",
     "text": [
      "8863 3222\n"
     ]
    }
   ],
   "source": [
    "print(len(GoogleData_clean),len(AppleData_clean))"
   ]
  },
  {
   "cell_type": "markdown",
   "metadata": {},
   "source": [
    "We are done with data cleaning activities. Our purpose is to check if our apps are attract to the customers. To check that we can find App which are popular on both Apple and Google services. The next step is to find the hottest genres for each market. Now we need to sort our data:"
   ]
  },
  {
   "cell_type": "code",
   "execution_count": 40,
   "metadata": {},
   "outputs": [],
   "source": [
    "def freq_table(dataset,index):\n",
    "    Categories={}\n",
    "    for app in dataset:\n",
    "        if app[index] not in Categories:\n",
    "            Categories[app[index]]=0\n",
    "    for app in dataset:\n",
    "        if app[index] in Categories:\n",
    "            Categories[app[index]]+=1\n",
    "    total_number_apps=len(dataset)\n",
    "    for category in Categories:\n",
    "        Categories[category]=round(Categories[category]*100/total_number_apps,2)\n",
    "    return Categories    \n"
   ]
  },
  {
   "cell_type": "code",
   "execution_count": 41,
   "metadata": {
    "scrolled": true
   },
   "outputs": [],
   "source": [
    "def display_table(dataset, index):\n",
    "    table = freq_table(dataset, index)\n",
    "    table_display = []\n",
    "    for key in table:\n",
    "        key_val_as_tuple = (table[key], key)\n",
    "        table_display.append(key_val_as_tuple)\n",
    "\n",
    "    table_sorted = sorted(table_display, reverse = True)\n",
    "    for entry in table_sorted:\n",
    "        print(entry[1], ':', entry[0])"
   ]
  },
  {
   "cell_type": "code",
   "execution_count": 42,
   "metadata": {},
   "outputs": [
    {
     "name": "stdout",
     "output_type": "stream",
     "text": [
      "FAMILY : 18.9\n",
      "GAME : 9.73\n",
      "TOOLS : 8.46\n",
      "BUSINESS : 4.59\n",
      "LIFESTYLE : 3.9\n",
      "PRODUCTIVITY : 3.89\n",
      "FINANCE : 3.7\n",
      "MEDICAL : 3.53\n",
      "SPORTS : 3.4\n",
      "PERSONALIZATION : 3.32\n",
      "COMMUNICATION : 3.24\n",
      "HEALTH_AND_FITNESS : 3.08\n",
      "PHOTOGRAPHY : 2.94\n",
      "NEWS_AND_MAGAZINES : 2.8\n",
      "SOCIAL : 2.66\n",
      "TRAVEL_AND_LOCAL : 2.34\n",
      "SHOPPING : 2.25\n",
      "BOOKS_AND_REFERENCE : 2.14\n",
      "DATING : 1.86\n",
      "VIDEO_PLAYERS : 1.79\n",
      "MAPS_AND_NAVIGATION : 1.4\n",
      "FOOD_AND_DRINK : 1.24\n",
      "EDUCATION : 1.16\n",
      "ENTERTAINMENT : 0.96\n",
      "LIBRARIES_AND_DEMO : 0.94\n",
      "AUTO_AND_VEHICLES : 0.93\n",
      "HOUSE_AND_HOME : 0.82\n",
      "WEATHER : 0.8\n",
      "EVENTS : 0.71\n",
      "PARENTING : 0.65\n",
      "ART_AND_DESIGN : 0.64\n",
      "COMICS : 0.62\n",
      "BEAUTY : 0.6\n",
      "\n",
      "\n",
      "Games : 58.16\n",
      "Entertainment : 7.88\n",
      "Photo & Video : 4.97\n",
      "Education : 3.66\n",
      "Social Networking : 3.29\n",
      "Shopping : 2.61\n",
      "Utilities : 2.51\n",
      "Sports : 2.14\n",
      "Music : 2.05\n",
      "Health & Fitness : 2.02\n",
      "Productivity : 1.74\n",
      "Lifestyle : 1.58\n",
      "News : 1.33\n",
      "Travel : 1.24\n",
      "Finance : 1.12\n",
      "Weather : 0.87\n",
      "Food & Drink : 0.81\n",
      "Reference : 0.56\n",
      "Business : 0.53\n",
      "Book : 0.43\n",
      "Navigation : 0.19\n",
      "Medical : 0.19\n",
      "Catalogs : 0.12\n"
     ]
    }
   ],
   "source": [
    "display_table(GoogleData_clean,1)\n",
    "print('\\n')\n",
    "display_table(AppleData_clean,11)\n"
   ]
  },
  {
   "cell_type": "markdown",
   "metadata": {},
   "source": [
    "Through last lines of code we segregated our datasets basend on Category column. First of all we defined frequency table sorting our data basend on percentage share of the particular category compare to total English apps. Then using 'display_table' function we sorted result in a descending order. Here we printed results for App store. As we can see the most common genre among English apps is Games, The runner-up is Entertainment. If we can compare them gruping by two purposes- whether its more for a practical purpose or more for entertainment. To the first group we can assign e.g. education, shopping, utilities, productivity, lifestyle. Whereas to the second one we can assign e.g. games, photo and video, social networking, music. We can clearly see that much more apps belong to entertainment group. It can mean that the most popular genre among users is Games. Lets find some more proves."
   ]
  },
  {
   "cell_type": "code",
   "execution_count": 43,
   "metadata": {},
   "outputs": [],
   "source": [
    "CategoriesData=freq_table(AppleData_clean,11)\n",
    "Users_per_genre=[]\n",
    "for genre in CategoriesData.keys():\n",
    "    total=0\n",
    "    len_genre=0\n",
    "    for app in AppleData_clean:\n",
    "        genre_app=app[11]\n",
    "        if genre_app==genre:\n",
    "            users_rated=float(app[5])\n",
    "            total+=users_rated\n",
    "            len_genre+=1\n",
    "    rating_avg=total/len_genre\n",
    "    Users_per_genre.append((round(rating_avg),genre))"
   ]
  },
  {
   "cell_type": "code",
   "execution_count": 44,
   "metadata": {},
   "outputs": [
    {
     "name": "stdout",
     "output_type": "stream",
     "text": [
      "Navigation : 86090\n",
      "Reference : 74942\n",
      "Social Networking : 71548\n",
      "Music : 57327\n",
      "Weather : 52280\n",
      "Book : 39758\n",
      "Food & Drink : 33334\n",
      "Finance : 31468\n",
      "Photo & Video : 28442\n",
      "Travel : 28244\n",
      "Shopping : 26920\n",
      "Health & Fitness : 23298\n",
      "Sports : 23009\n",
      "Games : 22789\n",
      "News : 21248\n",
      "Productivity : 21028\n",
      "Utilities : 18684\n",
      "Lifestyle : 16486\n",
      "Entertainment : 14030\n",
      "Business : 7491\n",
      "Education : 7004\n",
      "Catalogs : 4004\n",
      "Medical : 612\n"
     ]
    }
   ],
   "source": [
    "def Table_sort(table_tuple):\n",
    "    table_sorted = sorted(table_tuple, reverse = True)\n",
    "    for entry in table_sorted:\n",
    "        print(entry[1], ':', entry[0])\n",
    "Table_sort(Users_per_genre)"
   ]
  },
  {
   "cell_type": "markdown",
   "metadata": {},
   "source": [
    "Above we were calculating the average number of user ratings for rach genre. Better factor which is No of installations in not avaliable for App store dataset so we had to use some substitute. We have taken the number of reviews left by users and calculated an average number of users per one genre. We can see that this time the top one is Navigation category.Reference and Social networking is also popular. We could split them into 4 groups: above 70000 the top one - having 3 top categories. The second one: 30001-70000 - with 5 categories. The third one 10000-3000 - 11 categories. And the last one < 10000 - having 4 categories. Thats probalby the best factor which we can take into account planning which grup of apps to develop. Navigation, Refference and Social Networking. If we compare these with number of apps in the App store which we get previously we can find that there is very less apps dedicated for Navigation and at the same time there is a huge demand. We need to also remember that we limited our data to only English languague and non-Paid apps. The next factor worth to mention is that maybe market is dominated by a few apps from giant companies like google etc. Lets print a bit of our data to see what's in these categories."
   ]
  },
  {
   "cell_type": "code",
   "execution_count": 63,
   "metadata": {},
   "outputs": [
    {
     "name": "stdout",
     "output_type": "stream",
     "text": [
      "Waze - GPS Navigation, Maps & Real-time Traffic 345046\n",
      "Google Maps - Navigation & Transit 154911\n",
      "Geocaching® 12811\n",
      "CoPilot GPS – Car Navigation & Offline Maps 3582\n",
      "ImmobilienScout24: Real Estate Search in Germany 187\n",
      "Railway Route Search 5\n"
     ]
    }
   ],
   "source": [
    "def Apple_TopCategory(category):\n",
    "    Apple_topApps=[]\n",
    "    for app in AppleData_clean:\n",
    "        if app[11]==category:\n",
    "            if app[1] not in Apple_topApps:\n",
    "                Apple_topApps.append(app)\n",
    "\n",
    "    for n in Apple_topApps:\n",
    "        print(n[1],n[5])\n",
    "        \n",
    "Apple_TopCategory('Navigation')"
   ]
  },
  {
   "cell_type": "markdown",
   "metadata": {},
   "source": [
    "As we can see on above quick analysis the marked in domianted by 2 companies - 'Waze' and 'Google Maps'. It can be hard to attract new customers. Now lets calculate the number of users for Google Dataset."
   ]
  },
  {
   "cell_type": "code",
   "execution_count": 64,
   "metadata": {},
   "outputs": [
    {
     "name": "stdout",
     "output_type": "stream",
     "text": [
      "COMMUNICATION : 38456119\n",
      "VIDEO_PLAYERS : 24727872\n",
      "SOCIAL : 23253652\n",
      "PHOTOGRAPHY : 17840110\n",
      "PRODUCTIVITY : 16787331\n",
      "GAME : 15588016\n",
      "TRAVEL_AND_LOCAL : 13984078\n",
      "ENTERTAINMENT : 11640706\n",
      "TOOLS : 10801391\n",
      "NEWS_AND_MAGAZINES : 9549178\n",
      "BOOKS_AND_REFERENCE : 8767812\n",
      "SHOPPING : 7036877\n",
      "PERSONALIZATION : 5201483\n",
      "WEATHER : 5074486\n",
      "HEALTH_AND_FITNESS : 4188822\n",
      "MAPS_AND_NAVIGATION : 4056942\n",
      "FAMILY : 3697848\n",
      "SPORTS : 3638640\n",
      "ART_AND_DESIGN : 1986335\n",
      "FOOD_AND_DRINK : 1924898\n",
      "EDUCATION : 1833495\n",
      "BUSINESS : 1712290\n",
      "LIFESTYLE : 1437816\n",
      "FINANCE : 1387692\n",
      "HOUSE_AND_HOME : 1331541\n",
      "DATING : 854029\n",
      "COMICS : 817657\n",
      "AUTO_AND_VEHICLES : 647318\n",
      "LIBRARIES_AND_DEMO : 638504\n",
      "PARENTING : 542604\n",
      "BEAUTY : 513152\n",
      "EVENTS : 253542\n",
      "MEDICAL : 120551\n"
     ]
    }
   ],
   "source": [
    "for n in range(len(GoogleData)):\n",
    "    n_installs=GoogleData[n][5].replace('+','').replace(',','')\n",
    "    GoogleData[n][5]=n_installs\n",
    "CategoriesData=freq_table(GoogleData_clean,1)\n",
    "Users_per_genre=[]\n",
    "for genre in CategoriesData.keys():\n",
    "    total=0\n",
    "    len_genre=0\n",
    "    for app in GoogleData_clean:\n",
    "        genre_app=app[1]\n",
    "        if genre_app==genre:\n",
    "            users_rated=float(app[5])\n",
    "            total+=users_rated\n",
    "            len_genre+=1\n",
    "    rating_avg=total/len_genre\n",
    "    Users_per_genre.append((round(rating_avg),genre))\n",
    "\n",
    "def Table_sort(table_tuple):\n",
    "    table_sorted = sorted(table_tuple, reverse = True)\n",
    "    for entry in table_sorted:\n",
    "        print(entry[1], ':', entry[0])\n",
    "Table_sort(Users_per_genre)"
   ]
  },
  {
   "cell_type": "markdown",
   "metadata": {},
   "source": [
    "As we can see the most popular categories are: 'Comunication', 'Video players', 'Social'. Lets now see what is in the top one:"
   ]
  },
  {
   "cell_type": "code",
   "execution_count": 65,
   "metadata": {},
   "outputs": [
    {
     "name": "stdout",
     "output_type": "stream",
     "text": [
      "WhatsApp Messenger 1000000000\n",
      "Messenger for SMS 10000000\n",
      "My Tele2 5000000\n",
      "imo beta free calls and text 100000000\n",
      "Contacts 50000000\n",
      "Call Free – Free Call 5000000\n",
      "Web Browser & Explorer 5000000\n",
      "Browser 4G 10000000\n",
      "MegaFon Dashboard 10000000\n",
      "ZenUI Dialer & Contacts 10000000\n",
      "Cricket Visual Voicemail 10000000\n",
      "TracFone My Account 1000000\n",
      "Xperia Link™ 10000000\n",
      "TouchPal Keyboard - Fun Emoji & Android Keyboard 10000000\n",
      "Skype Lite - Free Video Call & Chat 5000000\n",
      "My magenta 1000000\n",
      "Android Messages 100000000\n",
      "Google Duo - High Quality Video Calls 500000000\n",
      "Seznam.cz 1000000\n",
      "Antillean Gold Telegram (original version) 100000\n",
      "AT&T Visual Voicemail 10000000\n",
      "GMX Mail 10000000\n",
      "Omlet Chat 10000000\n",
      "My Vodacom SA 5000000\n",
      "Microsoft Edge 5000000\n",
      "Messenger – Text and Video Chat for Free 1000000000\n",
      "imo free video calls and chat 500000000\n",
      "Calls & Text by Mo+ 5000000\n",
      "free video calls and chat 50000000\n",
      "Skype - free IM & video calls 1000000000\n",
      "Who 100000000\n",
      "GO SMS Pro - Messenger, Free Themes, Emoji 100000000\n",
      "Messaging+ SMS, MMS Free 1000000\n",
      "chomp SMS 10000000\n",
      "Glide - Video Chat Messenger 10000000\n",
      "Text SMS 10000000\n",
      "Talkray - Free Calls & Texts 10000000\n",
      "LINE: Free Calls & Messages 500000000\n",
      "GroupMe 10000000\n",
      "mysms SMS Text Messaging Sync 1000000\n",
      "2ndLine - Second Phone Number 1000000\n",
      "Google Chrome: Fast & Secure 1000000000\n",
      "Firefox Browser fast & private 100000000\n",
      "Ninesky Browser 1000000\n",
      "Dolphin Browser - Fast, Private & Adblock🐬 50000000\n",
      "UC Browser - Fast Download Private & Secure 500000000\n",
      "Ghostery Privacy Browser 1000000\n",
      "InBrowser - Incognito Browsing 1000000\n",
      "Lightning Web Browser 500000\n",
      "Web Browser 500000\n",
      "Contacts+ 10000000\n",
      "ExDialer - Dialer & Contacts 10000000\n",
      "PHONE for Google Voice & GTalk 1000000\n",
      "Safest Call Blocker 1000000\n",
      "Full Screen Caller ID 5000000\n",
      "Hiya - Caller ID & Block 10000000\n",
      "Mr. Number-Block calls & spam 10000000\n",
      "Should I Answer? 1000000\n",
      "RocketDial Dialer & Contacts 1000000\n",
      "CIA - Caller ID & Call Blocker 5000000\n",
      "Calls Blacklist - Call Blocker 10000000\n",
      "Call Control - Call Blocker 5000000\n",
      "True Contact - Real Caller ID 1000000\n",
      "Video Caller Id 1000000\n",
      "Sync.ME – Caller ID & Block 5000000\n",
      "Burner - Free Phone Number 1000000\n",
      "Caller ID + 1000000\n",
      "Gmail 1000000000\n",
      "K-9 Mail 5000000\n",
      "myMail – Email for Hotmail, Gmail and Outlook Mail 10000000\n",
      "Email TypeApp - Mail App 1000000\n",
      "All Email Providers 1000000\n",
      "Newton Mail - Email App for Gmail, Outlook, IMAP 1000000\n",
      "GO Notifier 10000000\n",
      "Mail.Ru - Email App 50000000\n",
      "Mail1Click - Secure Mail 10000\n",
      "Daum Mail - Next Mail 5000000\n",
      "mail.com mail 1000000\n",
      "SolMail - All-in-One email app 500000\n",
      "Hangouts 1000000000\n",
      "Vonage Mobile® Call Video Text 1000000\n",
      "JusTalk - Free Video Calls and Fun Video Chat 5000000\n",
      "Azar 50000000\n",
      "LokLok: Draw on a Lock Screen 500000\n",
      "Discord - Chat for Gamers 10000000\n",
      "Messenger Lite: Free Calls & Messages 100000000\n",
      "AntennaPict β 1000000\n",
      "Talkatone: Free Texts, Calls & Phone Number 10000000\n",
      "Kik 100000000\n",
      "K-@ Mail - Email App 100000\n",
      "KakaoTalk: Free Calls & Text 100000000\n",
      "K-9 Material (unofficial) 5000\n",
      "M star Dialer 100000\n",
      "Free WiFi Connect 10000000\n",
      "m:go BiH 10000\n",
      "N-Com Wizard 50000\n",
      "Opera Mini - fast web browser 100000000\n",
      "Opera Browser: Fast and Secure 100000000\n",
      "Opera Mini browser beta 10000000\n",
      "Psiphon Pro - The Internet Freedom VPN 10000000\n",
      "ICQ — Video Calls & Chat Messenger 10000000\n",
      "Telegram 100000000\n",
      "AT&T Messages for Tablet 1000000\n",
      "T-Mobile DIGITS 100000\n",
      "Truecaller: Caller ID, SMS spam blocking & Dialer 100000000\n",
      "Portable Wi-Fi hotspot 10000000\n",
      "AT&T Call Protect 5000000\n",
      "U - Webinars, Meetings & Messenger 500000\n",
      "UC Browser Mini -Tiny Fast Private & Secure 100000000\n",
      "/u/app 10000\n",
      "[verify-U] VideoIdent 10000\n",
      "Viber Messenger 500000000\n",
      "WeChat 100000000\n",
      "WhatsApp Business 10000000\n",
      "WhatsCall Free Global Phone Call App & Cheap Calls 10000000\n",
      "X Browser 50000\n",
      "Yahoo Mail – Stay Organized 100000000\n",
      "Free Adblocker Browser - Adblock & Popup Blocker 10000000\n",
      "Adblock Browser for Android 10000000\n",
      "CM Browser - Ad Blocker , Fast Download , Privacy 50000000\n",
      "Adblock Plus for Samsung Internet - Browse safe. 1000000\n",
      "Ad Blocker Turbo - Adblocker Browser 10000\n",
      "Brave Browser: Fast AdBlocker 5000000\n",
      "AG Contacts, Lite edition 5000\n",
      "Oklahoma Ag Co-op Council 10\n",
      "Bee'ah Employee App 100\n",
      "tournaments and more.aj.2 100\n",
      "Aj.Petra 100\n",
      "AK Phone 5000\n",
      "PlacarTv Futebol Ao Vivo 100000\n",
      "WiFi Access Point (hotspot) 100000\n",
      "Access Point Names 10000\n",
      "Puffin Web Browser 10000000\n",
      "ClanHQ 10000\n",
      "Ear Agent: Super Hearing 5000000\n",
      "Google Voice 10000000\n",
      "Google Allo 10000000\n",
      "AU Call Blocker - Block Unwanted Calls Texts 2018 1000\n",
      "Baby Monitor AV 100000\n",
      "AV Phone 1000\n",
      "AW - free video calls and chat 1000000\n",
      "Katalogen.ax 100\n",
      "AZ Browser. Private & Download 100000\n",
      "BA SALES 1\n",
      "BD Data Plan (3G & 4G) 500000\n",
      "BD Internet Packages (Updated) 50000\n",
      "BD Dialer 10000\n",
      "BD Live Call 5000\n",
      "Best Browser BD social networking 10\n",
      "Traffic signs BD 500\n",
      "BF Browser by Betfilter - Stop Gambling Today! 10000\n",
      "My BF App 50000\n",
      "BH Mail 1000\n",
      "Zalo – Video Call 50000000\n",
      "BJ - Confidential 10\n",
      "BK Chat 1000\n",
      "Of the wall Arapaho bk 5\n",
      "AC-BL 50\n",
      "BBM - Free Calls & Messages 100000000\n",
      "DMR BrandMeister Tool 10000\n",
      "BBMoji - Your personalized BBM Stickers 1000000\n",
      "BN MALLORCA Radio 1000\n",
      "BQ Partners 1000\n",
      "BS-Mobile 50\n",
      "ATC Unico BS 500\n",
      "BT One Voice mobile access 5000\n",
      "BT Messenger 50000\n",
      "BT One Phone Mobile App 10000\n",
      "SW-100.tch by Callstel 1000000\n",
      "BT MeetMe with Dolby Voice 100000\n",
      "Bluetooth Auto Connect 5000000\n",
      "AudioBT: BT audio GPS/SMS/Text 50000\n",
      "BV 100\n",
      "Feel Performer 10000\n",
      "Tiny Call Confirm 1000000\n",
      "CB Radio Chat - for friends! 1000000\n",
      "CB On Mobile 100000\n",
      "Virtual Walkie Talkie 1000000\n",
      "Channel 19 100000\n",
      "Cb browser 50\n",
      "CF Chat: Connecting Friends 100\n",
      "retteMi.ch 5000\n",
      "Chrome Dev 5000000\n",
      "CJ Browser - Fast & Private 100\n",
      "CJ DVD Rentals 100\n",
      "CK Call NEW 10\n",
      "CM Transfer - Share any files with friends nearby 5000000\n",
      "mail.co.uk Mail 5000\n",
      "ClanPlay: Community and Tools for Gamers 1000000\n",
      "CQ-Mobile 1000\n",
      "CQ-Alert 500\n",
      "QRZ Assistant 100000\n",
      "Pocket Prefix Plus 10000\n",
      "Ham Radio Prefixes 10000\n",
      "CS Customizer 1000\n",
      "CS Browser | #1 & BEST BROWSER 1000\n",
      "CS Browser Beta 5000\n",
      "My Vodafone (GR) 1000000\n",
      "IZ2UUF Morse Koch CW 50000\n",
      "C W Browser 100\n",
      "CW Bluetooth SPP 100\n",
      "CW BLE Peripheral Simulator 500\n",
      "Morse Code Reader 100000\n",
      "Learn Morse Code - G0HYN Learn Morse 5000\n",
      "Ring 10000\n",
      "Hyundai CX Conference 50\n",
      "Cy Messenger 100\n",
      "Amadeus GR & CY 100\n",
      "Hlášenírozhlasu.cz 10\n",
      "SMS Sender - sluzba.cz 1000\n",
      "WEB.DE Mail 10000000\n",
      "Your Freedom VPN Client 5000000\n",
      "CallApp: Caller ID, Blocker & Phone Call Recorder 10000000\n",
      "Rádio Sol Nascente DF 500\n",
      "DG Card 100\n",
      "Whoscall - Caller ID & Block 10000000\n",
      "DK Browser 10\n",
      "cluster.dk 1000\n",
      "DK TEL Dialer 50\n",
      "DM for WhatsApp 5000\n",
      "DM Talk New 5000\n",
      "DM - The Offical Messaging App 10\n",
      "DM Tracker 1000\n",
      "Call Blocker & Blacklist 1000\n",
      "ReadyOp DT 1000\n",
      "DU Browser—Browse fast & fun 10000000\n",
      "Caller ID & Call Block - DU Caller 5000000\n",
      "BlueDV AMBE 1000\n",
      "DW Contacts & Phone & Dialer 1000000\n",
      "Deaf World DW 10000\n",
      "Ham DX Cluster & Spots Finder 5000\n",
      "Mircules DX Cluster Lite 5000\n",
      "3G DZ Configuration 50000\n",
      "chat dz 100\n",
      "love sms good morning 5000\n",
      "Goodbox - Mega App 100000\n",
      "Call Blocker - Blacklist, SMS Blocker 1000000\n",
      "[EF]ShoutBox 100\n",
      "Eg Call 10000\n",
      "ei 10\n",
      "EJ messenger 10\n",
      "Ek IRA 10\n",
      "Orfox: Tor Browser for Android 10000000\n",
      "EO Mumbai 10\n",
      "EP RSS Reader 100\n",
      "Voxer Walkie Talkie Messenger 10000000\n",
      "ES-1 500\n",
      "Hangouts Dialer - Call Phones 10000000\n",
      "EU Council 1000\n",
      "Council Voting Calculator 5000\n",
      "Have your say on Europe 500\n",
      "Programi podrške EU 100\n",
      "Inbox.eu 10000\n",
      "Web Browser for Android 1000000\n",
      "Everbridge 100000\n",
      "Best Auto Call Recorder Free 500\n",
      "EZ Wifi Notification 10000\n",
      "Test Server SMS FA 5\n",
      "Lite for Facebook Messenger 1000000\n",
      "FC Browser - Focus Privacy Browser 1000\n",
      "EHiN-FH conferenceapp 100\n",
      "Carpooling FH Hagenberg 100\n",
      "Wi-Fi Auto-connect 1000000\n",
      "Talkie - Wi-Fi Calling, Chats, File Sharing 500000\n",
      "WeFi - Free Fast WiFi Connect & Find Wi-Fi Map 1000000\n",
      "Sat-Fi 5000\n",
      "Portable Wi-Fi hotspot Free 100000\n",
      "TownWiFi | Wi-Fi Everywhere 500000\n",
      "Jazz Wi-Fi 10000\n",
      "Sat-Fi Voice 1000\n",
      "Free Wi-fi HotspoT 50000\n",
      "FN Web Radio 10\n",
      "FNH Payment Info 10\n",
      "MARKET FO 100\n",
      "FO OP St-Nazaire 100\n",
      "FO SODEXO 100\n",
      "FO RCBT 100\n",
      "FO Interim 100\n",
      "FO PSA Sept-Fons 100\n",
      "FO AIRBUS TLSE 1000\n",
      "FO STELIA Méaulte 100\n",
      "FO AIRBUS Nantes 100\n",
      "Firefox Focus: The privacy browser 1000000\n",
      "FP Connect 100\n",
      "FreedomPop Messaging Phone/SIM 500000\n",
      "FP Live 10\n",
      "HipChat - beta version 50000\n"
     ]
    }
   ],
   "source": [
    "def Google_TopCategory(category):\n",
    "    Google_topApps=[]\n",
    "    for app in GoogleData_clean:\n",
    "        if app[1]==category:\n",
    "            if app[0] not in Google_topApps:\n",
    "                Google_topApps.append(app)\n",
    "\n",
    "    for n in Google_topApps:\n",
    "        print(n[0],n[5])\n",
    "        \n",
    "Google_TopCategory('COMMUNICATION')"
   ]
  },
  {
   "cell_type": "markdown",
   "metadata": {},
   "source": [
    "Here we can see that for Android apps the market is not so cemented.There are some leaders on in the group but there is much more competition compare to Apple market. The analysis of the destribution of downloads in each group could have helped us to chose the best target category for us."
   ]
  }
 ],
 "metadata": {
  "kernelspec": {
   "display_name": "Python 3",
   "language": "python",
   "name": "python3"
  },
  "language_info": {
   "codemirror_mode": {
    "name": "ipython",
    "version": 3
   },
   "file_extension": ".py",
   "mimetype": "text/x-python",
   "name": "python",
   "nbconvert_exporter": "python",
   "pygments_lexer": "ipython3",
   "version": "3.6.9"
  }
 },
 "nbformat": 4,
 "nbformat_minor": 2
}
