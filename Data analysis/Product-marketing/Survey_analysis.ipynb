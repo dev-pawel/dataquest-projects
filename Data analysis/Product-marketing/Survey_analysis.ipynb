{
 "cells": [
  {
   "cell_type": "markdown",
   "metadata": {
    "collapsed": true
   },
   "source": [
    "# Find the best markets to advertise product\n",
    "\n",
    "## Introduction\n",
    "\n",
    "We were asked by e-learning company which offers courses on programing to recommend two best markets to advertise their products in. Most of their courses are on web and mobile development but they also cover other domains, like data science, game development etc. We have found quite represantative dataset on Github performed by freeCodeCamp in 2017. There was 18,000 people who were asked how they are learning to code.\n",
    "\n",
    "### Summary of results\n",
    "\n",
    "We can advertise our e-learning products in US and India. While in US there is a lot of people interested in coding and they spend on average more then 59 dol. India is also quite good choise once the GDP is growing rapidly and there is more people learning coding then in different English speaking countires.\n",
    "## Data exploration"
   ]
  },
  {
   "cell_type": "code",
   "execution_count": 354,
   "metadata": {},
   "outputs": [],
   "source": [
    "import pandas as pd\n",
    "import numpy as np\n",
    "import matplotlib.pyplot as plt\n",
    "%matplotlib inline"
   ]
  },
  {
   "cell_type": "code",
   "execution_count": 355,
   "metadata": {},
   "outputs": [],
   "source": [
    "survey = pd.read_csv('data//2017-fCC-New-Coders-Survey-Data.csv')"
   ]
  },
  {
   "cell_type": "code",
   "execution_count": 356,
   "metadata": {},
   "outputs": [
    {
     "data": {
      "text/plain": [
       "(18175, 136)"
      ]
     },
     "execution_count": 356,
     "metadata": {},
     "output_type": "execute_result"
    }
   ],
   "source": [
    "# shape of dataset\n",
    "survey.shape"
   ]
  },
  {
   "cell_type": "code",
   "execution_count": 16,
   "metadata": {},
   "outputs": [
    {
     "data": {
      "text/html": [
       "<div>\n",
       "<style scoped>\n",
       "    .dataframe tbody tr th:only-of-type {\n",
       "        vertical-align: middle;\n",
       "    }\n",
       "\n",
       "    .dataframe tbody tr th {\n",
       "        vertical-align: top;\n",
       "    }\n",
       "\n",
       "    .dataframe thead th {\n",
       "        text-align: right;\n",
       "    }\n",
       "</style>\n",
       "<table border=\"1\" class=\"dataframe\">\n",
       "  <thead>\n",
       "    <tr style=\"text-align: right;\">\n",
       "      <th></th>\n",
       "      <th>Age</th>\n",
       "      <th>AttendedBootcamp</th>\n",
       "      <th>BootcampFinish</th>\n",
       "      <th>BootcampLoanYesNo</th>\n",
       "      <th>BootcampName</th>\n",
       "      <th>BootcampRecommend</th>\n",
       "      <th>ChildrenNumber</th>\n",
       "      <th>CityPopulation</th>\n",
       "      <th>CodeEventConferences</th>\n",
       "      <th>CodeEventDjangoGirls</th>\n",
       "      <th>...</th>\n",
       "      <th>YouTubeFCC</th>\n",
       "      <th>YouTubeFunFunFunction</th>\n",
       "      <th>YouTubeGoogleDev</th>\n",
       "      <th>YouTubeLearnCode</th>\n",
       "      <th>YouTubeLevelUpTuts</th>\n",
       "      <th>YouTubeMIT</th>\n",
       "      <th>YouTubeMozillaHacks</th>\n",
       "      <th>YouTubeOther</th>\n",
       "      <th>YouTubeSimplilearn</th>\n",
       "      <th>YouTubeTheNewBoston</th>\n",
       "    </tr>\n",
       "  </thead>\n",
       "  <tbody>\n",
       "    <tr>\n",
       "      <th>0</th>\n",
       "      <td>27.0</td>\n",
       "      <td>0.0</td>\n",
       "      <td>NaN</td>\n",
       "      <td>NaN</td>\n",
       "      <td>NaN</td>\n",
       "      <td>NaN</td>\n",
       "      <td>NaN</td>\n",
       "      <td>more than 1 million</td>\n",
       "      <td>NaN</td>\n",
       "      <td>NaN</td>\n",
       "      <td>...</td>\n",
       "      <td>NaN</td>\n",
       "      <td>NaN</td>\n",
       "      <td>NaN</td>\n",
       "      <td>NaN</td>\n",
       "      <td>NaN</td>\n",
       "      <td>NaN</td>\n",
       "      <td>NaN</td>\n",
       "      <td>NaN</td>\n",
       "      <td>NaN</td>\n",
       "      <td>NaN</td>\n",
       "    </tr>\n",
       "    <tr>\n",
       "      <th>1</th>\n",
       "      <td>34.0</td>\n",
       "      <td>0.0</td>\n",
       "      <td>NaN</td>\n",
       "      <td>NaN</td>\n",
       "      <td>NaN</td>\n",
       "      <td>NaN</td>\n",
       "      <td>NaN</td>\n",
       "      <td>less than 100,000</td>\n",
       "      <td>NaN</td>\n",
       "      <td>NaN</td>\n",
       "      <td>...</td>\n",
       "      <td>1.0</td>\n",
       "      <td>NaN</td>\n",
       "      <td>NaN</td>\n",
       "      <td>NaN</td>\n",
       "      <td>NaN</td>\n",
       "      <td>NaN</td>\n",
       "      <td>NaN</td>\n",
       "      <td>NaN</td>\n",
       "      <td>NaN</td>\n",
       "      <td>NaN</td>\n",
       "    </tr>\n",
       "    <tr>\n",
       "      <th>2</th>\n",
       "      <td>21.0</td>\n",
       "      <td>0.0</td>\n",
       "      <td>NaN</td>\n",
       "      <td>NaN</td>\n",
       "      <td>NaN</td>\n",
       "      <td>NaN</td>\n",
       "      <td>NaN</td>\n",
       "      <td>more than 1 million</td>\n",
       "      <td>NaN</td>\n",
       "      <td>NaN</td>\n",
       "      <td>...</td>\n",
       "      <td>NaN</td>\n",
       "      <td>NaN</td>\n",
       "      <td>NaN</td>\n",
       "      <td>1.0</td>\n",
       "      <td>1.0</td>\n",
       "      <td>NaN</td>\n",
       "      <td>NaN</td>\n",
       "      <td>NaN</td>\n",
       "      <td>NaN</td>\n",
       "      <td>NaN</td>\n",
       "    </tr>\n",
       "    <tr>\n",
       "      <th>3</th>\n",
       "      <td>26.0</td>\n",
       "      <td>0.0</td>\n",
       "      <td>NaN</td>\n",
       "      <td>NaN</td>\n",
       "      <td>NaN</td>\n",
       "      <td>NaN</td>\n",
       "      <td>NaN</td>\n",
       "      <td>between 100,000 and 1 million</td>\n",
       "      <td>NaN</td>\n",
       "      <td>NaN</td>\n",
       "      <td>...</td>\n",
       "      <td>1.0</td>\n",
       "      <td>1.0</td>\n",
       "      <td>NaN</td>\n",
       "      <td>NaN</td>\n",
       "      <td>1.0</td>\n",
       "      <td>NaN</td>\n",
       "      <td>NaN</td>\n",
       "      <td>NaN</td>\n",
       "      <td>NaN</td>\n",
       "      <td>NaN</td>\n",
       "    </tr>\n",
       "    <tr>\n",
       "      <th>4</th>\n",
       "      <td>20.0</td>\n",
       "      <td>0.0</td>\n",
       "      <td>NaN</td>\n",
       "      <td>NaN</td>\n",
       "      <td>NaN</td>\n",
       "      <td>NaN</td>\n",
       "      <td>NaN</td>\n",
       "      <td>between 100,000 and 1 million</td>\n",
       "      <td>NaN</td>\n",
       "      <td>NaN</td>\n",
       "      <td>...</td>\n",
       "      <td>NaN</td>\n",
       "      <td>NaN</td>\n",
       "      <td>NaN</td>\n",
       "      <td>NaN</td>\n",
       "      <td>NaN</td>\n",
       "      <td>NaN</td>\n",
       "      <td>NaN</td>\n",
       "      <td>NaN</td>\n",
       "      <td>NaN</td>\n",
       "      <td>NaN</td>\n",
       "    </tr>\n",
       "  </tbody>\n",
       "</table>\n",
       "<p>5 rows × 136 columns</p>\n",
       "</div>"
      ],
      "text/plain": [
       "    Age  AttendedBootcamp  BootcampFinish  BootcampLoanYesNo BootcampName  \\\n",
       "0  27.0               0.0             NaN                NaN          NaN   \n",
       "1  34.0               0.0             NaN                NaN          NaN   \n",
       "2  21.0               0.0             NaN                NaN          NaN   \n",
       "3  26.0               0.0             NaN                NaN          NaN   \n",
       "4  20.0               0.0             NaN                NaN          NaN   \n",
       "\n",
       "   BootcampRecommend  ChildrenNumber                 CityPopulation  \\\n",
       "0                NaN             NaN            more than 1 million   \n",
       "1                NaN             NaN              less than 100,000   \n",
       "2                NaN             NaN            more than 1 million   \n",
       "3                NaN             NaN  between 100,000 and 1 million   \n",
       "4                NaN             NaN  between 100,000 and 1 million   \n",
       "\n",
       "   CodeEventConferences  CodeEventDjangoGirls  ...  YouTubeFCC  \\\n",
       "0                   NaN                   NaN  ...         NaN   \n",
       "1                   NaN                   NaN  ...         1.0   \n",
       "2                   NaN                   NaN  ...         NaN   \n",
       "3                   NaN                   NaN  ...         1.0   \n",
       "4                   NaN                   NaN  ...         NaN   \n",
       "\n",
       "   YouTubeFunFunFunction  YouTubeGoogleDev  YouTubeLearnCode  \\\n",
       "0                    NaN               NaN               NaN   \n",
       "1                    NaN               NaN               NaN   \n",
       "2                    NaN               NaN               1.0   \n",
       "3                    1.0               NaN               NaN   \n",
       "4                    NaN               NaN               NaN   \n",
       "\n",
       "   YouTubeLevelUpTuts  YouTubeMIT  YouTubeMozillaHacks YouTubeOther  \\\n",
       "0                 NaN         NaN                  NaN          NaN   \n",
       "1                 NaN         NaN                  NaN          NaN   \n",
       "2                 1.0         NaN                  NaN          NaN   \n",
       "3                 1.0         NaN                  NaN          NaN   \n",
       "4                 NaN         NaN                  NaN          NaN   \n",
       "\n",
       "   YouTubeSimplilearn  YouTubeTheNewBoston  \n",
       "0                 NaN                  NaN  \n",
       "1                 NaN                  NaN  \n",
       "2                 NaN                  NaN  \n",
       "3                 NaN                  NaN  \n",
       "4                 NaN                  NaN  \n",
       "\n",
       "[5 rows x 136 columns]"
      ]
     },
     "execution_count": 16,
     "metadata": {},
     "output_type": "execute_result"
    }
   ],
   "source": [
    "survey.head()"
   ]
  },
  {
   "cell_type": "code",
   "execution_count": 357,
   "metadata": {},
   "outputs": [
    {
     "data": {
      "text/plain": [
       "Index(['Age', 'AttendedBootcamp', 'BootcampFinish', 'BootcampLoanYesNo',\n",
       "       'BootcampName', 'BootcampRecommend', 'ChildrenNumber', 'CityPopulation',\n",
       "       'CodeEventConferences', 'CodeEventDjangoGirls',\n",
       "       ...\n",
       "       'YouTubeFCC', 'YouTubeFunFunFunction', 'YouTubeGoogleDev',\n",
       "       'YouTubeLearnCode', 'YouTubeLevelUpTuts', 'YouTubeMIT',\n",
       "       'YouTubeMozillaHacks', 'YouTubeOther', 'YouTubeSimplilearn',\n",
       "       'YouTubeTheNewBoston'],\n",
       "      dtype='object', length=136)"
      ]
     },
     "execution_count": 357,
     "metadata": {},
     "output_type": "execute_result"
    }
   ],
   "source": [
    "# columns overview\n",
    "survey.columns"
   ]
  },
  {
   "cell_type": "markdown",
   "metadata": {},
   "source": [
    "We could orginize our own survey with questions we want but its costly instead we can use this free dataset which suits our needs quite well. This survay contains over 18,000 responses from people learning coding less then 5 years about what is their way of learning it. This dataset can be downloaded at [Link](https://github.com/freeCodeCamp/2017-new-coder-survey). Lets explore JobRoleInterest column which includes answers on which subject a particular responser is interested."
   ]
  },
  {
   "cell_type": "code",
   "execution_count": 358,
   "metadata": {},
   "outputs": [
    {
     "data": {
      "text/plain": [
       "0                                                      NaN\n",
       "1                                 Full-Stack Web Developer\n",
       "2          Front-End Web Developer, Back-End Web Develo...\n",
       "3          Front-End Web Developer, Full-Stack Web Deve...\n",
       "4        Full-Stack Web Developer, Information Security...\n",
       "                               ...                        \n",
       "18170                                                  NaN\n",
       "18171      DevOps / SysAdmin,   Mobile Developer,   Pro...\n",
       "18172                                                  NaN\n",
       "18173                                                  NaN\n",
       "18174    Back-End Web Developer, Data Engineer,   Data ...\n",
       "Name: JobRoleInterest, Length: 18175, dtype: object"
      ]
     },
     "execution_count": 358,
     "metadata": {},
     "output_type": "execute_result"
    }
   ],
   "source": [
    "survey['JobRoleInterest']"
   ]
  },
  {
   "cell_type": "markdown",
   "metadata": {},
   "source": [
    "There was a multi selection answer possible and we can see that most of the people are interested in more then one subject.\n",
    "\n",
    "## Data analysis\n",
    "\n",
    "### Most popular subjects"
   ]
  },
  {
   "cell_type": "code",
   "execution_count": 359,
   "metadata": {},
   "outputs": [],
   "source": [
    "# We need to loop throught each response to count number of times each accures.\n",
    "job_roles={}\n",
    "for response in survey['JobRoleInterest']:\n",
    "    if str(response) != 'nan':\n",
    "        for each in response.split(','):\n",
    "            if each in job_roles:\n",
    "                job_roles[each] +=1\n",
    "            else:\n",
    "                job_roles[each] = 1"
   ]
  },
  {
   "cell_type": "code",
   "execution_count": 40,
   "metadata": {},
   "outputs": [
    {
     "data": {
      "text/plain": [
       "' Full-Stack Web Developer'"
      ]
     },
     "execution_count": 40,
     "metadata": {},
     "output_type": "execute_result"
    }
   ],
   "source": [
    "max(job_roles,key=job_roles.get)"
   ]
  },
  {
   "cell_type": "markdown",
   "metadata": {},
   "source": [
    "We have counted all subjects and the most popular subject is Full-Stack Web Developer. "
   ]
  },
  {
   "cell_type": "code",
   "execution_count": 59,
   "metadata": {},
   "outputs": [],
   "source": [
    "roles_series = pd.Series(job_roles)"
   ]
  },
  {
   "cell_type": "code",
   "execution_count": 360,
   "metadata": {},
   "outputs": [
    {
     "data": {
      "text/plain": [
       "<matplotlib.axes._subplots.AxesSubplot at 0x205275f1ef0>"
      ]
     },
     "execution_count": 360,
     "metadata": {},
     "output_type": "execute_result"
    },
    {
     "data": {
      "image/png": "[encoded data removed]",
      "text/plain": [
       "<Figure size 576x432 with 1 Axes>"
      ]
     },
     "metadata": {
      "needs_background": "light"
     },
     "output_type": "display_data"
    }
   ],
   "source": [
    "roles_series[roles_series>2].sort_values().plot.barh(figsize=(8,6),title='Most popular subjects')"
   ]
  },
  {
   "cell_type": "markdown",
   "metadata": {},
   "source": [
    "### Web and Mobile development roles\n",
    "\n",
    "Lets now explore how many people is interested in Web or Mobile development."
   ]
  },
  {
   "cell_type": "code",
   "execution_count": 361,
   "metadata": {},
   "outputs": [],
   "source": [
    "# looping through JobRoleInterest column to check each response\n",
    "people_interested_web_or_mobile=0\n",
    "for response in survey['JobRoleInterest']:\n",
    "    if str(response) != 'nan':\n",
    "        if 'Web Developer' in response or 'Mobile Developer' in response:\n",
    "            people_interested_web_or_mobile +=1"
   ]
  },
  {
   "cell_type": "code",
   "execution_count": 128,
   "metadata": {},
   "outputs": [
    {
     "name": "stdout",
     "output_type": "stream",
     "text": [
      "6030\n",
      "33\n"
     ]
    }
   ],
   "source": [
    "print(people_interested_web_or_mobile)\n",
    "print(round(people_interested_web_or_mobile/survey.shape[0]*100))"
   ]
  },
  {
   "cell_type": "markdown",
   "metadata": {},
   "source": [
    "We can see that there is 6030 people interested at least in one of web or mobile development. Which is 33% of total people who filled the survey."
   ]
  },
  {
   "cell_type": "code",
   "execution_count": 129,
   "metadata": {},
   "outputs": [],
   "source": [
    "survey_answered = survey[survey['JobRoleInterest'].notnull()].copy()"
   ]
  },
  {
   "cell_type": "code",
   "execution_count": 130,
   "metadata": {},
   "outputs": [
    {
     "data": {
      "text/plain": [
       "86"
      ]
     },
     "execution_count": 130,
     "metadata": {},
     "output_type": "execute_result"
    }
   ],
   "source": [
    "round(6030/len(survey_answered)*100)"
   ]
  },
  {
   "cell_type": "markdown",
   "metadata": {},
   "source": [
    "We have dropped all rows in which there was no answer on Job role interest question. 86% of people who answered on this question said they want to learn either Web or Mobile development. \n",
    "\n",
    "It looks like our dataset is representative because most of the people who participated in the survey are interested in learning Web or Mobile coding. The rest of them is interested in different topics but our company is not only limited to this two which is also fine."
   ]
  },
  {
   "cell_type": "code",
   "execution_count": 131,
   "metadata": {},
   "outputs": [],
   "source": [
    "survey_web = survey_answered[survey_answered['JobRoleInterest'].str.contains(r'Web Developer|Mobile Developer')]"
   ]
  },
  {
   "cell_type": "markdown",
   "metadata": {},
   "source": [
    "### Countries with interested people\n",
    "\n",
    "There are two columns having data on location of participants. One of them is CountryLive describing in which country the responder is right now."
   ]
  },
  {
   "cell_type": "code",
   "execution_count": 328,
   "metadata": {},
   "outputs": [
    {
     "data": {
      "text/plain": [
       "United States of America    0.457005\n",
       "India                       0.077216\n",
       "United Kingdom              0.046066\n",
       "Canada                      0.038023\n",
       "Poland                      0.019158\n",
       "Brazil                      0.018865\n",
       "Germany                     0.018280\n",
       "Australia                   0.016379\n",
       "Russia                      0.014917\n",
       "Ukraine                     0.013016\n",
       "Name: CountryLive, dtype: float64"
      ]
     },
     "execution_count": 328,
     "metadata": {},
     "output_type": "execute_result"
    }
   ],
   "source": [
    "survey_answered['CountryLive'].value_counts(normalize=True).head(10)"
   ]
  },
  {
   "cell_type": "code",
   "execution_count": 237,
   "metadata": {},
   "outputs": [
    {
     "data": {
      "text/plain": [
       "United States of America    3125\n",
       "India                        528\n",
       "United Kingdom               315\n",
       "Canada                       260\n",
       "Name: CountryLive, dtype: int64"
      ]
     },
     "execution_count": 237,
     "metadata": {},
     "output_type": "execute_result"
    }
   ],
   "source": [
    "# Absolute number of people in top countries\n",
    "survey_answered['CountryLive'].value_counts().head(4)"
   ]
  },
  {
   "cell_type": "markdown",
   "metadata": {},
   "source": [
    "Here we can see that over 45% of the people are leaving in the USA, the second biggest potential market is in India. Lets also explore how much money they are willing to spend on their courses. To do this we can check MoneyForLearning column and devide this by MonthsPrograming to see how much they spend per month.\n",
    "### Data wrangling"
   ]
  },
  {
   "cell_type": "code",
   "execution_count": 137,
   "metadata": {},
   "outputs": [],
   "source": [
    "survey_answered['MonthsProgramming'].replace(0,1,inplace=True)\n",
    "survey_answered['spend_month'] = survey_answered['MoneyForLearning']/survey_answered['MonthsProgramming']"
   ]
  },
  {
   "cell_type": "code",
   "execution_count": 142,
   "metadata": {},
   "outputs": [
    {
     "data": {
      "text/plain": [
       "675"
      ]
     },
     "execution_count": 142,
     "metadata": {},
     "output_type": "execute_result"
    }
   ],
   "source": [
    "(survey_answered['spend_month'].isnull()).sum()"
   ]
  },
  {
   "cell_type": "markdown",
   "metadata": {},
   "source": [
    "There is 675 students who didn't answer how much they spend. We are interested in which country students spend the most so lets drop this rows."
   ]
  },
  {
   "cell_type": "code",
   "execution_count": 146,
   "metadata": {},
   "outputs": [],
   "source": [
    "survey_valid = survey_answered[(survey_answered['spend_month'].notnull()) &(survey_answered['CountryLive'].notnull())]"
   ]
  },
  {
   "cell_type": "markdown",
   "metadata": {},
   "source": [
    "We have droped all rows with NaN values in either spend_month or CountryLive becasue as our best market criteria we can use the location."
   ]
  },
  {
   "cell_type": "code",
   "execution_count": 301,
   "metadata": {},
   "outputs": [
    {
     "data": {
      "text/plain": [
       "CountryLive\n",
       "Yemen                10000.000000\n",
       "Puerto Rico           4291.394558\n",
       "Austria                936.208333\n",
       "Spain                  784.553084\n",
       "Jamaica                747.037037\n",
       "Hong Kong              523.341049\n",
       "Trinidad & Tobago      500.000000\n",
       "Australia              419.268452\n",
       "Taiwan                 417.966524\n",
       "Luxembourg             338.817664\n",
       "Name: spend_month, dtype: float64"
      ]
     },
     "execution_count": 301,
     "metadata": {},
     "output_type": "execute_result"
    }
   ],
   "source": [
    "country_grouped = survey_valid.groupby('CountryLive')['spend_month'].agg(np.mean).sort_values(ascending=False)\n",
    "country_grouped.head(10)"
   ]
  },
  {
   "cell_type": "markdown",
   "metadata": {},
   "source": [
    "Once we sow that top 4 countries are English speaking countries and courses delivered by the company are in English lets focus only on these countries."
   ]
  },
  {
   "cell_type": "code",
   "execution_count": 303,
   "metadata": {},
   "outputs": [
    {
     "data": {
      "text/html": [
       "<div>\n",
       "<style scoped>\n",
       "    .dataframe tbody tr th:only-of-type {\n",
       "        vertical-align: middle;\n",
       "    }\n",
       "\n",
       "    .dataframe tbody tr th {\n",
       "        vertical-align: top;\n",
       "    }\n",
       "\n",
       "    .dataframe thead th {\n",
       "        text-align: right;\n",
       "    }\n",
       "</style>\n",
       "<table border=\"1\" class=\"dataframe\">\n",
       "  <thead>\n",
       "    <tr style=\"text-align: right;\">\n",
       "      <th></th>\n",
       "      <th>CountryLive</th>\n",
       "      <th>spend_month</th>\n",
       "    </tr>\n",
       "  </thead>\n",
       "  <tbody>\n",
       "    <tr>\n",
       "      <th>22</th>\n",
       "      <td>United States of America</td>\n",
       "      <td>227.997996</td>\n",
       "    </tr>\n",
       "    <tr>\n",
       "      <th>27</th>\n",
       "      <td>India</td>\n",
       "      <td>135.100982</td>\n",
       "    </tr>\n",
       "    <tr>\n",
       "      <th>30</th>\n",
       "      <td>Canada</td>\n",
       "      <td>113.510961</td>\n",
       "    </tr>\n",
       "    <tr>\n",
       "      <th>57</th>\n",
       "      <td>United Kingdom</td>\n",
       "      <td>45.534443</td>\n",
       "    </tr>\n",
       "  </tbody>\n",
       "</table>\n",
       "</div>"
      ],
      "text/plain": [
       "                 CountryLive  spend_month\n",
       "22  United States of America   227.997996\n",
       "27                     India   135.100982\n",
       "30                    Canada   113.510961\n",
       "57            United Kingdom    45.534443"
      ]
     },
     "execution_count": 303,
     "metadata": {},
     "output_type": "execute_result"
    }
   ],
   "source": [
    "country_of_interest = ['United States of America','India','United Kingdom','Canada']\n",
    "country_grouped = country_grouped.reset_index()\n",
    "country_grouped[country_grouped['CountryLive'].isin(country_of_interest)]"
   ]
  },
  {
   "cell_type": "markdown",
   "metadata": {},
   "source": [
    "Here we can see how much on average users spend on learning programing in 4 countires. Lets dig deeper into this numbers."
   ]
  },
  {
   "cell_type": "markdown",
   "metadata": {},
   "source": [
    "### Statistics\n",
    "\n",
    "Money spend per month, data distribution."
   ]
  },
  {
   "cell_type": "code",
   "execution_count": 304,
   "metadata": {},
   "outputs": [
    {
     "data": {
      "image/png": "[encoded data removed]",
      "text/plain": [
       "<Figure size 720x720 with 4 Axes>"
      ]
     },
     "metadata": {
      "needs_background": "light"
     },
     "output_type": "display_data"
    }
   ],
   "source": [
    "ax= plt.figure(figsize=(10,10))\n",
    "ax = plt.subplot(2,2,1)\n",
    "ax = survey_valid[survey_valid['CountryLive']==country_of_interest[0]]['spend_month'].plot.box(title=country_of_interest[0])\n",
    "ax = plt.subplot(2,2,2)\n",
    "ax = survey_valid[survey_valid['CountryLive']==country_of_interest[1]]['spend_month'].plot.box(title=country_of_interest[1])\n",
    "ax = plt.subplot(2,2,3)\n",
    "ax = survey_valid[survey_valid['CountryLive']==country_of_interest[2]]['spend_month'].plot.box(title=country_of_interest[2])\n",
    "ax = plt.subplot(2,2,4)\n",
    "ax = survey_valid[survey_valid['CountryLive']==country_of_interest[3]]['spend_month'].plot.box(title=country_of_interest[3])"
   ]
  },
  {
   "cell_type": "markdown",
   "metadata": {},
   "source": [
    "For each of this countries we can note big outliers! Lets remove some extremes. First we need to find an outlier for each country. We can calculate a standard diviation.\n",
    "\n",
    "#### US"
   ]
  },
  {
   "cell_type": "code",
   "execution_count": 362,
   "metadata": {},
   "outputs": [
    {
     "name": "stdout",
     "output_type": "stream",
     "text": [
      "Outlierers above: 1939.9148246779198\n"
     ]
    },
    {
     "data": {
      "image/png": "[encoded data removed]",
      "text/plain": [
       "<Figure size 1008x288 with 2 Axes>"
      ]
     },
     "metadata": {
      "needs_background": "light"
     },
     "output_type": "display_data"
    }
   ],
   "source": [
    "# filtering only US\n",
    "survey_usa = survey_valid[survey_valid['CountryLive']==country_of_interest[0]].copy()\n",
    "\n",
    "# calculating mean nad std \n",
    "usa_mean = survey_usa['spend_month'].mean()\n",
    "usa_std = survey_usa['spend_month'].std(ddof=0)\n",
    "print('Outlierers above: '+ str(usa_std))\n",
    "\n",
    "# plotting kernel density plot and histogram \n",
    "ax = plt.figure(figsize=(14,4))\n",
    "ax = plt.subplot(1,2,1)\n",
    "ax = survey_usa['spend_month'].plot.kde(xlim=(survey_usa['spend_month'].min(),10000))\n",
    "plt.axvline(usa_mean,color='orange',label='Mean')\n",
    "plt.axvline(usa_std,color='red',label='Std')\n",
    "plt.legend()\n",
    "ax = plt.subplot(1,2,2)\n",
    "ax = survey_usa['spend_month'].plot.hist(bins=40,xlim=(0,10000))"
   ]
  },
  {
   "cell_type": "markdown",
   "metadata": {},
   "source": [
    "Most of the people spend less then $2000 a month. So once we target in most people we want to make sure that majority of people may affort course for 59 dol.\n",
    "\n",
    "#### India"
   ]
  },
  {
   "cell_type": "code",
   "execution_count": 323,
   "metadata": {},
   "outputs": [
    {
     "name": "stdout",
     "output_type": "stream",
     "text": [
      "Outliers above: 692.2116361597537\n"
     ]
    }
   ],
   "source": [
    "# calculating mean nad std \n",
    "survey_india = survey_valid[survey_valid['CountryLive']==country_of_interest[1]].copy()\n",
    "india_std = survey_india['spend_month'].std(ddof=0)\n",
    "print('Outliers above: '+ str(india_std))"
   ]
  },
  {
   "cell_type": "markdown",
   "metadata": {},
   "source": [
    "#### UK"
   ]
  },
  {
   "cell_type": "code",
   "execution_count": 324,
   "metadata": {},
   "outputs": [
    {
     "name": "stdout",
     "output_type": "stream",
     "text": [
      "Outliers above: 162.02069337361618\n"
     ]
    }
   ],
   "source": [
    "# calculating mean nad std \n",
    "survey_uk = survey_valid[survey_valid['CountryLive']==country_of_interest[2]].copy()\n",
    "uk_std = survey_uk['spend_month'].std(ddof=0)\n",
    "print('Outliers above: '+ str(uk_std))"
   ]
  },
  {
   "cell_type": "markdown",
   "metadata": {},
   "source": [
    "#### Canada"
   ]
  },
  {
   "cell_type": "code",
   "execution_count": 325,
   "metadata": {},
   "outputs": [
    {
     "name": "stdout",
     "output_type": "stream",
     "text": [
      "Outlierers above: 440.09441909041453\n"
     ]
    }
   ],
   "source": [
    "# calculating mean nad std \n",
    "survey_canada = survey_valid[survey_valid['CountryLive']==country_of_interest[3]].copy()\n",
    "canada_std = survey_canada['spend_month'].std(ddof=0)\n",
    "print('Outlierers above: '+ str(canada_std))"
   ]
  },
  {
   "cell_type": "markdown",
   "metadata": {},
   "source": [
    "We have determined outliers for each countrie by calculating standard diviations and now we can remove all values above this treshold - once we are interested in finding market on which we can sell our product.\n",
    "\n",
    "#### Money per month distributions: mean, std and z score"
   ]
  },
  {
   "cell_type": "code",
   "execution_count": 372,
   "metadata": {},
   "outputs": [
    {
     "name": "stdout",
     "output_type": "stream",
     "text": [
      "Mean: 82.84772372470415\n",
      "Z score: -0.10123065248539234\n"
     ]
    }
   ],
   "source": [
    "usa_mean = survey_usa[survey_usa['spend_month']<1940]['spend_month'].mean()\n",
    "usa_std = survey_usa[survey_usa['spend_month']<1940]['spend_month'].std(ddof=0)\n",
    "z_score_usa = (59 - usa_mean)/usa_std\n",
    "print('Mean: ' +str(usa_mean) +'\\n'+'Z score: ' +str(z_score_usa))"
   ]
  },
  {
   "cell_type": "code",
   "execution_count": 373,
   "metadata": {},
   "outputs": [
    {
     "name": "stdout",
     "output_type": "stream",
     "text": [
      "Mean: 25.750434704996106\n",
      "Z score: 0.496813286271849\n"
     ]
    }
   ],
   "source": [
    "canada_mean = survey_canada[survey_canada['spend_month']<441]['spend_month'].mean()\n",
    "canada_std = survey_canada[survey_canada['spend_month']<441]['spend_month'].std(ddof=0)\n",
    "z_score_canada = (59 - canada_mean)/canada_std\n",
    "print('Mean: ' +str(canada_mean) +'\\n'+'Z score: ' +str(z_score_canada))"
   ]
  },
  {
   "cell_type": "code",
   "execution_count": 374,
   "metadata": {},
   "outputs": [
    {
     "name": "stdout",
     "output_type": "stream",
     "text": [
      "Mean: 13.45891045197768\n",
      "Z score: 1.7555310461555749\n"
     ]
    }
   ],
   "source": [
    "uk_mean = survey_uk[survey_uk['spend_month']<163]['spend_month'].mean()\n",
    "uk_std = survey_uk[survey_uk['spend_month']<163]['spend_month'].std(ddof=0)\n",
    "z_score_uk = (59 - uk_mean)/uk_std\n",
    "print('Mean: ' +str(uk_mean) +'\\n'+'Z score: ' +str(z_score_uk))"
   ]
  },
  {
   "cell_type": "code",
   "execution_count": 375,
   "metadata": {},
   "outputs": [
    {
     "name": "stdout",
     "output_type": "stream",
     "text": [
      "Mean: 27.172144760764997\n",
      "Z score: 0.4163070457753882\n"
     ]
    }
   ],
   "source": [
    "india_mean = survey_india[survey_india['spend_month']<693]['spend_month'].mean()\n",
    "india_std = survey_india[survey_india['spend_month']<693]['spend_month'].std(ddof=0)\n",
    "z_score_india = (59 - india_mean)/india_std\n",
    "print('Mean: ' +str(india_mean) +'\\n'+'Z score: ' +str(z_score_india))"
   ]
  },
  {
   "cell_type": "markdown",
   "metadata": {},
   "source": [
    "Based on our analysis we can expressly say that its worth to advertise in US but the second place is not so easy to chose. While we are focus only on English speaking countires lets analyse Australia once there are also some interested people."
   ]
  },
  {
   "cell_type": "code",
   "execution_count": 377,
   "metadata": {},
   "outputs": [
    {
     "name": "stdout",
     "output_type": "stream",
     "text": [
      "Outliers above: 2198.38856300141\n",
      "Mean: 62.997096586382305\n",
      "Z score: -0.02462726176990913\n"
     ]
    }
   ],
   "source": [
    "survey_australia = survey_valid[survey_valid['CountryLive']=='Australia'].copy()\n",
    "australia_std = survey_australia['spend_month'].std(ddof=0)\n",
    "print('Outliers above: '+ str(australia_std))\n",
    "australia_mean = survey_australia[survey_australia['spend_month']<2199]['spend_month'].mean()\n",
    "australia_std = survey_australia[survey_australia['spend_month']<2199]['spend_month'].std(ddof=0)\n",
    "z_score_australia = (59 - australia_mean)/australia_std\n",
    "print('Mean: ' +str(australia_mean) +'\\n'+'Z score: ' +str(z_score_australia))"
   ]
  },
  {
   "cell_type": "markdown",
   "metadata": {},
   "source": [
    "It seams that Australia is doing pretty well. Its z score is around -0.025 which is less then 0 which means that \\\\$59 is less then mean value people spend on e-learning programing in this country. Lets explore how many people in absolute number was spending \\\\$59, after removing outliers."
   ]
  },
  {
   "cell_type": "code",
   "execution_count": 349,
   "metadata": {},
   "outputs": [
    {
     "data": {
      "text/plain": [
       "18"
      ]
     },
     "execution_count": 349,
     "metadata": {},
     "output_type": "execute_result"
    }
   ],
   "source": [
    "survey_australia[(survey_australia['spend_month']<2199)&(survey_australia['spend_month']>=59)]['spend_month'].count()"
   ]
  },
  {
   "cell_type": "markdown",
   "metadata": {},
   "source": [
    "But there is only 18 people who spend 59$ per month or more excluding extreme. Lets go back to India and Canada once they had more people in survey."
   ]
  },
  {
   "cell_type": "code",
   "execution_count": 350,
   "metadata": {},
   "outputs": [
    {
     "data": {
      "text/plain": [
       "54"
      ]
     },
     "execution_count": 350,
     "metadata": {},
     "output_type": "execute_result"
    }
   ],
   "source": [
    "survey_india[(survey_india['spend_month']<693) & (survey_india['spend_month']>=59)]['spend_month'].count()"
   ]
  },
  {
   "cell_type": "code",
   "execution_count": 351,
   "metadata": {},
   "outputs": [
    {
     "data": {
      "text/plain": [
       "25"
      ]
     },
     "execution_count": 351,
     "metadata": {},
     "output_type": "execute_result"
    }
   ],
   "source": [
    "survey_canada[(survey_canada['spend_month']<441)&(survey_canada['spend_month']>=59)]['spend_month'].count()"
   ]
  },
  {
   "cell_type": "markdown",
   "metadata": {},
   "source": [
    "It looks like in India there is 54 people who spend at least 59$ per month and its 2 times more then in Canada. Taking into account GDP growth which is for India over 6\\% anually while in Canada its 3\\%. If we consider also population of each country we can say India is better choise."
   ]
  },
  {
   "cell_type": "markdown",
   "metadata": {},
   "source": [
    "## Conclusion\n",
    "\n",
    "We can advertise our e-learning products in US and India. While in US there is a lot of people interested in coding and they spend on average more then 59 dol. India is also quite good choise once the GDP is growing rapidly and there is more people learning coding then in different English speaking countires."
   ]
  }
 ],
 "metadata": {
  "kernelspec": {
   "display_name": "Python 3",
   "language": "python",
   "name": "python3"
  },
  "language_info": {
   "codemirror_mode": {
    "name": "ipython",
    "version": 3
   },
   "file_extension": ".py",
   "mimetype": "text/x-python",
   "name": "python",
   "nbconvert_exporter": "python",
   "pygments_lexer": "ipython3",
   "version": "3.6.9"
  }
 },
 "nbformat": 4,
 "nbformat_minor": 2
}
