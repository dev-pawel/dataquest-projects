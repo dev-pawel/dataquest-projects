{
 "cells": [
  {
   "cell_type": "markdown",
   "metadata": {},
   "source": [
    "# Business questions using SQL"
   ]
  },
  {
   "cell_type": "markdown",
   "metadata": {},
   "source": [
    "## Introduction\n",
    "\n",
    "- Popentially atractive market to expand\n",
    "- Sales by country\n",
    "- Which new bands to promote\n",
    "- Employee performance\n",
    "- Customers behaviour\n",
    "\n",
    "\n",
    "### Summary of results\n",
    "\n",
    "Results show that all emloyees have similar performances which depends mostly on seniority level. There are some potentially atractive markets to advertise the compaign like: India or Czech. Customers tend to buy individual tracks in 80% cases while 20% of total income comes from selling whole albums. The Red tone producing Punk has the biggest chance to hit the tastes as this type of music is over 10% of the market."
   ]
  },
  {
   "cell_type": "markdown",
   "metadata": {},
   "source": [
    "## Data exploration\n",
    "\n",
    "Importing modules and connecting to sql database"
   ]
  },
  {
   "cell_type": "code",
   "execution_count": 1,
   "metadata": {},
   "outputs": [],
   "source": [
    "import sqlite3\n",
    "import pandas as pd\n",
    "import numpy as np\n",
    "import matplotlib.pyplot as plt\n",
    "\n",
    "%matplotlib inline"
   ]
  },
  {
   "cell_type": "code",
   "execution_count": 2,
   "metadata": {},
   "outputs": [],
   "source": [
    "# function that returns dataframe of the given query\n",
    "def run_query(query):\n",
    "    with sqlite3.connect('chinook.db') as conn:\n",
    "        return pd.read_sql(query,conn)\n",
    "    \n",
    "# function that executes sql command without printing\n",
    "def run_command(query):\n",
    "    with sqlite3.connect('chinook.db') as conn:\n",
    "        conn.isolation_level = None\n",
    "        conn.execute(query)\n",
    "\n",
    "# function that prints the database tables and views\n",
    "def show_tables():\n",
    "    with sqlite3.connect('chinook.db') as conn:\n",
    "        query = \"SELECT name, type FROM sqlite_master WHERE type IN ('table','view')\"\n",
    "        cursor = conn.cursor()\n",
    "        cursor.execute(query)\n",
    "        return cursor.fetchall()\n",
    "#         return pd.read_sql(query,conn)"
   ]
  },
  {
   "cell_type": "code",
   "execution_count": 3,
   "metadata": {},
   "outputs": [
    {
     "data": {
      "text/plain": [
       "[('album', 'table'),\n",
       " ('artist', 'table'),\n",
       " ('customer', 'table'),\n",
       " ('employee', 'table'),\n",
       " ('genre', 'table'),\n",
       " ('invoice', 'table'),\n",
       " ('invoice_line', 'table'),\n",
       " ('media_type', 'table'),\n",
       " ('playlist', 'table'),\n",
       " ('playlist_track', 'table'),\n",
       " ('track', 'table'),\n",
       " ('countries_one_customer', 'view')]"
      ]
     },
     "execution_count": 3,
     "metadata": {},
     "output_type": "execute_result"
    }
   ],
   "source": [
    "show_tables()"
   ]
  },
  {
   "cell_type": "markdown",
   "metadata": {},
   "source": [
    "## Data insights\n",
    "\n",
    "### Most popular genres in the USA"
   ]
  },
  {
   "cell_type": "markdown",
   "metadata": {},
   "source": [
    "We need to check which of these artists have the biggest chance to succeed basend on popularity of the genre.\n",
    "\n",
    "|Artist name | Genre|\n",
    "| --- | --- |\n",
    "|Regal | Hip-Hop|\n",
    "|Red Tone | Punk|\n",
    "|Meteor and the Girls | Pop|\n",
    "|Slim Jim Bites | Blues|\n",
    "\n"
   ]
  },
  {
   "cell_type": "code",
   "execution_count": 4,
   "metadata": {},
   "outputs": [],
   "source": [
    "# number of track sold for each genre - absolute number, percentage\n",
    "genre_sales_usa = run_query('''\n",
    "          WITH \n",
    "          invoice_info AS\n",
    "          (SELECT \n",
    "          COUNT(invoice_id) as track_sold, \n",
    "          track_id \n",
    "          FROM invoice_line \n",
    "          GROUP BY track_id),\n",
    "          \n",
    "          track_info AS\n",
    "          (SELECT \n",
    "          t.track_id,\n",
    "          t.genre_id,\n",
    "          g.name\n",
    "          FROM track as t\n",
    "          LEFT JOIN genre as g ON g.genre_id = t.genre_id)\n",
    "          \n",
    "          SELECT \n",
    "          SUM(track_sold) as track_sold_per_genre,\n",
    "          ROUND(CAST(SUM(track_sold) as Float) / (SELECT COUNT(*) FROM invoice_line) *100,2)\n",
    "          as track_sold_per_genre_percentage,\n",
    "          name as genre\n",
    "          FROM invoice_info as i\n",
    "          LEFT JOIN track_info as ti ON ti.track_id = i.track_id\n",
    "          GROUP BY genre_id\n",
    "          ORDER BY 1 DESC\n",
    "          ''')"
   ]
  },
  {
   "cell_type": "code",
   "execution_count": 5,
   "metadata": {},
   "outputs": [
    {
     "data": {
      "text/html": [
       "<div>\n",
       "<style scoped>\n",
       "    .dataframe tbody tr th:only-of-type {\n",
       "        vertical-align: middle;\n",
       "    }\n",
       "\n",
       "    .dataframe tbody tr th {\n",
       "        vertical-align: top;\n",
       "    }\n",
       "\n",
       "    .dataframe thead th {\n",
       "        text-align: right;\n",
       "    }\n",
       "</style>\n",
       "<table border=\"1\" class=\"dataframe\">\n",
       "  <thead>\n",
       "    <tr style=\"text-align: right;\">\n",
       "      <th></th>\n",
       "      <th>track_sold_per_genre</th>\n",
       "      <th>track_sold_per_genre_percentage</th>\n",
       "      <th>genre</th>\n",
       "    </tr>\n",
       "  </thead>\n",
       "  <tbody>\n",
       "    <tr>\n",
       "      <th>0</th>\n",
       "      <td>2635</td>\n",
       "      <td>55.39</td>\n",
       "      <td>Rock</td>\n",
       "    </tr>\n",
       "    <tr>\n",
       "      <th>1</th>\n",
       "      <td>619</td>\n",
       "      <td>13.01</td>\n",
       "      <td>Metal</td>\n",
       "    </tr>\n",
       "    <tr>\n",
       "      <th>2</th>\n",
       "      <td>492</td>\n",
       "      <td>10.34</td>\n",
       "      <td>Alternative &amp; Punk</td>\n",
       "    </tr>\n",
       "    <tr>\n",
       "      <th>3</th>\n",
       "      <td>167</td>\n",
       "      <td>3.51</td>\n",
       "      <td>Latin</td>\n",
       "    </tr>\n",
       "    <tr>\n",
       "      <th>4</th>\n",
       "      <td>159</td>\n",
       "      <td>3.34</td>\n",
       "      <td>R&amp;B/Soul</td>\n",
       "    </tr>\n",
       "    <tr>\n",
       "      <th>5</th>\n",
       "      <td>124</td>\n",
       "      <td>2.61</td>\n",
       "      <td>Blues</td>\n",
       "    </tr>\n",
       "    <tr>\n",
       "      <th>6</th>\n",
       "      <td>121</td>\n",
       "      <td>2.54</td>\n",
       "      <td>Jazz</td>\n",
       "    </tr>\n",
       "    <tr>\n",
       "      <th>7</th>\n",
       "      <td>117</td>\n",
       "      <td>2.46</td>\n",
       "      <td>Alternative</td>\n",
       "    </tr>\n",
       "    <tr>\n",
       "      <th>8</th>\n",
       "      <td>74</td>\n",
       "      <td>1.56</td>\n",
       "      <td>Easy Listening</td>\n",
       "    </tr>\n",
       "    <tr>\n",
       "      <th>9</th>\n",
       "      <td>63</td>\n",
       "      <td>1.32</td>\n",
       "      <td>Pop</td>\n",
       "    </tr>\n",
       "    <tr>\n",
       "      <th>10</th>\n",
       "      <td>55</td>\n",
       "      <td>1.16</td>\n",
       "      <td>Electronica/Dance</td>\n",
       "    </tr>\n",
       "    <tr>\n",
       "      <th>11</th>\n",
       "      <td>47</td>\n",
       "      <td>0.99</td>\n",
       "      <td>Classical</td>\n",
       "    </tr>\n",
       "    <tr>\n",
       "      <th>12</th>\n",
       "      <td>35</td>\n",
       "      <td>0.74</td>\n",
       "      <td>Reggae</td>\n",
       "    </tr>\n",
       "    <tr>\n",
       "      <th>13</th>\n",
       "      <td>33</td>\n",
       "      <td>0.69</td>\n",
       "      <td>Hip Hop/Rap</td>\n",
       "    </tr>\n",
       "    <tr>\n",
       "      <th>14</th>\n",
       "      <td>8</td>\n",
       "      <td>0.17</td>\n",
       "      <td>Heavy Metal</td>\n",
       "    </tr>\n",
       "    <tr>\n",
       "      <th>15</th>\n",
       "      <td>5</td>\n",
       "      <td>0.11</td>\n",
       "      <td>Soundtrack</td>\n",
       "    </tr>\n",
       "    <tr>\n",
       "      <th>16</th>\n",
       "      <td>2</td>\n",
       "      <td>0.04</td>\n",
       "      <td>TV Shows</td>\n",
       "    </tr>\n",
       "    <tr>\n",
       "      <th>17</th>\n",
       "      <td>1</td>\n",
       "      <td>0.02</td>\n",
       "      <td>Drama</td>\n",
       "    </tr>\n",
       "  </tbody>\n",
       "</table>\n",
       "</div>"
      ],
      "text/plain": [
       "    track_sold_per_genre  track_sold_per_genre_percentage               genre\n",
       "0                   2635                            55.39                Rock\n",
       "1                    619                            13.01               Metal\n",
       "2                    492                            10.34  Alternative & Punk\n",
       "3                    167                             3.51               Latin\n",
       "4                    159                             3.34            R&B/Soul\n",
       "5                    124                             2.61               Blues\n",
       "6                    121                             2.54                Jazz\n",
       "7                    117                             2.46         Alternative\n",
       "8                     74                             1.56      Easy Listening\n",
       "9                     63                             1.32                 Pop\n",
       "10                    55                             1.16   Electronica/Dance\n",
       "11                    47                             0.99           Classical\n",
       "12                    35                             0.74              Reggae\n",
       "13                    33                             0.69         Hip Hop/Rap\n",
       "14                     8                             0.17         Heavy Metal\n",
       "15                     5                             0.11          Soundtrack\n",
       "16                     2                             0.04            TV Shows\n",
       "17                     1                             0.02               Drama"
      ]
     },
     "execution_count": 5,
     "metadata": {},
     "output_type": "execute_result"
    }
   ],
   "source": [
    "genre_sales_usa"
   ]
  },
  {
   "cell_type": "code",
   "execution_count": 6,
   "metadata": {},
   "outputs": [
    {
     "data": {
      "text/plain": [
       "<matplotlib.axes._subplots.AxesSubplot at 0x202553e7358>"
      ]
     },
     "execution_count": 6,
     "metadata": {},
     "output_type": "execute_result"
    },
    {
     "data": {
      "image/png": "[encoded data removed]",
      "text/plain": [
       "<Figure size 720x576 with 1 Axes>"
      ]
     },
     "metadata": {
      "needs_background": "light"
     },
     "output_type": "display_data"
    }
   ],
   "source": [
    "fig,ax = plt.subplots(figsize=(10,8))\n",
    "genre_sales_usa.plot(ax=ax,kind='bar', x= 'genre',y='track_sold_per_genre_percentage')"
   ]
  },
  {
   "cell_type": "markdown",
   "metadata": {},
   "source": [
    "We need to chose 3 artists so based on our analysis we can say that:\n",
    "- Red tone producing Punk has the biggest chance to hit the tastes as this type of music is over 10% of the market,\n",
    "- Slim Jim Bites with Blues which occupies over 2.5 % of the market,\n",
    "- Meteor and the Girls with Pop music which shares around 1.3 % of the market.\n",
    "- Hip-hop is not such popular.\n"
   ]
  },
  {
   "cell_type": "markdown",
   "metadata": {},
   "source": [
    "### Checking employee performance"
   ]
  },
  {
   "cell_type": "markdown",
   "metadata": {},
   "source": [
    "Write a query that finds the total dollar amount of sales assigned to each sales support agent within the company. Add any extra attributes for that employee that you find are relevant to the analysis."
   ]
  },
  {
   "cell_type": "code",
   "execution_count": 7,
   "metadata": {},
   "outputs": [],
   "source": [
    "employee_sales = run_query('''\n",
    "            SELECT \n",
    "            (e.first_name||' '||e.last_name) as employee_name,\n",
    "            e.title,\n",
    "            e.hire_date,\n",
    "            SUM(i.total) as total_sale\n",
    "            FROM employee as e\n",
    "            LEFT JOIN customer as c ON e.employee_id = c.support_rep_id\n",
    "            LEFT JOIN invoice as i ON i.customer_id = c.customer_id\n",
    "            GROUP BY e.employee_id\n",
    "            ''')"
   ]
  },
  {
   "cell_type": "code",
   "execution_count": 8,
   "metadata": {},
   "outputs": [
    {
     "data": {
      "text/html": [
       "<div>\n",
       "<style scoped>\n",
       "    .dataframe tbody tr th:only-of-type {\n",
       "        vertical-align: middle;\n",
       "    }\n",
       "\n",
       "    .dataframe tbody tr th {\n",
       "        vertical-align: top;\n",
       "    }\n",
       "\n",
       "    .dataframe thead th {\n",
       "        text-align: right;\n",
       "    }\n",
       "</style>\n",
       "<table border=\"1\" class=\"dataframe\">\n",
       "  <thead>\n",
       "    <tr style=\"text-align: right;\">\n",
       "      <th></th>\n",
       "      <th>employee_name</th>\n",
       "      <th>title</th>\n",
       "      <th>hire_date</th>\n",
       "      <th>total_sale</th>\n",
       "    </tr>\n",
       "  </thead>\n",
       "  <tbody>\n",
       "    <tr>\n",
       "      <th>0</th>\n",
       "      <td>Andrew Adams</td>\n",
       "      <td>General Manager</td>\n",
       "      <td>2016-08-14 00:00:00</td>\n",
       "      <td>NaN</td>\n",
       "    </tr>\n",
       "    <tr>\n",
       "      <th>1</th>\n",
       "      <td>Nancy Edwards</td>\n",
       "      <td>Sales Manager</td>\n",
       "      <td>2016-05-01 00:00:00</td>\n",
       "      <td>NaN</td>\n",
       "    </tr>\n",
       "    <tr>\n",
       "      <th>2</th>\n",
       "      <td>Jane Peacock</td>\n",
       "      <td>Sales Support Agent</td>\n",
       "      <td>2017-04-01 00:00:00</td>\n",
       "      <td>1731.51</td>\n",
       "    </tr>\n",
       "    <tr>\n",
       "      <th>3</th>\n",
       "      <td>Margaret Park</td>\n",
       "      <td>Sales Support Agent</td>\n",
       "      <td>2017-05-03 00:00:00</td>\n",
       "      <td>1584.00</td>\n",
       "    </tr>\n",
       "    <tr>\n",
       "      <th>4</th>\n",
       "      <td>Steve Johnson</td>\n",
       "      <td>Sales Support Agent</td>\n",
       "      <td>2017-10-17 00:00:00</td>\n",
       "      <td>1393.92</td>\n",
       "    </tr>\n",
       "    <tr>\n",
       "      <th>5</th>\n",
       "      <td>Michael Mitchell</td>\n",
       "      <td>IT Manager</td>\n",
       "      <td>2016-10-17 00:00:00</td>\n",
       "      <td>NaN</td>\n",
       "    </tr>\n",
       "    <tr>\n",
       "      <th>6</th>\n",
       "      <td>Robert King</td>\n",
       "      <td>IT Staff</td>\n",
       "      <td>2017-01-02 00:00:00</td>\n",
       "      <td>NaN</td>\n",
       "    </tr>\n",
       "    <tr>\n",
       "      <th>7</th>\n",
       "      <td>Laura Callahan</td>\n",
       "      <td>IT Staff</td>\n",
       "      <td>2017-03-04 00:00:00</td>\n",
       "      <td>NaN</td>\n",
       "    </tr>\n",
       "  </tbody>\n",
       "</table>\n",
       "</div>"
      ],
      "text/plain": [
       "      employee_name                title            hire_date  total_sale\n",
       "0      Andrew Adams      General Manager  2016-08-14 00:00:00         NaN\n",
       "1     Nancy Edwards        Sales Manager  2016-05-01 00:00:00         NaN\n",
       "2      Jane Peacock  Sales Support Agent  2017-04-01 00:00:00     1731.51\n",
       "3     Margaret Park  Sales Support Agent  2017-05-03 00:00:00     1584.00\n",
       "4     Steve Johnson  Sales Support Agent  2017-10-17 00:00:00     1393.92\n",
       "5  Michael Mitchell           IT Manager  2016-10-17 00:00:00         NaN\n",
       "6       Robert King             IT Staff  2017-01-02 00:00:00         NaN\n",
       "7    Laura Callahan             IT Staff  2017-03-04 00:00:00         NaN"
      ]
     },
     "execution_count": 8,
     "metadata": {},
     "output_type": "execute_result"
    }
   ],
   "source": [
    "employee_sales"
   ]
  },
  {
   "cell_type": "code",
   "execution_count": 9,
   "metadata": {},
   "outputs": [
    {
     "data": {
      "text/plain": [
       "<matplotlib.axes._subplots.AxesSubplot at 0x20257870c50>"
      ]
     },
     "execution_count": 9,
     "metadata": {},
     "output_type": "execute_result"
    },
    {
     "data": {
      "image/png": "[encoded data removed]",
      "text/plain": [
       "<Figure size 432x288 with 1 Axes>"
      ]
     },
     "metadata": {
      "needs_background": "light"
     },
     "output_type": "display_data"
    }
   ],
   "source": [
    "fig,ax = plt.subplots()\n",
    "ax.set_xlabel('Total sale')\n",
    "employee_sales.dropna().plot(ax=ax,kind='barh',x='employee_name',title='Employees sales',legend=False)"
   ]
  },
  {
   "cell_type": "markdown",
   "metadata": {},
   "source": [
    "Here we can see total sale of each employee who is sales support agent. There is a correlation between a hire data and the total sale. Employee who were hiried earlier have bigger total sale."
   ]
  },
  {
   "cell_type": "markdown",
   "metadata": {},
   "source": [
    "### Sales by Country"
   ]
  },
  {
   "cell_type": "code",
   "execution_count": null,
   "metadata": {},
   "outputs": [],
   "source": [
    "run_command('''\n",
    "         CREATE VIEW countries_one_customer AS\n",
    "          WITH\n",
    "          countries_one_customer AS\n",
    "          (SELECT \n",
    "            CASE\n",
    "            WHEN COUNT(DISTINCT(c.customer_id)) = 1 THEN 'Other' END AS 'country',\n",
    "            COUNT(DISTINCT(c.customer_id)) as number_of_customers,\n",
    "            SUM(i.total) as value_of_sales,\n",
    "            SUM(i.total)/COUNT(DISTINCT(c.customer_id)) as average_sales_per_customer,\n",
    "            SUM(i.total)/COUNT(invoice_id) as average_per_order\n",
    "            FROM customer as c\n",
    "            LEFT JOIN invoice as i ON i.customer_id = c.customer_id\n",
    "            GROUP BY country\n",
    "            HAVING number_of_customers =1)\n",
    "            \n",
    "          SELECT \n",
    "          country,\n",
    "          SUM(number_of_customers) as number_of_customers,\n",
    "          SUM(value_of_sales) as value_of_sales,\n",
    "          AVG(average_sales_per_customer) as average_sales_per_customer,\n",
    "          AVG(average_per_order) as average_per_order\n",
    "          FROM countries_one_customer\n",
    "          ''')"
   ]
  },
  {
   "cell_type": "code",
   "execution_count": 11,
   "metadata": {},
   "outputs": [
    {
     "data": {
      "text/plain": [
       "[('album', 'table'),\n",
       " ('artist', 'table'),\n",
       " ('customer', 'table'),\n",
       " ('employee', 'table'),\n",
       " ('genre', 'table'),\n",
       " ('invoice', 'table'),\n",
       " ('invoice_line', 'table'),\n",
       " ('media_type', 'table'),\n",
       " ('playlist', 'table'),\n",
       " ('playlist_track', 'table'),\n",
       " ('track', 'table'),\n",
       " ('countries_one_customer', 'view')]"
      ]
     },
     "execution_count": 11,
     "metadata": {},
     "output_type": "execute_result"
    }
   ],
   "source": [
    "show_tables()"
   ]
  },
  {
   "cell_type": "code",
   "execution_count": 12,
   "metadata": {},
   "outputs": [],
   "source": [
    "country_sales = run_query(''' \n",
    "            WITH country_stat AS\n",
    "            (SELECT \n",
    "            country,\n",
    "            COUNT(DISTINCT(c.customer_id)) as number_of_customers,\n",
    "            SUM(i.total) as value_of_sales,\n",
    "            SUM(i.total)/COUNT(DISTINCT(c.customer_id)) as average_sales_per_customer,\n",
    "            SUM(i.total)/COUNT(invoice_id) as average_per_order\n",
    "            FROM customer as c\n",
    "            LEFT JOIN invoice as i ON i.customer_id = c.customer_id\n",
    "            GROUP BY country\n",
    "            HAVING number_of_customers >1\n",
    "            UNION\n",
    "            SELECT *\n",
    "            FROM countries_one_customer)\n",
    "            \n",
    "            SELECT \n",
    "            country,\n",
    "            number_of_customers,\n",
    "            value_of_sales,\n",
    "            average_sales_per_customer,\n",
    "            average_per_order\n",
    "            FROM (SELECT *,\n",
    "            CASE WHEN country = 'Other' Then 1\n",
    "            ELSE 0\n",
    "            END as sort\n",
    "            FROM country_stat)\n",
    "            ORDER BY sort, value_of_sales DESC\n",
    "            ''')"
   ]
  },
  {
   "cell_type": "code",
   "execution_count": 13,
   "metadata": {},
   "outputs": [
    {
     "data": {
      "text/html": [
       "<div>\n",
       "<style scoped>\n",
       "    .dataframe tbody tr th:only-of-type {\n",
       "        vertical-align: middle;\n",
       "    }\n",
       "\n",
       "    .dataframe tbody tr th {\n",
       "        vertical-align: top;\n",
       "    }\n",
       "\n",
       "    .dataframe thead th {\n",
       "        text-align: right;\n",
       "    }\n",
       "</style>\n",
       "<table border=\"1\" class=\"dataframe\">\n",
       "  <thead>\n",
       "    <tr style=\"text-align: right;\">\n",
       "      <th></th>\n",
       "      <th>country</th>\n",
       "      <th>number_of_customers</th>\n",
       "      <th>value_of_sales</th>\n",
       "      <th>average_sales_per_customer</th>\n",
       "      <th>average_per_order</th>\n",
       "    </tr>\n",
       "  </thead>\n",
       "  <tbody>\n",
       "    <tr>\n",
       "      <th>0</th>\n",
       "      <td>USA</td>\n",
       "      <td>13</td>\n",
       "      <td>1040.49</td>\n",
       "      <td>80.037692</td>\n",
       "      <td>7.942672</td>\n",
       "    </tr>\n",
       "    <tr>\n",
       "      <th>1</th>\n",
       "      <td>Canada</td>\n",
       "      <td>8</td>\n",
       "      <td>535.59</td>\n",
       "      <td>66.948750</td>\n",
       "      <td>7.047237</td>\n",
       "    </tr>\n",
       "    <tr>\n",
       "      <th>2</th>\n",
       "      <td>Brazil</td>\n",
       "      <td>5</td>\n",
       "      <td>427.68</td>\n",
       "      <td>85.536000</td>\n",
       "      <td>7.011148</td>\n",
       "    </tr>\n",
       "    <tr>\n",
       "      <th>3</th>\n",
       "      <td>France</td>\n",
       "      <td>5</td>\n",
       "      <td>389.07</td>\n",
       "      <td>77.814000</td>\n",
       "      <td>7.781400</td>\n",
       "    </tr>\n",
       "    <tr>\n",
       "      <th>4</th>\n",
       "      <td>Germany</td>\n",
       "      <td>4</td>\n",
       "      <td>334.62</td>\n",
       "      <td>83.655000</td>\n",
       "      <td>8.161463</td>\n",
       "    </tr>\n",
       "    <tr>\n",
       "      <th>5</th>\n",
       "      <td>Czech Republic</td>\n",
       "      <td>2</td>\n",
       "      <td>273.24</td>\n",
       "      <td>136.620000</td>\n",
       "      <td>9.108000</td>\n",
       "    </tr>\n",
       "    <tr>\n",
       "      <th>6</th>\n",
       "      <td>United Kingdom</td>\n",
       "      <td>3</td>\n",
       "      <td>245.52</td>\n",
       "      <td>81.840000</td>\n",
       "      <td>8.768571</td>\n",
       "    </tr>\n",
       "    <tr>\n",
       "      <th>7</th>\n",
       "      <td>Portugal</td>\n",
       "      <td>2</td>\n",
       "      <td>185.13</td>\n",
       "      <td>92.565000</td>\n",
       "      <td>6.383793</td>\n",
       "    </tr>\n",
       "    <tr>\n",
       "      <th>8</th>\n",
       "      <td>India</td>\n",
       "      <td>2</td>\n",
       "      <td>183.15</td>\n",
       "      <td>91.575000</td>\n",
       "      <td>8.721429</td>\n",
       "    </tr>\n",
       "    <tr>\n",
       "      <th>9</th>\n",
       "      <td>Other</td>\n",
       "      <td>15</td>\n",
       "      <td>1094.94</td>\n",
       "      <td>72.996000</td>\n",
       "      <td>7.445071</td>\n",
       "    </tr>\n",
       "  </tbody>\n",
       "</table>\n",
       "</div>"
      ],
      "text/plain": [
       "          country  number_of_customers  value_of_sales  \\\n",
       "0             USA                   13         1040.49   \n",
       "1          Canada                    8          535.59   \n",
       "2          Brazil                    5          427.68   \n",
       "3          France                    5          389.07   \n",
       "4         Germany                    4          334.62   \n",
       "5  Czech Republic                    2          273.24   \n",
       "6  United Kingdom                    3          245.52   \n",
       "7        Portugal                    2          185.13   \n",
       "8           India                    2          183.15   \n",
       "9           Other                   15         1094.94   \n",
       "\n",
       "   average_sales_per_customer  average_per_order  \n",
       "0                   80.037692           7.942672  \n",
       "1                   66.948750           7.047237  \n",
       "2                   85.536000           7.011148  \n",
       "3                   77.814000           7.781400  \n",
       "4                   83.655000           8.161463  \n",
       "5                  136.620000           9.108000  \n",
       "6                   81.840000           8.768571  \n",
       "7                   92.565000           6.383793  \n",
       "8                   91.575000           8.721429  \n",
       "9                   72.996000           7.445071  "
      ]
     },
     "execution_count": 13,
     "metadata": {},
     "output_type": "execute_result"
    }
   ],
   "source": [
    "country_sales"
   ]
  },
  {
   "cell_type": "markdown",
   "metadata": {},
   "source": [
    "### VIsualization of sales by country"
   ]
  },
  {
   "cell_type": "code",
   "execution_count": 17,
   "metadata": {},
   "outputs": [
    {
     "data": {
      "image/png": "[encoded data removed]",
      "text/plain": [
       "<Figure size 1584x1296 with 4 Axes>"
      ]
     },
     "metadata": {
      "needs_background": "light"
     },
     "output_type": "display_data"
    }
   ],
   "source": [
    "colors = [(255/255,128/255,14/255),\n",
    " (171/255,171/255,171/255),\n",
    " (95/255,158/255,209/255),\n",
    " (89/255,89/255,89/255),\n",
    " (0/255,107/255,164/255),\n",
    " (255/255,188/255,121/255),\n",
    " (207/255,207/255,207/255),\n",
    " (200/255,82/255,0/255),\n",
    " (162/255,200/255,236/255),\n",
    " (137/255,137/255,137/255)]\n",
    "\n",
    "fig = plt.figure(figsize=(22, 18))\n",
    "\n",
    "# pie chart\n",
    "ax = fig.add_subplot(2,2,1)\n",
    "ax.set_title('Percentage of customers per Country')\n",
    "ax.pie(country_sales['number_of_customers'],labels=country_sales['country'],autopct='%.2f',colors=colors)\n",
    "ax = fig.add_subplot(2,2,2)\n",
    "\n",
    "country_sales['value_of_sales_pct'] = country_sales['value_of_sales']/country_sales['value_of_sales'].sum()*100\n",
    "country_sales['number_of_customers_pct'] = country_sales['number_of_customers']/country_sales['number_of_customers'].sum()*100\n",
    "\n",
    "# bar chart customer vs sales\n",
    "bar_heights_1 = country_sales['value_of_sales_pct']\n",
    "bar_positions_1 = np.arange(10) + 0.9\n",
    "tick_positions = range(1,11)\n",
    "ax.bar(bar_positions_1,bar_heights_1,0.25,color='lightgreen')\n",
    "bar_heights_2 = country_sales['number_of_customers_pct']\n",
    "bar_positions_2 = np.arange(10) + 1.15\n",
    "ax.bar(bar_positions_2,bar_heights_2,0.25,color='pink')\n",
    "ax.legend(['Total sales','Customers'],loc='upper center')\n",
    "ax.set_title('Customers vs Total sales in percentage')\n",
    "ax.set_xticks(tick_positions)\n",
    "ax.set_xticks(tick_positions)\n",
    "ax.set_xticklabels(country_sales['country'],rotation=45)\n",
    "ax.spines[\"right\"].set_visible(False)    \n",
    "ax.spines[\"left\"].set_visible(False)\n",
    "ax.spines[\"top\"].set_visible(False)    \n",
    "ax.spines[\"bottom\"].set_visible(False)\n",
    "\n",
    "# bar percentage diff\n",
    "ax = fig.add_subplot(2,2,3)\n",
    "ax.axhline(0,c=(0/255,0/255,0/255),alpha=1)\n",
    "ax.set_title('Average order as percentage of difference from mean')\n",
    "country_sales['dif_average_per_order'] = (country_sales['average_per_order']/country_sales['average_per_order'].mean() -1)*100\n",
    "country_sales.iloc[:-1,:].plot(ax=ax,kind='bar',x='country',y='dif_average_per_order',rot=45,colors=colors[0:-1],legend=False,use_index=False)\n",
    "ax.set_xticklabels(country_sales['country'][0:-1],rotation=45)\n",
    "ax.spines[\"right\"].set_visible(False)    \n",
    "ax.spines[\"left\"].set_visible(False)\n",
    "ax.spines[\"top\"].set_visible(False)    \n",
    "ax.spines[\"bottom\"].set_visible(False)\n",
    "\n",
    "# bar average sales per customer\n",
    "ax = fig.add_subplot(2,2,4)\n",
    "ax.set_title('Average sales per customer [$]')\n",
    "country_sales.iloc[:-1,:].plot(ax=ax,kind='bar',x='country',y='average_sales_per_customer',rot=45,colors=colors[0:-1],legend=False,use_index=False)\n",
    "ax.set_xticklabels(country_sales['country'][0:-1],rotation=45)\n",
    "ax.spines[\"right\"].set_visible(False)    \n",
    "ax.spines[\"left\"].set_visible(False)\n",
    "ax.spines[\"top\"].set_visible(False)    \n",
    "ax.spines[\"bottom\"].set_visible(False)\n"
   ]
  },
  {
   "cell_type": "markdown",
   "metadata": {},
   "source": [
    "As we can see on the graphs currently the biggest market is in the USA skaring over 22% of total sales. The second market is Canada with over 13% of total sales.\n",
    "Czech, Portugal, India and Brazil are on top in terms of average sales per customer. If we look at average order as percentage of difference from mean of all orders we can see that Czech spend over 15% more per order then others following by India and UK where customers spend over 10% more per order then the average. Taking into account the amount of population, India may be the best choice to expand the advertising campaigns."
   ]
  },
  {
   "cell_type": "markdown",
   "metadata": {},
   "source": [
    "### Behavior of customers: Albums vs Tracks\n",
    "Categorize each invoice as either an album purchase or not."
   ]
  },
  {
   "cell_type": "code",
   "execution_count": 343,
   "metadata": {},
   "outputs": [],
   "source": [
    "run_command('''\n",
    "        CREATE VIEW invoice_whole_album AS \n",
    "        WITH \n",
    "        invoice_tracks AS\n",
    "        \n",
    "        (SELECT \n",
    "        il.invoice_id,\n",
    "        il.track_id,\n",
    "        t.album_id\n",
    "        FROM invoice_line as il\n",
    "        LEFT JOIN track as t ON t.track_id = il.track_id ),\n",
    "\n",
    "        album_tracks AS\n",
    "\n",
    "        (SELECT\n",
    "        track_id,\n",
    "        album_id\n",
    "        FROM track)\n",
    "              \n",
    "              \n",
    "        SELECT \n",
    "        il.invoice_id,\n",
    "        CASE\n",
    "            WHEN\n",
    "                 (\n",
    "                SELECT at.track_id\n",
    "                FROM album_tracks as at\n",
    "                WHERE album_id = (\n",
    "\n",
    "                                    SELECT album_id\n",
    "                                    FROM invoice_tracks as it\n",
    "                                    WHERE it.invoice_id = il.invoice_id\n",
    "                                    GROUP BY invoice_id\n",
    "\n",
    "                                    )\n",
    "                EXCEPT                 \n",
    "\n",
    "                SELECT track_id\n",
    "                FROM invoice_tracks as it\n",
    "                WHERE it.invoice_id =il.invoice_id\n",
    "                    ) IS NULL\n",
    "                AND\n",
    "                (SELECT count(at.track_id)\n",
    "                FROM album_tracks as at\n",
    "                WHERE album_id = (\n",
    "\n",
    "                                    SELECT album_id\n",
    "                                    FROM invoice_tracks as it\n",
    "                                    WHERE it.invoice_id = il.invoice_id\n",
    "                                    GROUP BY invoice_id\n",
    "\n",
    "                                    )\n",
    "                ) >2\n",
    "                    \n",
    "            THEN 'yes'\n",
    "            ELSE 'no'\n",
    "            END AS album_purchase\n",
    "        \n",
    "        FROM invoice_line as il\n",
    "        GROUP BY invoice_id\n",
    "            ''')"
   ]
  },
  {
   "cell_type": "code",
   "execution_count": null,
   "metadata": {},
   "outputs": [],
   "source": [
    "# Print summary statistic\n",
    "run_query('''\n",
    "          SELECT\n",
    "          album_purchase,\n",
    "          COUNT(album_purchase) as total_invoices,\n",
    "          COUNT(album_purchase)/ (SELECT CAST(COUNT(*) as Float) FROM invoice_whole_album) as percentage_of_invoices\n",
    "          FROM invoice_whole_album\n",
    "          GROUP BY album_purchase\n",
    "          ''')"
   ]
  },
  {
   "cell_type": "markdown",
   "metadata": {},
   "source": [
    "As we can see basend on summary statistic over 80 % of invoices consist of individual tracks insted of the whole album. Almost 20% of the market is turned by customers buying whole albums. So would suggest to perform some futher analysis in order to recommend any movements. Introducting a new functionality may cost us loosing some of the revenue if customers would buy only most popular songs alumns insted of whole ones."
   ]
  },
  {
   "cell_type": "markdown",
   "metadata": {},
   "source": [
    "Potential questions:\n",
    "- Which artist is used in the most playlists?\n",
    "- How many tracks have been purchased vs not purchased?\n",
    "- Is the range of tracks in the store reflective of their sales popularity?\n",
    "- Do protected vs non-protected media types have an effect on popularity?"
   ]
  }
 ],
 "metadata": {
  "kernelspec": {
   "display_name": "Python 3",
   "language": "python",
   "name": "python3"
  },
  "language_info": {
   "codemirror_mode": {
    "name": "ipython",
    "version": 3
   },
   "file_extension": ".py",
   "mimetype": "text/x-python",
   "name": "python",
   "nbconvert_exporter": "python",
   "pygments_lexer": "ipython3",
   "version": "3.6.9"
  }
 },
 "nbformat": 4,
 "nbformat_minor": 2
}
